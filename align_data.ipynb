{
 "cells": [
  {
   "cell_type": "code",
   "execution_count": 1,
   "metadata": {},
   "outputs": [],
   "source": [
    "import json\n",
    "\n",
    "word_data = json.loads(open('words.json').read())\n",
    "state_data = json.loads(open('final.json').read())"
   ]
  },
  {
   "cell_type": "code",
   "execution_count": 2,
   "metadata": {},
   "outputs": [],
   "source": [
    "steps = {}\n",
    "for data in [word_data, state_data]:\n",
    "    for k in data:\n",
    "        d = data[k]\n",
    "        p = d['participant']\n",
    "        t = d['task']\n",
    "        if (p,t) not in steps:\n",
    "            steps[(p,t)] = [float('inf'), -float('inf')]\n",
    "        steps[(p,t)][0] = min(d['start_step'], steps[(p,t)][0])\n",
    "        steps[(p,t)][1] = max(d['end_step'], steps[(p,t)][1])"
   ]
  },
  {
   "cell_type": "code",
   "execution_count": 3,
   "metadata": {},
   "outputs": [],
   "source": [
    "aligned = {}\n",
    "for p,t in steps:\n",
    "    mn, mx = steps[(p,t)]\n",
    "    aligned[(p,t)] = [[None, None] for _ in range(mn, mx+1)]"
   ]
  },
  {
   "cell_type": "code",
   "execution_count": 6,
   "metadata": {},
   "outputs": [],
   "source": [
    "for k in word_data:\n",
    "    d = word_data[k]\n",
    "    p = d['participant']\n",
    "    t = d['task']\n",
    "    start, end = steps[(p,t)]\n",
    "    for i in range(d['start_step'], d['end_step']):\n",
    "        aligned[(p,t)][int(i-start)][0] = d\n",
    "        \n",
    "for k in state_data:\n",
    "    d = state_data[k]\n",
    "    p = d['participant']\n",
    "    t = d['task']\n",
    "    start, end = steps[(p,t)]\n",
    "    for i in range(d['start_step'], d['end_step']):\n",
    "        aligned[(p,t)][int(i-start)][1] = d"
   ]
  },
  {
   "cell_type": "code",
   "execution_count": 14,
   "metadata": {},
   "outputs": [],
   "source": [
    "out = open('aligned_data.tsv', 'w')\n",
    "for p, t in aligned:\n",
    "    start, end = steps[(p,t)]\n",
    "    last = None\n",
    "    for i, d in enumerate(aligned[(p, t)]):\n",
    "        if d[0] is not None:\n",
    "            word_lst = [d[0]['word'], d[0]['lemma'], d[0]['pos']]\n",
    "        else:\n",
    "            word_lst = ['NA', 'NA', 'NA']\n",
    "        if d[1] is not None:\n",
    "            state_lst = ['%s'%d[1]['z'], '%s'%d[1]['start_obj'], '%s'%d[1]['end_obj']]\n",
    "        else:\n",
    "            state_lst = ['NA', 'NA', 'NA']\n",
    "        desc = '%s\\t%s'%('\\t'.join(word_lst), '\\t'.join(state_lst))\n",
    "        if not desc == last:\n",
    "            out.write(\"%s\\t%s\\t%s\\t%s\\n\"%(p, t, start+i, desc))\n",
    "            last = desc\n",
    "out.close()"
   ]
  }
 ],
 "metadata": {
  "kernelspec": {
   "display_name": "Python 3",
   "language": "python",
   "name": "python3"
  },
  "language_info": {
   "codemirror_mode": {
    "name": "ipython",
    "version": 3
   },
   "file_extension": ".py",
   "mimetype": "text/x-python",
   "name": "python",
   "nbconvert_exporter": "python",
   "pygments_lexer": "ipython3",
   "version": "3.6.5"
  }
 },
 "nbformat": 4,
 "nbformat_minor": 2
}
