{
 "cells": [
  {
   "cell_type": "code",
   "execution_count": 10,
   "metadata": {},
   "outputs": [],
   "source": [
    "import json\n",
    "import os"
   ]
  },
  {
   "cell_type": "code",
   "execution_count": 27,
   "metadata": {},
   "outputs": [],
   "source": [
    "def get_start_end(d):\n",
    "    start = d['start_step'] if 'start_step' in d else d['step']\n",
    "    end = d['end_step'] if 'end_step' in d else start + 1\n",
    "    return start, end\n",
    "    \n",
    "def get_steps(word_data, state_data):\n",
    "    steps = {}\n",
    "    for data in [word_data, state_data]:\n",
    "        for k in data:\n",
    "            d = data[k]\n",
    "            p = d['participant']\n",
    "            t = d['task']\n",
    "            if (p,t) not in steps:\n",
    "                steps[(p,t)] = [float('inf'), -float('inf')]\n",
    "            start, end = get_start_end(d)\n",
    "            steps[(p,t)][0] = min(start, steps[(p,t)][0])\n",
    "            steps[(p,t)][1] = max(end, steps[(p,t)][1])\n",
    "    return steps"
   ]
  },
  {
   "cell_type": "code",
   "execution_count": 28,
   "metadata": {},
   "outputs": [],
   "source": [
    "def get_aligned(steps, word_data, state_data):\n",
    "    aligned = {}\n",
    "    \n",
    "    for p,t in steps:\n",
    "        mn, mx = steps[(p,t)]\n",
    "        aligned[(p,t)] = [[None, None] for _ in range(mn, mx+1)]\n",
    "        \n",
    "    for k in word_data:\n",
    "        d = word_data[k]\n",
    "        p = d['participant']\n",
    "        t = d['task']\n",
    "        start, end = steps[(p,t)]\n",
    "        for i in range(d['start_step'], d['end_step']):\n",
    "            aligned[(p,t)][int(i-start)][0] = d\n",
    "        \n",
    "    for k in state_data:\n",
    "        d = state_data[k]\n",
    "        p = d['participant']\n",
    "        t = d['task']\n",
    "        start, end = steps[(p,t)]\n",
    "        s, e = get_start_end(d)\n",
    "        for i in range(s, e):\n",
    "            aligned[(p,t)][int(i-start)][1] = d\n",
    "            \n",
    "    return aligned"
   ]
  },
  {
   "cell_type": "code",
   "execution_count": 38,
   "metadata": {},
   "outputs": [],
   "source": [
    "def write_aligned(fname, aligned, steps, objs=False):\n",
    "    out = open(fname, 'w')\n",
    "    hdrs = ['participant','task','step','word',\n",
    "            'lemma','pos','z','start_obj','end_obj']\n",
    "    out.write('\\t'.join(hdrs))\n",
    "    for p, t in aligned:\n",
    "        start, end = steps[(p,t)]\n",
    "        last = None\n",
    "        for i, d in enumerate(aligned[(p, t)]):\n",
    "            if d[0] is not None:\n",
    "                word_lst = [d[0]['word'], d[0]['lemma'], d[0]['pos']]\n",
    "            else:\n",
    "                word_lst = ['NA', 'NA', 'NA']\n",
    "            if d[1] is not None:\n",
    "                state_lst = ['%s'%d[1]['z'] if 'z' in d[1] else '%s'%d[1]['state']]\n",
    "                if objs:\n",
    "                    state_lst += ['%s'%d[1]['start_obj'], '%s'%d[1]['end_obj']]\n",
    "                else:\n",
    "                    state_lst += ['NA', 'NA']\n",
    "            else:\n",
    "                state_lst = ['NA', 'NA', 'NA']\n",
    "            desc = '%s\\t%s'%('\\t'.join(word_lst), '\\t'.join(state_lst))\n",
    "            if not desc == last:\n",
    "                out.write(\"%s\\t%s\\t%s\\t%s\\n\"%(p, t, start+i, desc))\n",
    "                last = desc\n",
    "    out.close()"
   ]
  },
  {
   "cell_type": "code",
   "execution_count": 40,
   "metadata": {},
   "outputs": [
    {
     "name": "stdout",
     "output_type": "stream",
     "text": [
      "partial_states_kappa=10.json\n",
      "partial_states_kappa=100.json\n",
      "partial_states_kappa=1000.json\n",
      "partial_states_kappa=200.json\n",
      "partial_states_kappa=50.json\n",
      "partial_states_kappa=500.json\n",
      "partial_states_latentdim=2_beta=0_KMeans=100.json\n",
      "partial_states_latentdim=2_beta=0_KMeans=20.json\n",
      "partial_states_latentdim=2_beta=0_KMeans=200.json\n",
      "partial_states_latentdim=2_beta=0_KMeans=50.json\n",
      "partial_states_latentdim=3_beta=0_KMeans=100.json\n",
      "partial_states_latentdim=3_beta=0_KMeans=20.json\n",
      "partial_states_latentdim=3_beta=0_KMeans=200.json\n",
      "partial_states_latentdim=3_beta=0_KMeans=50.json\n",
      "partial_states_latentdim=4_beta=0_KMeans=100.json\n",
      "partial_states_latentdim=4_beta=0_KMeans=20.json\n",
      "partial_states_latentdim=4_beta=0_KMeans=200.json\n",
      "partial_states_latentdim=4_beta=0_KMeans=50.json\n"
     ]
    }
   ],
   "source": [
    "raw_dir = 'raw_data/may/states'\n",
    "for f in os.listdir(raw_dir):\n",
    "    print(f)\n",
    "    words = json.loads(open('raw_data/april/words.json').read())\n",
    "    states = json.loads(open('%s/%s'%(raw_dir, f)).read())\n",
    "    fname = f.split('.')[0]\n",
    "    outfile = 'aligned_data/may/%s.txt'%fname\n",
    "\n",
    "    steps = get_steps(words, states)\n",
    "    aligned = get_aligned(steps, words, states)\n",
    "    write_aligned(outfile, aligned, steps)"
   ]
  }
 ],
 "metadata": {
  "kernelspec": {
   "display_name": "Python 3",
   "language": "python",
   "name": "python3"
  },
  "language_info": {
   "codemirror_mode": {
    "name": "ipython",
    "version": 3
   },
   "file_extension": ".py",
   "mimetype": "text/x-python",
   "name": "python",
   "nbconvert_exporter": "python",
   "pygments_lexer": "ipython3",
   "version": "3.6.8"
  }
 },
 "nbformat": 4,
 "nbformat_minor": 2
}
