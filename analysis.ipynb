{
 "cells": [
  {
   "cell_type": "code",
   "execution_count": 1,
   "metadata": {},
   "outputs": [],
   "source": [
    "import csv\n",
    "import numpy as np\n",
    "import seaborn as sns\n",
    "import matplotlib.pyplot as plt\n",
    "from math import log\n",
    "from collections import Counter\n",
    "from nltk.util import ngrams\n",
    "import pandas as pd\n",
    "import plotly.express as px\n",
    "\n",
    "data = [row for row in csv.DictReader(open('aligned_data.tsv'), delimiter='\\t')]"
   ]
  },
  {
   "cell_type": "code",
   "execution_count": 3,
   "metadata": {},
   "outputs": [],
   "source": [
    "def make_heatmap(M, row_names, col_names, row_tots, col_tots,\n",
    "                 col_cutoff = 20, row_cutoff = 20, row_scale=0.15, col_scale=0.2, cmap='coolwarm',\n",
    "                sort = None, annotate=False, saveas=None):\n",
    "    \n",
    "    if (row_cutoff is not None) and (col_cutoff is not None):          \n",
    "        plot_M = M[row_tots>row_cutoff, :][:, col_tots>col_cutoff]\n",
    "        plot_row = [w for i, w in enumerate(row_names) if row_tots[i] > row_cutoff]\n",
    "        plot_col = [w for i, w in enumerate(col_names) if col_tots[i] > col_cutoff]\n",
    "    else:\n",
    "        plot_M = M\n",
    "        plot_row = row_names\n",
    "        plot_col = col_names\n",
    "        \n",
    "    if sort == 'diag':\n",
    "        idxs = np.argmax(plot_M, axis=1) \n",
    "        order = np.argsort(idxs)\n",
    "        sorted_M = plot_M[order]\n",
    "        plot_M = sorted_M\n",
    "        plot_row = [plot_row[i] for i in order]\n",
    "    elif sort == 'strength':\n",
    "        idxs = np.max(plot_M, axis=1) \n",
    "        order = np.flip(np.argsort(idxs))\n",
    "        sorted_M = plot_M[order]\n",
    "        plot_M = sorted_M\n",
    "        plot_row = [plot_row[i] for i in order]\n",
    "    elif sort == 'row':\n",
    "        rows = sorted(list(set(plot_row)))\n",
    "        order = np.argsort([rows.index(n) for n in plot_row])\n",
    "        sorted_M = plot_M[order]\n",
    "        plot_M = sorted_M\n",
    "        plot_row = [plot_row[i] for i in order]\n",
    "        \n",
    "    height, width = plot_M.shape\n",
    "    plt.figure(figsize=(int(round(width*col_scale)), int(round(height*row_scale))))\n",
    "\n",
    "    if annotate:\n",
    "        sns.heatmap(plot_M, cmap=cmap, annot=True, fmt=\".01f\")\n",
    "    else:\n",
    "        sns.heatmap(plot_M, cmap=cmap, cbar=False)\n",
    "    plt.yticks(np.arange(plot_M.shape[0])+0.5, plot_row, rotation=0)\n",
    "    plt.xticks(np.arange(plot_M.shape[1])+0.5, plot_col, rotation=90)\n",
    "    if saveas:\n",
    "        plt.savefig(saveas, bbox_inches='tight')\n",
    "    plt.show()\n",
    "    plt.clf()\n",
    "    \n",
    "def get_pmi(freq):\n",
    "    col_tots = np.sum(freq, axis=0)\n",
    "    row_tots = np.sum(freq, axis=1)\n",
    "    tot = np.sum(freq)\n",
    "    \n",
    "    rows, cols = freq.shape\n",
    "    PMI = np.zeros((rows, cols))\n",
    "    for i in range(rows):\n",
    "        for j in range(cols):\n",
    "            pmi = (freq[i][j]/tot) / ((row_tots[i]/tot) * (col_tots[j]/tot))\n",
    "            PMI[i][j] = log(pmi) if pmi > 0 else 0\n",
    "    return PMI\n",
    "    \n",
    "def make_mats(D, POS = 'VERB', window_size=0):\n",
    "    poslst = POS.split(',')\n",
    "    zs = sorted(list(set([r['z'] for r in data])), key=lambda e:int(e) if not e == 'NA' else -1)\n",
    "    words = sorted(list(set([r['lemma'] for r in D if r['pos'] in poslst])))\n",
    "  \n",
    "    \n",
    "    N = len(D)\n",
    "    freq = np.zeros((len(words), len(zs)))\n",
    "    straight_count = np.zeros((len(words), len(zs)))\n",
    "    for i, d in enumerate(D):\n",
    "        if d['pos'] in poslst:\n",
    "            w = d['lemma']\n",
    "            for j in range(max(0, i-window_size), min(i+window_size, N)+1):\n",
    "                s = D[j]['z']\n",
    "                freq[words.index(w)][zs.index(s)] += 1\n",
    "                if i == j:\n",
    "                    straight_count[words.index(w)][zs.index(s)] += 1\n",
    "    \n",
    "    col_tots = np.sum(straight_count, axis=0)\n",
    "    row_tots = np.sum(straight_count, axis=1)\n",
    "    PMI = get_pmi(freq)\n",
    "    return freq, PMI, words, zs, row_tots, col_tots\n",
    "\n",
    "def make_ngram_mats(D, vocab, K = 3, POS = 'VERB', window_size=0):\n",
    "    poslst = POS.split(',')\n",
    "    zs = vocab\n",
    "    words = sorted(list(set([r['lemma'] for r in D if r['pos'] in poslst])))\n",
    "\n",
    "    N = len(D)\n",
    "    freq = np.zeros((len(words), len(zs)))\n",
    "    straight_count = np.zeros((len(words), len(zs)))\n",
    "    for i, d in enumerate(D):\n",
    "        w = d['lemma']\n",
    "        if d['pos'] in poslst:\n",
    "            lower = max(0, i-window_size)\n",
    "            upper = min(i+window_size, N)+1\n",
    "            for j in range(lower, upper):\n",
    "                for k in range(K+1):\n",
    "                    if j+k < len(D):\n",
    "                        acts = []\n",
    "                        for idx in range(j, j+k+1):\n",
    "                            z = get_z(D[idx])\n",
    "                            acts.append(z)\n",
    "                        s = ' '.join(acts)\n",
    "                        if s in zs:\n",
    "                            freq[words.index(w)][zs.index(s)] += 1\n",
    "                            if (i == j):\n",
    "                                straight_count[words.index(w)][zs.index(s)] += 1\n",
    "    \n",
    "    col_tots = np.sum(straight_count, axis=0)\n",
    "    row_tots = np.sum(straight_count, axis=1)\n",
    "    \n",
    "    PMI = get_pmi(freq)\n",
    "    return freq, PMI, words, zs, row_tots, col_tots\n",
    "\n",
    "def get_z(D):\n",
    "    z = D['z']\n",
    "    z += \"-\" if D[\"end_obj\"] == \"None\" else \"+\"\n",
    "    #z += D[\"end_obj\"]\n",
    "    return z"
   ]
  },
  {
   "cell_type": "code",
   "execution_count": 4,
   "metadata": {},
   "outputs": [],
   "source": [
    "seqs = {}\n",
    "lasts = {}\n",
    "for d in data:\n",
    "    p = d['participant']\n",
    "    t = d['task']\n",
    "    k = (p,t)\n",
    "    if k not in seqs:\n",
    "        seqs[k] = [[], []]\n",
    "        lasts[k] = [None, None]\n",
    "\n",
    "    z = get_z(d)\n",
    "    if not z == lasts[k][0]:\n",
    "        seqs[k][0].append(z)\n",
    "        lasts[k][0] = z\n",
    "        \n",
    "    w = '%s_%s'%(d['lemma'], d['pos'])\n",
    "    if not w == lasts[k][1]:\n",
    "        seqs[k][1].append(w)\n",
    "        lasts[k][1] = w"
   ]
  },
  {
   "cell_type": "code",
   "execution_count": 5,
   "metadata": {},
   "outputs": [
    {
     "name": "stdout",
     "output_type": "stream",
     "text": [
      "10148 ['3+', '1+', '5+', '2+', '1+ 3+', '8+', '3+ 1+', '3-', '7+', '2-']\n",
      "577 ['NA_NA', '-PRON-_PRON', 'be_AUX', 'and_CCONJ', 'the_DET', 'go_VERB', 'to_PART', 'up_ADP', 'put_VERB', 'a_DET']\n"
     ]
    }
   ],
   "source": [
    "vocab = [{}, {}] # actions, words\n",
    "by_person = [{}, {}] # actions, words\n",
    "ns = [20, 1]\n",
    "\n",
    "for k, lsts in seqs.items():\n",
    "    for i, lst in enumerate(lsts):\n",
    "        for n in range(ns[i]+1):\n",
    "            for ngm in ngrams(lst, n):\n",
    "                w = ' '.join(['%s'%e for e in ngm])\n",
    "                if w not in vocab[i]:\n",
    "                    vocab[i][w] = 0\n",
    "                    by_person[i][w] = set()\n",
    "                vocab[i][w] += 1\n",
    "                by_person[i][w].add(k[0])\n",
    "                \n",
    "vocab_lsts = [[], []]\n",
    "\n",
    "for i, v in enumerate(vocab):\n",
    "    for w, c in sorted(v.items(), key=lambda e:e[1], reverse=True):\n",
    "        if len(by_person[i][w]) >= 2:\n",
    "            vocab_lsts[i].append(w)\n",
    "            \n",
    "for l in vocab_lsts:\n",
    "    print(len(l), l[:10])"
   ]
  },
  {
   "cell_type": "markdown",
   "metadata": {},
   "source": [
    "## Analyze word <-> action alignments"
   ]
  },
  {
   "cell_type": "code",
   "execution_count": 6,
   "metadata": {},
   "outputs": [
    {
     "name": "stderr",
     "output_type": "stream",
     "text": [
      "/Users/ellie/miniconda3/lib/python3.6/site-packages/ipykernel_launcher.py:56: RuntimeWarning:\n",
      "\n",
      "invalid value encountered in double_scalars\n",
      "\n"
     ]
    },
    {
     "data": {
      "image/png": "[encoded data removed]",
      "text/plain": [
       "<Figure size 216x216 with 1 Axes>"
      ]
     },
     "metadata": {
      "needs_background": "light"
     },
     "output_type": "display_data"
    },
    {
     "data": {
      "text/plain": [
       "<Figure size 432x288 with 0 Axes>"
      ]
     },
     "metadata": {},
     "output_type": "display_data"
    }
   ],
   "source": [
    "pos = 'NOUN'\n",
    "\n",
    "freq, PMI, row_names, col_names, row_tots, col_tots = make_ngram_mats(data, vocab=vocab_lsts[0],\n",
    "                                                                    POS = pos,\n",
    "                                                                    window_size=0, K=0)\n",
    "\n",
    "make_heatmap(freq, row_names, col_names, row_tots, col_tots, col_cutoff=50,\n",
    "                row_cutoff=50, row_scale=0.2, col_scale=0.2, sort=\"strength\")"
   ]
  },
  {
   "cell_type": "markdown",
   "metadata": {},
   "source": [
    "## Analyze word instances rather than types"
   ]
  },
  {
   "cell_type": "code",
   "execution_count": 7,
   "metadata": {},
   "outputs": [],
   "source": [
    "def make_token_mats(D, _vocab, K = 1, window_size = 1, use_objects=True):   \n",
    "    vocab = [v for v in _vocab if len(v.split()) <= K+1]\n",
    "    if use_objects:\n",
    "        objs = list(set([d['end_obj'] for d in D]))\n",
    "        vocab += objs\n",
    "    vocabset = set(vocab)\n",
    "    N = len(D)\n",
    "    freq = np.zeros((N, len(vocab)))\n",
    "    lbls = []\n",
    "    meta = []\n",
    "    for i, d in enumerate(D):\n",
    "        start = d['step']\n",
    "        end = D[i+1]['step'] if i < N-1 else ''\n",
    "        w = d['lemma']+'_'+d['pos']\n",
    "        lbls.append(w)\n",
    "        meta.append(d['participant'] + ' ' + d['task'] + ' ' + '%s-%s'%(start, end))\n",
    "        lower = max(0, i-window_size)\n",
    "        upper = min(i+window_size, N)\n",
    "        for j in range(lower, upper):\n",
    "            if use_objects:\n",
    "                o = D[j]['end_obj']\n",
    "                freq[i][vocab.index(o)] += 1\n",
    "            for k in range(K+1):\n",
    "                if j+k < len(D):\n",
    "                    acts = []\n",
    "                    for idx in range(j, j+k+1):\n",
    "                        z = get_z(D[idx])\n",
    "                        acts.append(z)\n",
    "                    s = ' '.join(acts)\n",
    "                    if s in vocabset:\n",
    "                        freq[i][vocab.index(s)] += 1\n",
    "\n",
    "    #PMI = get_pmi(freq)\n",
    "    return freq, lbls, meta, vocab"
   ]
  },
  {
   "cell_type": "code",
   "execution_count": 17,
   "metadata": {},
   "outputs": [
    {
     "name": "stdout",
     "output_type": "stream",
     "text": [
      "[[0. 0. 0. ... 3. 0. 0.]\n",
      " [0. 0. 0. ... 4. 0. 0.]\n",
      " [0. 0. 0. ... 5. 0. 0.]\n",
      " ...\n",
      " [2. 2. 0. ... 0. 0. 0.]\n",
      " [2. 2. 0. ... 0. 0. 0.]\n",
      " [1. 2. 0. ... 0. 0. 0.]]\n",
      "(31535, 1328)\n",
      "31535\n",
      "['1_1a 1 11808-11814', '1_1a 1 11814-11844', '1_1a 1 11844-11922', '1_1a 1 11922-11952', '1_1a 1 11952-11997', '1_1a 1 11997-12006', '1_1a 1 12006-12060', '1_1a 1 12060-12147', '1_1a 1 12147-12192', '1_1a 1 12192-12204']\n"
     ]
    }
   ],
   "source": [
    "X, y, meta, vocab = make_token_mats(data, vocab_lsts[0], K = 2,\n",
    "                                    window_size = 3, use_objects=True)\n",
    "print(X)\n",
    "print(X.shape)\n",
    "print(len(y))\n",
    "print(meta[:10])"
   ]
  },
  {
   "cell_type": "code",
   "execution_count": 22,
   "metadata": {},
   "outputs": [
    {
     "name": "stdout",
     "output_type": "stream",
     "text": [
      "['pick_VERB', 'put_VERB', 'push_VERB', 'get_VERB', 'drop_VERB', 'throw_VERB', 'hold_VERB', 'open_VERB', 'close_VERB', 'give_VERB', 'go_VERB', 'shake_VERB', 'take_VERB', 'eat_VERB', 'wash_VERB', 'play_VERB', 'walk_VERB', 'cook_VERB', 'stop_VERB']\n",
      "(1347, 1328)\n"
     ]
    }
   ],
   "source": [
    "#POS = ['VERB']\n",
    "#top_words = [w for w in vocab_lsts[1] if w.split('_')[1] in POS][:20] \n",
    "#top_words = [w for w in vocab_lsts[1]][1:51] \n",
    "#top_words = ['play_VERB', 'drink_VERB']\n",
    "#top_words = ['banana_NOUN', 'spoon_NOUN']\n",
    "top_words = []\n",
    "for l in open('../nbc/target_words.txt').readlines():\n",
    "    pos, w = l.strip().split('\\t')\n",
    "    if pos == 'VERB':\n",
    "        top_words.append('%s_%s'%(w, pos))\n",
    "#top_words = top_words[:5]\n",
    "print(top_words)\n",
    "\n",
    "is_top = [yy in top_words for yy in y]\n",
    "X_plot = X[is_top, :]\n",
    "y_plot = np.array(y)[is_top]\n",
    "m_plot = np.array(meta)[is_top]\n",
    "print(X_plot.shape)\n",
    "#print(y_plot)\n",
    "#print(m_plot)"
   ]
  },
  {
   "cell_type": "code",
   "execution_count": 23,
   "metadata": {},
   "outputs": [
    {
     "name": "stdout",
     "output_type": "stream",
     "text": [
      "(1347,)\n",
      "(1328,)\n"
     ]
    }
   ],
   "source": [
    "rowcount = np.array([list(y_plot).count(l) for l in y_plot])\n",
    "print(rowcount.shape)\n",
    "colcount = np.sum(X_plot, axis=0)\n",
    "print(colcount.shape)\n",
    "\n",
    "#make_heatmap(X_plot, y_plot, vocab, rowcount, colcount, col_cutoff=0,\n",
    "#                row_cutoff=0, row_scale=0.2, col_scale=0.2, sort=\"row\", cmap=\"binary\") #, saveas=\"banana-spoon.pdf\")"
   ]
  },
  {
   "cell_type": "code",
   "execution_count": 25,
   "metadata": {},
   "outputs": [],
   "source": [
    "from sklearn.decomposition import TruncatedSVD\n",
    "from sklearn.manifold import TSNE\n",
    "\n",
    "#reducer = TruncatedSVD(n_components=2)\n",
    "reducer = TSNE(n_components=2)\n",
    "\n",
    "red = reducer.fit_transform(X_plot, y_plot)"
   ]
  },
  {
   "cell_type": "code",
   "execution_count": 21,
   "metadata": {},
   "outputs": [
    {
     "data": {
      "application/vnd.plotly.v1+json": {
       "config": {
        "plotlyServerURL": "https://plot.ly"
       },
       "data": [
        {
         "customdata": [
          [
           "1_1a",
           "2+",
           "12354-12380",
           "1_1a 1"
          ],
          [
           "1_1a",
           "Lamp",
           "13472-13490",
           "1_1a 1"
          ],
          [
           "1_1a",
           "None",
           "14781-14790",
           "1_1a 1"
          ],
          [
           "1_1a",
           "Book",
           "56278-56287",
           "1_1a 6"
          ],
          [
           "2_2a",
           "Apple",
           "7621-7623",
           "2_2a 1"
          ],
          [
           "2_2a",
           "Apple",
           "7623-7630",
           "2_2a 1"
          ],
          [
           "3_1b",
           "2-",
           "2891-2936",
           "3_1b 1"
          ],
          [
           "4_2b",
           "None",
           "11372-11376",
           "4_2b 1"
          ],
          [
           "4_2b",
           "Spoon",
           "19120-19134",
           "4_2b 3"
          ],
          [
           "4_2b",
           "Spoon",
           "19134-19138",
           "4_2b 3"
          ],
          [
           "4_2b",
           "Apple",
           "22287-22305",
           "4_2b 3"
          ],
          [
           "4_2b",
           "None",
           "28952-28988",
           "4_2b 3"
          ],
          [
           "4_2b",
           "Toy",
           "30333-30352",
           "4_2b 4"
          ],
          [
           "4_2b",
           "None",
           "40702-40707",
           "4_2b 5"
          ],
          [
           "4_2b",
           "None",
           "40707-40711",
           "4_2b 5"
          ],
          [
           "6_2c",
           "None",
           "5312-5356",
           "6_2c 1"
          ],
          [
           "6_2c",
           "Bowl",
           "6296-6300",
           "6_2c 1"
          ],
          [
           "6_2c",
           "Bowl",
           "6300-6345",
           "6_2c 1"
          ],
          [
           "6_2c",
           "Bowl",
           "6345-6358",
           "6_2c 1"
          ],
          [
           "6_2c",
           "Spoon",
           "7186-7196",
           "6_2c 1"
          ],
          [
           "6_2c",
           "None",
           "8055-8064",
           "6_2c 1"
          ],
          [
           "6_2c",
           "None",
           "8064-8065",
           "6_2c 1"
          ],
          [
           "6_2c",
           "None",
           "8948-8989",
           "6_2c 1"
          ],
          [
           "6_2c",
           "None",
           "10463-10481",
           "6_2c 1"
          ],
          [
           "6_2c",
           "None",
           "11529-11555",
           "6_2c 1"
          ],
          [
           "6_2c",
           "None",
           "13646-13665",
           "6_2c 2"
          ],
          [
           "6_2c",
           "Cup",
           "15109-15125",
           "6_2c 2"
          ],
          [
           "6_2c",
           "Apple",
           "16355-16373",
           "6_2c 2"
          ],
          [
           "6_2c",
           "Apple",
           "17815-17829",
           "6_2c 2"
          ],
          [
           "6_2c",
           "Apple",
           "17829-17849",
           "6_2c 2"
          ],
          [
           "6_2c",
           "Cup",
           "20398-20441",
           "6_2c 3"
          ],
          [
           "6_2c",
           "Knife",
           "22166-22202",
           "6_2c 3"
          ],
          [
           "6_2c",
           "Spoon",
           "24268-24304",
           "6_2c 3"
          ],
          [
           "6_2c",
           "Bear",
           "27473-27487",
           "6_2c 4"
          ],
          [
           "6_2c",
           "3+",
           "29072-29077",
           "6_2c 4"
          ],
          [
           "6_2c",
           "4+",
           "30913-30933",
           "6_2c 4"
          ],
          [
           "6_2c",
           "4+",
           "30933-30934",
           "6_2c 4"
          ],
          [
           "6_2c",
           "None",
           "37346-37382",
           "6_2c 5"
          ],
          [
           "6_2c",
           "None",
           "41674-41679",
           "6_2c 6"
          ],
          [
           "6_2c",
           "None",
           "41679-41688",
           "6_2c 6"
          ],
          [
           "6_2c",
           "None",
           "41688-41697",
           "6_2c 6"
          ],
          [
           "6_2c",
           "None",
           "41697-41712",
           "6_2c 6"
          ],
          [
           "6_2c",
           "Dinosaur",
           "41935-41958",
           "6_2c 6"
          ],
          [
           "6_2c",
           "Dinosaur",
           "41958-41970",
           "6_2c 6"
          ],
          [
           "7_1a",
           "None",
           "14818-14832",
           "7_1a 1"
          ],
          [
           "7_1a",
           "None",
           "14832-14836",
           "7_1a 1"
          ],
          [
           "7_1a",
           "Cup",
           "19927-19953",
           "7_1a 1"
          ],
          [
           "7_1a",
           "None",
           "28566-28593",
           "7_1a 1"
          ],
          [
           "7_1a",
           "Doll",
           "46629-46638",
           "7_1a 4"
          ],
          [
           "7_1a",
           "Doll",
           "46638-46665",
           "7_1a 4"
          ],
          [
           "7_1a",
           "1+",
           "49728-49773",
           "7_1a 4"
          ],
          [
           "7_1a",
           "Bear",
           "51199-51210",
           "7_1a 4"
          ],
          [
           "7_1a",
           "Bear",
           "51210-51217",
           "7_1a 4"
          ],
          [
           "9_1b",
           "None",
           "4107-4113",
           "9_1b 1"
          ],
          [
           "9_1b",
           "None",
           "4113-4152",
           "9_1b 1"
          ],
          [
           "10_2b",
           "None",
           "22894-22896",
           "10_2b 1"
          ],
          [
           "10_2b",
           "None",
           "22896-22912",
           "10_2b 1"
          ],
          [
           "10_2b",
           "Book",
           "23532-23550",
           "10_2b 1"
          ],
          [
           "10_2b",
           "Banana",
           "68470-68515",
           "10_2b 6"
          ],
          [
           "11_1c",
           "Bowl",
           "15675-15687",
           "11_1c 1"
          ],
          [
           "11_1c",
           "Bowl",
           "15687-15705",
           "11_1c 1"
          ],
          [
           "11_1c",
           "Bowl",
           "15705-15729",
           "11_1c 1"
          ],
          [
           "11_1c",
           "2+",
           "16170-16215",
           "11_1c 1"
          ],
          [
           "11_1c",
           "Apple",
           "17709-17721",
           "11_1c 1"
          ],
          [
           "11_1c",
           "Apple",
           "17721-17727",
           "11_1c 1"
          ],
          [
           "11_1c",
           "Cup",
           "19343-19361",
           "11_1c 1"
          ],
          [
           "11_1c",
           "Banana",
           "25058-25074",
           "11_1c 2"
          ],
          [
           "11_1c",
           "Banana",
           "25074-25083",
           "11_1c 2"
          ],
          [
           "11_1c",
           "Banana",
           "25083-25103",
           "11_1c 2"
          ],
          [
           "12_2c",
           "Banana",
           "26651-26660",
           "12_2c 1"
          ],
          [
           "14_2a",
           "None",
           "11346-11382",
           "14_2a 1"
          ],
          [
           "14_2a",
           "3+",
           "12825-12843",
           "14_2a 1"
          ],
          [
           "14_2a",
           "Fork",
           "16308-16326",
           "14_2a 1"
          ],
          [
           "14_2a",
           "Ball",
           "31604-31649",
           "14_2a 4"
          ],
          [
           "15_1b",
           "None",
           "6575-6597",
           "15_1b 1"
          ],
          [
           "15_1b",
           "None",
           "6597-6606",
           "15_1b 1"
          ],
          [
           "15_1b",
           "None",
           "6606-6615",
           "15_1b 1"
          ],
          [
           "15_1b",
           "None",
           "6615-6629",
           "15_1b 1"
          ],
          [
           "15_1b",
           "None",
           "10902-10917",
           "15_1b 1"
          ],
          [
           "15_1b",
           "None",
           "10917-10920",
           "15_1b 1"
          ],
          [
           "16_2b",
           "None",
           "34077-34086",
           "16_2b 6"
          ],
          [
           "17_1c",
           "Knife",
           "6380-6443",
           "17_1c 1"
          ],
          [
           "17_1c",
           "2+",
           "7307-7325",
           "17_1c 1"
          ],
          [
           "17_1c",
           "Knife",
           "7640-7659",
           "17_1c 1"
          ],
          [
           "17_1c",
           "Knife",
           "7659-7677",
           "17_1c 1"
          ],
          [
           "17_1c",
           "Knife",
           "7677-7685",
           "17_1c 1"
          ],
          [
           "17_1c",
           "Cup",
           "11257-11276",
           "17_1c 1"
          ],
          [
           "17_1c",
           "Banana",
           "13332-13374",
           "17_1c 2"
          ],
          [
           "17_1c",
           "3+",
           "13374-13377",
           "17_1c 2"
          ],
          [
           "17_1c",
           "None",
           "22067-22077",
           "17_1c 3"
          ],
          [
           "17_1c",
           "8-",
           "22077-22085",
           "17_1c 3"
          ],
          [
           "17_1c",
           "None",
           "52021-52048",
           "17_1c 6"
          ],
          [
           "17_1c",
           "Book",
           "53710-53712",
           "17_1c 6"
          ],
          [
           "17_1c",
           "Book",
           "53712-53728",
           "17_1c 6"
          ],
          [
           "18_2c",
           "None",
           "222-240",
           "18_2c 1"
          ],
          [
           "18_2c",
           "Ball",
           "40855-40882",
           "18_2c 6"
          ],
          [
           "18_2c",
           "1+",
           "43604-43613",
           "18_2c 6"
          ]
         ],
         "hoverlabel": {
          "namelength": 0
         },
         "hovertemplate": "lemma=table<br>x=%{x}<br>y=%{y}<br>participant=%{customdata[0]}<br>top=%{customdata[1]}<br>step=%{customdata[2]}<br>pt=%{customdata[3]}",
         "legendgroup": "table",
         "marker": {
          "color": "#FD3216",
          "symbol": "circle"
         },
         "mode": "markers",
         "name": "table",
         "showlegend": true,
         "type": "scatter",
         "x": [
          -22.003114700317383,
          -23.225540161132812,
          20.136260986328125,
          46.029457092285156,
          9.344269752502441,
          9.086465835571289,
          22.94951629638672,
          16.602397918701172,
          -33.246803283691406,
          -33.23857879638672,
          18.59125328063965,
          14.389348983764648,
          -3.128970146179199,
          18.225406646728516,
          18.548046112060547,
          24.852622985839844,
          -8.668671607971191,
          -8.513306617736816,
          -8.788143157958984,
          -35.27330017089844,
          23.500442504882812,
          23.512622833251953,
          15.48415470123291,
          23.700258255004883,
          17.74736976623535,
          22.044748306274414,
          -40.91893005371094,
          16.135684967041016,
          17.89202880859375,
          17.891948699951172,
          -37.427764892578125,
          -58.63648986816406,
          -25.741926193237305,
          45.34815979003906,
          -3.3535666465759277,
          0.11746865510940552,
          0.12977346777915955,
          22.701810836791992,
          20.998571395874023,
          20.849172592163086,
          20.37796974182129,
          20.2297420501709,
          -3.1513986587524414,
          -3.1948156356811523,
          19.266521453857422,
          18.46657371520996,
          -33.34921646118164,
          20.71151351928711,
          2.984750509262085,
          2.6634507179260254,
          15.26491641998291,
          45.01978302001953,
          45.569671630859375,
          19.75579261779785,
          19.378643035888672,
          26.94900894165039,
          27.035503387451172,
          46.873634338378906,
          -18.5183162689209,
          -10.704477310180664,
          -11.02087116241455,
          -11.036053657531738,
          -11.871960639953613,
          18.452877044677734,
          18.502317428588867,
          -38.54627990722656,
          -22.264930725097656,
          -21.810791015625,
          -20.861291885375977,
          -17.363996505737305,
          25.418169021606445,
          -13.968441009521484,
          -9.621216773986816,
          16.885902404785156,
          22.08182716369629,
          21.855098724365234,
          13.3020601272583,
          12.997152328491211,
          18.2717227935791,
          19.02326774597168,
          15.257341384887695,
          -58.3873176574707,
          -58.36365509033203,
          -59.753719329833984,
          -59.24541473388672,
          -58.55672073364258,
          -37.597984313964844,
          -25.01481819152832,
          -25.15463638305664,
          11.769328117370605,
          11.757891654968262,
          19.970552444458008,
          43.74893569946289,
          43.58981704711914,
          18.10883903503418,
          17.834402084350586,
          46.33662796020508
         ],
         "xaxis": "x",
         "y": [
          -0.5921558737754822,
          0.3139045834541321,
          -7.035130977630615,
          -13.83234691619873,
          -43.50066375732422,
          -44.14004135131836,
          13.75391674041748,
          7.229779243469238,
          17.230451583862305,
          17.226322174072266,
          -48.0589485168457,
          13.797131538391113,
          47.35017395019531,
          -3.8544671535491943,
          -4.593082904815674,
          5.183659553527832,
          -9.096063613891602,
          -8.652131080627441,
          -8.329279899597168,
          22.861440658569336,
          2.9379618167877197,
          2.8968915939331055,
          12.389886856079102,
          7.962762355804443,
          -2.6939923763275146,
          -6.566186904907227,
          -12.366888999938965,
          -44.257530212402344,
          -50.07075119018555,
          -50.07056427001953,
          -5.418674468994141,
          11.845502853393555,
          16.746429443359375,
          16.737489700317383,
          41.79838180541992,
          5.465387344360352,
          5.470089912414551,
          -7.1774582862854,
          3.3926897048950195,
          3.6594645977020264,
          4.097822666168213,
          4.026712894439697,
          3.6076724529266357,
          3.596311330795288,
          -5.375319480895996,
          -5.432797908782959,
          -7.364983081817627,
          14.201573371887207,
          -20.24009895324707,
          -20.347646713256836,
          26.50225067138672,
          15.916354179382324,
          15.410818099975586,
          -8.445368766784668,
          -8.612054824829102,
          10.972884178161621,
          11.041617393493652,
          -14.216943740844727,
          -27.626998901367188,
          -7.9739990234375,
          -8.28968620300293,
          -8.301891326904297,
          -5.481355667114258,
          -44.21134567260742,
          -44.25835418701172,
          -11.238133430480957,
          -37.22526168823242,
          -38.298519134521484,
          -38.70707321166992,
          -43.021568298339844,
          5.807250499725342,
          -40.028053283691406,
          19.515316009521484,
          26.96298599243164,
          6.91334867477417,
          6.7251787185668945,
          2.36773681640625,
          2.0971791744232178,
          -3.6753711700439453,
          -3.6230273246765137,
          13.693168640136719,
          5.9458112716674805,
          5.8649210929870605,
          9.733609199523926,
          9.200201034545898,
          8.875248908996582,
          -5.319752216339111,
          -30.42601203918457,
          -30.41421127319336,
          -8.688048362731934,
          -8.697831153869629,
          -6.3750176429748535,
          -18.054546356201172,
          -18.193492889404297,
          -1.467631220817566,
          29.37802505493164,
          -13.214181900024414
         ],
         "yaxis": "y"
        },
        {
         "customdata": [
          [
           "1_1a",
           "Book",
           "12622-12676",
           "1_1a 1"
          ],
          [
           "1_1a",
           "Book",
           "36388-36405",
           "1_1a 4"
          ],
          [
           "1_1a",
           "Book",
           "40965-40993",
           "1_1a 4"
          ],
          [
           "1_1a",
           "None",
           "50444-50471",
           "1_1a 5"
          ],
          [
           "1_1a",
           "Book",
           "55766-55820",
           "1_1a 6"
          ],
          [
           "2_2a",
           "Book",
           "38537-38556",
           "2_2a 6"
          ],
          [
           "2_2a",
           "Book",
           "38556-38563",
           "2_2a 6"
          ],
          [
           "3_1b",
           "Book",
           "30997-31032",
           "3_1b 4"
          ],
          [
           "3_1b",
           "Book",
           "31032-31033",
           "3_1b 4"
          ],
          [
           "3_1b",
           "Book",
           "31266-31275",
           "3_1b 4"
          ],
          [
           "3_1b",
           "Book",
           "31275-31284",
           "3_1b 4"
          ],
          [
           "3_1b",
           "Book",
           "31284-31293",
           "3_1b 4"
          ],
          [
           "3_1b",
           "Toy",
           "38788-38799",
           "3_1b 6"
          ],
          [
           "3_1b",
           "Toy",
           "38799-38815",
           "3_1b 6"
          ],
          [
           "3_1b",
           "Doll",
           "40064-40100",
           "3_1b 6"
          ],
          [
           "4_2b",
           "Bear",
           "33892-33912",
           "4_2b 4"
          ],
          [
           "4_2b",
           "Bear",
           "33912-33917",
           "4_2b 4"
          ],
          [
           "4_2b",
           "Bear",
           "34122-34137",
           "4_2b 4"
          ],
          [
           "4_2b",
           "Bear",
           "34137-34140",
           "4_2b 4"
          ],
          [
           "6_2c",
           "Knife",
           "46588-46620",
           "6_2c 6"
          ],
          [
           "6_2c",
           "Knife",
           "46620-46638",
           "6_2c 6"
          ],
          [
           "6_2c",
           "Knife",
           "46638-46639",
           "6_2c 6"
          ],
          [
           "7_1a",
           "Bear",
           "22108-22140",
           "7_1a 1"
          ],
          [
           "7_1a",
           "Bear",
           "22140-22144",
           "7_1a 1"
          ],
          [
           "9_1b",
           "Book",
           "28369-28387",
           "9_1b 4"
          ],
          [
           "9_1b",
           "Book",
           "31517-31518",
           "9_1b 5"
          ],
          [
           "9_1b",
           "Book",
           "31518-31544",
           "9_1b 5"
          ],
          [
           "9_1b",
           "Book",
           "38565-38574",
           "9_1b 6"
          ],
          [
           "9_1b",
           "Book",
           "38574-38601",
           "9_1b 6"
          ],
          [
           "9_1b",
           "Book",
           "38997-39006",
           "9_1b 6"
          ],
          [
           "9_1b",
           "Book",
           "39006-39015",
           "9_1b 6"
          ],
          [
           "10_2b",
           "Book",
           "69075-69111",
           "10_2b 6"
          ],
          [
           "16_2b",
           "None",
           "34086-34110",
           "16_2b 6"
          ],
          [
           "16_2b",
           "None",
           "34110-34158",
           "16_2b 6"
          ],
          [
           "17_1c",
           "Banana",
           "40249-40266",
           "17_1c 5"
          ],
          [
           "17_1c",
           "Banana",
           "40266-40284",
           "17_1c 5"
          ],
          [
           "17_1c",
           "Banana",
           "40284-40294",
           "17_1c 5"
          ],
          [
           "17_1c",
           "Book",
           "53470-53505",
           "17_1c 6"
          ],
          [
           "17_1c",
           "Book",
           "53505-53515",
           "17_1c 6"
          ],
          [
           "18_2c",
           "Book",
           "31934-31941",
           "18_2c 5"
          ],
          [
           "18_2c",
           "Book",
           "31941-31950",
           "18_2c 5"
          ],
          [
           "18_2c",
           "Book",
           "31950-31951",
           "18_2c 5"
          ],
          [
           "18_2c",
           "Book",
           "32167-32193",
           "18_2c 5"
          ],
          [
           "18_2c",
           "Book",
           "32193-32240",
           "18_2c 5"
          ],
          [
           "18_2c",
           "1+",
           "33205-33232",
           "18_2c 5"
          ]
         ],
         "hoverlabel": {
          "namelength": 0
         },
         "hovertemplate": "lemma=book<br>x=%{x}<br>y=%{y}<br>participant=%{customdata[0]}<br>top=%{customdata[1]}<br>step=%{customdata[2]}<br>pt=%{customdata[3]}",
         "legendgroup": "book",
         "marker": {
          "color": "#00FE35",
          "symbol": "circle"
         },
         "mode": "markers",
         "name": "book",
         "showlegend": true,
         "type": "scatter",
         "x": [
          42.89881134033203,
          46.0408821105957,
          46.394012451171875,
          25.244901657104492,
          45.511329650878906,
          40.473793029785156,
          40.64726257324219,
          44.936004638671875,
          44.89877700805664,
          45.81637191772461,
          45.64300537109375,
          46.509769439697266,
          0.15335607528686523,
          -0.11597049236297607,
          4.459848403930664,
          52.70313262939453,
          52.75320053100586,
          44.717159271240234,
          45.0916748046875,
          -59.99007034301758,
          -59.51813888549805,
          -58.9703483581543,
          45.57122039794922,
          45.75368881225586,
          46.175025939941406,
          45.34758377075195,
          45.0728645324707,
          40.92570495605469,
          40.589317321777344,
          41.672298431396484,
          41.29228210449219,
          44.469425201416016,
          15.306618690490723,
          15.97253131866455,
          -21.340259552001953,
          -11.111738204956055,
          -11.020207405090332,
          40.19667434692383,
          40.54744338989258,
          46.573890686035156,
          46.59695816040039,
          46.262813568115234,
          44.92131042480469,
          45.70482635498047,
          46.81425857543945
         ],
         "xaxis": "x",
         "y": [
          -15.258460998535156,
          -17.367172241210938,
          -14.802876472473145,
          4.639773845672607,
          -15.71318244934082,
          -14.426660537719727,
          -14.559473991394043,
          -15.006359100341797,
          -15.579662322998047,
          -15.67696762084961,
          -16.54323959350586,
          -16.922473907470703,
          46.0333251953125,
          46.08673095703125,
          -16.971481323242188,
          15.739048957824707,
          15.666655540466309,
          18.165130615234375,
          18.313718795776367,
          10.464579582214355,
          10.456982612609863,
          10.652852058410645,
          19.534780502319336,
          19.10622787475586,
          -14.11314582824707,
          -17.79595947265625,
          -17.270946502685547,
          -16.064783096313477,
          -15.849247932434082,
          -15.798005104064941,
          -15.981420516967773,
          -13.942934036254883,
          13.431611061096191,
          12.947426795959473,
          -36.452999114990234,
          -30.691816329956055,
          -30.630638122558594,
          -13.539517402648926,
          -13.834578514099121,
          -15.18662166595459,
          -16.013275146484375,
          -16.528377532958984,
          -14.984211921691895,
          -14.850439071655273,
          -13.56092357635498
         ],
         "yaxis": "y"
        },
        {
         "customdata": [
          [
           "1_1a",
           "Lamp",
           "13265-13275",
           "1_1a 1"
          ],
          [
           "1_1a",
           "Lamp",
           "13275-13284",
           "1_1a 1"
          ],
          [
           "1_1a",
           "Lamp",
           "13284-13301",
           "1_1a 1"
          ]
         ],
         "hoverlabel": {
          "namelength": 0
         },
         "hovertemplate": "lemma=lamp<br>x=%{x}<br>y=%{y}<br>participant=%{customdata[0]}<br>top=%{customdata[1]}<br>step=%{customdata[2]}<br>pt=%{customdata[3]}",
         "legendgroup": "lamp",
         "marker": {
          "color": "#6A76FC",
          "symbol": "circle"
         },
         "mode": "markers",
         "name": "lamp",
         "showlegend": true,
         "type": "scatter",
         "x": [
          -23.045988082885742,
          -22.90498924255371,
          -22.837512969970703
         ],
         "xaxis": "x",
         "y": [
          0.1821882426738739,
          0.07815313339233398,
          0.03476346656680107
         ],
         "yaxis": "y"
        },
        {
         "customdata": [
          [
           "1_1a",
           "Bowl",
           "15780-15786",
           "1_1a 1"
          ],
          [
           "1_1a",
           "3+",
           "15786-15807",
           "1_1a 1"
          ],
          [
           "1_1a",
           "Fork",
           "19544-19562",
           "1_1a 1"
          ],
          [
           "1_1a",
           "1+",
           "26997-27000",
           "1_1a 3"
          ],
          [
           "1_1a",
           "1+",
           "27000-27023",
           "1_1a 3"
          ],
          [
           "1_1a",
           "Ball",
           "42213-42240",
           "1_1a 4"
          ],
          [
           "1_1a",
           "Ball",
           "54984-55017",
           "1_1a 6"
          ],
          [
           "1_1a",
           "Ball",
           "55017-55019",
           "1_1a 6"
          ],
          [
           "1_1a",
           "5+",
           "57303-57320",
           "1_1a 6"
          ],
          [
           "2_2a",
           "5+",
           "12957-12980",
           "2_2a 2"
          ],
          [
           "2_2a",
           "Bowl",
           "17155-17171",
           "2_2a 3"
          ],
          [
           "2_2a",
           "Ball",
           "19120-19141",
           "2_2a 4"
          ],
          [
           "2_2a",
           "None",
           "20365-20367",
           "2_2a 4"
          ],
          [
           "2_2a",
           "None",
           "20367-20376",
           "2_2a 4"
          ],
          [
           "2_2a",
           "None",
           "20376-20389",
           "2_2a 4"
          ],
          [
           "2_2a",
           "3+",
           "22816-22824",
           "2_2a 4"
          ],
          [
           "3_1b",
           "Ball",
           "25312-25347",
           "3_1b 4"
          ],
          [
           "3_1b",
           "Ball",
           "26280-26307",
           "3_1b 4"
          ],
          [
           "3_1b",
           "Ball",
           "26307-26325",
           "3_1b 4"
          ],
          [
           "3_1b",
           "Spoon",
           "34817-34839",
           "3_1b 5"
          ],
          [
           "3_1b",
           "Spoon",
           "34839-34844",
           "3_1b 5"
          ],
          [
           "4_2b",
           "3+",
           "50393-50415",
           "4_2b 6"
          ],
          [
           "5_1c",
           "Apple",
           "21878-21932",
           "5_1c 5"
          ],
          [
           "6_2c",
           "None",
           "6737-6746",
           "6_2c 1"
          ],
          [
           "6_2c",
           "None",
           "13544-13561",
           "6_2c 2"
          ],
          [
           "6_2c",
           "Spoon",
           "24721-24729",
           "6_2c 3"
          ],
          [
           "6_2c",
           "None",
           "36881-36900",
           "6_2c 5"
          ],
          [
           "6_2c",
           "None",
           "36900-36933",
           "6_2c 5"
          ],
          [
           "6_2c",
           "Ball",
           "43167-43194",
           "6_2c 6"
          ],
          [
           "6_2c",
           "Ball",
           "44046-44064",
           "6_2c 6"
          ],
          [
           "7_1a",
           "1+",
           "50033-50060",
           "7_1a 4"
          ],
          [
           "7_1a",
           "Apple",
           "55809-55836",
           "7_1a 5"
          ],
          [
           "7_1a",
           "Apple",
           "56043-56106",
           "7_1a 5"
          ],
          [
           "7_1a",
           "Apple",
           "56106-56142",
           "7_1a 5"
          ],
          [
           "7_1a",
           "Apple",
           "56142-56186",
           "7_1a 5"
          ],
          [
           "8_2a",
           "Bowl",
           "16696-16700",
           "8_2a 3"
          ],
          [
           "8_2a",
           "Ball",
           "26554-26568",
           "8_2a 4"
          ],
          [
           "8_2a",
           "Ball",
           "26568-26594",
           "8_2a 4"
          ],
          [
           "8_2a",
           "None",
           "27663-27666",
           "8_2a 4"
          ],
          [
           "8_2a",
           "None",
           "27666-27675",
           "8_2a 4"
          ],
          [
           "8_2a",
           "None",
           "27675-27688",
           "8_2a 4"
          ],
          [
           "8_2a",
           "Ball",
           "34862-34880",
           "8_2a 4"
          ],
          [
           "8_2a",
           "Ball",
           "43360-43362",
           "8_2a 6"
          ],
          [
           "8_2a",
           "Ball",
           "43362-43369",
           "8_2a 6"
          ],
          [
           "9_1b",
           "Bowl",
           "5465-5492",
           "9_1b 1"
          ],
          [
           "9_1b",
           "Ball",
           "30287-30294",
           "9_1b 4"
          ],
          [
           "9_1b",
           "Ball",
           "30294-30303",
           "9_1b 4"
          ],
          [
           "9_1b",
           "6-",
           "30303-30323",
           "9_1b 4"
          ],
          [
           "9_1b",
           "None",
           "33201-33210",
           "9_1b 5"
          ],
          [
           "9_1b",
           "None",
           "33210-33237",
           "9_1b 5"
          ],
          [
           "9_1b",
           "Ball",
           "37503-37512",
           "9_1b 6"
          ],
          [
           "9_1b",
           "Ball",
           "37512-37521",
           "9_1b 6"
          ],
          [
           "10_2b",
           "None",
           "50100-50103",
           "10_2b 4"
          ],
          [
           "10_2b",
           "None",
           "50103-50121",
           "10_2b 4"
          ],
          [
           "10_2b",
           "None",
           "50121-50130",
           "10_2b 4"
          ],
          [
           "10_2b",
           "None",
           "50130-50139",
           "10_2b 4"
          ],
          [
           "10_2b",
           "Toy",
           "50139-50145",
           "10_2b 4"
          ],
          [
           "10_2b",
           "1+",
           "50684-50697",
           "10_2b 4"
          ],
          [
           "10_2b",
           "1+",
           "50697-50721",
           "10_2b 4"
          ],
          [
           "10_2b",
           "Ball",
           "52218-52228",
           "10_2b 4"
          ],
          [
           "11_1c",
           "Bowl",
           "15639-15642",
           "11_1c 1"
          ],
          [
           "11_1c",
           "Bowl",
           "15642-15657",
           "11_1c 1"
          ],
          [
           "11_1c",
           "None",
           "34734-34740",
           "11_1c 4"
          ],
          [
           "11_1c",
           "None",
           "34740-34794",
           "11_1c 4"
          ],
          [
           "11_1c",
           "7+",
           "34794-34815",
           "11_1c 4"
          ],
          [
           "12_2c",
           "9-",
           "55002-55017",
           "12_2c 6"
          ],
          [
           "12_2c",
           "9-",
           "55017-55028",
           "12_2c 6"
          ],
          [
           "13_1a",
           "Ball",
           "39684-39690",
           "13_1a 6"
          ],
          [
           "13_1a",
           "Ball",
           "39690-39699",
           "13_1a 6"
          ],
          [
           "13_1a",
           "Ball",
           "39699-39720",
           "13_1a 6"
          ],
          [
           "14_2a",
           "2-",
           "30245-30262",
           "14_2a 4"
          ],
          [
           "14_2a",
           "Ball",
           "32305-32328",
           "14_2a 4"
          ],
          [
           "14_2a",
           "Ball",
           "32328-32332",
           "14_2a 4"
          ],
          [
           "14_2a",
           "Ball",
           "41053-41058",
           "14_2a 5"
          ],
          [
           "14_2a",
           "Ball",
           "41058-41076",
           "14_2a 5"
          ],
          [
           "14_2a",
           "Ball",
           "41076-41089",
           "14_2a 5"
          ],
          [
           "14_2a",
           "Toy",
           "47407-47434",
           "14_2a 6"
          ],
          [
           "14_2a",
           "Toy",
           "47667-47691",
           "14_2a 6"
          ],
          [
           "14_2a",
           "Toy",
           "47691-47703",
           "14_2a 6"
          ],
          [
           "15_1b",
           "None",
           "33016-33048",
           "15_1b 5"
          ],
          [
           "15_1b",
           "None",
           "33048-33052",
           "15_1b 5"
          ],
          [
           "17_1c",
           "Cup",
           "22777-22786",
           "17_1c 3"
          ],
          [
           "17_1c",
           "1+",
           "26420-26429",
           "17_1c 3"
          ],
          [
           "17_1c",
           "Ball",
           "30563-30599",
           "17_1c 4"
          ],
          [
           "18_2c",
           "Banana",
           "5132-5145",
           "18_2c 1"
          ]
         ],
         "hoverlabel": {
          "namelength": 0
         },
         "hovertemplate": "lemma=ball<br>x=%{x}<br>y=%{y}<br>participant=%{customdata[0]}<br>top=%{customdata[1]}<br>step=%{customdata[2]}<br>pt=%{customdata[3]}",
         "legendgroup": "ball",
         "marker": {
          "color": "#FED4C4",
          "symbol": "circle"
         },
         "mode": "markers",
         "name": "ball",
         "showlegend": true,
         "type": "scatter",
         "x": [
          -10.09971809387207,
          -9.943376541137695,
          -6.023379802703857,
          -25.493972778320312,
          -25.390636444091797,
          14.983019828796387,
          13.422187805175781,
          14.169271469116211,
          16.809804916381836,
          -54.5240478515625,
          -8.346379280090332,
          15.149181365966797,
          18.524456024169922,
          18.076244354248047,
          17.95032501220703,
          -3.4707047939300537,
          16.240018844604492,
          16.279630661010742,
          16.373737335205078,
          -26.620161056518555,
          -26.144716262817383,
          12.177501678466797,
          9.487278938293457,
          12.246561050415039,
          17.42087173461914,
          -33.85310745239258,
          19.308658599853516,
          19.130603790283203,
          18.332754135131836,
          12.46801471710205,
          15.366107940673828,
          10.23418140411377,
          10.046074867248535,
          10.176012992858887,
          10.320171356201172,
          -12.687037467956543,
          16.505125045776367,
          16.249258041381836,
          18.362443923950195,
          18.772233963012695,
          18.819721221923828,
          13.176568031311035,
          16.028472900390625,
          16.677064895629883,
          -11.810646057128906,
          15.946817398071289,
          15.625560760498047,
          15.27664566040039,
          15.824841499328613,
          16.065845489501953,
          13.931129455566406,
          13.89139175415039,
          17.058332443237305,
          16.885372161865234,
          16.578289031982422,
          8.744987487792969,
          8.646312713623047,
          1.92798912525177,
          2.1950347423553467,
          13.846961975097656,
          -9.94809341430664,
          -10.041669845581055,
          10.185331344604492,
          9.779863357543945,
          9.407940864562988,
          14.701200485229492,
          14.57397174835205,
          15.283556938171387,
          15.529333114624023,
          15.713004112243652,
          22.530393600463867,
          14.509775161743164,
          14.112125396728516,
          14.844489097595215,
          14.520221710205078,
          14.515434265136719,
          0.13530048727989197,
          -1.4179705381393433,
          -1.3052424192428589,
          18.909608840942383,
          20.166446685791016,
          -38.657127380371094,
          -15.051539421081543,
          12.861700057983398,
          -14.729329109191895
         ],
         "xaxis": "x",
         "y": [
          -13.206966400146484,
          -13.41736125946045,
          19.713136672973633,
          27.630176544189453,
          27.75434112548828,
          27.271202087402344,
          27.78022575378418,
          27.588972091674805,
          31.05524253845215,
          11.109622955322266,
          -10.485163688659668,
          31.21092414855957,
          6.561460971832275,
          6.460904121398926,
          6.431408405303955,
          7.370367527008057,
          23.073482513427734,
          29.718778610229492,
          30.001178741455078,
          19.803150177001953,
          20.456453323364258,
          28.728458404541016,
          -47.25080108642578,
          0.6695923209190369,
          -0.7232892513275146,
          24.228958129882812,
          -2.3465075492858887,
          -2.5486247539520264,
          29.22073745727539,
          28.602069854736328,
          26.806331634521484,
          -49.694828033447266,
          -48.31889724731445,
          -49.24413299560547,
          -49.31223678588867,
          -10.536520957946777,
          27.181453704833984,
          26.956247329711914,
          8.102716445922852,
          8.483019828796387,
          8.584754943847656,
          31.126733779907227,
          27.83917236328125,
          28.267276763916016,
          -6.108508586883545,
          23.32695960998535,
          22.930734634399414,
          22.60120964050293,
          -2.2769041061401367,
          -2.469005823135376,
          24.855680465698242,
          24.4949951171875,
          0.703864574432373,
          0.9547269940376282,
          1.2722203731536865,
          6.6866068840026855,
          6.75848388671875,
          43.32860565185547,
          43.173099517822266,
          28.21257209777832,
          -8.653597831726074,
          -8.374249458312988,
          1.773565411567688,
          1.9588158130645752,
          2.1403961181640625,
          6.924429416656494,
          6.904403209686279,
          27.95733642578125,
          28.75335693359375,
          29.181184768676758,
          12.994266510009766,
          27.444976806640625,
          26.890287399291992,
          28.012489318847656,
          28.717702865600586,
          29.072383880615234,
          47.326080322265625,
          46.197818756103516,
          46.394657135009766,
          -4.076314449310303,
          -4.117381572723389,
          -12.269441604614258,
          -8.199457168579102,
          27.854551315307617,
          -33.56834411621094
         ],
         "yaxis": "y"
        },
        {
         "customdata": [
          [
           "1_1a",
           "Apple",
           "16121-16184",
           "1_1a 1"
          ],
          [
           "2_2a",
           "1+",
           "14578-14599",
           "2_2a 3"
          ],
          [
           "4_2b",
           "None",
           "10837-10845",
           "4_2b 1"
          ],
          [
           "4_2b",
           "None",
           "10845-10854",
           "4_2b 1"
          ],
          [
           "4_2b",
           "Cup",
           "10854-10864",
           "4_2b 1"
          ],
          [
           "5_1c",
           "2+",
           "28694-28712",
           "5_1c 6"
          ],
          [
           "6_2c",
           "Bowl",
           "6226-6255",
           "6_2c 1"
          ],
          [
           "6_2c",
           "Bowl",
           "6255-6274",
           "6_2c 1"
          ],
          [
           "6_2c",
           "Spoon",
           "14270-14274",
           "6_2c 2"
          ],
          [
           "6_2c",
           "Spoon",
           "14274-14292",
           "6_2c 2"
          ],
          [
           "6_2c",
           "None",
           "25865-25893",
           "6_2c 3"
          ],
          [
           "6_2c",
           "None",
           "25893-25900",
           "6_2c 3"
          ],
          [
           "6_2c",
           "None",
           "36308-36325",
           "6_2c 5"
          ],
          [
           "6_2c",
           "Cup",
           "47346-47367",
           "6_2c 6"
          ],
          [
           "6_2c",
           "Cup",
           "47367-47377",
           "6_2c 6"
          ],
          [
           "8_2a",
           "Fork",
           "6037-6072",
           "8_2a 1"
          ],
          [
           "8_2a",
           "Spoon",
           "10509-10521",
           "8_2a 2"
          ],
          [
           "8_2a",
           "Spoon",
           "10521-10530",
           "8_2a 2"
          ],
          [
           "8_2a",
           "Spoon",
           "10530-10537",
           "8_2a 2"
          ],
          [
           "8_2a",
           "Apple",
           "12221-12238",
           "8_2a 2"
          ],
          [
           "8_2a",
           "Cup",
           "16333-16351",
           "8_2a 2"
          ],
          [
           "8_2a",
           "Bowl",
           "17277-17292",
           "8_2a 3"
          ],
          [
           "8_2a",
           "Cup",
           "19335-19361",
           "8_2a 3"
          ],
          [
           "8_2a",
           "Banana",
           "20471-20475",
           "8_2a 3"
          ],
          [
           "8_2a",
           "Banana",
           "20475-20506",
           "8_2a 3"
          ],
          [
           "8_2a",
           "None",
           "38185-38214",
           "8_2a 5"
          ],
          [
           "8_2a",
           "None",
           "38214-38259",
           "8_2a 5"
          ],
          [
           "8_2a",
           "None",
           "45424-45438",
           "8_2a 6"
          ],
          [
           "9_1b",
           "Bowl",
           "34164-34182",
           "9_1b 5"
          ],
          [
           "12_2c",
           "Bowl",
           "21423-21447",
           "12_2c 1"
          ],
          [
           "12_2c",
           "Bowl",
           "21447-21450",
           "12_2c 1"
          ],
          [
           "12_2c",
           "None",
           "56511-56529",
           "12_2c 6"
          ],
          [
           "12_2c",
           "9-",
           "56529-56538",
           "12_2c 6"
          ],
          [
           "13_1a",
           "1+",
           "12385-12412",
           "13_1a 2"
          ],
          [
           "13_1a",
           "Spoon",
           "17564-17577",
           "13_1a 3"
          ],
          [
           "13_1a",
           "Spoon",
           "17577-17586",
           "13_1a 3"
          ],
          [
           "13_1a",
           "Spoon",
           "17586-17627",
           "13_1a 3"
          ],
          [
           "13_1a",
           "2-",
           "33929-33930",
           "13_1a 5"
          ],
          [
           "13_1a",
           "2-",
           "33930-33966",
           "13_1a 5"
          ],
          [
           "13_1a",
           "Bowl",
           "33966-33974",
           "13_1a 5"
          ],
          [
           "13_1a",
           "Bowl",
           "35378-35414",
           "13_1a 6"
          ],
          [
           "14_2a",
           "None",
           "9763-9781",
           "14_2a 1"
          ],
          [
           "14_2a",
           "Bowl",
           "28734-28746",
           "14_2a 3"
          ],
          [
           "14_2a",
           "Bowl",
           "28746-28751",
           "14_2a 3"
          ],
          [
           "14_2a",
           "Cup",
           "49734-49743",
           "14_2a 6"
          ],
          [
           "14_2a",
           "Cup",
           "49743-49756",
           "14_2a 6"
          ],
          [
           "15_1b",
           "Apple",
           "38645-38680",
           "15_1b 6"
          ],
          [
           "16_2b",
           "Bowl",
           "5945-5949",
           "16_2b 1"
          ],
          [
           "16_2b",
           "Bowl",
           "5949-5981",
           "16_2b 1"
          ],
          [
           "16_2b",
           "Cup",
           "15501-15567",
           "16_2b 3"
          ],
          [
           "17_1c",
           "1+",
           "8080-8170",
           "17_1c 1"
          ],
          [
           "17_1c",
           "Banana",
           "55004-55031",
           "17_1c 6"
          ],
          [
           "18_2c",
           "Bowl",
           "15257-15275",
           "18_2c 3"
          ],
          [
           "18_2c",
           "Bowl",
           "16568-16622",
           "18_2c 3"
          ],
          [
           "18_2c",
           "None",
           "34217-34244",
           "18_2c 5"
          ],
          [
           "18_2c",
           "2+",
           "41869-41897",
           "18_2c 6"
          ]
         ],
         "hoverlabel": {
          "namelength": 0
         },
         "hovertemplate": "lemma=bowl<br>x=%{x}<br>y=%{y}<br>participant=%{customdata[0]}<br>top=%{customdata[1]}<br>step=%{customdata[2]}<br>pt=%{customdata[3]}",
         "legendgroup": "bowl",
         "marker": {
          "color": "#FE00CE",
          "symbol": "circle"
         },
         "mode": "markers",
         "name": "bowl",
         "showlegend": true,
         "type": "scatter",
         "x": [
          9.266465187072754,
          -61.54303741455078,
          15.419593811035156,
          14.539999008178711,
          14.385931968688965,
          8.157803535461426,
          -8.699623107910156,
          -8.443103790283203,
          -34.1098518371582,
          -33.735374450683594,
          22.182992935180664,
          22.18541145324707,
          18.28091049194336,
          -37.49889373779297,
          -37.513580322265625,
          -5.3629631996154785,
          -33.19431686401367,
          -33.55164337158203,
          -33.55350875854492,
          14.55998420715332,
          -34.802818298339844,
          -14.968194961547852,
          -36.98794937133789,
          -14.803329467773438,
          -15.228797912597656,
          18.151395797729492,
          17.754352569580078,
          13.136067390441895,
          -12.312875747680664,
          -10.640628814697266,
          -10.71208381652832,
          12.845856666564941,
          12.761689186096191,
          -15.585809707641602,
          -25.303415298461914,
          -25.30307388305664,
          -25.665725708007812,
          -4.800734519958496,
          -5.005581378936768,
          -5.312800884246826,
          -14.844223976135254,
          24.974323272705078,
          -8.413649559020996,
          -8.462925910949707,
          -40.04365158081055,
          -40.176856994628906,
          11.557943344116211,
          -11.697447776794434,
          -12.071099281311035,
          -38.65711212158203,
          -14.227920532226562,
          -19.259674072265625,
          -7.541435241699219,
          -10.564921379089355,
          21.633865356445312,
          -37.65127944946289
         ],
         "xaxis": "x",
         "y": [
          -46.03010559082031,
          10.666125297546387,
          -5.580118656158447,
          -6.356955528259277,
          -6.516533374786377,
          -46.419132232666016,
          -9.28282642364502,
          -9.644009590148926,
          25.223703384399414,
          24.96784210205078,
          4.981942653656006,
          5.147820472717285,
          -6.407862663269043,
          -10.193949699401855,
          -9.327856063842773,
          18.681447982788086,
          22.28352928161621,
          21.621139526367188,
          21.582759857177734,
          -51.68149185180664,
          -4.362654209136963,
          -8.697025299072266,
          -5.329695224761963,
          -26.78370475769043,
          -27.026050567626953,
          7.18065881729126,
          6.981882572174072,
          7.637457847595215,
          -7.265328884124756,
          -10.43167495727539,
          -10.64803695678711,
          7.551548957824707,
          7.565471649169922,
          -9.472042083740234,
          23.042049407958984,
          23.04197120666504,
          23.20135498046875,
          -4.241753101348877,
          -4.350804805755615,
          -4.516123294830322,
          -9.28872299194336,
          3.1471052169799805,
          -6.5387983322143555,
          -6.593323230743408,
          -9.734960556030273,
          -9.56002426147461,
          -48.55661392211914,
          -7.302677631378174,
          -7.37336540222168,
          -12.26945686340332,
          -35.29558181762695,
          -25.615922927856445,
          -8.57678508758545,
          -9.42299747467041,
          13.2644624710083,
          -4.487690448760986
         ],
         "yaxis": "y"
        },
        {
         "customdata": [
          [
           "1_1a",
           "Banana",
           "16481-16497",
           "1_1a 1"
          ],
          [
           "1_1a",
           "Banana",
           "16497-16515",
           "1_1a 1"
          ],
          [
           "1_1a",
           "Banana",
           "16515-16526",
           "1_1a 1"
          ],
          [
           "1_1a",
           "3+",
           "24905-24921",
           "1_1a 2"
          ],
          [
           "1_1a",
           "Knife",
           "24921-24932",
           "1_1a 2"
          ],
          [
           "1_1a",
           "None",
           "47635-47680",
           "1_1a 5"
          ],
          [
           "1_1a",
           "Banana",
           "49681-49708",
           "1_1a 5"
          ],
          [
           "2_2a",
           "None",
           "17672-17703",
           "2_2a 3"
          ],
          [
           "2_2a",
           "None",
           "17703-17711",
           "2_2a 3"
          ],
          [
           "3_1b",
           "1-",
           "14118-14136",
           "3_1b 2"
          ],
          [
           "4_2b",
           "Banana",
           "14922-14940",
           "4_2b 2"
          ],
          [
           "4_2b",
           "9-",
           "15273-15287",
           "4_2b 2"
          ],
          [
           "4_2b",
           "Knife",
           "17146-17166",
           "4_2b 2"
          ],
          [
           "4_2b",
           "Banana",
           "22057-22075",
           "4_2b 3"
          ],
          [
           "5_1c",
           "Banana",
           "2221-2259",
           "5_1c 1"
          ],
          [
           "5_1c",
           "Banana",
           "2259-2294",
           "5_1c 1"
          ],
          [
           "5_1c",
           "Apple",
           "28171-28197",
           "5_1c 6"
          ],
          [
           "5_1c",
           "Apple",
           "28197-28198",
           "5_1c 6"
          ],
          [
           "6_2c",
           "Toy",
           "41104-41135",
           "6_2c 6"
          ],
          [
           "6_2c",
           "2-",
           "42858-42893",
           "6_2c 6"
          ],
          [
           "7_1a",
           "2+",
           "15886-15940",
           "7_1a 1"
          ],
          [
           "7_1a",
           "1+",
           "16890-16917",
           "7_1a 1"
          ],
          [
           "7_1a",
           "Apple",
           "24752-24770",
           "7_1a 1"
          ],
          [
           "7_1a",
           "Apple",
           "29736-29745",
           "7_1a 2"
          ],
          [
           "7_1a",
           "Banana",
           "32668-32697",
           "7_1a 2"
          ],
          [
           "7_1a",
           "Banana",
           "32697-32713",
           "7_1a 2"
          ],
          [
           "7_1a",
           "Banana",
           "33063-33108",
           "7_1a 2"
          ],
          [
           "7_1a",
           "Apple",
           "39525-39534",
           "7_1a 3"
          ],
          [
           "7_1a",
           "Bowl",
           "40134-40161",
           "7_1a 3"
          ],
          [
           "8_2a",
           "Banana",
           "14196-14241",
           "8_2a 2"
          ],
          [
           "8_2a",
           "Spoon",
           "15528-15542",
           "8_2a 2"
          ],
          [
           "9_1b",
           "Bowl",
           "6077-6086",
           "9_1b 1"
          ],
          [
           "9_1b",
           "Bowl",
           "6284-6320",
           "9_1b 1"
          ],
          [
           "9_1b",
           "Banana",
           "13206-13212",
           "9_1b 2"
          ],
          [
           "9_1b",
           "Banana",
           "13212-13215",
           "9_1b 2"
          ],
          [
           "9_1b",
           "None",
           "32057-32058",
           "9_1b 5"
          ],
          [
           "9_1b",
           "None",
           "32058-32067",
           "9_1b 5"
          ],
          [
           "9_1b",
           "None",
           "32067-32075",
           "9_1b 5"
          ],
          [
           "10_2b",
           "Banana",
           "45191-45245",
           "10_2b 4"
          ],
          [
           "10_2b",
           "Book",
           "57729-57735",
           "10_2b 5"
          ],
          [
           "10_2b",
           "Book",
           "57735-57765",
           "10_2b 5"
          ],
          [
           "10_2b",
           "Banana",
           "68344-68355",
           "10_2b 6"
          ],
          [
           "10_2b",
           "Banana",
           "68355-68366",
           "10_2b 6"
          ],
          [
           "11_1c",
           "Apple",
           "17466-17493",
           "11_1c 1"
          ],
          [
           "11_1c",
           "Apple",
           "23257-23293",
           "11_1c 2"
          ],
          [
           "11_1c",
           "Banana",
           "24113-24129",
           "11_1c 2"
          ],
          [
           "11_1c",
           "Banana",
           "24129-24165",
           "11_1c 2"
          ],
          [
           "11_1c",
           "Banana",
           "24165-24228",
           "11_1c 2"
          ],
          [
           "11_1c",
           "Banana",
           "24228-24246",
           "11_1c 2"
          ],
          [
           "11_1c",
           "Banana",
           "24246-24311",
           "11_1c 2"
          ],
          [
           "11_1c",
           "Banana",
           "26885-26892",
           "11_1c 3"
          ],
          [
           "11_1c",
           "Banana",
           "26892-26931",
           "11_1c 3"
          ],
          [
           "12_2c",
           "Bear",
           "23390-23391",
           "12_2c 1"
          ],
          [
           "12_2c",
           "Bear",
           "23391-23400",
           "12_2c 1"
          ],
          [
           "12_2c",
           "Bear",
           "23400-23453",
           "12_2c 1"
          ],
          [
           "12_2c",
           "Apple",
           "24450-24471",
           "12_2c 1"
          ],
          [
           "12_2c",
           "Apple",
           "24471-24494",
           "12_2c 1"
          ],
          [
           "13_1a",
           "6-",
           "2205-2241",
           "13_1a 1"
          ],
          [
           "13_1a",
           "Banana",
           "11224-11232",
           "13_1a 2"
          ],
          [
           "13_1a",
           "Banana",
           "11232-11242",
           "13_1a 2"
          ],
          [
           "13_1a",
           "Banana",
           "11593-11619",
           "13_1a 2"
          ],
          [
           "13_1a",
           "Banana",
           "11619-11673",
           "13_1a 2"
          ],
          [
           "13_1a",
           "Banana",
           "11673-11674",
           "13_1a 2"
          ],
          [
           "13_1a",
           "Banana",
           "11818-11826",
           "13_1a 2"
          ],
          [
           "13_1a",
           "Banana",
           "11826-11835",
           "13_1a 2"
          ],
          [
           "13_1a",
           "Banana",
           "11835-11844",
           "13_1a 2"
          ],
          [
           "13_1a",
           "Banana",
           "11844-11854",
           "13_1a 2"
          ],
          [
           "13_1a",
           "Banana",
           "16512-16533",
           "13_1a 3"
          ],
          [
           "13_1a",
           "Banana",
           "16533-16557",
           "13_1a 3"
          ],
          [
           "13_1a",
           "Banana",
           "16854-16866",
           "13_1a 3"
          ],
          [
           "13_1a",
           "Banana",
           "16866-16884",
           "13_1a 3"
          ],
          [
           "13_1a",
           "Banana",
           "16884-16890",
           "13_1a 3"
          ],
          [
           "14_2a",
           "Banana",
           "11994-12039",
           "14_2a 1"
          ],
          [
           "14_2a",
           "Banana",
           "12595-12631",
           "14_2a 1"
          ],
          [
           "14_2a",
           "Apple",
           "17529-17550",
           "14_2a 2"
          ],
          [
           "14_2a",
           "Apple",
           "17550-17592",
           "14_2a 2"
          ],
          [
           "14_2a",
           "Banana",
           "18053-18054",
           "14_2a 2"
          ],
          [
           "14_2a",
           "Banana",
           "18054-18063",
           "14_2a 2"
          ],
          [
           "14_2a",
           "Banana",
           "18063-18080",
           "14_2a 2"
          ],
          [
           "14_2a",
           "Banana",
           "21643-21663",
           "14_2a 2"
          ],
          [
           "14_2a",
           "Banana",
           "21663-21671",
           "14_2a 2"
          ],
          [
           "14_2a",
           "Banana",
           "22040-22049",
           "14_2a 2"
          ],
          [
           "14_2a",
           "Apple",
           "24051-24075",
           "14_2a 3"
          ],
          [
           "14_2a",
           "Apple",
           "24075-24079",
           "14_2a 3"
          ],
          [
           "14_2a",
           "Banana",
           "45436-45441",
           "14_2a 6"
          ],
          [
           "14_2a",
           "Banana",
           "45441-45489",
           "14_2a 6"
          ],
          [
           "15_1b",
           "Apple",
           "8311-8343",
           "15_1b 1"
          ],
          [
           "15_1b",
           "Apple",
           "8343-8365",
           "15_1b 1"
          ],
          [
           "15_1b",
           "Spoon",
           "14389-14400",
           "15_1b 2"
          ],
          [
           "15_1b",
           "Spoon",
           "14400-14409",
           "15_1b 2"
          ],
          [
           "15_1b",
           "Spoon",
           "14409-14418",
           "15_1b 2"
          ],
          [
           "15_1b",
           "Spoon",
           "14418-14461",
           "15_1b 2"
          ],
          [
           "15_1b",
           "Banana",
           "14956-14967",
           "15_1b 2"
          ],
          [
           "15_1b",
           "Banana",
           "14967-14976",
           "15_1b 2"
          ],
          [
           "15_1b",
           "Banana",
           "14976-15001",
           "15_1b 2"
          ],
          [
           "16_2b",
           "None",
           "11888-11898",
           "16_2b 2"
          ],
          [
           "16_2b",
           "3-",
           "11898-11923",
           "16_2b 2"
          ],
          [
           "16_2b",
           "Knife",
           "13245-13248",
           "16_2b 2"
          ],
          [
           "16_2b",
           "Knife",
           "13248-13263",
           "16_2b 2"
          ],
          [
           "16_2b",
           "Banana",
           "13826-13851",
           "16_2b 2"
          ],
          [
           "16_2b",
           "Banana",
           "13851-13858",
           "16_2b 2"
          ],
          [
           "16_2b",
           "None",
           "14886-14904",
           "16_2b 3"
          ],
          [
           "17_1c",
           "1+",
           "8296-8305",
           "17_1c 1"
          ],
          [
           "17_1c",
           "1+",
           "14709-14736",
           "17_1c 2"
          ],
          [
           "17_1c",
           "Banana",
           "15240-15284",
           "17_1c 2"
          ],
          [
           "17_1c",
           "Banana",
           "17960-18000",
           "17_1c 2"
          ],
          [
           "17_1c",
           "Banana",
           "18000-18009",
           "17_1c 2"
          ],
          [
           "17_1c",
           "Banana",
           "18009-18113",
           "17_1c 2"
          ],
          [
           "17_1c",
           "Banana",
           "23137-23139",
           "17_1c 3"
          ],
          [
           "17_1c",
           "Banana",
           "23139-23164",
           "17_1c 3"
          ],
          [
           "17_1c",
           "Banana",
           "38376-38385",
           "17_1c 5"
          ],
          [
           "18_2c",
           "None",
           "2089-2107",
           "18_2c 1"
          ],
          [
           "18_2c",
           "None",
           "31150-31177",
           "18_2c 5"
          ]
         ],
         "hoverlabel": {
          "namelength": 0
         },
         "hovertemplate": "lemma=banana<br>x=%{x}<br>y=%{y}<br>participant=%{customdata[0]}<br>top=%{customdata[1]}<br>step=%{customdata[2]}<br>pt=%{customdata[3]}",
         "legendgroup": "banana",
         "marker": {
          "color": "#0DF9FF",
          "symbol": "circle"
         },
         "mode": "markers",
         "name": "banana",
         "showlegend": true,
         "type": "scatter",
         "x": [
          -17.06128692626953,
          -16.890832901000977,
          -16.023073196411133,
          -54.92641067504883,
          -55.47026062011719,
          21.763811111450195,
          -15.138738632202148,
          20.551118850708008,
          19.971614837646484,
          22.03692626953125,
          -16.918739318847656,
          16.341440200805664,
          -56.05223846435547,
          -17.24995994567871,
          -17.64183235168457,
          -18.38567543029785,
          9.02792739868164,
          9.588631629943848,
          -0.48142144083976746,
          18.875247955322266,
          8.575342178344727,
          13.076544761657715,
          15.340112686157227,
          13.865457534790039,
          -18.81039810180664,
          -18.843507766723633,
          -16.550262451171875,
          19.804597854614258,
          -11.81065845489502,
          -17.88944435119629,
          -24.577495574951172,
          -14.958810806274414,
          -13.072440147399902,
          -16.297714233398438,
          -16.524402618408203,
          17.286344528198242,
          15.975044250488281,
          15.732765197753906,
          -17.861339569091797,
          44.36204528808594,
          44.362030029296875,
          -15.517340660095215,
          -15.806565284729004,
          14.727071762084961,
          14.100079536437988,
          -20.825496673583984,
          -20.851795196533203,
          -20.84560203552246,
          -21.532390594482422,
          -21.38715362548828,
          -20.32765007019043,
          -20.636493682861328,
          43.818687438964844,
          42.88222122192383,
          42.57858657836914,
          14.734162330627441,
          14.356255531311035,
          13.316506385803223,
          -16.735557556152344,
          -19.400169372558594,
          -18.627182006835938,
          -18.338613510131836,
          -18.01400375366211,
          -16.513216018676758,
          -16.511972427368164,
          -16.262130737304688,
          -16.165502548217773,
          -17.038768768310547,
          -17.688108444213867,
          -16.180490493774414,
          -16.200714111328125,
          -16.295164108276367,
          -17.02001953125,
          -14.440186500549316,
          14.917526245117188,
          15.274165153503418,
          -20.351032257080078,
          -20.772411346435547,
          -21.123966217041016,
          -16.735370635986328,
          -19.400175094604492,
          -15.4042329788208,
          17.70986557006836,
          18.232208251953125,
          -22.34175682067871,
          -22.33550262451172,
          8.932933807373047,
          9.120386123657227,
          -28.509231567382812,
          -27.854084014892578,
          -28.02690315246582,
          -28.750703811645508,
          -18.310842514038086,
          -16.922548294067383,
          -15.388386726379395,
          11.898326873779297,
          11.792622566223145,
          -56.9308967590332,
          -56.63747024536133,
          -22.749374389648438,
          -22.35854148864746,
          24.462587356567383,
          -13.756217002868652,
          -14.205536842346191,
          -16.83506202697754,
          -22.20407485961914,
          -22.158287048339844,
          -22.19838523864746,
          -19.940385818481445,
          -19.921884536743164,
          -15.13899040222168,
          22.522153854370117,
          17.95498275756836
         ],
         "xaxis": "x",
         "y": [
          -38.198734283447266,
          -37.544376373291016,
          -36.925628662109375,
          11.862231254577637,
          11.44794750213623,
          12.536367416381836,
          -36.874576568603516,
          11.132580757141113,
          10.477763175964355,
          -7.723028182983398,
          -29.541711807250977,
          7.151466369628906,
          12.548630714416504,
          -42.85281753540039,
          -34.62812042236328,
          -35.1689453125,
          -43.47303009033203,
          -43.76426315307617,
          45.22511291503906,
          19.612497329711914,
          -46.69065475463867,
          -52.25786590576172,
          -52.3254508972168,
          -50.81232452392578,
          -33.671722412109375,
          -33.687171936035156,
          -37.712257385253906,
          -44.34077453613281,
          -6.108575344085693,
          -36.66229248046875,
          23.571439743041992,
          -9.866178512573242,
          -6.897429943084717,
          -25.85821533203125,
          -25.569469451904297,
          -3.9468984603881836,
          -3.778210401535034,
          -3.6678566932678223,
          -42.57985305786133,
          -16.185468673706055,
          -16.18549156188965,
          -28.76000213623047,
          -28.733396530151367,
          -49.65979766845703,
          -50.967464447021484,
          -39.138240814208984,
          -39.156890869140625,
          -39.15296936035156,
          -39.13528060913086,
          -37.38744354248047,
          -26.682283401489258,
          -26.545631408691406,
          16.03165054321289,
          15.033510208129883,
          14.780021667480469,
          -49.128211975097656,
          -48.990867614746094,
          13.918432235717773,
          -35.26886749267578,
          -35.476707458496094,
          -31.760515213012695,
          -31.206680297851562,
          -30.991426467895508,
          -31.07381248474121,
          -31.07367706298828,
          -31.366783142089844,
          -31.714351654052734,
          -35.76926040649414,
          -35.53839874267578,
          -26.72648048400879,
          -27.130739212036133,
          -27.57059669494629,
          -29.04930305480957,
          -34.416168212890625,
          -47.7002067565918,
          -46.00142288208008,
          -29.939800262451172,
          -29.71016502380371,
          -29.577463150024414,
          -35.26919174194336,
          -35.47658157348633,
          -35.37327194213867,
          -45.056949615478516,
          -44.64244079589844,
          -27.205215454101562,
          -27.15155029296875,
          -44.349483489990234,
          -44.77779769897461,
          27.116662979125977,
          26.606624603271484,
          26.507844924926758,
          26.995906829833984,
          -37.846927642822266,
          -37.541046142578125,
          -36.471378326416016,
          -5.108333587646484,
          -5.179506301879883,
          11.550241470336914,
          12.130170822143555,
          -36.101104736328125,
          -35.85402297973633,
          6.09861946105957,
          -35.339508056640625,
          -35.86238098144531,
          -36.46126174926758,
          -28.63060188293457,
          -29.32790756225586,
          -29.726993560791016,
          -37.73181915283203,
          -37.96339416503906,
          -36.87600326538086,
          12.120305061340332,
          -0.1668262779712677
         ],
         "yaxis": "y"
        },
        {
         "customdata": [
          [
           "1_1a",
           "Spoon",
           "18376-18430",
           "1_1a 1"
          ],
          [
           "1_1a",
           "Spoon",
           "25389-25414",
           "1_1a 2"
          ],
          [
           "1_1a",
           "Spoon",
           "44972-44973",
           "1_1a 5"
          ],
          [
           "1_1a",
           "Spoon",
           "44973-44991",
           "1_1a 5"
          ],
          [
           "1_1a",
           "3+",
           "44991-45009",
           "1_1a 5"
          ],
          [
           "1_1a",
           "3+",
           "45009-45026",
           "1_1a 5"
          ],
          [
           "2_2a",
           "Knife",
           "6840-6849",
           "2_2a 1"
          ],
          [
           "2_2a",
           "Knife",
           "6849-6858",
           "2_2a 1"
          ],
          [
           "2_2a",
           "Knife",
           "6858-6867",
           "2_2a 1"
          ],
          [
           "2_2a",
           "Knife",
           "6867-6869",
           "2_2a 1"
          ],
          [
           "2_2a",
           "Knife",
           "14612-14651",
           "2_2a 3"
          ],
          [
           "2_2a",
           "Spoon",
           "16261-16304",
           "2_2a 3"
          ],
          [
           "2_2a",
           "Spoon",
           "30861-30870",
           "2_2a 5"
          ],
          [
           "2_2a",
           "Spoon",
           "30870-30890",
           "2_2a 5"
          ],
          [
           "2_2a",
           "Spoon",
           "31171-31176",
           "2_2a 5"
          ],
          [
           "2_2a",
           "Spoon",
           "31176-31185",
           "2_2a 5"
          ],
          [
           "2_2a",
           "Spoon",
           "31185-31203",
           "2_2a 5"
          ],
          [
           "2_2a",
           "Spoon",
           "31203-31212",
           "2_2a 5"
          ],
          [
           "2_2a",
           "Spoon",
           "31212-31220",
           "2_2a 5"
          ],
          [
           "3_1b",
           "None",
           "8979-9014",
           "3_1b 1"
          ],
          [
           "3_1b",
           "None",
           "34447-34501",
           "3_1b 5"
          ],
          [
           "4_2b",
           "Spoon",
           "9790-9821",
           "4_2b 1"
          ],
          [
           "4_2b",
           "Spoon",
           "19307-19334",
           "4_2b 3"
          ],
          [
           "4_2b",
           "Spoon",
           "42637-42665",
           "4_2b 5"
          ],
          [
           "4_2b",
           "Spoon",
           "52490-52494",
           "4_2b 6"
          ],
          [
           "5_1c",
           "Spoon",
           "7343-7388",
           "5_1c 2"
          ],
          [
           "5_1c",
           "Spoon",
           "10923-10926",
           "5_1c 3"
          ],
          [
           "5_1c",
           "Spoon",
           "10926-10962",
           "5_1c 3"
          ],
          [
           "5_1c",
           "Spoon",
           "10962-10977",
           "5_1c 3"
          ],
          [
           "6_2c",
           "None",
           "7644-7686",
           "6_2c 1"
          ],
          [
           "6_2c",
           "None",
           "7686-7690",
           "6_2c 1"
          ],
          [
           "6_2c",
           "None",
           "9021-9036",
           "6_2c 1"
          ],
          [
           "6_2c",
           "None",
           "9036-9044",
           "6_2c 1"
          ],
          [
           "6_2c",
           "Spoon",
           "13998-14004",
           "6_2c 2"
          ],
          [
           "6_2c",
           "Spoon",
           "14004-14036",
           "6_2c 2"
          ],
          [
           "6_2c",
           "Spoon",
           "14180-14202",
           "6_2c 2"
          ],
          [
           "6_2c",
           "None",
           "14746-14755",
           "6_2c 2"
          ],
          [
           "6_2c",
           "Cup",
           "15046-15048",
           "6_2c 2"
          ],
          [
           "6_2c",
           "Cup",
           "15048-15066",
           "6_2c 2"
          ],
          [
           "6_2c",
           "Cup",
           "15066-15071",
           "6_2c 2"
          ],
          [
           "6_2c",
           "2+",
           "24418-24456",
           "6_2c 3"
          ],
          [
           "6_2c",
           "None",
           "25934-25956",
           "6_2c 3"
          ],
          [
           "6_2c",
           "None",
           "25956-25966",
           "6_2c 3"
          ],
          [
           "8_2a",
           "Spoon",
           "5214-5265",
           "8_2a 1"
          ],
          [
           "8_2a",
           "Spoon",
           "5265-5282",
           "8_2a 1"
          ],
          [
           "8_2a",
           "Cup",
           "12021-12024",
           "8_2a 2"
          ],
          [
           "8_2a",
           "Cup",
           "12024-12044",
           "8_2a 2"
          ],
          [
           "8_2a",
           "Spoon",
           "16235-16269",
           "8_2a 2"
          ],
          [
           "8_2a",
           "2+",
           "19220-19265",
           "8_2a 3"
          ],
          [
           "9_1b",
           "Banana",
           "8238-8343",
           "9_1b 1"
          ],
          [
           "9_1b",
           "Banana",
           "8343-8379",
           "9_1b 1"
          ],
          [
           "9_1b",
           "Spoon",
           "8379-8451",
           "9_1b 1"
          ],
          [
           "9_1b",
           "Spoon",
           "8451-8514",
           "9_1b 1"
          ],
          [
           "9_1b",
           "Spoon",
           "8514-8550",
           "9_1b 1"
          ],
          [
           "9_1b",
           "Spoon",
           "8550-8581",
           "9_1b 1"
          ],
          [
           "9_1b",
           "Spoon",
           "11173-11214",
           "9_1b 2"
          ],
          [
           "9_1b",
           "Spoon",
           "11214-11218",
           "9_1b 2"
          ],
          [
           "9_1b",
           "2+",
           "11766-11772",
           "9_1b 2"
          ],
          [
           "9_1b",
           "2+",
           "11772-11802",
           "9_1b 2"
          ],
          [
           "9_1b",
           "Spoon",
           "19810-19827",
           "9_1b 3"
          ],
          [
           "9_1b",
           "Spoon",
           "19827-19863",
           "9_1b 3"
          ],
          [
           "9_1b",
           "Spoon",
           "19863-19882",
           "9_1b 3"
          ],
          [
           "10_2b",
           "Spoon",
           "39192-39212",
           "10_2b 3"
          ],
          [
           "10_2b",
           "Spoon",
           "41474-41517",
           "10_2b 3"
          ],
          [
           "10_2b",
           "Spoon",
           "41517-41526",
           "10_2b 3"
          ],
          [
           "10_2b",
           "Spoon",
           "41526-41535",
           "10_2b 3"
          ],
          [
           "10_2b",
           "Spoon",
           "41535-41537",
           "10_2b 3"
          ],
          [
           "10_2b",
           "Cup",
           "62511-62514",
           "10_2b 5"
          ],
          [
           "10_2b",
           "Cup",
           "62514-62532",
           "10_2b 5"
          ],
          [
           "10_2b",
           "Cup",
           "62532-62547",
           "10_2b 5"
          ],
          [
           "11_1c",
           "Spoon",
           "19982-19998",
           "11_1c 1"
          ],
          [
           "11_1c",
           "Spoon",
           "19998-20000",
           "11_1c 1"
          ],
          [
           "11_1c",
           "Banana",
           "22240-22266",
           "11_1c 2"
          ],
          [
           "11_1c",
           "Banana",
           "22266-22275",
           "11_1c 2"
          ],
          [
           "11_1c",
           "Banana",
           "22275-22294",
           "11_1c 2"
          ],
          [
           "11_1c",
           "Apple",
           "23464-23508",
           "11_1c 2"
          ],
          [
           "11_1c",
           "Apple",
           "23508-23518",
           "11_1c 2"
          ],
          [
           "11_1c",
           "6+",
           "27543-27576",
           "11_1c 3"
          ],
          [
           "11_1c",
           "6+",
           "27576-27621",
           "11_1c 3"
          ],
          [
           "11_1c",
           "3+",
           "27621-27639",
           "11_1c 3"
          ],
          [
           "11_1c",
           "3+",
           "27639-27675",
           "11_1c 3"
          ],
          [
           "11_1c",
           "Spoon",
           "27675-27705",
           "11_1c 3"
          ],
          [
           "11_1c",
           "Cup",
           "47580-47583",
           "11_1c 6"
          ],
          [
           "11_1c",
           "Cup",
           "47583-47592",
           "11_1c 6"
          ],
          [
           "11_1c",
           "Cup",
           "47592-47616",
           "11_1c 6"
          ],
          [
           "12_2c",
           "Spoon",
           "35964-35973",
           "12_2c 3"
          ],
          [
           "12_2c",
           "Spoon",
           "35973-36018",
           "12_2c 3"
          ],
          [
           "12_2c",
           "Spoon",
           "36018-36036",
           "12_2c 3"
          ],
          [
           "13_1a",
           "Bowl",
           "13015-13023",
           "13_1a 2"
          ],
          [
           "13_1a",
           "2+",
           "13023-13024",
           "13_1a 2"
          ],
          [
           "13_1a",
           "Spoon",
           "13330-13357",
           "13_1a 2"
          ],
          [
           "13_1a",
           "Spoon",
           "13591-13618",
           "13_1a 2"
          ],
          [
           "13_1a",
           "Spoon",
           "18239-18293",
           "13_1a 3"
          ],
          [
           "13_1a",
           "Spoon",
           "18553-18558",
           "13_1a 3"
          ],
          [
           "13_1a",
           "Spoon",
           "18558-18567",
           "13_1a 3"
          ],
          [
           "13_1a",
           "Spoon",
           "18567-18598",
           "13_1a 3"
          ],
          [
           "13_1a",
           "1+",
           "19101-19137",
           "13_1a 3"
          ],
          [
           "13_1a",
           "Spoon",
           "36754-36799",
           "13_1a 6"
          ],
          [
           "14_2a",
           "Fork",
           "10561-10584",
           "14_2a 1"
          ],
          [
           "14_2a",
           "Fork",
           "10584-10615",
           "14_2a 1"
          ],
          [
           "14_2a",
           "1+",
           "19480-19525",
           "14_2a 2"
          ],
          [
           "14_2a",
           "Spoon",
           "28214-28215",
           "14_2a 3"
          ],
          [
           "14_2a",
           "Spoon",
           "28215-28233",
           "14_2a 3"
          ],
          [
           "14_2a",
           "Spoon",
           "28233-28251",
           "14_2a 3"
          ],
          [
           "14_2a",
           "Spoon",
           "28251-28260",
           "14_2a 3"
          ],
          [
           "14_2a",
           "Spoon",
           "28260-28276",
           "14_2a 3"
          ],
          [
           "15_1b",
           "Spoon",
           "10623-10638",
           "15_1b 1"
          ],
          [
           "15_1b",
           "Spoon",
           "10638-10656",
           "15_1b 1"
          ],
          [
           "15_1b",
           "Spoon",
           "10656-10659",
           "15_1b 1"
          ],
          [
           "16_2b",
           "1+",
           "10334-10361",
           "16_2b 1"
          ],
          [
           "17_1c",
           "Cup",
           "46393-46413",
           "17_1c 5"
          ],
          [
           "17_1c",
           "Cup",
           "46413-46449",
           "17_1c 5"
          ],
          [
           "17_1c",
           "Cup",
           "46449-46546",
           "17_1c 5"
          ],
          [
           "17_1c",
           "Spoon",
           "56982-56997",
           "17_1c 6"
          ],
          [
           "17_1c",
           "Spoon",
           "56997-57018",
           "17_1c 6"
          ],
          [
           "18_2c",
           "Bowl",
           "15373-15401",
           "18_2c 3"
          ],
          [
           "18_2c",
           "Bowl",
           "15780-15795",
           "18_2c 3"
          ],
          [
           "18_2c",
           "Bowl",
           "15795-15835",
           "18_2c 3"
          ],
          [
           "18_2c",
           "Spoon",
           "37665-37674",
           "18_2c 5"
          ],
          [
           "18_2c",
           "None",
           "43189-43191",
           "18_2c 6"
          ],
          [
           "18_2c",
           "None",
           "43191-43209",
           "18_2c 6"
          ],
          [
           "18_2c",
           "None",
           "43209-43212",
           "18_2c 6"
          ]
         ],
         "hoverlabel": {
          "namelength": 0
         },
         "hovertemplate": "lemma=spoon<br>x=%{x}<br>y=%{y}<br>participant=%{customdata[0]}<br>top=%{customdata[1]}<br>step=%{customdata[2]}<br>pt=%{customdata[3]}",
         "legendgroup": "spoon",
         "marker": {
          "color": "#F6F926",
          "symbol": "circle"
         },
         "mode": "markers",
         "name": "spoon",
         "showlegend": true,
         "type": "scatter",
         "x": [
          -26.064226150512695,
          -35.527565002441406,
          -33.910987854003906,
          -36.349578857421875,
          -36.91594314575195,
          -37.28022766113281,
          -56.80051803588867,
          -57.28618240356445,
          -57.04298400878906,
          -56.651405334472656,
          -60.40679931640625,
          -30.025218963623047,
          -31.80815887451172,
          -31.830684661865234,
          -29.368375778198242,
          -31.030776977539062,
          -31.967924118041992,
          -32.89070129394531,
          -33.64386749267578,
          20.92759132385254,
          21.645809173583984,
          -26.964797973632812,
          -25.70792579650879,
          -31.233280181884766,
          -28.397602081298828,
          -28.679885864257812,
          -35.152198791503906,
          -35.311405181884766,
          -35.34036636352539,
          24.452409744262695,
          24.281015396118164,
          22.673234939575195,
          22.866060256958008,
          -35.11618423461914,
          -35.135372161865234,
          -35.042667388916016,
          24.898387908935547,
          -44.59669876098633,
          -44.42253112792969,
          -44.56346130371094,
          -25.21242904663086,
          11.511398315429688,
          11.490161895751953,
          -25.284015655517578,
          -25.652496337890625,
          -39.6490364074707,
          -39.71527099609375,
          -26.25147247314453,
          -37.34912109375,
          -20.9525146484375,
          -21.233484268188477,
          -30.461856842041016,
          -30.38970375061035,
          -30.197322845458984,
          -29.6873779296875,
          -32.251338958740234,
          -32.25117111206055,
          -19.414440155029297,
          -19.304136276245117,
          -34.83816909790039,
          -34.638267517089844,
          -34.51356506347656,
          -26.871381759643555,
          -28.52654457092285,
          -29.320755004882812,
          -31.4389705657959,
          -31.4389705657959,
          -38.901702880859375,
          -38.355430603027344,
          -38.087432861328125,
          -26.67329978942871,
          -26.94964599609375,
          -21.131711959838867,
          -20.967222213745117,
          -20.966142654418945,
          15.425167083740234,
          16.012474060058594,
          -11.379670143127441,
          -11.903688430786133,
          -12.633091926574707,
          -13.713634490966797,
          -14.321687698364258,
          -34.42916488647461,
          -34.937374114990234,
          -35.0731086730957,
          -31.937278747558594,
          -31.972084045410156,
          -32.05623245239258,
          -10.055095672607422,
          -9.96278190612793,
          -27.7849178314209,
          -34.914947509765625,
          -25.50981330871582,
          -31.615432739257812,
          -30.872268676757812,
          -30.872268676757812,
          -25.624662399291992,
          -35.87971115112305,
          -6.350098133087158,
          -6.379929542541504,
          13.292724609375,
          -27.180330276489258,
          -27.767230987548828,
          -28.31214714050293,
          -29.014251708984375,
          -29.31444549560547,
          -28.780126571655273,
          -30.146207809448242,
          -30.60129737854004,
          -15.590481758117676,
          -39.518035888671875,
          -39.467811584472656,
          -39.7695198059082,
          -30.827016830444336,
          -30.419872283935547,
          -10.657431602478027,
          -12.971035957336426,
          -13.041638374328613,
          -28.582008361816406,
          22.771291732788086,
          23.14488410949707,
          23.229795455932617
         ],
         "xaxis": "x",
         "y": [
          18.630115509033203,
          23.298667907714844,
          22.827707290649414,
          21.354318618774414,
          21.07324981689453,
          20.88634490966797,
          10.082863807678223,
          9.87420654296875,
          9.223459243774414,
          8.908792495727539,
          11.235176086425781,
          22.40422821044922,
          19.42995834350586,
          19.479890823364258,
          25.734907150268555,
          25.852012634277344,
          25.96889305114746,
          25.95272445678711,
          25.986217498779297,
          -8.093053817749023,
          -6.841689586639404,
          25.06218719482422,
          21.8406982421875,
          24.05959129333496,
          13.229875564575195,
          24.525436401367188,
          25.072288513183594,
          25.897953033447266,
          26.09235954284668,
          6.2215094566345215,
          6.606497287750244,
          8.294134140014648,
          8.688573837280273,
          27.989723205566406,
          27.96843147277832,
          23.057016372680664,
          3.8336422443389893,
          -10.911604881286621,
          -11.509870529174805,
          -11.690248489379883,
          17.49646759033203,
          4.79317569732666,
          4.762148380279541,
          20.116117477416992,
          20.54570960998535,
          -5.95364236831665,
          -6.090291976928711,
          25.378503799438477,
          -4.60333776473999,
          -24.21303939819336,
          -23.817716598510742,
          16.835670471191406,
          17.135650634765625,
          17.67197036743164,
          18.296409606933594,
          23.274581909179688,
          23.274431228637695,
          -24.292123794555664,
          -23.923280715942383,
          20.83548355102539,
          20.150983810424805,
          19.90134620666504,
          23.16498565673828,
          23.412761688232422,
          23.135847091674805,
          22.165889739990234,
          22.165889739990234,
          -11.0382661819458,
          -8.75536823272705,
          -7.9645514488220215,
          17.31267738342285,
          17.2919864654541,
          -33.2020149230957,
          -33.268798828125,
          -33.26866912841797,
          -47.419273376464844,
          -47.262657165527344,
          19.770639419555664,
          19.80320167541504,
          19.8083553314209,
          19.79570198059082,
          19.81528663635254,
          -7.854478359222412,
          -8.606548309326172,
          -8.989192962646484,
          28.32855224609375,
          28.189048767089844,
          27.871360778808594,
          -4.795524597167969,
          -4.565391540527344,
          26.335906982421875,
          22.03230857849121,
          21.77590560913086,
          23.347549438476562,
          23.281719207763672,
          23.281719207763672,
          24.525249481201172,
          22.559532165527344,
          21.4871826171875,
          20.988683700561523,
          -51.9345817565918,
          21.6822566986084,
          21.142837524414062,
          20.789949417114258,
          20.46310806274414,
          20.30434226989746,
          25.350143432617188,
          26.213720321655273,
          26.561721801757812,
          -9.465714454650879,
          -11.626649856567383,
          -12.657495498657227,
          -12.061003684997559,
          24.292282104492188,
          24.431354522705078,
          -6.5730204582214355,
          -10.946505546569824,
          -11.08156681060791,
          18.509981155395508,
          -4.120968818664551,
          -3.945035934448242,
          -3.6878392696380615
         ],
         "yaxis": "y"
        },
        {
         "customdata": [
          [
           "1_1a",
           "Fork",
           "19400-19436",
           "1_1a 1"
          ],
          [
           "1_1a",
           "8+",
           "31134-31233",
           "1_1a 3"
          ],
          [
           "1_1a",
           "NA+",
           "44360-44388",
           "1_1a 5"
          ],
          [
           "1_1a",
           "2+",
           "44388-44406",
           "1_1a 5"
          ],
          [
           "1_1a",
           "Fork",
           "45095-45166",
           "1_1a 5"
          ],
          [
           "2_2a",
           "None",
           "5302-5337",
           "2_2a 1"
          ],
          [
           "2_2a",
           "None",
           "5337-5343",
           "2_2a 1"
          ],
          [
           "2_2a",
           "Fork",
           "16935-16948",
           "2_2a 3"
          ],
          [
           "3_1b",
           "1-",
           "11154-11199",
           "3_1b 2"
          ],
          [
           "4_2b",
           "1+",
           "19343-19361",
           "4_2b 3"
          ],
          [
           "6_2c",
           "None",
           "8596-8609",
           "6_2c 1"
          ],
          [
           "6_2c",
           "None",
           "8863-8885",
           "6_2c 1"
          ],
          [
           "6_2c",
           "Spoon",
           "47179-47214",
           "6_2c 6"
          ],
          [
           "8_2a",
           "Banana",
           "12151-12159",
           "8_2a 2"
          ],
          [
           "8_2a",
           "1+",
           "12159-12196",
           "8_2a 2"
          ],
          [
           "8_2a",
           "Fork",
           "18611-18639",
           "8_2a 3"
          ],
          [
           "8_2a",
           "Fork",
           "23842-23864",
           "8_2a 3"
          ],
          [
           "8_2a",
           "Fork",
           "24188-24192",
           "8_2a 3"
          ],
          [
           "8_2a",
           "Fork",
           "24192-24210",
           "8_2a 3"
          ],
          [
           "8_2a",
           "Spoon",
           "24669-24692",
           "8_2a 3"
          ],
          [
           "9_1b",
           "8+",
           "19540-19548",
           "9_1b 3"
          ],
          [
           "9_1b",
           "None",
           "19548-19567",
           "9_1b 3"
          ],
          [
           "10_2b",
           "None",
           "27908-27936",
           "10_2b 1"
          ],
          [
           "10_2b",
           "1-",
           "27936-27952",
           "10_2b 1"
          ],
          [
           "10_2b",
           "Knife",
           "38207-38288",
           "10_2b 3"
          ],
          [
           "10_2b",
           "Fork",
           "42965-43019",
           "10_2b 3"
          ],
          [
           "11_1c",
           "NA+",
           "39866-39893",
           "11_1c 5"
          ],
          [
           "13_1a",
           "Fork",
           "37285-37305",
           "13_1a 6"
          ],
          [
           "13_1a",
           "Fork",
           "37305-37330",
           "13_1a 6"
          ],
          [
           "13_1a",
           "Cup",
           "37934-37979",
           "13_1a 6"
          ],
          [
           "14_2a",
           "1+",
           "11184-11220",
           "14_2a 1"
          ],
          [
           "14_2a",
           "Fork",
           "27655-27666",
           "14_2a 3"
          ],
          [
           "14_2a",
           "Fork",
           "27666-27693",
           "14_2a 3"
          ],
          [
           "14_2a",
           "Fork",
           "27693-27709",
           "14_2a 3"
          ],
          [
           "14_2a",
           "None",
           "43469-43496",
           "14_2a 5"
          ],
          [
           "14_2a",
           "Fork",
           "43780-43794",
           "14_2a 5"
          ],
          [
           "14_2a",
           "Fork",
           "43794-43807",
           "14_2a 5"
          ],
          [
           "15_1b",
           "Spoon",
           "10560-10596",
           "15_1b 1"
          ],
          [
           "17_1c",
           "Knife",
           "6847-6856",
           "17_1c 1"
          ],
          [
           "17_1c",
           "None",
           "8675-8685",
           "17_1c 1"
          ],
          [
           "17_1c",
           "None",
           "8685-8710",
           "17_1c 1"
          ],
          [
           "17_1c",
           "Cup",
           "21040-21042",
           "17_1c 3"
          ],
          [
           "17_1c",
           "3+",
           "21042-21085",
           "17_1c 3"
          ],
          [
           "17_1c",
           "Spoon",
           "46843-46897",
           "17_1c 5"
          ],
          [
           "17_1c",
           "1+",
           "56695-56740",
           "17_1c 6"
          ]
         ],
         "hoverlabel": {
          "namelength": 0
         },
         "hovertemplate": "lemma=fork<br>x=%{x}<br>y=%{y}<br>participant=%{customdata[0]}<br>top=%{customdata[1]}<br>step=%{customdata[2]}<br>pt=%{customdata[3]}",
         "legendgroup": "fork",
         "marker": {
          "color": "#FF9616",
          "symbol": "circle"
         },
         "mode": "markers",
         "name": "fork",
         "showlegend": true,
         "type": "scatter",
         "x": [
          -9.750720977783203,
          -54.46831130981445,
          -3.0062875747680664,
          -3.164937734603882,
          -6.673490047454834,
          26.91671371459961,
          26.866668701171875,
          -8.357356071472168,
          22.03702735900879,
          -24.870079040527344,
          18.65526580810547,
          12.332042694091797,
          -26.412906646728516,
          -14.552482604980469,
          -14.128613471984863,
          -9.750720977783203,
          -6.601470470428467,
          -9.16776180267334,
          -8.980623245239258,
          -29.057483673095703,
          7.336999416351318,
          7.3599395751953125,
          15.811988830566406,
          15.786603927612305,
          -61.25910186767578,
          -7.278347015380859,
          -2.6457762718200684,
          -6.09137487411499,
          -6.092092990875244,
          -38.62392807006836,
          -6.106408596038818,
          -7.742362022399902,
          -8.200648307800293,
          -8.264925003051758,
          21.365751266479492,
          -6.768761157989502,
          -6.684092998504639,
          -26.19384765625,
          -60.900325775146484,
          16.554759979248047,
          16.55475425720215,
          -43.76728439331055,
          -44.01223373413086,
          -26.683507919311523,
          -61.32004928588867
         ],
         "xaxis": "x",
         "y": [
          19.99372673034668,
          8.189544677734375,
          16.189722061157227,
          16.332489013671875,
          22.762004852294922,
          11.292669296264648,
          11.32045841217041,
          20.702754974365234,
          -7.723507881164551,
          24.483509063720703,
          -6.846460819244385,
          1.0993682146072388,
          17.895381927490234,
          -28.729705810546875,
          -28.896953582763672,
          19.99372673034668,
          22.481842041015625,
          21.957387924194336,
          21.87795066833496,
          24.762964248657227,
          11.450309753417969,
          11.444808006286621,
          -9.239315032958984,
          -9.296538352966309,
          9.98945140838623,
          22.84398078918457,
          15.879191398620605,
          21.563623428344727,
          21.560319900512695,
          -12.932092666625977,
          22.714387893676758,
          19.459487915039062,
          19.660072326660156,
          20.068864822387695,
          13.813652038574219,
          19.52098846435547,
          19.08144760131836,
          23.5822696685791,
          10.50845718383789,
          12.43689250946045,
          12.436712265014648,
          -13.534242630004883,
          -13.798500061035156,
          24.742774963378906,
          11.005172729492188
         ],
         "yaxis": "y"
        },
        {
         "customdata": [
          [
           "1_1a",
           "Apple",
           "23003-23022",
           "1_1a 2"
          ],
          [
           "1_1a",
           "Apple",
           "23022-23047",
           "1_1a 2"
          ],
          [
           "1_1a",
           "Banana",
           "48524-48550",
           "1_1a 5"
          ],
          [
           "2_2a",
           "Apple",
           "7388-7424",
           "2_2a 1"
          ],
          [
           "2_2a",
           "Apple",
           "10965-10998",
           "2_2a 2"
          ],
          [
           "2_2a",
           "Apple",
           "10998-11001",
           "2_2a 2"
          ],
          [
           "2_2a",
           "Banana",
           "17752-17766",
           "2_2a 3"
          ],
          [
           "2_2a",
           "Banana",
           "17766-17775",
           "2_2a 3"
          ],
          [
           "2_2a",
           "Banana",
           "17775-17781",
           "2_2a 3"
          ],
          [
           "4_2b",
           "1+",
           "7368-7404",
           "4_2b 1"
          ],
          [
           "4_2b",
           "Apple",
           "12506-12519",
           "4_2b 1"
          ],
          [
           "4_2b",
           "Apple",
           "12519-12531",
           "4_2b 1"
          ],
          [
           "4_2b",
           "Banana",
           "21952-21969",
           "4_2b 3"
          ],
          [
           "4_2b",
           "Banana",
           "21969-21978",
           "4_2b 3"
          ],
          [
           "4_2b",
           "Banana",
           "21978-21987",
           "4_2b 3"
          ],
          [
           "4_2b",
           "Banana",
           "21987-22014",
           "4_2b 3"
          ],
          [
           "4_2b",
           "Banana",
           "22014-22020",
           "4_2b 3"
          ],
          [
           "5_1c",
           "1+",
           "7703-7721",
           "5_1c 2"
          ],
          [
           "5_1c",
           "1+",
           "7991-8027",
           "5_1c 2"
          ],
          [
           "5_1c",
           "Apple",
           "20627-20672",
           "5_1c 5"
          ],
          [
           "6_2c",
           "Apple",
           "16842-16893",
           "6_2c 2"
          ],
          [
           "6_2c",
           "Apple",
           "16893-16895",
           "6_2c 2"
          ],
          [
           "6_2c",
           "Apple",
           "18049-18070",
           "6_2c 2"
          ],
          [
           "6_2c",
           "NA+",
           "18477-18495",
           "6_2c 2"
          ],
          [
           "7_1a",
           "2+",
           "15741-15814",
           "7_1a 1"
          ],
          [
           "7_1a",
           "Knife",
           "25630-25668",
           "7_1a 1"
          ],
          [
           "7_1a",
           "Knife",
           "25668-25684",
           "7_1a 1"
          ],
          [
           "7_1a",
           "Apple",
           "27004-27018",
           "7_1a 1"
          ],
          [
           "7_1a",
           "Apple",
           "27018-27056",
           "7_1a 1"
          ],
          [
           "7_1a",
           "Apple",
           "27792-27837",
           "7_1a 1"
          ],
          [
           "7_1a",
           "Apple",
           "29629-29655",
           "7_1a 2"
          ],
          [
           "7_1a",
           "Apple",
           "29655-29673",
           "7_1a 2"
          ],
          [
           "7_1a",
           "Apple",
           "29673-29674",
           "7_1a 2"
          ],
          [
           "7_1a",
           "Apple",
           "31697-31733",
           "7_1a 2"
          ],
          [
           "7_1a",
           "Apple",
           "39480-39516",
           "7_1a 3"
          ],
          [
           "7_1a",
           "2+",
           "40089-40134",
           "7_1a 3"
          ],
          [
           "7_1a",
           "None",
           "52460-52470",
           "7_1a 5"
          ],
          [
           "7_1a",
           "None",
           "52470-52497",
           "7_1a 5"
          ],
          [
           "7_1a",
           "None",
           "52830-52875",
           "7_1a 5"
          ],
          [
           "7_1a",
           "None",
           "52875-52883",
           "7_1a 5"
          ],
          [
           "7_1a",
           "Apple",
           "53520-53538",
           "7_1a 5"
          ],
          [
           "8_2a",
           "Apple",
           "7603-7605",
           "8_2a 1"
          ],
          [
           "8_2a",
           "Apple",
           "7605-7623",
           "8_2a 1"
          ],
          [
           "8_2a",
           "Apple",
           "7623-7633",
           "8_2a 1"
          ],
          [
           "8_2a",
           "Banana",
           "12715-12750",
           "8_2a 2"
          ],
          [
           "8_2a",
           "1+",
           "13010-13032",
           "8_2a 2"
          ],
          [
           "8_2a",
           "None",
           "35509-35532",
           "8_2a 5"
          ],
          [
           "8_2a",
           "1-",
           "35532-35534",
           "8_2a 5"
          ],
          [
           "9_1b",
           "1+",
           "5916-5942",
           "9_1b 1"
          ],
          [
           "9_1b",
           "Banana",
           "13215-13239",
           "9_1b 2"
          ],
          [
           "9_1b",
           "Banana",
           "13239-13275",
           "9_1b 2"
          ],
          [
           "9_1b",
           "Banana",
           "13275-13293",
           "9_1b 2"
          ],
          [
           "9_1b",
           "Banana",
           "13293-13329",
           "9_1b 2"
          ],
          [
           "9_1b",
           "Bowl",
           "13329-13356",
           "9_1b 2"
          ],
          [
           "9_1b",
           "Bowl",
           "13356-13540",
           "9_1b 2"
          ],
          [
           "10_2b",
           "2-",
           "25115-25155",
           "10_2b 1"
          ],
          [
           "10_2b",
           "2-",
           "25155-25160",
           "10_2b 1"
          ],
          [
           "11_1c",
           "Apple",
           "23194-23229",
           "11_1c 2"
          ],
          [
           "11_1c",
           "Apple",
           "23229-23248",
           "11_1c 2"
          ],
          [
           "11_1c",
           "Banana",
           "27003-27030",
           "11_1c 3"
          ],
          [
           "12_2c",
           "Bear",
           "23327-23381",
           "12_2c 1"
          ],
          [
           "12_2c",
           "Apple",
           "25701-25713",
           "12_2c 1"
          ],
          [
           "12_2c",
           "Apple",
           "25713-25746",
           "12_2c 1"
          ],
          [
           "13_1a",
           "1+",
           "1286-1325",
           "13_1a 1"
          ],
          [
           "13_1a",
           "Apple",
           "1486-1503",
           "13_1a 1"
          ],
          [
           "13_1a",
           "Apple",
           "1503-1530",
           "13_1a 1"
          ],
          [
           "13_1a",
           "Apple",
           "1530-1531",
           "13_1a 1"
          ],
          [
           "14_2a",
           "Banana",
           "12201-12228",
           "14_2a 1"
          ],
          [
           "14_2a",
           "1+",
           "12658-12703",
           "14_2a 1"
          ],
          [
           "14_2a",
           "Apple",
           "17682-17685",
           "14_2a 2"
          ],
          [
           "14_2a",
           "Apple",
           "17685-17736",
           "14_2a 2"
          ],
          [
           "14_2a",
           "None",
           "38922-38949",
           "14_2a 5"
          ],
          [
           "14_2a",
           "Apple",
           "45651-45693",
           "14_2a 6"
          ],
          [
           "14_2a",
           "Apple",
           "45693-45696",
           "14_2a 6"
          ],
          [
           "15_1b",
           "Apple",
           "15532-15541",
           "15_1b 2"
          ],
          [
           "15_1b",
           "Bear",
           "17754-17757",
           "15_1b 2"
          ],
          [
           "15_1b",
           "Bear",
           "17757-17766",
           "15_1b 2"
          ],
          [
           "15_1b",
           "Bear",
           "17766-17793",
           "15_1b 2"
          ],
          [
           "15_1b",
           "Bear",
           "17793-17799",
           "15_1b 2"
          ],
          [
           "16_2b",
           "Apple",
           "9496-9523",
           "16_2b 1"
          ],
          [
           "16_2b",
           "Cup",
           "12536-12537",
           "16_2b 2"
          ],
          [
           "16_2b",
           "Cup",
           "12537-12540",
           "16_2b 2"
          ],
          [
           "16_2b",
           "Apple",
           "14482-14504",
           "16_2b 3"
          ],
          [
           "17_1c",
           "1+",
           "8233-8287",
           "17_1c 1"
          ],
          [
           "17_1c",
           "Cup",
           "12793-12861",
           "17_1c 2"
          ],
          [
           "17_1c",
           "Cup",
           "12861-12883",
           "17_1c 2"
          ],
          [
           "17_1c",
           "Banana",
           "23002-23004",
           "17_1c 3"
          ],
          [
           "17_1c",
           "Banana",
           "23004-23040",
           "17_1c 3"
          ],
          [
           "17_1c",
           "Banana",
           "23040-23049",
           "17_1c 3"
          ],
          [
           "17_1c",
           "Banana",
           "23049-23076",
           "17_1c 3"
          ],
          [
           "17_1c",
           "Banana",
           "23076-23085",
           "17_1c 3"
          ],
          [
           "17_1c",
           "Banana",
           "23085-23101",
           "17_1c 3"
          ],
          [
           "18_2c",
           "Apple",
           "1683-1700",
           "18_2c 1"
          ],
          [
           "18_2c",
           "Apple",
           "10690-10728",
           "18_2c 2"
          ],
          [
           "18_2c",
           "Apple",
           "10728-10735",
           "18_2c 2"
          ],
          [
           "18_2c",
           "Banana",
           "18242-18261",
           "18_2c 3"
          ],
          [
           "18_2c",
           "Banana",
           "18261-18265",
           "18_2c 3"
          ]
         ],
         "hoverlabel": {
          "namelength": 0
         },
         "hovertemplate": "lemma=apple<br>x=%{x}<br>y=%{y}<br>participant=%{customdata[0]}<br>top=%{customdata[1]}<br>step=%{customdata[2]}<br>pt=%{customdata[3]}",
         "legendgroup": "apple",
         "marker": {
          "color": "#479B55",
          "symbol": "circle"
         },
         "mode": "markers",
         "name": "apple",
         "showlegend": true,
         "type": "scatter",
         "x": [
          15.790186882019043,
          15.485613822937012,
          -16.835063934326172,
          13.471046447753906,
          16.48795509338379,
          14.378167152404785,
          -18.72553062438965,
          -18.304000854492188,
          -18.163745880126953,
          13.459589958190918,
          10.546951293945312,
          9.911149978637695,
          -16.960784912109375,
          -16.936664581298828,
          -17.06299591064453,
          -17.201637268066406,
          -17.31609535217285,
          -25.623682022094727,
          -25.434858322143555,
          12.642450332641602,
          15.799266815185547,
          16.276935577392578,
          14.368927001953125,
          10.892719268798828,
          8.374048233032227,
          -57.459632873535156,
          -57.00288391113281,
          9.878600120544434,
          9.434934616088867,
          8.857782363891602,
          15.597044944763184,
          15.074569702148438,
          15.074549674987793,
          15.275552749633789,
          19.734798431396484,
          -11.560730934143066,
          19.842716217041016,
          20.51342010498047,
          17.22382926940918,
          17.22351837158203,
          16.074138641357422,
          13.37845230102539,
          13.648612022399902,
          14.09323787689209,
          -15.558810234069824,
          -37.66331100463867,
          20.181005477905273,
          20.191865921020508,
          -15.680161476135254,
          -16.699604034423828,
          -16.7966365814209,
          -16.76783561706543,
          -16.649559020996094,
          -12.561128616333008,
          -12.549090385437012,
          22.978450775146484,
          22.978363037109375,
          17.33568572998047,
          16.809337615966797,
          -19.748632431030273,
          44.951171875,
          10.78659725189209,
          10.972461700439453,
          14.06747055053711,
          14.178350448608398,
          13.17106819152832,
          12.369146347045898,
          -21.1756649017334,
          -13.958182334899902,
          14.600597381591797,
          13.808355331420898,
          21.35515022277832,
          15.515772819519043,
          15.398550033569336,
          14.777257919311523,
          47.78133010864258,
          48.483821868896484,
          49.05262756347656,
          49.068756103515625,
          14.099218368530273,
          -43.35306167602539,
          -42.57916259765625,
          16.15256118774414,
          -13.911381721496582,
          -42.43594741821289,
          -42.50382995605469,
          -23.12784767150879,
          -23.43946075439453,
          -23.049856185913086,
          -23.374624252319336,
          -24.167856216430664,
          -23.984453201293945,
          13.47297191619873,
          15.748733520507812,
          15.901936531066895,
          -21.234758377075195,
          -20.550655364990234
         ],
         "xaxis": "x",
         "y": [
          -46.207916259765625,
          -47.30463409423828,
          -36.46126174926758,
          -41.17028045654297,
          -45.79362106323242,
          -46.192420959472656,
          -30.317678451538086,
          -30.483762741088867,
          -30.46417236328125,
          -52.65571212768555,
          -44.3040885925293,
          -44.10514450073242,
          -39.85162353515625,
          -40.47133255004883,
          -41.033931732177734,
          -41.69887161254883,
          -42.346832275390625,
          24.525344848632812,
          24.772878646850586,
          -51.290157318115234,
          -49.34416580200195,
          -49.71889114379883,
          -42.28455352783203,
          4.900087356567383,
          -45.8585205078125,
          10.970938682556152,
          10.988377571105957,
          -48.610633850097656,
          -47.668514251708984,
          -46.68852615356445,
          -49.96555709838867,
          -51.052703857421875,
          -51.05274963378906,
          -46.005130767822266,
          -44.36358642578125,
          -5.585549354553223,
          14.7509765625,
          14.485437393188477,
          -5.388391017913818,
          -5.388076305389404,
          -48.207130432128906,
          -42.581180572509766,
          -42.72698211669922,
          -42.95579528808594,
          -38.30832290649414,
          -12.847755432128906,
          -11.550094604492188,
          -11.61095142364502,
          -9.028802871704102,
          -25.12482452392578,
          -24.181184768676758,
          -23.192672729492188,
          -22.749868392944336,
          -12.430154800415039,
          -11.808341026306152,
          15.932241439819336,
          15.932263374328613,
          -47.193119049072266,
          -47.885498046875,
          -25.849319458007812,
          16.19975471496582,
          -42.74153137207031,
          -42.79576110839844,
          -52.63431167602539,
          -44.995758056640625,
          -45.04545974731445,
          -45.06903076171875,
          -26.398759841918945,
          -36.00735855102539,
          -47.22990417480469,
          -45.98843765258789,
          -8.379725456237793,
          -45.85906219482422,
          -45.42863845825195,
          -52.41276550292969,
          13.778473854064941,
          13.738356590270996,
          13.638740539550781,
          13.385284423828125,
          -50.96470260620117,
          -11.318557739257812,
          -11.228462219238281,
          -43.531578063964844,
          -35.246490478515625,
          -12.064765930175781,
          -11.505677223205566,
          -37.72507858276367,
          -36.814239501953125,
          -37.44619369506836,
          -36.93508529663086,
          -36.29187774658203,
          -36.030887603759766,
          -41.213722229003906,
          -42.07845687866211,
          -42.131961822509766,
          -26.412174224853516,
          -25.831771850585938
         ],
         "yaxis": "y"
        },
        {
         "customdata": [
          [
           "1_1a",
           "Spoon",
           "30749-30794",
           "1_1a 3"
          ],
          [
           "1_1a",
           "Fork",
           "47006-47007",
           "1_1a 5"
          ],
          [
           "1_1a",
           "Fork",
           "47007-47016",
           "1_1a 5"
          ],
          [
           "1_1a",
           "Fork",
           "47016-47024",
           "1_1a 5"
          ],
          [
           "2_2a",
           "Knife",
           "6788-6795",
           "2_2a 1"
          ],
          [
           "2_2a",
           "Knife",
           "6795-6797",
           "2_2a 1"
          ],
          [
           "2_2a",
           "Bowl",
           "14696-14697",
           "2_2a 3"
          ],
          [
           "2_2a",
           "Bowl",
           "14697-14714",
           "2_2a 3"
          ],
          [
           "2_2a",
           "Knife",
           "16513-16533",
           "2_2a 3"
          ],
          [
           "2_2a",
           "Knife",
           "16533-16536",
           "2_2a 3"
          ],
          [
           "2_2a",
           "Knife",
           "16671-16684",
           "2_2a 3"
          ],
          [
           "4_2b",
           "Knife",
           "17076-17099",
           "4_2b 2"
          ],
          [
           "6_2c",
           "None",
           "9876-9882",
           "6_2c 1"
          ],
          [
           "6_2c",
           "None",
           "9882-9900",
           "6_2c 1"
          ],
          [
           "6_2c",
           "None",
           "9900-9903",
           "6_2c 1"
          ],
          [
           "6_2c",
           "None",
           "10366-10393",
           "6_2c 1"
          ],
          [
           "6_2c",
           "Apple",
           "17126-17127",
           "6_2c 2"
          ],
          [
           "6_2c",
           "Apple",
           "17127-17144",
           "6_2c 2"
          ],
          [
           "6_2c",
           "Apple",
           "17408-17435",
           "6_2c 2"
          ],
          [
           "6_2c",
           "Apple",
           "17760-17773",
           "6_2c 2"
          ],
          [
           "6_2c",
           "Knife",
           "22338-22354",
           "6_2c 3"
          ],
          [
           "6_2c",
           "Spoon",
           "47099-47115",
           "6_2c 6"
          ],
          [
           "6_2c",
           "Spoon",
           "47115-47144",
           "6_2c 6"
          ],
          [
           "7_1a",
           "Cup",
           "25837-25848",
           "7_1a 1"
          ],
          [
           "7_1a",
           "Cup",
           "25848-25872",
           "7_1a 1"
          ],
          [
           "10_2b",
           "None",
           "27171-27189",
           "10_2b 1"
          ],
          [
           "10_2b",
           "None",
           "27189-27216",
           "10_2b 1"
          ],
          [
           "10_2b",
           "Knife",
           "37965-38019",
           "10_2b 3"
          ],
          [
           "10_2b",
           "Knife",
           "42381-42426",
           "10_2b 3"
          ],
          [
           "12_2c",
           "Knife",
           "37480-37507",
           "12_2c 3"
          ],
          [
           "12_2c",
           "Knife",
           "57428-57429",
           "12_2c 6"
          ],
          [
           "12_2c",
           "Knife",
           "57429-57462",
           "12_2c 6"
          ],
          [
           "12_2c",
           "Knife",
           "57651-57654",
           "12_2c 6"
          ],
          [
           "12_2c",
           "Knife",
           "57654-57687",
           "12_2c 6"
          ],
          [
           "16_2b",
           "Knife",
           "11964-11970",
           "16_2b 2"
          ],
          [
           "16_2b",
           "Knife",
           "11970-11979",
           "16_2b 2"
          ],
          [
           "16_2b",
           "Knife",
           "11979-11999",
           "16_2b 2"
          ],
          [
           "16_2b",
           "Banana",
           "13874-13878",
           "16_2b 2"
          ],
          [
           "16_2b",
           "Banana",
           "13878-13888",
           "16_2b 2"
          ],
          [
           "17_1c",
           "1+",
           "6731-6767",
           "17_1c 1"
          ],
          [
           "17_1c",
           "None",
           "8566-8657",
           "17_1c 1"
          ],
          [
           "17_1c",
           "Knife",
           "25467-25494",
           "17_1c 3"
          ],
          [
           "18_2c",
           "None",
           "43221-43255",
           "18_2c 6"
          ]
         ],
         "hoverlabel": {
          "namelength": 0
         },
         "hovertemplate": "lemma=knife<br>x=%{x}<br>y=%{y}<br>participant=%{customdata[0]}<br>top=%{customdata[1]}<br>step=%{customdata[2]}<br>pt=%{customdata[3]}",
         "legendgroup": "knife",
         "marker": {
          "color": "#EEA6FB",
          "symbol": "circle"
         },
         "mode": "markers",
         "name": "knife",
         "showlegend": true,
         "type": "scatter",
         "x": [
          -25.388652801513672,
          -7.206398010253906,
          -7.760995388031006,
          -8.309127807617188,
          -54.82704544067383,
          -55.036861419677734,
          -13.806902885437012,
          -13.564986228942871,
          -55.60692596435547,
          -55.64185333251953,
          -56.68882369995117,
          -58.43183517456055,
          21.08910369873047,
          21.567445755004883,
          22.488216400146484,
          14.534791946411133,
          15.3049898147583,
          15.304967880249023,
          15.71090030670166,
          16.090608596801758,
          -58.36144256591797,
          -25.5948429107666,
          -25.42948341369629,
          -38.054710388183594,
          -37.971771240234375,
          17.92469024658203,
          17.823543548583984,
          -59.60374450683594,
          -58.50460433959961,
          -57.78007888793945,
          -60.878299713134766,
          -60.77644729614258,
          -55.91300964355469,
          -55.9273796081543,
          -58.572959899902344,
          -58.89069366455078,
          -59.28738784790039,
          -21.088708877563477,
          -22.057174682617188,
          -61.34592819213867,
          22.517654418945312,
          -57.78025817871094,
          19.820796966552734
         ],
         "xaxis": "x",
         "y": [
          17.841060638427734,
          22.144489288330078,
          21.914932250976562,
          21.89564323425293,
          9.543618202209473,
          9.574345588684082,
          -7.341583251953125,
          -7.516321659088135,
          9.728557586669922,
          9.998194694519043,
          12.844664573669434,
          10.393059730529785,
          1.1750065088272095,
          1.6508959531784058,
          2.3327667713165283,
          12.414595603942871,
          -49.15885543823242,
          -49.15839385986328,
          -51.277774810791016,
          -43.68861770629883,
          5.91660737991333,
          19.179563522338867,
          18.602264404296875,
          -6.856743812561035,
          -6.878708839416504,
          -9.747113227844238,
          -9.822093963623047,
          11.625138282775879,
          11.529759407043457,
          12.05456256866455,
          9.558894157409668,
          9.098567962646484,
          7.87774133682251,
          7.832910060882568,
          9.254339218139648,
          8.638364791870117,
          8.565309524536133,
          -35.26018142700195,
          -35.71919631958008,
          10.968616485595703,
          16.132577896118164,
          12.054646492004395,
          7.120280742645264
         ],
         "yaxis": "y"
        },
        {
         "customdata": [
          [
           "1_1a",
           "Bear",
           "35803-35830",
           "1_1a 4"
          ],
          [
           "1_1a",
           "None",
           "54841-54846",
           "1_1a 6"
          ],
          [
           "1_1a",
           "3-",
           "54846-54886",
           "1_1a 6"
          ],
          [
           "2_2a",
           "None",
           "18977-18981",
           "2_2a 4"
          ],
          [
           "2_2a",
           "None",
           "18981-18999",
           "2_2a 4"
          ],
          [
           "2_2a",
           "6+",
           "18999-19002",
           "2_2a 4"
          ],
          [
           "3_1b",
           "Bear",
           "3691-3718",
           "3_1b 1"
          ],
          [
           "3_1b",
           "7+",
           "30566-30584",
           "3_1b 4"
          ],
          [
           "4_2b",
           "8+",
           "22708-22778",
           "4_2b 3"
          ],
          [
           "4_2b",
           "None",
           "28561-28569",
           "4_2b 3"
          ],
          [
           "4_2b",
           "7+",
           "48365-48369",
           "4_2b 6"
          ],
          [
           "4_2b",
           "2+",
           "50122-50140",
           "4_2b 6"
          ],
          [
           "5_1c",
           "None",
           "22085-22121",
           "5_1c 5"
          ],
          [
           "5_1c",
           "Ball",
           "26164-26208",
           "5_1c 6"
          ],
          [
           "6_2c",
           "Toy",
           "27881-27882",
           "6_2c 4"
          ],
          [
           "6_2c",
           "Toy",
           "27882-27891",
           "6_2c 4"
          ],
          [
           "6_2c",
           "Toy",
           "27891-27909",
           "6_2c 4"
          ],
          [
           "6_2c",
           "Toy",
           "27909-27954",
           "6_2c 4"
          ],
          [
           "6_2c",
           "Toy",
           "27954-27963",
           "6_2c 4"
          ],
          [
           "6_2c",
           "Toy",
           "27963-27981",
           "6_2c 4"
          ],
          [
           "6_2c",
           "None",
           "29576-29603",
           "6_2c 4"
          ],
          [
           "6_2c",
           "Toy",
           "31810-31815",
           "6_2c 4"
          ],
          [
           "6_2c",
           "Toy",
           "31815-31824",
           "6_2c 4"
          ],
          [
           "6_2c",
           "Toy",
           "31824-31833",
           "6_2c 4"
          ],
          [
           "6_2c",
           "Toy",
           "31833-31842",
           "6_2c 4"
          ],
          [
           "6_2c",
           "Toy",
           "31842-31860",
           "6_2c 4"
          ],
          [
           "6_2c",
           "Toy",
           "31860-31869",
           "6_2c 4"
          ],
          [
           "6_2c",
           "Toy",
           "31869-31873",
           "6_2c 4"
          ],
          [
           "6_2c",
           "None",
           "36458-36504",
           "6_2c 5"
          ],
          [
           "6_2c",
           "None",
           "36504-36516",
           "6_2c 5"
          ],
          [
           "6_2c",
           "None",
           "39473-39483",
           "6_2c 6"
          ],
          [
           "6_2c",
           "None",
           "39483-39494",
           "6_2c 6"
          ],
          [
           "6_2c",
           "None",
           "41251-41274",
           "6_2c 6"
          ],
          [
           "6_2c",
           "None",
           "41274-41310",
           "6_2c 6"
          ],
          [
           "6_2c",
           "None",
           "41310-41328",
           "6_2c 6"
          ],
          [
           "6_2c",
           "None",
           "41328-41344",
           "6_2c 6"
          ],
          [
           "6_2c",
           "6+",
           "42393-42428",
           "6_2c 6"
          ],
          [
           "7_1a",
           "Book",
           "42516-42525",
           "7_1a 4"
          ],
          [
           "7_1a",
           "Book",
           "42525-42534",
           "7_1a 4"
          ],
          [
           "7_1a",
           "Book",
           "42534-42543",
           "7_1a 4"
          ],
          [
           "7_1a",
           "7-",
           "42543-42560",
           "7_1a 4"
          ],
          [
           "7_1a",
           "None",
           "62752-62788",
           "7_1a 6"
          ],
          [
           "8_2a",
           "None",
           "40923-40975",
           "8_2a 6"
          ],
          [
           "8_2a",
           "Ball",
           "43584-43627",
           "8_2a 6"
          ],
          [
           "9_1b",
           "Bowl",
           "4800-4806",
           "9_1b 1"
          ],
          [
           "9_1b",
           "Bowl",
           "4806-4851",
           "9_1b 1"
          ],
          [
           "9_1b",
           "Bowl",
           "4851-4854",
           "9_1b 1"
          ],
          [
           "9_1b",
           "2-",
           "35791-35800",
           "9_1b 6"
          ],
          [
           "10_2b",
           "1+",
           "44171-44180",
           "10_2b 4"
          ],
          [
           "10_2b",
           "None",
           "66379-66393",
           "10_2b 6"
          ],
          [
           "10_2b",
           "9+",
           "66393-66396",
           "10_2b 6"
          ],
          [
           "11_1c",
           "None",
           "31314-31329",
           "11_1c 4"
          ],
          [
           "11_1c",
           "None",
           "31329-31341",
           "11_1c 4"
          ],
          [
           "11_1c",
           "Doll",
           "37668-37683",
           "11_1c 4"
          ],
          [
           "11_1c",
           "Doll",
           "37683-37749",
           "11_1c 4"
          ],
          [
           "11_1c",
           "Ball",
           "51049-51094",
           "11_1c 6"
          ],
          [
           "12_2c",
           "Dinosaur",
           "53196-53205",
           "12_2c 6"
          ],
          [
           "13_1a",
           "Doll",
           "32678-32679",
           "13_1a 5"
          ],
          [
           "13_1a",
           "Doll",
           "32679-32688",
           "13_1a 5"
          ],
          [
           "13_1a",
           "Doll",
           "32688-32704",
           "13_1a 5"
          ],
          [
           "13_1a",
           "None",
           "38402-38438",
           "13_1a 6"
          ],
          [
           "14_2a",
           "1+",
           "12982-13000",
           "14_2a 1"
          ],
          [
           "14_2a",
           "None",
           "29939-29948",
           "14_2a 4"
          ],
          [
           "14_2a",
           "Toy",
           "35646-35667",
           "14_2a 4"
          ],
          [
           "14_2a",
           "Toy",
           "35667-35685",
           "14_2a 4"
          ],
          [
           "14_2a",
           "Toy",
           "35685-35691",
           "14_2a 4"
          ],
          [
           "14_2a",
           "Bear",
           "42319-42346",
           "14_2a 5"
          ],
          [
           "14_2a",
           "Bear",
           "46167-46188",
           "14_2a 6"
          ],
          [
           "14_2a",
           "Bear",
           "46188-46194",
           "14_2a 6"
          ],
          [
           "15_1b",
           "2-",
           "6791-6819",
           "15_1b 1"
          ],
          [
           "16_2b",
           "None",
           "26588-26595",
           "16_2b 5"
          ],
          [
           "16_2b",
           "None",
           "26595-26604",
           "16_2b 5"
          ],
          [
           "16_2b",
           "None",
           "26604-26620",
           "16_2b 5"
          ],
          [
           "17_1c",
           "None",
           "29519-29554",
           "17_1c 4"
          ],
          [
           "17_1c",
           "None",
           "49988-50033",
           "17_1c 6"
          ],
          [
           "18_2c",
           "None",
           "20052-20078",
           "18_2c 4"
          ],
          [
           "18_2c",
           "Bear",
           "38996-39006",
           "18_2c 6"
          ],
          [
           "18_2c",
           "Bear",
           "39006-39032",
           "18_2c 6"
          ]
         ],
         "hoverlabel": {
          "namelength": 0
         },
         "hovertemplate": "lemma=toy<br>x=%{x}<br>y=%{y}<br>participant=%{customdata[0]}<br>top=%{customdata[1]}<br>step=%{customdata[2]}<br>pt=%{customdata[3]}",
         "legendgroup": "toy",
         "marker": {
          "color": "#DC587D",
          "symbol": "circle"
         },
         "mode": "markers",
         "name": "toy",
         "showlegend": true,
         "type": "scatter",
         "x": [
          44.25394821166992,
          14.876806259155273,
          14.901359558105469,
          14.622832298278809,
          14.643635749816895,
          14.660897254943848,
          45.54925537109375,
          53.047000885009766,
          50.28435516357422,
          20.90802574157715,
          -2.739636182785034,
          39.70830535888672,
          11.121064186096191,
          18.395984649658203,
          -0.3096340596675873,
          -0.6640105247497559,
          -0.6761062741279602,
          -1.2273986339569092,
          -1.7897828817367554,
          -1.992682695388794,
          24.424591064453125,
          -4.044801712036133,
          -4.565202713012695,
          -4.510265827178955,
          -4.2474446296691895,
          -3.603191375732422,
          -3.5390284061431885,
          -3.8233766555786133,
          21.51006507873535,
          21.58101463317871,
          23.51007652282715,
          23.497352600097656,
          15.497465133666992,
          15.501188278198242,
          15.530240058898926,
          15.599403381347656,
          -1.2607648372650146,
          37.980133056640625,
          38.13465881347656,
          38.311851501464844,
          38.452659606933594,
          21.08762550354004,
          21.809856414794922,
          13.175620079040527,
          -12.500301361083984,
          -12.723867416381836,
          -13.232000350952148,
          23.048749923706055,
          -13.014056205749512,
          12.826210021972656,
          12.783766746520996,
          15.479645729064941,
          15.546422958374023,
          3.5704410076141357,
          3.611025333404541,
          18.236583709716797,
          -3.185317039489746,
          3.2980661392211914,
          3.2734711170196533,
          3.4292731285095215,
          18.024412155151367,
          13.601402282714844,
          20.92346954345703,
          -2.9097838401794434,
          -3.8275954723358154,
          -3.5947093963623047,
          44.96054458618164,
          46.402488708496094,
          46.41151809692383,
          22.528644561767578,
          19.023412704467773,
          18.986759185791016,
          18.713687896728516,
          15.977688789367676,
          21.936655044555664,
          23.260440826416016,
          49.12491226196289,
          49.103729248046875
         ],
         "xaxis": "x",
         "y": [
          17.029787063598633,
          20.59609603881836,
          20.6999568939209,
          14.796010971069336,
          16.112031936645508,
          16.51737403869629,
          19.929574966430664,
          12.679774284362793,
          19.20994758605957,
          -6.9818267822265625,
          3.1407477855682373,
          -15.501470565795898,
          0.21665242314338684,
          28.187101364135742,
          43.765594482421875,
          43.27873611450195,
          43.126094818115234,
          42.94377517700195,
          42.61716079711914,
          42.71760177612305,
          4.013482093811035,
          44.07167053222656,
          43.77969741821289,
          44.38724136352539,
          43.63904571533203,
          43.90311050415039,
          44.57396697998047,
          44.87995529174805,
          -3.4079267978668213,
          -3.034762382507324,
          4.618586540222168,
          4.618053436279297,
          3.335237503051758,
          3.538351535797119,
          4.184043884277344,
          4.349664211273193,
          4.7383131980896,
          -11.748412132263184,
          -11.89050006866455,
          -12.050715446472168,
          -12.177021026611328,
          -7.693373203277588,
          13.530097961425781,
          31.127666473388672,
          -9.024422645568848,
          -8.975163459777832,
          -8.878918647766113,
          12.955293655395508,
          -36.790889739990234,
          -4.304532527923584,
          -4.259056568145752,
          9.184860229492188,
          9.315868377685547,
          -20.138225555419922,
          -20.165719985961914,
          29.14379119873047,
          3.8276960849761963,
          -21.266931533813477,
          -21.13604736328125,
          -20.98885154724121,
          -6.764001846313477,
          -52.15208435058594,
          12.19443130493164,
          43.2330207824707,
          42.66237258911133,
          43.17130661010742,
          15.814393043518066,
          16.012496948242188,
          15.501155853271484,
          12.992701530456543,
          0.013543286360800266,
          0.33327001333236694,
          0.24276866018772125,
          13.918155670166016,
          12.311964988708496,
          10.068612098693848,
          18.197546005249023,
          18.183101654052734
         ],
         "yaxis": "y"
        },
        {
         "customdata": [
          [
           "1_1a",
           "Ball",
           "55101-55146",
           "1_1a 6"
          ],
          [
           "2_2a",
           "6-",
           "5066-5101",
           "2_2a 1"
          ],
          [
           "4_2b",
           "Banana",
           "8087-8091",
           "4_2b 1"
          ],
          [
           "4_2b",
           "Banana",
           "8091-8100",
           "4_2b 1"
          ],
          [
           "4_2b",
           "Banana",
           "8100-8110",
           "4_2b 1"
          ],
          [
           "4_2b",
           "Apple",
           "13959-13977",
           "4_2b 2"
          ],
          [
           "4_2b",
           "Apple",
           "13977-13981",
           "4_2b 2"
          ],
          [
           "4_2b",
           "None",
           "22489-22509",
           "4_2b 3"
          ],
          [
           "4_2b",
           "None",
           "22509-22518",
           "4_2b 3"
          ],
          [
           "4_2b",
           "None",
           "22518-22527",
           "4_2b 3"
          ],
          [
           "4_2b",
           "None",
           "22527-22534",
           "4_2b 3"
          ],
          [
           "4_2b",
           "Dinosaur",
           "48643-48661",
           "4_2b 6"
          ],
          [
           "4_2b",
           "Book",
           "50176-50189",
           "4_2b 6"
          ],
          [
           "4_2b",
           "Book",
           "50813-50823",
           "4_2b 6"
          ],
          [
           "4_2b",
           "Book",
           "50823-50827",
           "4_2b 6"
          ],
          [
           "5_1c",
           "None",
           "4994-5012",
           "5_1c 1"
          ],
          [
           "5_1c",
           "None",
           "29297-29313",
           "5_1c 6"
          ],
          [
           "5_1c",
           "None",
           "29313-29322",
           "5_1c 6"
          ],
          [
           "5_1c",
           "None",
           "29322-29333",
           "5_1c 6"
          ],
          [
           "6_2c",
           "None",
           "26387-26388",
           "6_2c 4"
          ],
          [
           "6_2c",
           "None",
           "26388-26397",
           "6_2c 4"
          ],
          [
           "6_2c",
           "None",
           "26397-26401",
           "6_2c 4"
          ],
          [
           "18_2c",
           "Bear",
           "1148-1152",
           "18_2c 1"
          ],
          [
           "18_2c",
           "Bear",
           "1152-1175",
           "18_2c 1"
          ]
         ],
         "hoverlabel": {
          "namelength": 0
         },
         "hovertemplate": "lemma=chair<br>x=%{x}<br>y=%{y}<br>participant=%{customdata[0]}<br>top=%{customdata[1]}<br>step=%{customdata[2]}<br>pt=%{customdata[3]}",
         "legendgroup": "chair",
         "marker": {
          "color": "#D626FF",
          "symbol": "circle"
         },
         "mode": "markers",
         "name": "chair",
         "showlegend": true,
         "type": "scatter",
         "x": [
          16.54073715209961,
          13.68532657623291,
          -22.647319793701172,
          -23.00461769104004,
          -23.17439842224121,
          17.179914474487305,
          17.18150520324707,
          13.032941818237305,
          13.193188667297363,
          14.30542278289795,
          14.652936935424805,
          -2.7263290882110596,
          43.79107666015625,
          43.0340461730957,
          43.056583404541016,
          24.787294387817383,
          18.793888092041016,
          18.543397903442383,
          18.333484649658203,
          21.756608963012695,
          21.569612503051758,
          21.239089965820312,
          52.65167236328125,
          52.629608154296875
         ],
         "xaxis": "x",
         "y": [
          30.694860458374023,
          13.607117652893066,
          -35.025360107421875,
          -34.22660827636719,
          -34.02470016479492,
          -40.20719909667969,
          -40.19710159301758,
          -0.23301632702350616,
          -0.21024960279464722,
          -0.7225350141525269,
          -0.7934483885765076,
          3.2050657272338867,
          -18.222518920898438,
          -17.04398536682129,
          -17.220584869384766,
          4.080460071563721,
          1.9010655879974365,
          2.161513566970825,
          2.64316725730896,
          -0.6278219223022461,
          -0.2925430238246918,
          0.05183732882142067,
          13.05735969543457,
          13.082873344421387
         ],
         "yaxis": "y"
        },
        {
         "customdata": [
          [
           "2_2a",
           "Cup",
           "9515-9536",
           "2_2a 1"
          ],
          [
           "2_2a",
           "Cup",
           "9876-9891",
           "2_2a 1"
          ],
          [
           "2_2a",
           "Cup",
           "9891-9958",
           "2_2a 1"
          ],
          [
           "2_2a",
           "1+",
           "15060-15074",
           "2_2a 3"
          ],
          [
           "3_1b",
           "None",
           "35831-35849",
           "3_1b 5"
          ],
          [
           "4_2b",
           "4+",
           "21020-21024",
           "4_2b 3"
          ],
          [
           "4_2b",
           "4+",
           "21024-21042",
           "4_2b 3"
          ],
          [
           "4_2b",
           "Cup",
           "21042-21069",
           "4_2b 3"
          ],
          [
           "4_2b",
           "Cup",
           "21069-21078",
           "4_2b 3"
          ],
          [
           "4_2b",
           "Cup",
           "21078-21085",
           "4_2b 3"
          ],
          [
           "4_2b",
           "Cup",
           "24385-24435",
           "4_2b 3"
          ],
          [
           "4_2b",
           "Cup",
           "24435-24453",
           "4_2b 3"
          ],
          [
           "4_2b",
           "Cup",
           "24453-24480",
           "4_2b 3"
          ],
          [
           "4_2b",
           "Cup",
           "24480-24489",
           "4_2b 3"
          ],
          [
           "4_2b",
           "Spoon",
           "25615-25633",
           "4_2b 3"
          ],
          [
           "4_2b",
           "Fork",
           "26940-26967",
           "4_2b 3"
          ],
          [
           "4_2b",
           "Fork",
           "27509-27536",
           "4_2b 3"
          ],
          [
           "4_2b",
           "9+",
           "41881-41895",
           "4_2b 5"
          ],
          [
           "4_2b",
           "9+",
           "41895-41940",
           "4_2b 5"
          ],
          [
           "4_2b",
           "Fork",
           "41940-41961",
           "4_2b 5"
          ],
          [
           "4_2b",
           "Cup",
           "45169-45171",
           "4_2b 5"
          ],
          [
           "4_2b",
           "Cup",
           "45171-45187",
           "4_2b 5"
          ],
          [
           "4_2b",
           "Bear",
           "47948-47952",
           "4_2b 5"
          ],
          [
           "4_2b",
           "Bear",
           "47952-47961",
           "4_2b 5"
          ],
          [
           "4_2b",
           "Spoon",
           "52467-52470",
           "4_2b 6"
          ],
          [
           "4_2b",
           "Cup",
           "52470-52479",
           "4_2b 6"
          ],
          [
           "4_2b",
           "Cup",
           "52479-52481",
           "4_2b 6"
          ],
          [
           "5_1c",
           "1+",
           "10500-10545",
           "5_1c 3"
          ],
          [
           "8_2a",
           "Cup",
           "9489-9503",
           "8_2a 1"
          ],
          [
           "8_2a",
           "Bowl",
           "25456-25470",
           "8_2a 3"
          ],
          [
           "8_2a",
           "None",
           "38373-38407",
           "8_2a 5"
          ],
          [
           "10_2b",
           "None",
           "23730-23775",
           "10_2b 1"
          ],
          [
           "10_2b",
           "None",
           "24288-24315",
           "10_2b 1"
          ],
          [
           "10_2b",
           "Cup",
           "37138-37143",
           "10_2b 3"
          ],
          [
           "10_2b",
           "Cup",
           "37143-37156",
           "10_2b 3"
          ],
          [
           "10_2b",
           "Cup",
           "40446-40482",
           "10_2b 3"
          ],
          [
           "10_2b",
           "Cup",
           "67627-67635",
           "10_2b 6"
          ],
          [
           "10_2b",
           "Cup",
           "67635-67654",
           "10_2b 6"
          ],
          [
           "10_2b",
           "Banana",
           "68793-68805",
           "10_2b 6"
          ],
          [
           "10_2b",
           "Banana",
           "68805-68819",
           "10_2b 6"
          ],
          [
           "11_1c",
           "2+",
           "19207-19252",
           "11_1c 1"
          ],
          [
           "11_1c",
           "Cup",
           "25454-25470",
           "11_1c 2"
          ],
          [
           "11_1c",
           "Cup",
           "25470-25481",
           "11_1c 2"
          ],
          [
           "11_1c",
           "Fork",
           "29315-29322",
           "11_1c 3"
          ],
          [
           "11_1c",
           "Fork",
           "29322-29342",
           "11_1c 3"
          ],
          [
           "12_2c",
           "Cup",
           "27440-27458",
           "12_2c 1"
          ],
          [
           "12_2c",
           "Cup",
           "32136-32139",
           "12_2c 2"
          ],
          [
           "12_2c",
           "Cup",
           "32139-32163",
           "12_2c 2"
          ],
          [
           "12_2c",
           "Cup",
           "32685-32712",
           "12_2c 2"
          ],
          [
           "13_1a",
           "Cup",
           "37757-37772",
           "13_1a 6"
          ],
          [
           "14_2a",
           "Cup",
           "14980-15016",
           "14_2a 1"
          ],
          [
           "14_2a",
           "Cup",
           "15635-15651",
           "14_2a 1"
          ],
          [
           "14_2a",
           "Cup",
           "15651-15653",
           "14_2a 1"
          ],
          [
           "14_2a",
           "1+",
           "18608-18635",
           "14_2a 2"
          ],
          [
           "14_2a",
           "Cup",
           "26962-27007",
           "14_2a 3"
          ],
          [
           "14_2a",
           "None",
           "40397-40442",
           "14_2a 5"
          ],
          [
           "14_2a",
           "Cup",
           "49630-49663",
           "14_2a 6"
          ],
          [
           "16_2b",
           "Cup",
           "8129-8138",
           "16_2b 1"
          ],
          [
           "17_1c",
           "Cup",
           "9899-9900",
           "17_1c 1"
          ],
          [
           "17_1c",
           "Cup",
           "9900-9927",
           "17_1c 1"
          ],
          [
           "17_1c",
           "Cup",
           "9927-9962",
           "17_1c 1"
          ],
          [
           "18_2c",
           "None",
           "3500-3510",
           "18_2c 1"
          ],
          [
           "18_2c",
           "None",
           "3510-3519",
           "18_2c 1"
          ],
          [
           "18_2c",
           "None",
           "3519-3527",
           "18_2c 1"
          ]
         ],
         "hoverlabel": {
          "namelength": 0
         },
         "hovertemplate": "lemma=cup<br>x=%{x}<br>y=%{y}<br>participant=%{customdata[0]}<br>top=%{customdata[1]}<br>step=%{customdata[2]}<br>pt=%{customdata[3]}",
         "legendgroup": "cup",
         "marker": {
          "color": "#6E899C",
          "symbol": "circle"
         },
         "mode": "markers",
         "name": "cup",
         "showlegend": true,
         "type": "scatter",
         "x": [
          -38.34189224243164,
          -34.48489761352539,
          -35.058624267578125,
          -37.658180236816406,
          22.09585952758789,
          -30.9583740234375,
          -31.265560150146484,
          -31.775867462158203,
          -32.75982666015625,
          -33.71605682373047,
          -39.51774597167969,
          -40.217830657958984,
          -41.1113166809082,
          -41.80971908569336,
          -34.649600982666016,
          -10.773582458496094,
          -7.784273624420166,
          40.86689376831055,
          40.7223014831543,
          40.5838737487793,
          -44.853939056396484,
          -44.37456512451172,
          47.205387115478516,
          47.373291015625,
          -27.33047866821289,
          -27.532873153686523,
          -27.77640151977539,
          -37.82315444946289,
          -33.91596603393555,
          -13.491559028625488,
          13.697877883911133,
          19.320589065551758,
          12.686091423034668,
          -35.640663146972656,
          -35.640663146972656,
          -41.63095474243164,
          -38.74114227294922,
          -38.65066909790039,
          -10.996123313903809,
          -10.948739051818848,
          -37.34858322143555,
          -40.757240295410156,
          -41.87442398071289,
          -7.43814754486084,
          -7.100895881652832,
          -37.429988861083984,
          -42.92147445678711,
          -43.74351119995117,
          -44.174560546875,
          -39.63936996459961,
          -37.754676818847656,
          -34.537269592285156,
          -35.0003662109375,
          -15.6802396774292,
          -37.05978012084961,
          19.54769515991211,
          -37.47047805786133,
          -34.67270278930664,
          -42.186439514160156,
          -42.27241134643555,
          -42.26947021484375,
          22.76369857788086,
          22.553682327270508,
          22.985721588134766
         ],
         "xaxis": "x",
         "y": [
          -4.880248546600342,
          -7.027368545532227,
          -6.769444942474365,
          -12.85520076751709,
          13.994994163513184,
          -10.7356538772583,
          -10.635946273803711,
          -10.478447914123535,
          -10.230830192565918,
          -10.000463485717773,
          -13.264290809631348,
          -13.238226890563965,
          -13.878314971923828,
          -13.856221199035645,
          23.80363655090332,
          21.57744789123535,
          22.571001052856445,
          20.303529739379883,
          20.367534637451172,
          20.418596267700195,
          -10.30040168762207,
          -10.190374374389648,
          16.477825164794922,
          16.655847549438477,
          13.516613006591797,
          13.209118843078613,
          13.146978378295898,
          -13.171431541442871,
          -7.030237197875977,
          -9.196638107299805,
          12.793702125549316,
          -6.911474704742432,
          -0.17905239760875702,
          -9.362062454223633,
          -9.362064361572266,
          -12.532143592834473,
          -10.083802223205566,
          -9.747228622436523,
          -26.80900764465332,
          -26.780338287353516,
          -4.603384494781494,
          -11.804747581481934,
          -11.727545738220215,
          20.599336624145508,
          20.38327407836914,
          -6.142075061798096,
          -12.307373046875,
          -11.891007423400879,
          -10.755102157592773,
          -6.775829792022705,
          -11.75518798828125,
          -7.1891913414001465,
          -7.5688982009887695,
          -9.028838157653809,
          -12.161091804504395,
          14.671710014343262,
          -11.13466739654541,
          -4.342353820800781,
          -9.360318183898926,
          -8.860980987548828,
          -8.803041458129883,
          9.582629203796387,
          10.54554557800293,
          10.632478713989258
         ],
         "yaxis": "y"
        },
        {
         "customdata": [
          [
           "2_2a",
           "2+",
           "38097-38123",
           "2_2a 6"
          ],
          [
           "3_1b",
           "Bear",
           "32257-32283",
           "3_1b 5"
          ],
          [
           "3_1b",
           "Bear",
           "32283-32293",
           "3_1b 5"
          ],
          [
           "3_1b",
           "1+",
           "40864-40898",
           "3_1b 6"
          ],
          [
           "4_2b",
           "Bear",
           "38112-38124",
           "4_2b 5"
          ],
          [
           "4_2b",
           "Bear",
           "38124-38131",
           "4_2b 5"
          ],
          [
           "4_2b",
           "Cup",
           "43637-43673",
           "4_2b 5"
          ],
          [
           "4_2b",
           "1+",
           "45412-45438",
           "4_2b 5"
          ],
          [
           "4_2b",
           "Ball",
           "51497-51534",
           "4_2b 6"
          ],
          [
           "4_2b",
           "Ball",
           "51534-51537",
           "4_2b 6"
          ],
          [
           "4_2b",
           "6-",
           "54052-54070",
           "4_2b 6"
          ],
          [
           "6_2c",
           "None",
           "35400-35433",
           "6_2c 5"
          ],
          [
           "6_2c",
           "None",
           "35433-35436",
           "6_2c 5"
          ],
          [
           "6_2c",
           "Toy",
           "41042-41067",
           "6_2c 6"
          ],
          [
           "7_1a",
           "Bowl",
           "22287-22320",
           "7_1a 1"
          ],
          [
           "7_1a",
           "Bowl",
           "22320-22347",
           "7_1a 1"
          ],
          [
           "7_1a",
           "Bowl",
           "22347-22349",
           "7_1a 1"
          ],
          [
           "7_1a",
           "None",
           "64217-64251",
           "7_1a 6"
          ],
          [
           "7_1a",
           "None",
           "64251-64253",
           "7_1a 6"
          ],
          [
           "10_2b",
           "Toy",
           "49131-49176",
           "10_2b 4"
          ],
          [
           "11_1c",
           "Bear",
           "42809-42813",
           "11_1c 5"
          ],
          [
           "11_1c",
           "Bear",
           "42813-42853",
           "11_1c 5"
          ],
          [
           "11_1c",
           "Plant",
           "45333-45387",
           "11_1c 5"
          ],
          [
           "11_1c",
           "Plant",
           "45387-45396",
           "11_1c 5"
          ],
          [
           "11_1c",
           "Plant",
           "45396-45405",
           "11_1c 5"
          ],
          [
           "11_1c",
           "Plant",
           "45405-45423",
           "11_1c 5"
          ],
          [
           "11_1c",
           "Plant",
           "45423-45432",
           "11_1c 5"
          ],
          [
           "11_1c",
           "Plant",
           "45432-45442",
           "11_1c 5"
          ],
          [
           "11_1c",
           "Plant",
           "46616-46638",
           "11_1c 6"
          ],
          [
           "11_1c",
           "Plant",
           "46638-46652",
           "11_1c 6"
          ],
          [
           "12_2c",
           "Toy",
           "50735-50787",
           "12_2c 5"
          ],
          [
           "12_2c",
           "Toy",
           "50787-50798",
           "12_2c 5"
          ],
          [
           "13_1a",
           "Plant",
           "31071-31133",
           "13_1a 5"
          ],
          [
           "14_2a",
           "Dinosaur",
           "37411-37422",
           "14_2a 4"
          ],
          [
           "14_2a",
           "Dinosaur",
           "37422-37447",
           "14_2a 4"
          ],
          [
           "15_1b",
           "Plant",
           "39949-39969",
           "15_1b 6"
          ],
          [
           "15_1b",
           "Plant",
           "39969-39985",
           "15_1b 6"
          ],
          [
           "16_2b",
           "None",
           "26728-26901",
           "16_2b 5"
          ],
          [
           "16_2b",
           "None",
           "26901-26926",
           "16_2b 5"
          ],
          [
           "18_2c",
           "None",
           "44494-44521",
           "18_2c 6"
          ]
         ],
         "hoverlabel": {
          "namelength": 0
         },
         "hovertemplate": "lemma=plant<br>x=%{x}<br>y=%{y}<br>participant=%{customdata[0]}<br>top=%{customdata[1]}<br>step=%{customdata[2]}<br>pt=%{customdata[3]}",
         "legendgroup": "plant",
         "marker": {
          "color": "#00B5F7",
          "symbol": "circle"
         },
         "mode": "markers",
         "name": "plant",
         "showlegend": true,
         "type": "scatter",
         "x": [
          -4.535600185394287,
          47.91622543334961,
          47.91120147705078,
          -16.423742294311523,
          49.90178680419922,
          49.90796661376953,
          -42.06662368774414,
          -27.45611000061035,
          14.577065467834473,
          14.610054016113281,
          13.68532657623291,
          19.80897331237793,
          20.165876388549805,
          -0.061445824801921844,
          -11.123971939086914,
          -11.46723461151123,
          -11.5795259475708,
          26.973054885864258,
          26.839614868164062,
          -0.40035176277160645,
          50.60045623779297,
          50.6533088684082,
          -15.522440910339355,
          -15.41128921508789,
          -15.225662231445312,
          -14.849231719970703,
          -14.44308853149414,
          -14.13989543914795,
          -13.480822563171387,
          -13.575939178466797,
          -1.6834843158721924,
          -1.6241087913513184,
          -15.356710433959961,
          -1.9968549013137817,
          -1.6779931783676147,
          -15.746637344360352,
          -15.737690925598145,
          21.160980224609375,
          21.029478073120117,
          18.244808197021484
         ],
         "xaxis": "x",
         "y": [
          4.019032001495361,
          14.754055976867676,
          14.603670120239258,
          7.646618843078613,
          17.54108238220215,
          17.441102981567383,
          -11.091765403747559,
          24.589754104614258,
          30.91164779663086,
          30.84419822692871,
          13.607117652893066,
          -4.8855791091918945,
          -4.117179870605469,
          46.72993469238281,
          -10.832574844360352,
          -11.180819511413574,
          -11.476034164428711,
          3.2290942668914795,
          3.32726788520813,
          44.33138656616211,
          16.272722244262695,
          16.364843368530273,
          7.480933666229248,
          7.490074157714844,
          7.632180213928223,
          7.645547866821289,
          7.594520568847656,
          7.4377217292785645,
          7.743557453155518,
          7.710931777954102,
          39.543582916259766,
          39.366241455078125,
          8.665515899658203,
          5.898797512054443,
          5.804506301879883,
          8.523072242736816,
          8.559834480285645,
          -6.342223644256592,
          -5.795278549194336,
          12.555109024047852
         ],
         "yaxis": "y"
        },
        {
         "customdata": [
          [
           "3_1b",
           "Bear",
           "28485-28494",
           "3_1b 4"
          ],
          [
           "3_1b",
           "Bear",
           "28494-28521",
           "3_1b 4"
          ],
          [
           "5_1c",
           "Toy",
           "15410-15453",
           "5_1c 4"
          ],
          [
           "5_1c",
           "Toy",
           "15453-15455",
           "5_1c 4"
          ],
          [
           "5_1c",
           "Bear",
           "17193-17208",
           "5_1c 4"
          ],
          [
           "5_1c",
           "Bear",
           "17208-17217",
           "5_1c 4"
          ],
          [
           "5_1c",
           "Bear",
           "17217-17220",
           "5_1c 4"
          ],
          [
           "5_1c",
           "Doll",
           "17958-17976",
           "5_1c 4"
          ],
          [
           "5_1c",
           "Bear",
           "18760-18787",
           "5_1c 4"
          ],
          [
           "7_1a",
           "Bear",
           "51882-51972",
           "7_1a 4"
          ],
          [
           "7_1a",
           "Bear",
           "66022-66024",
           "7_1a 6"
          ],
          [
           "7_1a",
           "Bear",
           "66024-66050",
           "7_1a 6"
          ],
          [
           "9_1b",
           "Bear",
           "25724-25769",
           "9_1b 4"
          ],
          [
           "9_1b",
           "Bear",
           "29089-29115",
           "9_1b 4"
          ],
          [
           "9_1b",
           "Bear",
           "29115-29134",
           "9_1b 4"
          ],
          [
           "9_1b",
           "Ball",
           "30116-30159",
           "9_1b 4"
          ],
          [
           "9_1b",
           "Ball",
           "30159-30161",
           "9_1b 4"
          ],
          [
           "9_1b",
           "Bear",
           "36710-36746",
           "9_1b 6"
          ],
          [
           "11_1c",
           "Bear",
           "31810-31815",
           "11_1c 4"
          ],
          [
           "11_1c",
           "Bear",
           "31815-31833",
           "11_1c 4"
          ],
          [
           "11_1c",
           "Bear",
           "31833-31845",
           "11_1c 4"
          ],
          [
           "11_1c",
           "None",
           "42162-42165",
           "11_1c 5"
          ],
          [
           "11_1c",
           "5-",
           "42165-42210",
           "11_1c 5"
          ],
          [
           "11_1c",
           "Bear",
           "42210-42219",
           "11_1c 5"
          ],
          [
           "11_1c",
           "Bear",
           "42219-42246",
           "11_1c 5"
          ],
          [
           "11_1c",
           "Bear",
           "42246-42255",
           "11_1c 5"
          ],
          [
           "11_1c",
           "Bear",
           "42255-42273",
           "11_1c 5"
          ],
          [
           "11_1c",
           "Bear",
           "42273-42288",
           "11_1c 5"
          ],
          [
           "13_1a",
           "Bear",
           "22383-22419",
           "13_1a 4"
          ],
          [
           "13_1a",
           "Bear",
           "23409-23436",
           "13_1a 4"
          ],
          [
           "13_1a",
           "Toy",
           "25681-25708",
           "13_1a 4"
          ],
          [
           "15_1b",
           "Bear",
           "29731-29736",
           "15_1b 4"
          ],
          [
           "15_1b",
           "Bear",
           "29736-29754",
           "15_1b 4"
          ],
          [
           "15_1b",
           "Bear",
           "29754-29758",
           "15_1b 4"
          ],
          [
           "18_2c",
           "Bear",
           "39257-39285",
           "18_2c 6"
          ],
          [
           "18_2c",
           "Bear",
           "39285-39303",
           "18_2c 6"
          ],
          [
           "18_2c",
           "Bear",
           "39303-39329",
           "18_2c 6"
          ]
         ],
         "hoverlabel": {
          "namelength": 0
         },
         "hovertemplate": "lemma=bear<br>x=%{x}<br>y=%{y}<br>participant=%{customdata[0]}<br>top=%{customdata[1]}<br>step=%{customdata[2]}<br>pt=%{customdata[3]}",
         "legendgroup": "bear",
         "marker": {
          "color": "#B68E00",
          "symbol": "circle"
         },
         "mode": "markers",
         "name": "bear",
         "showlegend": true,
         "type": "scatter",
         "x": [
          45.85841751098633,
          46.34843826293945,
          -2.50888729095459,
          -3.1473000049591064,
          48.87648010253906,
          48.923675537109375,
          48.939849853515625,
          2.1216585636138916,
          49.78170394897461,
          49.66525650024414,
          51.37067413330078,
          51.400634765625,
          44.42434310913086,
          51.79041290283203,
          51.67116928100586,
          18.41276741027832,
          18.398313522338867,
          46.54637145996094,
          51.65864944458008,
          51.113059997558594,
          50.58070755004883,
          44.3366813659668,
          44.63001251220703,
          45.348716735839844,
          46.3144645690918,
          47.31106948852539,
          47.7807502746582,
          48.01462936401367,
          45.163368225097656,
          44.15497970581055,
          -3.402550458908081,
          46.41965103149414,
          47.614742279052734,
          47.96485900878906,
          50.95736312866211,
          51.224056243896484,
          51.35337448120117
         ],
         "xaxis": "x",
         "y": [
          14.161581993103027,
          13.93269157409668,
          43.90727233886719,
          43.30387878417969,
          14.974452018737793,
          15.631719589233398,
          15.68410587310791,
          -19.427501678466797,
          13.487874984741211,
          13.321189880371094,
          11.090919494628906,
          10.976841926574707,
          18.417531967163086,
          14.227593421936035,
          14.347698211669922,
          27.38180160522461,
          27.25604248046875,
          14.92960262298584,
          15.316558837890625,
          15.129852294921875,
          14.851140022277832,
          11.126056671142578,
          11.349960327148438,
          11.781896591186523,
          12.279486656188965,
          12.732880592346191,
          12.255940437316895,
          12.06218147277832,
          19.58970069885254,
          17.6646728515625,
          41.83040237426758,
          17.213211059570312,
          17.636629104614258,
          17.88397216796875,
          18.545122146606445,
          18.25657081604004,
          17.996051788330078
         ],
         "yaxis": "y"
        },
        {
         "customdata": [
          [
           "3_1b",
           "Doll",
           "29321-29322",
           "3_1b 4"
          ],
          [
           "3_1b",
           "Doll",
           "29322-29331",
           "3_1b 4"
          ],
          [
           "3_1b",
           "Doll",
           "29331-29366",
           "3_1b 4"
          ],
          [
           "5_1c",
           "5+",
           "23300-23337",
           "5_1c 5"
          ],
          [
           "6_2c",
           "Dinosaur",
           "32758-32769",
           "6_2c 4"
          ],
          [
           "6_2c",
           "Dinosaur",
           "32769-32805",
           "6_2c 4"
          ],
          [
           "6_2c",
           "Dinosaur",
           "32805-32850",
           "6_2c 4"
          ],
          [
           "6_2c",
           "Dinosaur",
           "32850-32872",
           "6_2c 4"
          ],
          [
           "6_2c",
           "Toy",
           "39969-39978",
           "6_2c 6"
          ],
          [
           "6_2c",
           "Toy",
           "39978-39991",
           "6_2c 6"
          ],
          [
           "6_2c",
           "Toy",
           "40872-40896",
           "6_2c 6"
          ],
          [
           "6_2c",
           "Toy",
           "40896-40899",
           "6_2c 6"
          ],
          [
           "7_1a",
           "2-",
           "49683-49698",
           "7_1a 4"
          ],
          [
           "7_1a",
           "1+",
           "49698-49710",
           "7_1a 4"
          ],
          [
           "9_1b",
           "Doll",
           "35172-35199",
           "9_1b 5"
          ],
          [
           "9_1b",
           "Doll",
           "36025-36027",
           "9_1b 6"
          ],
          [
           "9_1b",
           "Doll",
           "36027-36052",
           "9_1b 6"
          ],
          [
           "9_1b",
           "None",
           "37214-37250",
           "9_1b 6"
          ],
          [
           "11_1c",
           "Doll",
           "38100-38118",
           "11_1c 4"
          ],
          [
           "11_1c",
           "None",
           "50123-50139",
           "11_1c 6"
          ],
          [
           "11_1c",
           "7-",
           "50139-50150",
           "11_1c 6"
          ],
          [
           "13_1a",
           "Doll",
           "32500-32508",
           "13_1a 5"
          ],
          [
           "13_1a",
           "Doll",
           "32508-32554",
           "13_1a 5"
          ],
          [
           "13_1a",
           "Doll",
           "41356-41401",
           "13_1a 6"
          ]
         ],
         "hoverlabel": {
          "namelength": 0
         },
         "hovertemplate": "lemma=doll<br>x=%{x}<br>y=%{y}<br>participant=%{customdata[0]}<br>top=%{customdata[1]}<br>step=%{customdata[2]}<br>pt=%{customdata[3]}",
         "legendgroup": "doll",
         "marker": {
          "color": "#C9FBE5",
          "symbol": "circle"
         },
         "mode": "markers",
         "name": "doll",
         "showlegend": true,
         "type": "scatter",
         "x": [
          4.783310413360596,
          5.002695083618164,
          4.81644344329834,
          17.501157760620117,
          -3.2221951484680176,
          -3.03821063041687,
          -2.807690382003784,
          -2.6168673038482666,
          -2.326765298843384,
          -2.4623117446899414,
          -1.4030741453170776,
          -1.3711345195770264,
          19.251209259033203,
          19.087738037109375,
          3.9506568908691406,
          2.989140510559082,
          2.8334438800811768,
          14.557287216186523,
          2.600210428237915,
          9.181463241577148,
          9.124313354492188,
          3.5207080841064453,
          3.6411068439483643,
          3.922924280166626
         ],
         "xaxis": "x",
         "y": [
          -19.30462646484375,
          -19.304847717285156,
          -19.35536766052246,
          -39.319175720214844,
          7.093736171722412,
          6.8764729499816895,
          6.6162590980529785,
          6.419736385345459,
          47.505733489990234,
          47.639244079589844,
          44.285133361816406,
          44.341617584228516,
          19.166362762451172,
          19.4222412109375,
          -17.16813087463379,
          -19.04353141784668,
          -18.693639755249023,
          13.176523208618164,
          -19.722557067871094,
          -0.5674580335617065,
          -0.6152865290641785,
          -18.193660736083984,
          -17.787134170532227,
          -17.17858123779297
         ],
         "yaxis": "y"
        },
        {
         "customdata": [
          [
           "4_2b",
           "2+",
           "50086-50108",
           "4_2b 6"
          ],
          [
           "6_2c",
           "Toy",
           "40340-40383",
           "6_2c 6"
          ],
          [
           "6_2c",
           "Toy",
           "40383-40384",
           "6_2c 6"
          ],
          [
           "6_2c",
           "7-",
           "46232-46251",
           "6_2c 6"
          ],
          [
           "8_2a",
           "Toy",
           "41046-41098",
           "8_2a 6"
          ],
          [
           "11_1c",
           "Toy",
           "49882-49905",
           "11_1c 6"
          ],
          [
           "11_1c",
           "Toy",
           "49905-49909",
           "11_1c 6"
          ],
          [
           "13_1a",
           "1+",
           "39289-39294",
           "13_1a 6"
          ],
          [
           "13_1a",
           "1+",
           "39294-39303",
           "13_1a 6"
          ],
          [
           "13_1a",
           "None",
           "39303-39306",
           "13_1a 6"
          ],
          [
           "13_1a",
           "Toy",
           "40745-40762",
           "13_1a 6"
          ],
          [
           "13_1a",
           "Doll",
           "41634-41661",
           "13_1a 6"
          ],
          [
           "13_1a",
           "Ball",
           "42327-42345",
           "13_1a 6"
          ],
          [
           "16_2b",
           "Dinosaur",
           "32050-32086",
           "16_2b 6"
          ],
          [
           "17_1c",
           "None",
           "53218-53245",
           "17_1c 6"
          ],
          [
           "18_2c",
           "None",
           "39616-39643",
           "18_2c 6"
          ]
         ],
         "hoverlabel": {
          "namelength": 0
         },
         "hovertemplate": "lemma=clock<br>x=%{x}<br>y=%{y}<br>participant=%{customdata[0]}<br>top=%{customdata[1]}<br>step=%{customdata[2]}<br>pt=%{customdata[3]}",
         "legendgroup": "clock",
         "marker": {
          "color": "#FF0092",
          "symbol": "circle"
         },
         "mode": "markers",
         "name": "clock",
         "showlegend": true,
         "type": "scatter",
         "x": [
          39.716758728027344,
          0.2110293060541153,
          0.15722206234931946,
          12.410269737243652,
          -0.05499904975295067,
          -2.903719425201416,
          -2.7397313117980957,
          42.9234733581543,
          41.71309280395508,
          41.349327087402344,
          -0.8694189190864563,
          2.750373601913452,
          14.185941696166992,
          -4.377967834472656,
          11.44552993774414,
          25.862714767456055
         ],
         "xaxis": "x",
         "y": [
          -15.520017623901367,
          45.24666213989258,
          46.03373336791992,
          1.401152491569519,
          47.161827087402344,
          45.906776428222656,
          45.41842269897461,
          16.271650314331055,
          15.950400352478027,
          15.872191429138184,
          47.564449310302734,
          -17.77938461303711,
          23.28045654296875,
          3.997398614883423,
          1.7227081060409546,
          4.656642436981201
         ],
         "yaxis": "y"
        },
        {
         "customdata": [
          [
           "7_1a",
           "Doll",
           "47500-47527",
           "7_1a 4"
          ],
          [
           "18_2c",
           "Book",
           "43426-43443",
           "18_2c 6"
          ],
          [
           "18_2c",
           "Book",
           "43443-43452",
           "18_2c 6"
          ],
          [
           "18_2c",
           "Book",
           "43452-43453",
           "18_2c 6"
          ]
         ],
         "hoverlabel": {
          "namelength": 0
         },
         "hovertemplate": "lemma=door<br>x=%{x}<br>y=%{y}<br>participant=%{customdata[0]}<br>top=%{customdata[1]}<br>step=%{customdata[2]}<br>pt=%{customdata[3]}",
         "legendgroup": "door",
         "marker": {
          "color": "#22FFA7",
          "symbol": "circle"
         },
         "mode": "markers",
         "name": "door",
         "showlegend": true,
         "type": "scatter",
         "x": [
          2.1799285411834717,
          45.28263854980469,
          44.286949157714844,
          43.73837661743164
         ],
         "xaxis": "x",
         "y": [
          -19.837770462036133,
          -13.955968856811523,
          -14.209815979003906,
          -14.525017738342285
         ],
         "yaxis": "y"
        },
        {
         "customdata": [
          [
           "10_2b",
           "Dinosaur",
           "67140-67158",
           "10_2b 6"
          ]
         ],
         "hoverlabel": {
          "namelength": 0
         },
         "hovertemplate": "lemma=window<br>x=%{x}<br>y=%{y}<br>participant=%{customdata[0]}<br>top=%{customdata[1]}<br>step=%{customdata[2]}<br>pt=%{customdata[3]}",
         "legendgroup": "window",
         "marker": {
          "color": "#E3EE9E",
          "symbol": "circle"
         },
         "mode": "markers",
         "name": "window",
         "showlegend": true,
         "type": "scatter",
         "x": [
          -2.5163350105285645
         ],
         "xaxis": "x",
         "y": [
          5.8773417472839355
         ],
         "yaxis": "y"
        }
       ],
       "layout": {
        "legend": {
         "title": {
          "text": "lemma"
         },
         "tracegroupgap": 0
        },
        "margin": {
         "t": 60
        },
        "template": {
         "data": {
          "bar": [
           {
            "error_x": {
             "color": "#2a3f5f"
            },
            "error_y": {
             "color": "#2a3f5f"
            },
            "marker": {
             "line": {
              "color": "#E5ECF6",
              "width": 0.5
             }
            },
            "type": "bar"
           }
          ],
          "barpolar": [
           {
            "marker": {
             "line": {
              "color": "#E5ECF6",
              "width": 0.5
             }
            },
            "type": "barpolar"
           }
          ],
          "carpet": [
           {
            "aaxis": {
             "endlinecolor": "#2a3f5f",
             "gridcolor": "white",
             "linecolor": "white",
             "minorgridcolor": "white",
             "startlinecolor": "#2a3f5f"
            },
            "baxis": {
             "endlinecolor": "#2a3f5f",
             "gridcolor": "white",
             "linecolor": "white",
             "minorgridcolor": "white",
             "startlinecolor": "#2a3f5f"
            },
            "type": "carpet"
           }
          ],
          "choropleth": [
           {
            "colorbar": {
             "outlinewidth": 0,
             "ticks": ""
            },
            "type": "choropleth"
           }
          ],
          "contour": [
           {
            "colorbar": {
             "outlinewidth": 0,
             "ticks": ""
            },
            "colorscale": [
             [
              0,
              "#0d0887"
             ],
             [
              0.1111111111111111,
              "#46039f"
             ],
             [
              0.2222222222222222,
              "#7201a8"
             ],
             [
              0.3333333333333333,
              "#9c179e"
             ],
             [
              0.4444444444444444,
              "#bd3786"
             ],
             [
              0.5555555555555556,
              "#d8576b"
             ],
             [
              0.6666666666666666,
              "#ed7953"
             ],
             [
              0.7777777777777778,
              "#fb9f3a"
             ],
             [
              0.8888888888888888,
              "#fdca26"
             ],
             [
              1,
              "#f0f921"
             ]
            ],
            "type": "contour"
           }
          ],
          "contourcarpet": [
           {
            "colorbar": {
             "outlinewidth": 0,
             "ticks": ""
            },
            "type": "contourcarpet"
           }
          ],
          "heatmap": [
           {
            "colorbar": {
             "outlinewidth": 0,
             "ticks": ""
            },
            "colorscale": [
             [
              0,
              "#0d0887"
             ],
             [
              0.1111111111111111,
              "#46039f"
             ],
             [
              0.2222222222222222,
              "#7201a8"
             ],
             [
              0.3333333333333333,
              "#9c179e"
             ],
             [
              0.4444444444444444,
              "#bd3786"
             ],
             [
              0.5555555555555556,
              "#d8576b"
             ],
             [
              0.6666666666666666,
              "#ed7953"
             ],
             [
              0.7777777777777778,
              "#fb9f3a"
             ],
             [
              0.8888888888888888,
              "#fdca26"
             ],
             [
              1,
              "#f0f921"
             ]
            ],
            "type": "heatmap"
           }
          ],
          "heatmapgl": [
           {
            "colorbar": {
             "outlinewidth": 0,
             "ticks": ""
            },
            "colorscale": [
             [
              0,
              "#0d0887"
             ],
             [
              0.1111111111111111,
              "#46039f"
             ],
             [
              0.2222222222222222,
              "#7201a8"
             ],
             [
              0.3333333333333333,
              "#9c179e"
             ],
             [
              0.4444444444444444,
              "#bd3786"
             ],
             [
              0.5555555555555556,
              "#d8576b"
             ],
             [
              0.6666666666666666,
              "#ed7953"
             ],
             [
              0.7777777777777778,
              "#fb9f3a"
             ],
             [
              0.8888888888888888,
              "#fdca26"
             ],
             [
              1,
              "#f0f921"
             ]
            ],
            "type": "heatmapgl"
           }
          ],
          "histogram": [
           {
            "marker": {
             "colorbar": {
              "outlinewidth": 0,
              "ticks": ""
             }
            },
            "type": "histogram"
           }
          ],
          "histogram2d": [
           {
            "colorbar": {
             "outlinewidth": 0,
             "ticks": ""
            },
            "colorscale": [
             [
              0,
              "#0d0887"
             ],
             [
              0.1111111111111111,
              "#46039f"
             ],
             [
              0.2222222222222222,
              "#7201a8"
             ],
             [
              0.3333333333333333,
              "#9c179e"
             ],
             [
              0.4444444444444444,
              "#bd3786"
             ],
             [
              0.5555555555555556,
              "#d8576b"
             ],
             [
              0.6666666666666666,
              "#ed7953"
             ],
             [
              0.7777777777777778,
              "#fb9f3a"
             ],
             [
              0.8888888888888888,
              "#fdca26"
             ],
             [
              1,
              "#f0f921"
             ]
            ],
            "type": "histogram2d"
           }
          ],
          "histogram2dcontour": [
           {
            "colorbar": {
             "outlinewidth": 0,
             "ticks": ""
            },
            "colorscale": [
             [
              0,
              "#0d0887"
             ],
             [
              0.1111111111111111,
              "#46039f"
             ],
             [
              0.2222222222222222,
              "#7201a8"
             ],
             [
              0.3333333333333333,
              "#9c179e"
             ],
             [
              0.4444444444444444,
              "#bd3786"
             ],
             [
              0.5555555555555556,
              "#d8576b"
             ],
             [
              0.6666666666666666,
              "#ed7953"
             ],
             [
              0.7777777777777778,
              "#fb9f3a"
             ],
             [
              0.8888888888888888,
              "#fdca26"
             ],
             [
              1,
              "#f0f921"
             ]
            ],
            "type": "histogram2dcontour"
           }
          ],
          "mesh3d": [
           {
            "colorbar": {
             "outlinewidth": 0,
             "ticks": ""
            },
            "type": "mesh3d"
           }
          ],
          "parcoords": [
           {
            "line": {
             "colorbar": {
              "outlinewidth": 0,
              "ticks": ""
             }
            },
            "type": "parcoords"
           }
          ],
          "pie": [
           {
            "automargin": true,
            "type": "pie"
           }
          ],
          "scatter": [
           {
            "marker": {
             "colorbar": {
              "outlinewidth": 0,
              "ticks": ""
             }
            },
            "type": "scatter"
           }
          ],
          "scatter3d": [
           {
            "line": {
             "colorbar": {
              "outlinewidth": 0,
              "ticks": ""
             }
            },
            "marker": {
             "colorbar": {
              "outlinewidth": 0,
              "ticks": ""
             }
            },
            "type": "scatter3d"
           }
          ],
          "scattercarpet": [
           {
            "marker": {
             "colorbar": {
              "outlinewidth": 0,
              "ticks": ""
             }
            },
            "type": "scattercarpet"
           }
          ],
          "scattergeo": [
           {
            "marker": {
             "colorbar": {
              "outlinewidth": 0,
              "ticks": ""
             }
            },
            "type": "scattergeo"
           }
          ],
          "scattergl": [
           {
            "marker": {
             "colorbar": {
              "outlinewidth": 0,
              "ticks": ""
             }
            },
            "type": "scattergl"
           }
          ],
          "scattermapbox": [
           {
            "marker": {
             "colorbar": {
              "outlinewidth": 0,
              "ticks": ""
             }
            },
            "type": "scattermapbox"
           }
          ],
          "scatterpolar": [
           {
            "marker": {
             "colorbar": {
              "outlinewidth": 0,
              "ticks": ""
             }
            },
            "type": "scatterpolar"
           }
          ],
          "scatterpolargl": [
           {
            "marker": {
             "colorbar": {
              "outlinewidth": 0,
              "ticks": ""
             }
            },
            "type": "scatterpolargl"
           }
          ],
          "scatterternary": [
           {
            "marker": {
             "colorbar": {
              "outlinewidth": 0,
              "ticks": ""
             }
            },
            "type": "scatterternary"
           }
          ],
          "surface": [
           {
            "colorbar": {
             "outlinewidth": 0,
             "ticks": ""
            },
            "colorscale": [
             [
              0,
              "#0d0887"
             ],
             [
              0.1111111111111111,
              "#46039f"
             ],
             [
              0.2222222222222222,
              "#7201a8"
             ],
             [
              0.3333333333333333,
              "#9c179e"
             ],
             [
              0.4444444444444444,
              "#bd3786"
             ],
             [
              0.5555555555555556,
              "#d8576b"
             ],
             [
              0.6666666666666666,
              "#ed7953"
             ],
             [
              0.7777777777777778,
              "#fb9f3a"
             ],
             [
              0.8888888888888888,
              "#fdca26"
             ],
             [
              1,
              "#f0f921"
             ]
            ],
            "type": "surface"
           }
          ],
          "table": [
           {
            "cells": {
             "fill": {
              "color": "#EBF0F8"
             },
             "line": {
              "color": "white"
             }
            },
            "header": {
             "fill": {
              "color": "#C8D4E3"
             },
             "line": {
              "color": "white"
             }
            },
            "type": "table"
           }
          ]
         },
         "layout": {
          "annotationdefaults": {
           "arrowcolor": "#2a3f5f",
           "arrowhead": 0,
           "arrowwidth": 1
          },
          "coloraxis": {
           "colorbar": {
            "outlinewidth": 0,
            "ticks": ""
           }
          },
          "colorscale": {
           "diverging": [
            [
             0,
             "#8e0152"
            ],
            [
             0.1,
             "#c51b7d"
            ],
            [
             0.2,
             "#de77ae"
            ],
            [
             0.3,
             "#f1b6da"
            ],
            [
             0.4,
             "#fde0ef"
            ],
            [
             0.5,
             "#f7f7f7"
            ],
            [
             0.6,
             "#e6f5d0"
            ],
            [
             0.7,
             "#b8e186"
            ],
            [
             0.8,
             "#7fbc41"
            ],
            [
             0.9,
             "#4d9221"
            ],
            [
             1,
             "#276419"
            ]
           ],
           "sequential": [
            [
             0,
             "#0d0887"
            ],
            [
             0.1111111111111111,
             "#46039f"
            ],
            [
             0.2222222222222222,
             "#7201a8"
            ],
            [
             0.3333333333333333,
             "#9c179e"
            ],
            [
             0.4444444444444444,
             "#bd3786"
            ],
            [
             0.5555555555555556,
             "#d8576b"
            ],
            [
             0.6666666666666666,
             "#ed7953"
            ],
            [
             0.7777777777777778,
             "#fb9f3a"
            ],
            [
             0.8888888888888888,
             "#fdca26"
            ],
            [
             1,
             "#f0f921"
            ]
           ],
           "sequentialminus": [
            [
             0,
             "#0d0887"
            ],
            [
             0.1111111111111111,
             "#46039f"
            ],
            [
             0.2222222222222222,
             "#7201a8"
            ],
            [
             0.3333333333333333,
             "#9c179e"
            ],
            [
             0.4444444444444444,
             "#bd3786"
            ],
            [
             0.5555555555555556,
             "#d8576b"
            ],
            [
             0.6666666666666666,
             "#ed7953"
            ],
            [
             0.7777777777777778,
             "#fb9f3a"
            ],
            [
             0.8888888888888888,
             "#fdca26"
            ],
            [
             1,
             "#f0f921"
            ]
           ]
          },
          "colorway": [
           "#636efa",
           "#EF553B",
           "#00cc96",
           "#ab63fa",
           "#FFA15A",
           "#19d3f3",
           "#FF6692",
           "#B6E880",
           "#FF97FF",
           "#FECB52"
          ],
          "font": {
           "color": "#2a3f5f"
          },
          "geo": {
           "bgcolor": "white",
           "lakecolor": "white",
           "landcolor": "#E5ECF6",
           "showlakes": true,
           "showland": true,
           "subunitcolor": "white"
          },
          "hoverlabel": {
           "align": "left"
          },
          "hovermode": "closest",
          "mapbox": {
           "style": "light"
          },
          "paper_bgcolor": "white",
          "plot_bgcolor": "#E5ECF6",
          "polar": {
           "angularaxis": {
            "gridcolor": "white",
            "linecolor": "white",
            "ticks": ""
           },
           "bgcolor": "#E5ECF6",
           "radialaxis": {
            "gridcolor": "white",
            "linecolor": "white",
            "ticks": ""
           }
          },
          "scene": {
           "xaxis": {
            "backgroundcolor": "#E5ECF6",
            "gridcolor": "white",
            "gridwidth": 2,
            "linecolor": "white",
            "showbackground": true,
            "ticks": "",
            "zerolinecolor": "white"
           },
           "yaxis": {
            "backgroundcolor": "#E5ECF6",
            "gridcolor": "white",
            "gridwidth": 2,
            "linecolor": "white",
            "showbackground": true,
            "ticks": "",
            "zerolinecolor": "white"
           },
           "zaxis": {
            "backgroundcolor": "#E5ECF6",
            "gridcolor": "white",
            "gridwidth": 2,
            "linecolor": "white",
            "showbackground": true,
            "ticks": "",
            "zerolinecolor": "white"
           }
          },
          "shapedefaults": {
           "line": {
            "color": "#2a3f5f"
           }
          },
          "ternary": {
           "aaxis": {
            "gridcolor": "white",
            "linecolor": "white",
            "ticks": ""
           },
           "baxis": {
            "gridcolor": "white",
            "linecolor": "white",
            "ticks": ""
           },
           "bgcolor": "#E5ECF6",
           "caxis": {
            "gridcolor": "white",
            "linecolor": "white",
            "ticks": ""
           }
          },
          "title": {
           "x": 0.05
          },
          "xaxis": {
           "automargin": true,
           "gridcolor": "white",
           "linecolor": "white",
           "ticks": "",
           "title": {
            "standoff": 15
           },
           "zerolinecolor": "white",
           "zerolinewidth": 2
          },
          "yaxis": {
           "automargin": true,
           "gridcolor": "white",
           "linecolor": "white",
           "ticks": "",
           "title": {
            "standoff": 15
           },
           "zerolinecolor": "white",
           "zerolinewidth": 2
          }
         }
        },
        "xaxis": {
         "anchor": "y",
         "domain": [
          0,
          1
         ],
         "title": {
          "text": "x"
         }
        },
        "yaxis": {
         "anchor": "x",
         "domain": [
          0,
          1
         ],
         "title": {
          "text": "y"
         }
        }
       }
      },
      "text/html": [
       "<div>\n",
       "        \n",
       "        \n",
       "            <div id=\"38e733b6-df39-4b4d-8788-b8f333ab4459\" class=\"plotly-graph-div\" style=\"height:525px; width:100%;\"></div>\n",
       "            <script type=\"text/javascript\">\n",
       "                require([\"plotly\"], function(Plotly) {\n",
       "                    window.PLOTLYENV=window.PLOTLYENV || {};\n",
       "                    \n",
       "                if (document.getElementById(\"38e733b6-df39-4b4d-8788-b8f333ab4459\")) {\n",
       "                    Plotly.newPlot(\n",
       "                        '38e733b6-df39-4b4d-8788-b8f333ab4459',\n",
       "                        [{\"customdata\": [[\"1_1a\", \"2+\", \"12354-12380\", \"1_1a 1\"], [\"1_1a\", \"Lamp\", \"13472-13490\", \"1_1a 1\"], [\"1_1a\", \"None\", \"14781-14790\", \"1_1a 1\"], [\"1_1a\", \"Book\", \"56278-56287\", \"1_1a 6\"], [\"2_2a\", \"Apple\", \"7621-7623\", \"2_2a 1\"], [\"2_2a\", \"Apple\", \"7623-7630\", \"2_2a 1\"], [\"3_1b\", \"2-\", \"2891-2936\", \"3_1b 1\"], [\"4_2b\", \"None\", \"11372-11376\", \"4_2b 1\"], [\"4_2b\", \"Spoon\", \"19120-19134\", \"4_2b 3\"], [\"4_2b\", \"Spoon\", \"19134-19138\", \"4_2b 3\"], [\"4_2b\", \"Apple\", \"22287-22305\", \"4_2b 3\"], [\"4_2b\", \"None\", \"28952-28988\", \"4_2b 3\"], [\"4_2b\", \"Toy\", \"30333-30352\", \"4_2b 4\"], [\"4_2b\", \"None\", \"40702-40707\", \"4_2b 5\"], [\"4_2b\", \"None\", \"40707-40711\", \"4_2b 5\"], [\"6_2c\", \"None\", \"5312-5356\", \"6_2c 1\"], [\"6_2c\", \"Bowl\", \"6296-6300\", \"6_2c 1\"], [\"6_2c\", \"Bowl\", \"6300-6345\", \"6_2c 1\"], [\"6_2c\", \"Bowl\", \"6345-6358\", \"6_2c 1\"], [\"6_2c\", \"Spoon\", \"7186-7196\", \"6_2c 1\"], [\"6_2c\", \"None\", \"8055-8064\", \"6_2c 1\"], [\"6_2c\", \"None\", \"8064-8065\", \"6_2c 1\"], [\"6_2c\", \"None\", \"8948-8989\", \"6_2c 1\"], [\"6_2c\", \"None\", \"10463-10481\", \"6_2c 1\"], [\"6_2c\", \"None\", \"11529-11555\", \"6_2c 1\"], [\"6_2c\", \"None\", \"13646-13665\", \"6_2c 2\"], [\"6_2c\", \"Cup\", \"15109-15125\", \"6_2c 2\"], [\"6_2c\", \"Apple\", \"16355-16373\", \"6_2c 2\"], [\"6_2c\", \"Apple\", \"17815-17829\", \"6_2c 2\"], [\"6_2c\", \"Apple\", \"17829-17849\", \"6_2c 2\"], [\"6_2c\", \"Cup\", \"20398-20441\", \"6_2c 3\"], [\"6_2c\", \"Knife\", \"22166-22202\", \"6_2c 3\"], [\"6_2c\", \"Spoon\", \"24268-24304\", \"6_2c 3\"], [\"6_2c\", \"Bear\", \"27473-27487\", \"6_2c 4\"], [\"6_2c\", \"3+\", \"29072-29077\", \"6_2c 4\"], [\"6_2c\", \"4+\", \"30913-30933\", \"6_2c 4\"], [\"6_2c\", \"4+\", \"30933-30934\", \"6_2c 4\"], [\"6_2c\", \"None\", \"37346-37382\", \"6_2c 5\"], [\"6_2c\", \"None\", \"41674-41679\", \"6_2c 6\"], [\"6_2c\", \"None\", \"41679-41688\", \"6_2c 6\"], [\"6_2c\", \"None\", \"41688-41697\", \"6_2c 6\"], [\"6_2c\", \"None\", \"41697-41712\", \"6_2c 6\"], [\"6_2c\", \"Dinosaur\", \"41935-41958\", \"6_2c 6\"], [\"6_2c\", \"Dinosaur\", \"41958-41970\", \"6_2c 6\"], [\"7_1a\", \"None\", \"14818-14832\", \"7_1a 1\"], [\"7_1a\", \"None\", \"14832-14836\", \"7_1a 1\"], [\"7_1a\", \"Cup\", \"19927-19953\", \"7_1a 1\"], [\"7_1a\", \"None\", \"28566-28593\", \"7_1a 1\"], [\"7_1a\", \"Doll\", \"46629-46638\", \"7_1a 4\"], [\"7_1a\", \"Doll\", \"46638-46665\", \"7_1a 4\"], [\"7_1a\", \"1+\", \"49728-49773\", \"7_1a 4\"], [\"7_1a\", \"Bear\", \"51199-51210\", \"7_1a 4\"], [\"7_1a\", \"Bear\", \"51210-51217\", \"7_1a 4\"], [\"9_1b\", \"None\", \"4107-4113\", \"9_1b 1\"], [\"9_1b\", \"None\", \"4113-4152\", \"9_1b 1\"], [\"10_2b\", \"None\", \"22894-22896\", \"10_2b 1\"], [\"10_2b\", \"None\", \"22896-22912\", \"10_2b 1\"], [\"10_2b\", \"Book\", \"23532-23550\", \"10_2b 1\"], [\"10_2b\", \"Banana\", \"68470-68515\", \"10_2b 6\"], [\"11_1c\", \"Bowl\", \"15675-15687\", \"11_1c 1\"], [\"11_1c\", \"Bowl\", \"15687-15705\", \"11_1c 1\"], [\"11_1c\", \"Bowl\", \"15705-15729\", \"11_1c 1\"], [\"11_1c\", \"2+\", \"16170-16215\", \"11_1c 1\"], [\"11_1c\", \"Apple\", \"17709-17721\", \"11_1c 1\"], [\"11_1c\", \"Apple\", \"17721-17727\", \"11_1c 1\"], [\"11_1c\", \"Cup\", \"19343-19361\", \"11_1c 1\"], [\"11_1c\", \"Banana\", \"25058-25074\", \"11_1c 2\"], [\"11_1c\", \"Banana\", \"25074-25083\", \"11_1c 2\"], [\"11_1c\", \"Banana\", \"25083-25103\", \"11_1c 2\"], [\"12_2c\", \"Banana\", \"26651-26660\", \"12_2c 1\"], [\"14_2a\", \"None\", \"11346-11382\", \"14_2a 1\"], [\"14_2a\", \"3+\", \"12825-12843\", \"14_2a 1\"], [\"14_2a\", \"Fork\", \"16308-16326\", \"14_2a 1\"], [\"14_2a\", \"Ball\", \"31604-31649\", \"14_2a 4\"], [\"15_1b\", \"None\", \"6575-6597\", \"15_1b 1\"], [\"15_1b\", \"None\", \"6597-6606\", \"15_1b 1\"], [\"15_1b\", \"None\", \"6606-6615\", \"15_1b 1\"], [\"15_1b\", \"None\", \"6615-6629\", \"15_1b 1\"], [\"15_1b\", \"None\", \"10902-10917\", \"15_1b 1\"], [\"15_1b\", \"None\", \"10917-10920\", \"15_1b 1\"], [\"16_2b\", \"None\", \"34077-34086\", \"16_2b 6\"], [\"17_1c\", \"Knife\", \"6380-6443\", \"17_1c 1\"], [\"17_1c\", \"2+\", \"7307-7325\", \"17_1c 1\"], [\"17_1c\", \"Knife\", \"7640-7659\", \"17_1c 1\"], [\"17_1c\", \"Knife\", \"7659-7677\", \"17_1c 1\"], [\"17_1c\", \"Knife\", \"7677-7685\", \"17_1c 1\"], [\"17_1c\", \"Cup\", \"11257-11276\", \"17_1c 1\"], [\"17_1c\", \"Banana\", \"13332-13374\", \"17_1c 2\"], [\"17_1c\", \"3+\", \"13374-13377\", \"17_1c 2\"], [\"17_1c\", \"None\", \"22067-22077\", \"17_1c 3\"], [\"17_1c\", \"8-\", \"22077-22085\", \"17_1c 3\"], [\"17_1c\", \"None\", \"52021-52048\", \"17_1c 6\"], [\"17_1c\", \"Book\", \"53710-53712\", \"17_1c 6\"], [\"17_1c\", \"Book\", \"53712-53728\", \"17_1c 6\"], [\"18_2c\", \"None\", \"222-240\", \"18_2c 1\"], [\"18_2c\", \"Ball\", \"40855-40882\", \"18_2c 6\"], [\"18_2c\", \"1+\", \"43604-43613\", \"18_2c 6\"]], \"hoverlabel\": {\"namelength\": 0}, \"hovertemplate\": \"lemma=table<br>x=%{x}<br>y=%{y}<br>participant=%{customdata[0]}<br>top=%{customdata[1]}<br>step=%{customdata[2]}<br>pt=%{customdata[3]}\", \"legendgroup\": \"table\", \"marker\": {\"color\": \"#FD3216\", \"symbol\": \"circle\"}, \"mode\": \"markers\", \"name\": \"table\", \"showlegend\": true, \"type\": \"scatter\", \"x\": [-22.003114700317383, -23.225540161132812, 20.136260986328125, 46.029457092285156, 9.344269752502441, 9.086465835571289, 22.94951629638672, 16.602397918701172, -33.246803283691406, -33.23857879638672, 18.59125328063965, 14.389348983764648, -3.128970146179199, 18.225406646728516, 18.548046112060547, 24.852622985839844, -8.668671607971191, -8.513306617736816, -8.788143157958984, -35.27330017089844, 23.500442504882812, 23.512622833251953, 15.48415470123291, 23.700258255004883, 17.74736976623535, 22.044748306274414, -40.91893005371094, 16.135684967041016, 17.89202880859375, 17.891948699951172, -37.427764892578125, -58.63648986816406, -25.741926193237305, 45.34815979003906, -3.3535666465759277, 0.11746865510940552, 0.12977346777915955, 22.701810836791992, 20.998571395874023, 20.849172592163086, 20.37796974182129, 20.2297420501709, -3.1513986587524414, -3.1948156356811523, 19.266521453857422, 18.46657371520996, -33.34921646118164, 20.71151351928711, 2.984750509262085, 2.6634507179260254, 15.26491641998291, 45.01978302001953, 45.569671630859375, 19.75579261779785, 19.378643035888672, 26.94900894165039, 27.035503387451172, 46.873634338378906, -18.5183162689209, -10.704477310180664, -11.02087116241455, -11.036053657531738, -11.871960639953613, 18.452877044677734, 18.502317428588867, -38.54627990722656, -22.264930725097656, -21.810791015625, -20.861291885375977, -17.363996505737305, 25.418169021606445, -13.968441009521484, -9.621216773986816, 16.885902404785156, 22.08182716369629, 21.855098724365234, 13.3020601272583, 12.997152328491211, 18.2717227935791, 19.02326774597168, 15.257341384887695, -58.3873176574707, -58.36365509033203, -59.753719329833984, -59.24541473388672, -58.55672073364258, -37.597984313964844, -25.01481819152832, -25.15463638305664, 11.769328117370605, 11.757891654968262, 19.970552444458008, 43.74893569946289, 43.58981704711914, 18.10883903503418, 17.834402084350586, 46.33662796020508], \"xaxis\": \"x\", \"y\": [-0.5921558737754822, 0.3139045834541321, -7.035130977630615, -13.83234691619873, -43.50066375732422, -44.14004135131836, 13.75391674041748, 7.229779243469238, 17.230451583862305, 17.226322174072266, -48.0589485168457, 13.797131538391113, 47.35017395019531, -3.8544671535491943, -4.593082904815674, 5.183659553527832, -9.096063613891602, -8.652131080627441, -8.329279899597168, 22.861440658569336, 2.9379618167877197, 2.8968915939331055, 12.389886856079102, 7.962762355804443, -2.6939923763275146, -6.566186904907227, -12.366888999938965, -44.257530212402344, -50.07075119018555, -50.07056427001953, -5.418674468994141, 11.845502853393555, 16.746429443359375, 16.737489700317383, 41.79838180541992, 5.465387344360352, 5.470089912414551, -7.1774582862854, 3.3926897048950195, 3.6594645977020264, 4.097822666168213, 4.026712894439697, 3.6076724529266357, 3.596311330795288, -5.375319480895996, -5.432797908782959, -7.364983081817627, 14.201573371887207, -20.24009895324707, -20.347646713256836, 26.50225067138672, 15.916354179382324, 15.410818099975586, -8.445368766784668, -8.612054824829102, 10.972884178161621, 11.041617393493652, -14.216943740844727, -27.626998901367188, -7.9739990234375, -8.28968620300293, -8.301891326904297, -5.481355667114258, -44.21134567260742, -44.25835418701172, -11.238133430480957, -37.22526168823242, -38.298519134521484, -38.70707321166992, -43.021568298339844, 5.807250499725342, -40.028053283691406, 19.515316009521484, 26.96298599243164, 6.91334867477417, 6.7251787185668945, 2.36773681640625, 2.0971791744232178, -3.6753711700439453, -3.6230273246765137, 13.693168640136719, 5.9458112716674805, 5.8649210929870605, 9.733609199523926, 9.200201034545898, 8.875248908996582, -5.319752216339111, -30.42601203918457, -30.41421127319336, -8.688048362731934, -8.697831153869629, -6.3750176429748535, -18.054546356201172, -18.193492889404297, -1.467631220817566, 29.37802505493164, -13.214181900024414], \"yaxis\": \"y\"}, {\"customdata\": [[\"1_1a\", \"Book\", \"12622-12676\", \"1_1a 1\"], [\"1_1a\", \"Book\", \"36388-36405\", \"1_1a 4\"], [\"1_1a\", \"Book\", \"40965-40993\", \"1_1a 4\"], [\"1_1a\", \"None\", \"50444-50471\", \"1_1a 5\"], [\"1_1a\", \"Book\", \"55766-55820\", \"1_1a 6\"], [\"2_2a\", \"Book\", \"38537-38556\", \"2_2a 6\"], [\"2_2a\", \"Book\", \"38556-38563\", \"2_2a 6\"], [\"3_1b\", \"Book\", \"30997-31032\", \"3_1b 4\"], [\"3_1b\", \"Book\", \"31032-31033\", \"3_1b 4\"], [\"3_1b\", \"Book\", \"31266-31275\", \"3_1b 4\"], [\"3_1b\", \"Book\", \"31275-31284\", \"3_1b 4\"], [\"3_1b\", \"Book\", \"31284-31293\", \"3_1b 4\"], [\"3_1b\", \"Toy\", \"38788-38799\", \"3_1b 6\"], [\"3_1b\", \"Toy\", \"38799-38815\", \"3_1b 6\"], [\"3_1b\", \"Doll\", \"40064-40100\", \"3_1b 6\"], [\"4_2b\", \"Bear\", \"33892-33912\", \"4_2b 4\"], [\"4_2b\", \"Bear\", \"33912-33917\", \"4_2b 4\"], [\"4_2b\", \"Bear\", \"34122-34137\", \"4_2b 4\"], [\"4_2b\", \"Bear\", \"34137-34140\", \"4_2b 4\"], [\"6_2c\", \"Knife\", \"46588-46620\", \"6_2c 6\"], [\"6_2c\", \"Knife\", \"46620-46638\", \"6_2c 6\"], [\"6_2c\", \"Knife\", \"46638-46639\", \"6_2c 6\"], [\"7_1a\", \"Bear\", \"22108-22140\", \"7_1a 1\"], [\"7_1a\", \"Bear\", \"22140-22144\", \"7_1a 1\"], [\"9_1b\", \"Book\", \"28369-28387\", \"9_1b 4\"], [\"9_1b\", \"Book\", \"31517-31518\", \"9_1b 5\"], [\"9_1b\", \"Book\", \"31518-31544\", \"9_1b 5\"], [\"9_1b\", \"Book\", \"38565-38574\", \"9_1b 6\"], [\"9_1b\", \"Book\", \"38574-38601\", \"9_1b 6\"], [\"9_1b\", \"Book\", \"38997-39006\", \"9_1b 6\"], [\"9_1b\", \"Book\", \"39006-39015\", \"9_1b 6\"], [\"10_2b\", \"Book\", \"69075-69111\", \"10_2b 6\"], [\"16_2b\", \"None\", \"34086-34110\", \"16_2b 6\"], [\"16_2b\", \"None\", \"34110-34158\", \"16_2b 6\"], [\"17_1c\", \"Banana\", \"40249-40266\", \"17_1c 5\"], [\"17_1c\", \"Banana\", \"40266-40284\", \"17_1c 5\"], [\"17_1c\", \"Banana\", \"40284-40294\", \"17_1c 5\"], [\"17_1c\", \"Book\", \"53470-53505\", \"17_1c 6\"], [\"17_1c\", \"Book\", \"53505-53515\", \"17_1c 6\"], [\"18_2c\", \"Book\", \"31934-31941\", \"18_2c 5\"], [\"18_2c\", \"Book\", \"31941-31950\", \"18_2c 5\"], [\"18_2c\", \"Book\", \"31950-31951\", \"18_2c 5\"], [\"18_2c\", \"Book\", \"32167-32193\", \"18_2c 5\"], [\"18_2c\", \"Book\", \"32193-32240\", \"18_2c 5\"], [\"18_2c\", \"1+\", \"33205-33232\", \"18_2c 5\"]], \"hoverlabel\": {\"namelength\": 0}, \"hovertemplate\": \"lemma=book<br>x=%{x}<br>y=%{y}<br>participant=%{customdata[0]}<br>top=%{customdata[1]}<br>step=%{customdata[2]}<br>pt=%{customdata[3]}\", \"legendgroup\": \"book\", \"marker\": {\"color\": \"#00FE35\", \"symbol\": \"circle\"}, \"mode\": \"markers\", \"name\": \"book\", \"showlegend\": true, \"type\": \"scatter\", \"x\": [42.89881134033203, 46.0408821105957, 46.394012451171875, 25.244901657104492, 45.511329650878906, 40.473793029785156, 40.64726257324219, 44.936004638671875, 44.89877700805664, 45.81637191772461, 45.64300537109375, 46.509769439697266, 0.15335607528686523, -0.11597049236297607, 4.459848403930664, 52.70313262939453, 52.75320053100586, 44.717159271240234, 45.0916748046875, -59.99007034301758, -59.51813888549805, -58.9703483581543, 45.57122039794922, 45.75368881225586, 46.175025939941406, 45.34758377075195, 45.0728645324707, 40.92570495605469, 40.589317321777344, 41.672298431396484, 41.29228210449219, 44.469425201416016, 15.306618690490723, 15.97253131866455, -21.340259552001953, -11.111738204956055, -11.020207405090332, 40.19667434692383, 40.54744338989258, 46.573890686035156, 46.59695816040039, 46.262813568115234, 44.92131042480469, 45.70482635498047, 46.81425857543945], \"xaxis\": \"x\", \"y\": [-15.258460998535156, -17.367172241210938, -14.802876472473145, 4.639773845672607, -15.71318244934082, -14.426660537719727, -14.559473991394043, -15.006359100341797, -15.579662322998047, -15.67696762084961, -16.54323959350586, -16.922473907470703, 46.0333251953125, 46.08673095703125, -16.971481323242188, 15.739048957824707, 15.666655540466309, 18.165130615234375, 18.313718795776367, 10.464579582214355, 10.456982612609863, 10.652852058410645, 19.534780502319336, 19.10622787475586, -14.11314582824707, -17.79595947265625, -17.270946502685547, -16.064783096313477, -15.849247932434082, -15.798005104064941, -15.981420516967773, -13.942934036254883, 13.431611061096191, 12.947426795959473, -36.452999114990234, -30.691816329956055, -30.630638122558594, -13.539517402648926, -13.834578514099121, -15.18662166595459, -16.013275146484375, -16.528377532958984, -14.984211921691895, -14.850439071655273, -13.56092357635498], \"yaxis\": \"y\"}, {\"customdata\": [[\"1_1a\", \"Lamp\", \"13265-13275\", \"1_1a 1\"], [\"1_1a\", \"Lamp\", \"13275-13284\", \"1_1a 1\"], [\"1_1a\", \"Lamp\", \"13284-13301\", \"1_1a 1\"]], \"hoverlabel\": {\"namelength\": 0}, \"hovertemplate\": \"lemma=lamp<br>x=%{x}<br>y=%{y}<br>participant=%{customdata[0]}<br>top=%{customdata[1]}<br>step=%{customdata[2]}<br>pt=%{customdata[3]}\", \"legendgroup\": \"lamp\", \"marker\": {\"color\": \"#6A76FC\", \"symbol\": \"circle\"}, \"mode\": \"markers\", \"name\": \"lamp\", \"showlegend\": true, \"type\": \"scatter\", \"x\": [-23.045988082885742, -22.90498924255371, -22.837512969970703], \"xaxis\": \"x\", \"y\": [0.1821882426738739, 0.07815313339233398, 0.03476346656680107], \"yaxis\": \"y\"}, {\"customdata\": [[\"1_1a\", \"Bowl\", \"15780-15786\", \"1_1a 1\"], [\"1_1a\", \"3+\", \"15786-15807\", \"1_1a 1\"], [\"1_1a\", \"Fork\", \"19544-19562\", \"1_1a 1\"], [\"1_1a\", \"1+\", \"26997-27000\", \"1_1a 3\"], [\"1_1a\", \"1+\", \"27000-27023\", \"1_1a 3\"], [\"1_1a\", \"Ball\", \"42213-42240\", \"1_1a 4\"], [\"1_1a\", \"Ball\", \"54984-55017\", \"1_1a 6\"], [\"1_1a\", \"Ball\", \"55017-55019\", \"1_1a 6\"], [\"1_1a\", \"5+\", \"57303-57320\", \"1_1a 6\"], [\"2_2a\", \"5+\", \"12957-12980\", \"2_2a 2\"], [\"2_2a\", \"Bowl\", \"17155-17171\", \"2_2a 3\"], [\"2_2a\", \"Ball\", \"19120-19141\", \"2_2a 4\"], [\"2_2a\", \"None\", \"20365-20367\", \"2_2a 4\"], [\"2_2a\", \"None\", \"20367-20376\", \"2_2a 4\"], [\"2_2a\", \"None\", \"20376-20389\", \"2_2a 4\"], [\"2_2a\", \"3+\", \"22816-22824\", \"2_2a 4\"], [\"3_1b\", \"Ball\", \"25312-25347\", \"3_1b 4\"], [\"3_1b\", \"Ball\", \"26280-26307\", \"3_1b 4\"], [\"3_1b\", \"Ball\", \"26307-26325\", \"3_1b 4\"], [\"3_1b\", \"Spoon\", \"34817-34839\", \"3_1b 5\"], [\"3_1b\", \"Spoon\", \"34839-34844\", \"3_1b 5\"], [\"4_2b\", \"3+\", \"50393-50415\", \"4_2b 6\"], [\"5_1c\", \"Apple\", \"21878-21932\", \"5_1c 5\"], [\"6_2c\", \"None\", \"6737-6746\", \"6_2c 1\"], [\"6_2c\", \"None\", \"13544-13561\", \"6_2c 2\"], [\"6_2c\", \"Spoon\", \"24721-24729\", \"6_2c 3\"], [\"6_2c\", \"None\", \"36881-36900\", \"6_2c 5\"], [\"6_2c\", \"None\", \"36900-36933\", \"6_2c 5\"], [\"6_2c\", \"Ball\", \"43167-43194\", \"6_2c 6\"], [\"6_2c\", \"Ball\", \"44046-44064\", \"6_2c 6\"], [\"7_1a\", \"1+\", \"50033-50060\", \"7_1a 4\"], [\"7_1a\", \"Apple\", \"55809-55836\", \"7_1a 5\"], [\"7_1a\", \"Apple\", \"56043-56106\", \"7_1a 5\"], [\"7_1a\", \"Apple\", \"56106-56142\", \"7_1a 5\"], [\"7_1a\", \"Apple\", \"56142-56186\", \"7_1a 5\"], [\"8_2a\", \"Bowl\", \"16696-16700\", \"8_2a 3\"], [\"8_2a\", \"Ball\", \"26554-26568\", \"8_2a 4\"], [\"8_2a\", \"Ball\", \"26568-26594\", \"8_2a 4\"], [\"8_2a\", \"None\", \"27663-27666\", \"8_2a 4\"], [\"8_2a\", \"None\", \"27666-27675\", \"8_2a 4\"], [\"8_2a\", \"None\", \"27675-27688\", \"8_2a 4\"], [\"8_2a\", \"Ball\", \"34862-34880\", \"8_2a 4\"], [\"8_2a\", \"Ball\", \"43360-43362\", \"8_2a 6\"], [\"8_2a\", \"Ball\", \"43362-43369\", \"8_2a 6\"], [\"9_1b\", \"Bowl\", \"5465-5492\", \"9_1b 1\"], [\"9_1b\", \"Ball\", \"30287-30294\", \"9_1b 4\"], [\"9_1b\", \"Ball\", \"30294-30303\", \"9_1b 4\"], [\"9_1b\", \"6-\", \"30303-30323\", \"9_1b 4\"], [\"9_1b\", \"None\", \"33201-33210\", \"9_1b 5\"], [\"9_1b\", \"None\", \"33210-33237\", \"9_1b 5\"], [\"9_1b\", \"Ball\", \"37503-37512\", \"9_1b 6\"], [\"9_1b\", \"Ball\", \"37512-37521\", \"9_1b 6\"], [\"10_2b\", \"None\", \"50100-50103\", \"10_2b 4\"], [\"10_2b\", \"None\", \"50103-50121\", \"10_2b 4\"], [\"10_2b\", \"None\", \"50121-50130\", \"10_2b 4\"], [\"10_2b\", \"None\", \"50130-50139\", \"10_2b 4\"], [\"10_2b\", \"Toy\", \"50139-50145\", \"10_2b 4\"], [\"10_2b\", \"1+\", \"50684-50697\", \"10_2b 4\"], [\"10_2b\", \"1+\", \"50697-50721\", \"10_2b 4\"], [\"10_2b\", \"Ball\", \"52218-52228\", \"10_2b 4\"], [\"11_1c\", \"Bowl\", \"15639-15642\", \"11_1c 1\"], [\"11_1c\", \"Bowl\", \"15642-15657\", \"11_1c 1\"], [\"11_1c\", \"None\", \"34734-34740\", \"11_1c 4\"], [\"11_1c\", \"None\", \"34740-34794\", \"11_1c 4\"], [\"11_1c\", \"7+\", \"34794-34815\", \"11_1c 4\"], [\"12_2c\", \"9-\", \"55002-55017\", \"12_2c 6\"], [\"12_2c\", \"9-\", \"55017-55028\", \"12_2c 6\"], [\"13_1a\", \"Ball\", \"39684-39690\", \"13_1a 6\"], [\"13_1a\", \"Ball\", \"39690-39699\", \"13_1a 6\"], [\"13_1a\", \"Ball\", \"39699-39720\", \"13_1a 6\"], [\"14_2a\", \"2-\", \"30245-30262\", \"14_2a 4\"], [\"14_2a\", \"Ball\", \"32305-32328\", \"14_2a 4\"], [\"14_2a\", \"Ball\", \"32328-32332\", \"14_2a 4\"], [\"14_2a\", \"Ball\", \"41053-41058\", \"14_2a 5\"], [\"14_2a\", \"Ball\", \"41058-41076\", \"14_2a 5\"], [\"14_2a\", \"Ball\", \"41076-41089\", \"14_2a 5\"], [\"14_2a\", \"Toy\", \"47407-47434\", \"14_2a 6\"], [\"14_2a\", \"Toy\", \"47667-47691\", \"14_2a 6\"], [\"14_2a\", \"Toy\", \"47691-47703\", \"14_2a 6\"], [\"15_1b\", \"None\", \"33016-33048\", \"15_1b 5\"], [\"15_1b\", \"None\", \"33048-33052\", \"15_1b 5\"], [\"17_1c\", \"Cup\", \"22777-22786\", \"17_1c 3\"], [\"17_1c\", \"1+\", \"26420-26429\", \"17_1c 3\"], [\"17_1c\", \"Ball\", \"30563-30599\", \"17_1c 4\"], [\"18_2c\", \"Banana\", \"5132-5145\", \"18_2c 1\"]], \"hoverlabel\": {\"namelength\": 0}, \"hovertemplate\": \"lemma=ball<br>x=%{x}<br>y=%{y}<br>participant=%{customdata[0]}<br>top=%{customdata[1]}<br>step=%{customdata[2]}<br>pt=%{customdata[3]}\", \"legendgroup\": \"ball\", \"marker\": {\"color\": \"#FED4C4\", \"symbol\": \"circle\"}, \"mode\": \"markers\", \"name\": \"ball\", \"showlegend\": true, \"type\": \"scatter\", \"x\": [-10.09971809387207, -9.943376541137695, -6.023379802703857, -25.493972778320312, -25.390636444091797, 14.983019828796387, 13.422187805175781, 14.169271469116211, 16.809804916381836, -54.5240478515625, -8.346379280090332, 15.149181365966797, 18.524456024169922, 18.076244354248047, 17.95032501220703, -3.4707047939300537, 16.240018844604492, 16.279630661010742, 16.373737335205078, -26.620161056518555, -26.144716262817383, 12.177501678466797, 9.487278938293457, 12.246561050415039, 17.42087173461914, -33.85310745239258, 19.308658599853516, 19.130603790283203, 18.332754135131836, 12.46801471710205, 15.366107940673828, 10.23418140411377, 10.046074867248535, 10.176012992858887, 10.320171356201172, -12.687037467956543, 16.505125045776367, 16.249258041381836, 18.362443923950195, 18.772233963012695, 18.819721221923828, 13.176568031311035, 16.028472900390625, 16.677064895629883, -11.810646057128906, 15.946817398071289, 15.625560760498047, 15.27664566040039, 15.824841499328613, 16.065845489501953, 13.931129455566406, 13.89139175415039, 17.058332443237305, 16.885372161865234, 16.578289031982422, 8.744987487792969, 8.646312713623047, 1.92798912525177, 2.1950347423553467, 13.846961975097656, -9.94809341430664, -10.041669845581055, 10.185331344604492, 9.779863357543945, 9.407940864562988, 14.701200485229492, 14.57397174835205, 15.283556938171387, 15.529333114624023, 15.713004112243652, 22.530393600463867, 14.509775161743164, 14.112125396728516, 14.844489097595215, 14.520221710205078, 14.515434265136719, 0.13530048727989197, -1.4179705381393433, -1.3052424192428589, 18.909608840942383, 20.166446685791016, -38.657127380371094, -15.051539421081543, 12.861700057983398, -14.729329109191895], \"xaxis\": \"x\", \"y\": [-13.206966400146484, -13.41736125946045, 19.713136672973633, 27.630176544189453, 27.75434112548828, 27.271202087402344, 27.78022575378418, 27.588972091674805, 31.05524253845215, 11.109622955322266, -10.485163688659668, 31.21092414855957, 6.561460971832275, 6.460904121398926, 6.431408405303955, 7.370367527008057, 23.073482513427734, 29.718778610229492, 30.001178741455078, 19.803150177001953, 20.456453323364258, 28.728458404541016, -47.25080108642578, 0.6695923209190369, -0.7232892513275146, 24.228958129882812, -2.3465075492858887, -2.5486247539520264, 29.22073745727539, 28.602069854736328, 26.806331634521484, -49.694828033447266, -48.31889724731445, -49.24413299560547, -49.31223678588867, -10.536520957946777, 27.181453704833984, 26.956247329711914, 8.102716445922852, 8.483019828796387, 8.584754943847656, 31.126733779907227, 27.83917236328125, 28.267276763916016, -6.108508586883545, 23.32695960998535, 22.930734634399414, 22.60120964050293, -2.2769041061401367, -2.469005823135376, 24.855680465698242, 24.4949951171875, 0.703864574432373, 0.9547269940376282, 1.2722203731536865, 6.6866068840026855, 6.75848388671875, 43.32860565185547, 43.173099517822266, 28.21257209777832, -8.653597831726074, -8.374249458312988, 1.773565411567688, 1.9588158130645752, 2.1403961181640625, 6.924429416656494, 6.904403209686279, 27.95733642578125, 28.75335693359375, 29.181184768676758, 12.994266510009766, 27.444976806640625, 26.890287399291992, 28.012489318847656, 28.717702865600586, 29.072383880615234, 47.326080322265625, 46.197818756103516, 46.394657135009766, -4.076314449310303, -4.117381572723389, -12.269441604614258, -8.199457168579102, 27.854551315307617, -33.56834411621094], \"yaxis\": \"y\"}, {\"customdata\": [[\"1_1a\", \"Apple\", \"16121-16184\", \"1_1a 1\"], [\"2_2a\", \"1+\", \"14578-14599\", \"2_2a 3\"], [\"4_2b\", \"None\", \"10837-10845\", \"4_2b 1\"], [\"4_2b\", \"None\", \"10845-10854\", \"4_2b 1\"], [\"4_2b\", \"Cup\", \"10854-10864\", \"4_2b 1\"], [\"5_1c\", \"2+\", \"28694-28712\", \"5_1c 6\"], [\"6_2c\", \"Bowl\", \"6226-6255\", \"6_2c 1\"], [\"6_2c\", \"Bowl\", \"6255-6274\", \"6_2c 1\"], [\"6_2c\", \"Spoon\", \"14270-14274\", \"6_2c 2\"], [\"6_2c\", \"Spoon\", \"14274-14292\", \"6_2c 2\"], [\"6_2c\", \"None\", \"25865-25893\", \"6_2c 3\"], [\"6_2c\", \"None\", \"25893-25900\", \"6_2c 3\"], [\"6_2c\", \"None\", \"36308-36325\", \"6_2c 5\"], [\"6_2c\", \"Cup\", \"47346-47367\", \"6_2c 6\"], [\"6_2c\", \"Cup\", \"47367-47377\", \"6_2c 6\"], [\"8_2a\", \"Fork\", \"6037-6072\", \"8_2a 1\"], [\"8_2a\", \"Spoon\", \"10509-10521\", \"8_2a 2\"], [\"8_2a\", \"Spoon\", \"10521-10530\", \"8_2a 2\"], [\"8_2a\", \"Spoon\", \"10530-10537\", \"8_2a 2\"], [\"8_2a\", \"Apple\", \"12221-12238\", \"8_2a 2\"], [\"8_2a\", \"Cup\", \"16333-16351\", \"8_2a 2\"], [\"8_2a\", \"Bowl\", \"17277-17292\", \"8_2a 3\"], [\"8_2a\", \"Cup\", \"19335-19361\", \"8_2a 3\"], [\"8_2a\", \"Banana\", \"20471-20475\", \"8_2a 3\"], [\"8_2a\", \"Banana\", \"20475-20506\", \"8_2a 3\"], [\"8_2a\", \"None\", \"38185-38214\", \"8_2a 5\"], [\"8_2a\", \"None\", \"38214-38259\", \"8_2a 5\"], [\"8_2a\", \"None\", \"45424-45438\", \"8_2a 6\"], [\"9_1b\", \"Bowl\", \"34164-34182\", \"9_1b 5\"], [\"12_2c\", \"Bowl\", \"21423-21447\", \"12_2c 1\"], [\"12_2c\", \"Bowl\", \"21447-21450\", \"12_2c 1\"], [\"12_2c\", \"None\", \"56511-56529\", \"12_2c 6\"], [\"12_2c\", \"9-\", \"56529-56538\", \"12_2c 6\"], [\"13_1a\", \"1+\", \"12385-12412\", \"13_1a 2\"], [\"13_1a\", \"Spoon\", \"17564-17577\", \"13_1a 3\"], [\"13_1a\", \"Spoon\", \"17577-17586\", \"13_1a 3\"], [\"13_1a\", \"Spoon\", \"17586-17627\", \"13_1a 3\"], [\"13_1a\", \"2-\", \"33929-33930\", \"13_1a 5\"], [\"13_1a\", \"2-\", \"33930-33966\", \"13_1a 5\"], [\"13_1a\", \"Bowl\", \"33966-33974\", \"13_1a 5\"], [\"13_1a\", \"Bowl\", \"35378-35414\", \"13_1a 6\"], [\"14_2a\", \"None\", \"9763-9781\", \"14_2a 1\"], [\"14_2a\", \"Bowl\", \"28734-28746\", \"14_2a 3\"], [\"14_2a\", \"Bowl\", \"28746-28751\", \"14_2a 3\"], [\"14_2a\", \"Cup\", \"49734-49743\", \"14_2a 6\"], [\"14_2a\", \"Cup\", \"49743-49756\", \"14_2a 6\"], [\"15_1b\", \"Apple\", \"38645-38680\", \"15_1b 6\"], [\"16_2b\", \"Bowl\", \"5945-5949\", \"16_2b 1\"], [\"16_2b\", \"Bowl\", \"5949-5981\", \"16_2b 1\"], [\"16_2b\", \"Cup\", \"15501-15567\", \"16_2b 3\"], [\"17_1c\", \"1+\", \"8080-8170\", \"17_1c 1\"], [\"17_1c\", \"Banana\", \"55004-55031\", \"17_1c 6\"], [\"18_2c\", \"Bowl\", \"15257-15275\", \"18_2c 3\"], [\"18_2c\", \"Bowl\", \"16568-16622\", \"18_2c 3\"], [\"18_2c\", \"None\", \"34217-34244\", \"18_2c 5\"], [\"18_2c\", \"2+\", \"41869-41897\", \"18_2c 6\"]], \"hoverlabel\": {\"namelength\": 0}, \"hovertemplate\": \"lemma=bowl<br>x=%{x}<br>y=%{y}<br>participant=%{customdata[0]}<br>top=%{customdata[1]}<br>step=%{customdata[2]}<br>pt=%{customdata[3]}\", \"legendgroup\": \"bowl\", \"marker\": {\"color\": \"#FE00CE\", \"symbol\": \"circle\"}, \"mode\": \"markers\", \"name\": \"bowl\", \"showlegend\": true, \"type\": \"scatter\", \"x\": [9.266465187072754, -61.54303741455078, 15.419593811035156, 14.539999008178711, 14.385931968688965, 8.157803535461426, -8.699623107910156, -8.443103790283203, -34.1098518371582, -33.735374450683594, 22.182992935180664, 22.18541145324707, 18.28091049194336, -37.49889373779297, -37.513580322265625, -5.3629631996154785, -33.19431686401367, -33.55164337158203, -33.55350875854492, 14.55998420715332, -34.802818298339844, -14.968194961547852, -36.98794937133789, -14.803329467773438, -15.228797912597656, 18.151395797729492, 17.754352569580078, 13.136067390441895, -12.312875747680664, -10.640628814697266, -10.71208381652832, 12.845856666564941, 12.761689186096191, -15.585809707641602, -25.303415298461914, -25.30307388305664, -25.665725708007812, -4.800734519958496, -5.005581378936768, -5.312800884246826, -14.844223976135254, 24.974323272705078, -8.413649559020996, -8.462925910949707, -40.04365158081055, -40.176856994628906, 11.557943344116211, -11.697447776794434, -12.071099281311035, -38.65711212158203, -14.227920532226562, -19.259674072265625, -7.541435241699219, -10.564921379089355, 21.633865356445312, -37.65127944946289], \"xaxis\": \"x\", \"y\": [-46.03010559082031, 10.666125297546387, -5.580118656158447, -6.356955528259277, -6.516533374786377, -46.419132232666016, -9.28282642364502, -9.644009590148926, 25.223703384399414, 24.96784210205078, 4.981942653656006, 5.147820472717285, -6.407862663269043, -10.193949699401855, -9.327856063842773, 18.681447982788086, 22.28352928161621, 21.621139526367188, 21.582759857177734, -51.68149185180664, -4.362654209136963, -8.697025299072266, -5.329695224761963, -26.78370475769043, -27.026050567626953, 7.18065881729126, 6.981882572174072, 7.637457847595215, -7.265328884124756, -10.43167495727539, -10.64803695678711, 7.551548957824707, 7.565471649169922, -9.472042083740234, 23.042049407958984, 23.04197120666504, 23.20135498046875, -4.241753101348877, -4.350804805755615, -4.516123294830322, -9.28872299194336, 3.1471052169799805, -6.5387983322143555, -6.593323230743408, -9.734960556030273, -9.56002426147461, -48.55661392211914, -7.302677631378174, -7.37336540222168, -12.26945686340332, -35.29558181762695, -25.615922927856445, -8.57678508758545, -9.42299747467041, 13.2644624710083, -4.487690448760986], \"yaxis\": \"y\"}, {\"customdata\": [[\"1_1a\", \"Banana\", \"16481-16497\", \"1_1a 1\"], [\"1_1a\", \"Banana\", \"16497-16515\", \"1_1a 1\"], [\"1_1a\", \"Banana\", \"16515-16526\", \"1_1a 1\"], [\"1_1a\", \"3+\", \"24905-24921\", \"1_1a 2\"], [\"1_1a\", \"Knife\", \"24921-24932\", \"1_1a 2\"], [\"1_1a\", \"None\", \"47635-47680\", \"1_1a 5\"], [\"1_1a\", \"Banana\", \"49681-49708\", \"1_1a 5\"], [\"2_2a\", \"None\", \"17672-17703\", \"2_2a 3\"], [\"2_2a\", \"None\", \"17703-17711\", \"2_2a 3\"], [\"3_1b\", \"1-\", \"14118-14136\", \"3_1b 2\"], [\"4_2b\", \"Banana\", \"14922-14940\", \"4_2b 2\"], [\"4_2b\", \"9-\", \"15273-15287\", \"4_2b 2\"], [\"4_2b\", \"Knife\", \"17146-17166\", \"4_2b 2\"], [\"4_2b\", \"Banana\", \"22057-22075\", \"4_2b 3\"], [\"5_1c\", \"Banana\", \"2221-2259\", \"5_1c 1\"], [\"5_1c\", \"Banana\", \"2259-2294\", \"5_1c 1\"], [\"5_1c\", \"Apple\", \"28171-28197\", \"5_1c 6\"], [\"5_1c\", \"Apple\", \"28197-28198\", \"5_1c 6\"], [\"6_2c\", \"Toy\", \"41104-41135\", \"6_2c 6\"], [\"6_2c\", \"2-\", \"42858-42893\", \"6_2c 6\"], [\"7_1a\", \"2+\", \"15886-15940\", \"7_1a 1\"], [\"7_1a\", \"1+\", \"16890-16917\", \"7_1a 1\"], [\"7_1a\", \"Apple\", \"24752-24770\", \"7_1a 1\"], [\"7_1a\", \"Apple\", \"29736-29745\", \"7_1a 2\"], [\"7_1a\", \"Banana\", \"32668-32697\", \"7_1a 2\"], [\"7_1a\", \"Banana\", \"32697-32713\", \"7_1a 2\"], [\"7_1a\", \"Banana\", \"33063-33108\", \"7_1a 2\"], [\"7_1a\", \"Apple\", \"39525-39534\", \"7_1a 3\"], [\"7_1a\", \"Bowl\", \"40134-40161\", \"7_1a 3\"], [\"8_2a\", \"Banana\", \"14196-14241\", \"8_2a 2\"], [\"8_2a\", \"Spoon\", \"15528-15542\", \"8_2a 2\"], [\"9_1b\", \"Bowl\", \"6077-6086\", \"9_1b 1\"], [\"9_1b\", \"Bowl\", \"6284-6320\", \"9_1b 1\"], [\"9_1b\", \"Banana\", \"13206-13212\", \"9_1b 2\"], [\"9_1b\", \"Banana\", \"13212-13215\", \"9_1b 2\"], [\"9_1b\", \"None\", \"32057-32058\", \"9_1b 5\"], [\"9_1b\", \"None\", \"32058-32067\", \"9_1b 5\"], [\"9_1b\", \"None\", \"32067-32075\", \"9_1b 5\"], [\"10_2b\", \"Banana\", \"45191-45245\", \"10_2b 4\"], [\"10_2b\", \"Book\", \"57729-57735\", \"10_2b 5\"], [\"10_2b\", \"Book\", \"57735-57765\", \"10_2b 5\"], [\"10_2b\", \"Banana\", \"68344-68355\", \"10_2b 6\"], [\"10_2b\", \"Banana\", \"68355-68366\", \"10_2b 6\"], [\"11_1c\", \"Apple\", \"17466-17493\", \"11_1c 1\"], [\"11_1c\", \"Apple\", \"23257-23293\", \"11_1c 2\"], [\"11_1c\", \"Banana\", \"24113-24129\", \"11_1c 2\"], [\"11_1c\", \"Banana\", \"24129-24165\", \"11_1c 2\"], [\"11_1c\", \"Banana\", \"24165-24228\", \"11_1c 2\"], [\"11_1c\", \"Banana\", \"24228-24246\", \"11_1c 2\"], [\"11_1c\", \"Banana\", \"24246-24311\", \"11_1c 2\"], [\"11_1c\", \"Banana\", \"26885-26892\", \"11_1c 3\"], [\"11_1c\", \"Banana\", \"26892-26931\", \"11_1c 3\"], [\"12_2c\", \"Bear\", \"23390-23391\", \"12_2c 1\"], [\"12_2c\", \"Bear\", \"23391-23400\", \"12_2c 1\"], [\"12_2c\", \"Bear\", \"23400-23453\", \"12_2c 1\"], [\"12_2c\", \"Apple\", \"24450-24471\", \"12_2c 1\"], [\"12_2c\", \"Apple\", \"24471-24494\", \"12_2c 1\"], [\"13_1a\", \"6-\", \"2205-2241\", \"13_1a 1\"], [\"13_1a\", \"Banana\", \"11224-11232\", \"13_1a 2\"], [\"13_1a\", \"Banana\", \"11232-11242\", \"13_1a 2\"], [\"13_1a\", \"Banana\", \"11593-11619\", \"13_1a 2\"], [\"13_1a\", \"Banana\", \"11619-11673\", \"13_1a 2\"], [\"13_1a\", \"Banana\", \"11673-11674\", \"13_1a 2\"], [\"13_1a\", \"Banana\", \"11818-11826\", \"13_1a 2\"], [\"13_1a\", \"Banana\", \"11826-11835\", \"13_1a 2\"], [\"13_1a\", \"Banana\", \"11835-11844\", \"13_1a 2\"], [\"13_1a\", \"Banana\", \"11844-11854\", \"13_1a 2\"], [\"13_1a\", \"Banana\", \"16512-16533\", \"13_1a 3\"], [\"13_1a\", \"Banana\", \"16533-16557\", \"13_1a 3\"], [\"13_1a\", \"Banana\", \"16854-16866\", \"13_1a 3\"], [\"13_1a\", \"Banana\", \"16866-16884\", \"13_1a 3\"], [\"13_1a\", \"Banana\", \"16884-16890\", \"13_1a 3\"], [\"14_2a\", \"Banana\", \"11994-12039\", \"14_2a 1\"], [\"14_2a\", \"Banana\", \"12595-12631\", \"14_2a 1\"], [\"14_2a\", \"Apple\", \"17529-17550\", \"14_2a 2\"], [\"14_2a\", \"Apple\", \"17550-17592\", \"14_2a 2\"], [\"14_2a\", \"Banana\", \"18053-18054\", \"14_2a 2\"], [\"14_2a\", \"Banana\", \"18054-18063\", \"14_2a 2\"], [\"14_2a\", \"Banana\", \"18063-18080\", \"14_2a 2\"], [\"14_2a\", \"Banana\", \"21643-21663\", \"14_2a 2\"], [\"14_2a\", \"Banana\", \"21663-21671\", \"14_2a 2\"], [\"14_2a\", \"Banana\", \"22040-22049\", \"14_2a 2\"], [\"14_2a\", \"Apple\", \"24051-24075\", \"14_2a 3\"], [\"14_2a\", \"Apple\", \"24075-24079\", \"14_2a 3\"], [\"14_2a\", \"Banana\", \"45436-45441\", \"14_2a 6\"], [\"14_2a\", \"Banana\", \"45441-45489\", \"14_2a 6\"], [\"15_1b\", \"Apple\", \"8311-8343\", \"15_1b 1\"], [\"15_1b\", \"Apple\", \"8343-8365\", \"15_1b 1\"], [\"15_1b\", \"Spoon\", \"14389-14400\", \"15_1b 2\"], [\"15_1b\", \"Spoon\", \"14400-14409\", \"15_1b 2\"], [\"15_1b\", \"Spoon\", \"14409-14418\", \"15_1b 2\"], [\"15_1b\", \"Spoon\", \"14418-14461\", \"15_1b 2\"], [\"15_1b\", \"Banana\", \"14956-14967\", \"15_1b 2\"], [\"15_1b\", \"Banana\", \"14967-14976\", \"15_1b 2\"], [\"15_1b\", \"Banana\", \"14976-15001\", \"15_1b 2\"], [\"16_2b\", \"None\", \"11888-11898\", \"16_2b 2\"], [\"16_2b\", \"3-\", \"11898-11923\", \"16_2b 2\"], [\"16_2b\", \"Knife\", \"13245-13248\", \"16_2b 2\"], [\"16_2b\", \"Knife\", \"13248-13263\", \"16_2b 2\"], [\"16_2b\", \"Banana\", \"13826-13851\", \"16_2b 2\"], [\"16_2b\", \"Banana\", \"13851-13858\", \"16_2b 2\"], [\"16_2b\", \"None\", \"14886-14904\", \"16_2b 3\"], [\"17_1c\", \"1+\", \"8296-8305\", \"17_1c 1\"], [\"17_1c\", \"1+\", \"14709-14736\", \"17_1c 2\"], [\"17_1c\", \"Banana\", \"15240-15284\", \"17_1c 2\"], [\"17_1c\", \"Banana\", \"17960-18000\", \"17_1c 2\"], [\"17_1c\", \"Banana\", \"18000-18009\", \"17_1c 2\"], [\"17_1c\", \"Banana\", \"18009-18113\", \"17_1c 2\"], [\"17_1c\", \"Banana\", \"23137-23139\", \"17_1c 3\"], [\"17_1c\", \"Banana\", \"23139-23164\", \"17_1c 3\"], [\"17_1c\", \"Banana\", \"38376-38385\", \"17_1c 5\"], [\"18_2c\", \"None\", \"2089-2107\", \"18_2c 1\"], [\"18_2c\", \"None\", \"31150-31177\", \"18_2c 5\"]], \"hoverlabel\": {\"namelength\": 0}, \"hovertemplate\": \"lemma=banana<br>x=%{x}<br>y=%{y}<br>participant=%{customdata[0]}<br>top=%{customdata[1]}<br>step=%{customdata[2]}<br>pt=%{customdata[3]}\", \"legendgroup\": \"banana\", \"marker\": {\"color\": \"#0DF9FF\", \"symbol\": \"circle\"}, \"mode\": \"markers\", \"name\": \"banana\", \"showlegend\": true, \"type\": \"scatter\", \"x\": [-17.06128692626953, -16.890832901000977, -16.023073196411133, -54.92641067504883, -55.47026062011719, 21.763811111450195, -15.138738632202148, 20.551118850708008, 19.971614837646484, 22.03692626953125, -16.918739318847656, 16.341440200805664, -56.05223846435547, -17.24995994567871, -17.64183235168457, -18.38567543029785, 9.02792739868164, 9.588631629943848, -0.48142144083976746, 18.875247955322266, 8.575342178344727, 13.076544761657715, 15.340112686157227, 13.865457534790039, -18.81039810180664, -18.843507766723633, -16.550262451171875, 19.804597854614258, -11.81065845489502, -17.88944435119629, -24.577495574951172, -14.958810806274414, -13.072440147399902, -16.297714233398438, -16.524402618408203, 17.286344528198242, 15.975044250488281, 15.732765197753906, -17.861339569091797, 44.36204528808594, 44.362030029296875, -15.517340660095215, -15.806565284729004, 14.727071762084961, 14.100079536437988, -20.825496673583984, -20.851795196533203, -20.84560203552246, -21.532390594482422, -21.38715362548828, -20.32765007019043, -20.636493682861328, 43.818687438964844, 42.88222122192383, 42.57858657836914, 14.734162330627441, 14.356255531311035, 13.316506385803223, -16.735557556152344, -19.400169372558594, -18.627182006835938, -18.338613510131836, -18.01400375366211, -16.513216018676758, -16.511972427368164, -16.262130737304688, -16.165502548217773, -17.038768768310547, -17.688108444213867, -16.180490493774414, -16.200714111328125, -16.295164108276367, -17.02001953125, -14.440186500549316, 14.917526245117188, 15.274165153503418, -20.351032257080078, -20.772411346435547, -21.123966217041016, -16.735370635986328, -19.400175094604492, -15.4042329788208, 17.70986557006836, 18.232208251953125, -22.34175682067871, -22.33550262451172, 8.932933807373047, 9.120386123657227, -28.509231567382812, -27.854084014892578, -28.02690315246582, -28.750703811645508, -18.310842514038086, -16.922548294067383, -15.388386726379395, 11.898326873779297, 11.792622566223145, -56.9308967590332, -56.63747024536133, -22.749374389648438, -22.35854148864746, 24.462587356567383, -13.756217002868652, -14.205536842346191, -16.83506202697754, -22.20407485961914, -22.158287048339844, -22.19838523864746, -19.940385818481445, -19.921884536743164, -15.13899040222168, 22.522153854370117, 17.95498275756836], \"xaxis\": \"x\", \"y\": [-38.198734283447266, -37.544376373291016, -36.925628662109375, 11.862231254577637, 11.44794750213623, 12.536367416381836, -36.874576568603516, 11.132580757141113, 10.477763175964355, -7.723028182983398, -29.541711807250977, 7.151466369628906, 12.548630714416504, -42.85281753540039, -34.62812042236328, -35.1689453125, -43.47303009033203, -43.76426315307617, 45.22511291503906, 19.612497329711914, -46.69065475463867, -52.25786590576172, -52.3254508972168, -50.81232452392578, -33.671722412109375, -33.687171936035156, -37.712257385253906, -44.34077453613281, -6.108575344085693, -36.66229248046875, 23.571439743041992, -9.866178512573242, -6.897429943084717, -25.85821533203125, -25.569469451904297, -3.9468984603881836, -3.778210401535034, -3.6678566932678223, -42.57985305786133, -16.185468673706055, -16.18549156188965, -28.76000213623047, -28.733396530151367, -49.65979766845703, -50.967464447021484, -39.138240814208984, -39.156890869140625, -39.15296936035156, -39.13528060913086, -37.38744354248047, -26.682283401489258, -26.545631408691406, 16.03165054321289, 15.033510208129883, 14.780021667480469, -49.128211975097656, -48.990867614746094, 13.918432235717773, -35.26886749267578, -35.476707458496094, -31.760515213012695, -31.206680297851562, -30.991426467895508, -31.07381248474121, -31.07367706298828, -31.366783142089844, -31.714351654052734, -35.76926040649414, -35.53839874267578, -26.72648048400879, -27.130739212036133, -27.57059669494629, -29.04930305480957, -34.416168212890625, -47.7002067565918, -46.00142288208008, -29.939800262451172, -29.71016502380371, -29.577463150024414, -35.26919174194336, -35.47658157348633, -35.37327194213867, -45.056949615478516, -44.64244079589844, -27.205215454101562, -27.15155029296875, -44.349483489990234, -44.77779769897461, 27.116662979125977, 26.606624603271484, 26.507844924926758, 26.995906829833984, -37.846927642822266, -37.541046142578125, -36.471378326416016, -5.108333587646484, -5.179506301879883, 11.550241470336914, 12.130170822143555, -36.101104736328125, -35.85402297973633, 6.09861946105957, -35.339508056640625, -35.86238098144531, -36.46126174926758, -28.63060188293457, -29.32790756225586, -29.726993560791016, -37.73181915283203, -37.96339416503906, -36.87600326538086, 12.120305061340332, -0.1668262779712677], \"yaxis\": \"y\"}, {\"customdata\": [[\"1_1a\", \"Spoon\", \"18376-18430\", \"1_1a 1\"], [\"1_1a\", \"Spoon\", \"25389-25414\", \"1_1a 2\"], [\"1_1a\", \"Spoon\", \"44972-44973\", \"1_1a 5\"], [\"1_1a\", \"Spoon\", \"44973-44991\", \"1_1a 5\"], [\"1_1a\", \"3+\", \"44991-45009\", \"1_1a 5\"], [\"1_1a\", \"3+\", \"45009-45026\", \"1_1a 5\"], [\"2_2a\", \"Knife\", \"6840-6849\", \"2_2a 1\"], [\"2_2a\", \"Knife\", \"6849-6858\", \"2_2a 1\"], [\"2_2a\", \"Knife\", \"6858-6867\", \"2_2a 1\"], [\"2_2a\", \"Knife\", \"6867-6869\", \"2_2a 1\"], [\"2_2a\", \"Knife\", \"14612-14651\", \"2_2a 3\"], [\"2_2a\", \"Spoon\", \"16261-16304\", \"2_2a 3\"], [\"2_2a\", \"Spoon\", \"30861-30870\", \"2_2a 5\"], [\"2_2a\", \"Spoon\", \"30870-30890\", \"2_2a 5\"], [\"2_2a\", \"Spoon\", \"31171-31176\", \"2_2a 5\"], [\"2_2a\", \"Spoon\", \"31176-31185\", \"2_2a 5\"], [\"2_2a\", \"Spoon\", \"31185-31203\", \"2_2a 5\"], [\"2_2a\", \"Spoon\", \"31203-31212\", \"2_2a 5\"], [\"2_2a\", \"Spoon\", \"31212-31220\", \"2_2a 5\"], [\"3_1b\", \"None\", \"8979-9014\", \"3_1b 1\"], [\"3_1b\", \"None\", \"34447-34501\", \"3_1b 5\"], [\"4_2b\", \"Spoon\", \"9790-9821\", \"4_2b 1\"], [\"4_2b\", \"Spoon\", \"19307-19334\", \"4_2b 3\"], [\"4_2b\", \"Spoon\", \"42637-42665\", \"4_2b 5\"], [\"4_2b\", \"Spoon\", \"52490-52494\", \"4_2b 6\"], [\"5_1c\", \"Spoon\", \"7343-7388\", \"5_1c 2\"], [\"5_1c\", \"Spoon\", \"10923-10926\", \"5_1c 3\"], [\"5_1c\", \"Spoon\", \"10926-10962\", \"5_1c 3\"], [\"5_1c\", \"Spoon\", \"10962-10977\", \"5_1c 3\"], [\"6_2c\", \"None\", \"7644-7686\", \"6_2c 1\"], [\"6_2c\", \"None\", \"7686-7690\", \"6_2c 1\"], [\"6_2c\", \"None\", \"9021-9036\", \"6_2c 1\"], [\"6_2c\", \"None\", \"9036-9044\", \"6_2c 1\"], [\"6_2c\", \"Spoon\", \"13998-14004\", \"6_2c 2\"], [\"6_2c\", \"Spoon\", \"14004-14036\", \"6_2c 2\"], [\"6_2c\", \"Spoon\", \"14180-14202\", \"6_2c 2\"], [\"6_2c\", \"None\", \"14746-14755\", \"6_2c 2\"], [\"6_2c\", \"Cup\", \"15046-15048\", \"6_2c 2\"], [\"6_2c\", \"Cup\", \"15048-15066\", \"6_2c 2\"], [\"6_2c\", \"Cup\", \"15066-15071\", \"6_2c 2\"], [\"6_2c\", \"2+\", \"24418-24456\", \"6_2c 3\"], [\"6_2c\", \"None\", \"25934-25956\", \"6_2c 3\"], [\"6_2c\", \"None\", \"25956-25966\", \"6_2c 3\"], [\"8_2a\", \"Spoon\", \"5214-5265\", \"8_2a 1\"], [\"8_2a\", \"Spoon\", \"5265-5282\", \"8_2a 1\"], [\"8_2a\", \"Cup\", \"12021-12024\", \"8_2a 2\"], [\"8_2a\", \"Cup\", \"12024-12044\", \"8_2a 2\"], [\"8_2a\", \"Spoon\", \"16235-16269\", \"8_2a 2\"], [\"8_2a\", \"2+\", \"19220-19265\", \"8_2a 3\"], [\"9_1b\", \"Banana\", \"8238-8343\", \"9_1b 1\"], [\"9_1b\", \"Banana\", \"8343-8379\", \"9_1b 1\"], [\"9_1b\", \"Spoon\", \"8379-8451\", \"9_1b 1\"], [\"9_1b\", \"Spoon\", \"8451-8514\", \"9_1b 1\"], [\"9_1b\", \"Spoon\", \"8514-8550\", \"9_1b 1\"], [\"9_1b\", \"Spoon\", \"8550-8581\", \"9_1b 1\"], [\"9_1b\", \"Spoon\", \"11173-11214\", \"9_1b 2\"], [\"9_1b\", \"Spoon\", \"11214-11218\", \"9_1b 2\"], [\"9_1b\", \"2+\", \"11766-11772\", \"9_1b 2\"], [\"9_1b\", \"2+\", \"11772-11802\", \"9_1b 2\"], [\"9_1b\", \"Spoon\", \"19810-19827\", \"9_1b 3\"], [\"9_1b\", \"Spoon\", \"19827-19863\", \"9_1b 3\"], [\"9_1b\", \"Spoon\", \"19863-19882\", \"9_1b 3\"], [\"10_2b\", \"Spoon\", \"39192-39212\", \"10_2b 3\"], [\"10_2b\", \"Spoon\", \"41474-41517\", \"10_2b 3\"], [\"10_2b\", \"Spoon\", \"41517-41526\", \"10_2b 3\"], [\"10_2b\", \"Spoon\", \"41526-41535\", \"10_2b 3\"], [\"10_2b\", \"Spoon\", \"41535-41537\", \"10_2b 3\"], [\"10_2b\", \"Cup\", \"62511-62514\", \"10_2b 5\"], [\"10_2b\", \"Cup\", \"62514-62532\", \"10_2b 5\"], [\"10_2b\", \"Cup\", \"62532-62547\", \"10_2b 5\"], [\"11_1c\", \"Spoon\", \"19982-19998\", \"11_1c 1\"], [\"11_1c\", \"Spoon\", \"19998-20000\", \"11_1c 1\"], [\"11_1c\", \"Banana\", \"22240-22266\", \"11_1c 2\"], [\"11_1c\", \"Banana\", \"22266-22275\", \"11_1c 2\"], [\"11_1c\", \"Banana\", \"22275-22294\", \"11_1c 2\"], [\"11_1c\", \"Apple\", \"23464-23508\", \"11_1c 2\"], [\"11_1c\", \"Apple\", \"23508-23518\", \"11_1c 2\"], [\"11_1c\", \"6+\", \"27543-27576\", \"11_1c 3\"], [\"11_1c\", \"6+\", \"27576-27621\", \"11_1c 3\"], [\"11_1c\", \"3+\", \"27621-27639\", \"11_1c 3\"], [\"11_1c\", \"3+\", \"27639-27675\", \"11_1c 3\"], [\"11_1c\", \"Spoon\", \"27675-27705\", \"11_1c 3\"], [\"11_1c\", \"Cup\", \"47580-47583\", \"11_1c 6\"], [\"11_1c\", \"Cup\", \"47583-47592\", \"11_1c 6\"], [\"11_1c\", \"Cup\", \"47592-47616\", \"11_1c 6\"], [\"12_2c\", \"Spoon\", \"35964-35973\", \"12_2c 3\"], [\"12_2c\", \"Spoon\", \"35973-36018\", \"12_2c 3\"], [\"12_2c\", \"Spoon\", \"36018-36036\", \"12_2c 3\"], [\"13_1a\", \"Bowl\", \"13015-13023\", \"13_1a 2\"], [\"13_1a\", \"2+\", \"13023-13024\", \"13_1a 2\"], [\"13_1a\", \"Spoon\", \"13330-13357\", \"13_1a 2\"], [\"13_1a\", \"Spoon\", \"13591-13618\", \"13_1a 2\"], [\"13_1a\", \"Spoon\", \"18239-18293\", \"13_1a 3\"], [\"13_1a\", \"Spoon\", \"18553-18558\", \"13_1a 3\"], [\"13_1a\", \"Spoon\", \"18558-18567\", \"13_1a 3\"], [\"13_1a\", \"Spoon\", \"18567-18598\", \"13_1a 3\"], [\"13_1a\", \"1+\", \"19101-19137\", \"13_1a 3\"], [\"13_1a\", \"Spoon\", \"36754-36799\", \"13_1a 6\"], [\"14_2a\", \"Fork\", \"10561-10584\", \"14_2a 1\"], [\"14_2a\", \"Fork\", \"10584-10615\", \"14_2a 1\"], [\"14_2a\", \"1+\", \"19480-19525\", \"14_2a 2\"], [\"14_2a\", \"Spoon\", \"28214-28215\", \"14_2a 3\"], [\"14_2a\", \"Spoon\", \"28215-28233\", \"14_2a 3\"], [\"14_2a\", \"Spoon\", \"28233-28251\", \"14_2a 3\"], [\"14_2a\", \"Spoon\", \"28251-28260\", \"14_2a 3\"], [\"14_2a\", \"Spoon\", \"28260-28276\", \"14_2a 3\"], [\"15_1b\", \"Spoon\", \"10623-10638\", \"15_1b 1\"], [\"15_1b\", \"Spoon\", \"10638-10656\", \"15_1b 1\"], [\"15_1b\", \"Spoon\", \"10656-10659\", \"15_1b 1\"], [\"16_2b\", \"1+\", \"10334-10361\", \"16_2b 1\"], [\"17_1c\", \"Cup\", \"46393-46413\", \"17_1c 5\"], [\"17_1c\", \"Cup\", \"46413-46449\", \"17_1c 5\"], [\"17_1c\", \"Cup\", \"46449-46546\", \"17_1c 5\"], [\"17_1c\", \"Spoon\", \"56982-56997\", \"17_1c 6\"], [\"17_1c\", \"Spoon\", \"56997-57018\", \"17_1c 6\"], [\"18_2c\", \"Bowl\", \"15373-15401\", \"18_2c 3\"], [\"18_2c\", \"Bowl\", \"15780-15795\", \"18_2c 3\"], [\"18_2c\", \"Bowl\", \"15795-15835\", \"18_2c 3\"], [\"18_2c\", \"Spoon\", \"37665-37674\", \"18_2c 5\"], [\"18_2c\", \"None\", \"43189-43191\", \"18_2c 6\"], [\"18_2c\", \"None\", \"43191-43209\", \"18_2c 6\"], [\"18_2c\", \"None\", \"43209-43212\", \"18_2c 6\"]], \"hoverlabel\": {\"namelength\": 0}, \"hovertemplate\": \"lemma=spoon<br>x=%{x}<br>y=%{y}<br>participant=%{customdata[0]}<br>top=%{customdata[1]}<br>step=%{customdata[2]}<br>pt=%{customdata[3]}\", \"legendgroup\": \"spoon\", \"marker\": {\"color\": \"#F6F926\", \"symbol\": \"circle\"}, \"mode\": \"markers\", \"name\": \"spoon\", \"showlegend\": true, \"type\": \"scatter\", \"x\": [-26.064226150512695, -35.527565002441406, -33.910987854003906, -36.349578857421875, -36.91594314575195, -37.28022766113281, -56.80051803588867, -57.28618240356445, -57.04298400878906, -56.651405334472656, -60.40679931640625, -30.025218963623047, -31.80815887451172, -31.830684661865234, -29.368375778198242, -31.030776977539062, -31.967924118041992, -32.89070129394531, -33.64386749267578, 20.92759132385254, 21.645809173583984, -26.964797973632812, -25.70792579650879, -31.233280181884766, -28.397602081298828, -28.679885864257812, -35.152198791503906, -35.311405181884766, -35.34036636352539, 24.452409744262695, 24.281015396118164, 22.673234939575195, 22.866060256958008, -35.11618423461914, -35.135372161865234, -35.042667388916016, 24.898387908935547, -44.59669876098633, -44.42253112792969, -44.56346130371094, -25.21242904663086, 11.511398315429688, 11.490161895751953, -25.284015655517578, -25.652496337890625, -39.6490364074707, -39.71527099609375, -26.25147247314453, -37.34912109375, -20.9525146484375, -21.233484268188477, -30.461856842041016, -30.38970375061035, -30.197322845458984, -29.6873779296875, -32.251338958740234, -32.25117111206055, -19.414440155029297, -19.304136276245117, -34.83816909790039, -34.638267517089844, -34.51356506347656, -26.871381759643555, -28.52654457092285, -29.320755004882812, -31.4389705657959, -31.4389705657959, -38.901702880859375, -38.355430603027344, -38.087432861328125, -26.67329978942871, -26.94964599609375, -21.131711959838867, -20.967222213745117, -20.966142654418945, 15.425167083740234, 16.012474060058594, -11.379670143127441, -11.903688430786133, -12.633091926574707, -13.713634490966797, -14.321687698364258, -34.42916488647461, -34.937374114990234, -35.0731086730957, -31.937278747558594, -31.972084045410156, -32.05623245239258, -10.055095672607422, -9.96278190612793, -27.7849178314209, -34.914947509765625, -25.50981330871582, -31.615432739257812, -30.872268676757812, -30.872268676757812, -25.624662399291992, -35.87971115112305, -6.350098133087158, -6.379929542541504, 13.292724609375, -27.180330276489258, -27.767230987548828, -28.31214714050293, -29.014251708984375, -29.31444549560547, -28.780126571655273, -30.146207809448242, -30.60129737854004, -15.590481758117676, -39.518035888671875, -39.467811584472656, -39.7695198059082, -30.827016830444336, -30.419872283935547, -10.657431602478027, -12.971035957336426, -13.041638374328613, -28.582008361816406, 22.771291732788086, 23.14488410949707, 23.229795455932617], \"xaxis\": \"x\", \"y\": [18.630115509033203, 23.298667907714844, 22.827707290649414, 21.354318618774414, 21.07324981689453, 20.88634490966797, 10.082863807678223, 9.87420654296875, 9.223459243774414, 8.908792495727539, 11.235176086425781, 22.40422821044922, 19.42995834350586, 19.479890823364258, 25.734907150268555, 25.852012634277344, 25.96889305114746, 25.95272445678711, 25.986217498779297, -8.093053817749023, -6.841689586639404, 25.06218719482422, 21.8406982421875, 24.05959129333496, 13.229875564575195, 24.525436401367188, 25.072288513183594, 25.897953033447266, 26.09235954284668, 6.2215094566345215, 6.606497287750244, 8.294134140014648, 8.688573837280273, 27.989723205566406, 27.96843147277832, 23.057016372680664, 3.8336422443389893, -10.911604881286621, -11.509870529174805, -11.690248489379883, 17.49646759033203, 4.79317569732666, 4.762148380279541, 20.116117477416992, 20.54570960998535, -5.95364236831665, -6.090291976928711, 25.378503799438477, -4.60333776473999, -24.21303939819336, -23.817716598510742, 16.835670471191406, 17.135650634765625, 17.67197036743164, 18.296409606933594, 23.274581909179688, 23.274431228637695, -24.292123794555664, -23.923280715942383, 20.83548355102539, 20.150983810424805, 19.90134620666504, 23.16498565673828, 23.412761688232422, 23.135847091674805, 22.165889739990234, 22.165889739990234, -11.0382661819458, -8.75536823272705, -7.9645514488220215, 17.31267738342285, 17.2919864654541, -33.2020149230957, -33.268798828125, -33.26866912841797, -47.419273376464844, -47.262657165527344, 19.770639419555664, 19.80320167541504, 19.8083553314209, 19.79570198059082, 19.81528663635254, -7.854478359222412, -8.606548309326172, -8.989192962646484, 28.32855224609375, 28.189048767089844, 27.871360778808594, -4.795524597167969, -4.565391540527344, 26.335906982421875, 22.03230857849121, 21.77590560913086, 23.347549438476562, 23.281719207763672, 23.281719207763672, 24.525249481201172, 22.559532165527344, 21.4871826171875, 20.988683700561523, -51.9345817565918, 21.6822566986084, 21.142837524414062, 20.789949417114258, 20.46310806274414, 20.30434226989746, 25.350143432617188, 26.213720321655273, 26.561721801757812, -9.465714454650879, -11.626649856567383, -12.657495498657227, -12.061003684997559, 24.292282104492188, 24.431354522705078, -6.5730204582214355, -10.946505546569824, -11.08156681060791, 18.509981155395508, -4.120968818664551, -3.945035934448242, -3.6878392696380615], \"yaxis\": \"y\"}, {\"customdata\": [[\"1_1a\", \"Fork\", \"19400-19436\", \"1_1a 1\"], [\"1_1a\", \"8+\", \"31134-31233\", \"1_1a 3\"], [\"1_1a\", \"NA+\", \"44360-44388\", \"1_1a 5\"], [\"1_1a\", \"2+\", \"44388-44406\", \"1_1a 5\"], [\"1_1a\", \"Fork\", \"45095-45166\", \"1_1a 5\"], [\"2_2a\", \"None\", \"5302-5337\", \"2_2a 1\"], [\"2_2a\", \"None\", \"5337-5343\", \"2_2a 1\"], [\"2_2a\", \"Fork\", \"16935-16948\", \"2_2a 3\"], [\"3_1b\", \"1-\", \"11154-11199\", \"3_1b 2\"], [\"4_2b\", \"1+\", \"19343-19361\", \"4_2b 3\"], [\"6_2c\", \"None\", \"8596-8609\", \"6_2c 1\"], [\"6_2c\", \"None\", \"8863-8885\", \"6_2c 1\"], [\"6_2c\", \"Spoon\", \"47179-47214\", \"6_2c 6\"], [\"8_2a\", \"Banana\", \"12151-12159\", \"8_2a 2\"], [\"8_2a\", \"1+\", \"12159-12196\", \"8_2a 2\"], [\"8_2a\", \"Fork\", \"18611-18639\", \"8_2a 3\"], [\"8_2a\", \"Fork\", \"23842-23864\", \"8_2a 3\"], [\"8_2a\", \"Fork\", \"24188-24192\", \"8_2a 3\"], [\"8_2a\", \"Fork\", \"24192-24210\", \"8_2a 3\"], [\"8_2a\", \"Spoon\", \"24669-24692\", \"8_2a 3\"], [\"9_1b\", \"8+\", \"19540-19548\", \"9_1b 3\"], [\"9_1b\", \"None\", \"19548-19567\", \"9_1b 3\"], [\"10_2b\", \"None\", \"27908-27936\", \"10_2b 1\"], [\"10_2b\", \"1-\", \"27936-27952\", \"10_2b 1\"], [\"10_2b\", \"Knife\", \"38207-38288\", \"10_2b 3\"], [\"10_2b\", \"Fork\", \"42965-43019\", \"10_2b 3\"], [\"11_1c\", \"NA+\", \"39866-39893\", \"11_1c 5\"], [\"13_1a\", \"Fork\", \"37285-37305\", \"13_1a 6\"], [\"13_1a\", \"Fork\", \"37305-37330\", \"13_1a 6\"], [\"13_1a\", \"Cup\", \"37934-37979\", \"13_1a 6\"], [\"14_2a\", \"1+\", \"11184-11220\", \"14_2a 1\"], [\"14_2a\", \"Fork\", \"27655-27666\", \"14_2a 3\"], [\"14_2a\", \"Fork\", \"27666-27693\", \"14_2a 3\"], [\"14_2a\", \"Fork\", \"27693-27709\", \"14_2a 3\"], [\"14_2a\", \"None\", \"43469-43496\", \"14_2a 5\"], [\"14_2a\", \"Fork\", \"43780-43794\", \"14_2a 5\"], [\"14_2a\", \"Fork\", \"43794-43807\", \"14_2a 5\"], [\"15_1b\", \"Spoon\", \"10560-10596\", \"15_1b 1\"], [\"17_1c\", \"Knife\", \"6847-6856\", \"17_1c 1\"], [\"17_1c\", \"None\", \"8675-8685\", \"17_1c 1\"], [\"17_1c\", \"None\", \"8685-8710\", \"17_1c 1\"], [\"17_1c\", \"Cup\", \"21040-21042\", \"17_1c 3\"], [\"17_1c\", \"3+\", \"21042-21085\", \"17_1c 3\"], [\"17_1c\", \"Spoon\", \"46843-46897\", \"17_1c 5\"], [\"17_1c\", \"1+\", \"56695-56740\", \"17_1c 6\"]], \"hoverlabel\": {\"namelength\": 0}, \"hovertemplate\": \"lemma=fork<br>x=%{x}<br>y=%{y}<br>participant=%{customdata[0]}<br>top=%{customdata[1]}<br>step=%{customdata[2]}<br>pt=%{customdata[3]}\", \"legendgroup\": \"fork\", \"marker\": {\"color\": \"#FF9616\", \"symbol\": \"circle\"}, \"mode\": \"markers\", \"name\": \"fork\", \"showlegend\": true, \"type\": \"scatter\", \"x\": [-9.750720977783203, -54.46831130981445, -3.0062875747680664, -3.164937734603882, -6.673490047454834, 26.91671371459961, 26.866668701171875, -8.357356071472168, 22.03702735900879, -24.870079040527344, 18.65526580810547, 12.332042694091797, -26.412906646728516, -14.552482604980469, -14.128613471984863, -9.750720977783203, -6.601470470428467, -9.16776180267334, -8.980623245239258, -29.057483673095703, 7.336999416351318, 7.3599395751953125, 15.811988830566406, 15.786603927612305, -61.25910186767578, -7.278347015380859, -2.6457762718200684, -6.09137487411499, -6.092092990875244, -38.62392807006836, -6.106408596038818, -7.742362022399902, -8.200648307800293, -8.264925003051758, 21.365751266479492, -6.768761157989502, -6.684092998504639, -26.19384765625, -60.900325775146484, 16.554759979248047, 16.55475425720215, -43.76728439331055, -44.01223373413086, -26.683507919311523, -61.32004928588867], \"xaxis\": \"x\", \"y\": [19.99372673034668, 8.189544677734375, 16.189722061157227, 16.332489013671875, 22.762004852294922, 11.292669296264648, 11.32045841217041, 20.702754974365234, -7.723507881164551, 24.483509063720703, -6.846460819244385, 1.0993682146072388, 17.895381927490234, -28.729705810546875, -28.896953582763672, 19.99372673034668, 22.481842041015625, 21.957387924194336, 21.87795066833496, 24.762964248657227, 11.450309753417969, 11.444808006286621, -9.239315032958984, -9.296538352966309, 9.98945140838623, 22.84398078918457, 15.879191398620605, 21.563623428344727, 21.560319900512695, -12.932092666625977, 22.714387893676758, 19.459487915039062, 19.660072326660156, 20.068864822387695, 13.813652038574219, 19.52098846435547, 19.08144760131836, 23.5822696685791, 10.50845718383789, 12.43689250946045, 12.436712265014648, -13.534242630004883, -13.798500061035156, 24.742774963378906, 11.005172729492188], \"yaxis\": \"y\"}, {\"customdata\": [[\"1_1a\", \"Apple\", \"23003-23022\", \"1_1a 2\"], [\"1_1a\", \"Apple\", \"23022-23047\", \"1_1a 2\"], [\"1_1a\", \"Banana\", \"48524-48550\", \"1_1a 5\"], [\"2_2a\", \"Apple\", \"7388-7424\", \"2_2a 1\"], [\"2_2a\", \"Apple\", \"10965-10998\", \"2_2a 2\"], [\"2_2a\", \"Apple\", \"10998-11001\", \"2_2a 2\"], [\"2_2a\", \"Banana\", \"17752-17766\", \"2_2a 3\"], [\"2_2a\", \"Banana\", \"17766-17775\", \"2_2a 3\"], [\"2_2a\", \"Banana\", \"17775-17781\", \"2_2a 3\"], [\"4_2b\", \"1+\", \"7368-7404\", \"4_2b 1\"], [\"4_2b\", \"Apple\", \"12506-12519\", \"4_2b 1\"], [\"4_2b\", \"Apple\", \"12519-12531\", \"4_2b 1\"], [\"4_2b\", \"Banana\", \"21952-21969\", \"4_2b 3\"], [\"4_2b\", \"Banana\", \"21969-21978\", \"4_2b 3\"], [\"4_2b\", \"Banana\", \"21978-21987\", \"4_2b 3\"], [\"4_2b\", \"Banana\", \"21987-22014\", \"4_2b 3\"], [\"4_2b\", \"Banana\", \"22014-22020\", \"4_2b 3\"], [\"5_1c\", \"1+\", \"7703-7721\", \"5_1c 2\"], [\"5_1c\", \"1+\", \"7991-8027\", \"5_1c 2\"], [\"5_1c\", \"Apple\", \"20627-20672\", \"5_1c 5\"], [\"6_2c\", \"Apple\", \"16842-16893\", \"6_2c 2\"], [\"6_2c\", \"Apple\", \"16893-16895\", \"6_2c 2\"], [\"6_2c\", \"Apple\", \"18049-18070\", \"6_2c 2\"], [\"6_2c\", \"NA+\", \"18477-18495\", \"6_2c 2\"], [\"7_1a\", \"2+\", \"15741-15814\", \"7_1a 1\"], [\"7_1a\", \"Knife\", \"25630-25668\", \"7_1a 1\"], [\"7_1a\", \"Knife\", \"25668-25684\", \"7_1a 1\"], [\"7_1a\", \"Apple\", \"27004-27018\", \"7_1a 1\"], [\"7_1a\", \"Apple\", \"27018-27056\", \"7_1a 1\"], [\"7_1a\", \"Apple\", \"27792-27837\", \"7_1a 1\"], [\"7_1a\", \"Apple\", \"29629-29655\", \"7_1a 2\"], [\"7_1a\", \"Apple\", \"29655-29673\", \"7_1a 2\"], [\"7_1a\", \"Apple\", \"29673-29674\", \"7_1a 2\"], [\"7_1a\", \"Apple\", \"31697-31733\", \"7_1a 2\"], [\"7_1a\", \"Apple\", \"39480-39516\", \"7_1a 3\"], [\"7_1a\", \"2+\", \"40089-40134\", \"7_1a 3\"], [\"7_1a\", \"None\", \"52460-52470\", \"7_1a 5\"], [\"7_1a\", \"None\", \"52470-52497\", \"7_1a 5\"], [\"7_1a\", \"None\", \"52830-52875\", \"7_1a 5\"], [\"7_1a\", \"None\", \"52875-52883\", \"7_1a 5\"], [\"7_1a\", \"Apple\", \"53520-53538\", \"7_1a 5\"], [\"8_2a\", \"Apple\", \"7603-7605\", \"8_2a 1\"], [\"8_2a\", \"Apple\", \"7605-7623\", \"8_2a 1\"], [\"8_2a\", \"Apple\", \"7623-7633\", \"8_2a 1\"], [\"8_2a\", \"Banana\", \"12715-12750\", \"8_2a 2\"], [\"8_2a\", \"1+\", \"13010-13032\", \"8_2a 2\"], [\"8_2a\", \"None\", \"35509-35532\", \"8_2a 5\"], [\"8_2a\", \"1-\", \"35532-35534\", \"8_2a 5\"], [\"9_1b\", \"1+\", \"5916-5942\", \"9_1b 1\"], [\"9_1b\", \"Banana\", \"13215-13239\", \"9_1b 2\"], [\"9_1b\", \"Banana\", \"13239-13275\", \"9_1b 2\"], [\"9_1b\", \"Banana\", \"13275-13293\", \"9_1b 2\"], [\"9_1b\", \"Banana\", \"13293-13329\", \"9_1b 2\"], [\"9_1b\", \"Bowl\", \"13329-13356\", \"9_1b 2\"], [\"9_1b\", \"Bowl\", \"13356-13540\", \"9_1b 2\"], [\"10_2b\", \"2-\", \"25115-25155\", \"10_2b 1\"], [\"10_2b\", \"2-\", \"25155-25160\", \"10_2b 1\"], [\"11_1c\", \"Apple\", \"23194-23229\", \"11_1c 2\"], [\"11_1c\", \"Apple\", \"23229-23248\", \"11_1c 2\"], [\"11_1c\", \"Banana\", \"27003-27030\", \"11_1c 3\"], [\"12_2c\", \"Bear\", \"23327-23381\", \"12_2c 1\"], [\"12_2c\", \"Apple\", \"25701-25713\", \"12_2c 1\"], [\"12_2c\", \"Apple\", \"25713-25746\", \"12_2c 1\"], [\"13_1a\", \"1+\", \"1286-1325\", \"13_1a 1\"], [\"13_1a\", \"Apple\", \"1486-1503\", \"13_1a 1\"], [\"13_1a\", \"Apple\", \"1503-1530\", \"13_1a 1\"], [\"13_1a\", \"Apple\", \"1530-1531\", \"13_1a 1\"], [\"14_2a\", \"Banana\", \"12201-12228\", \"14_2a 1\"], [\"14_2a\", \"1+\", \"12658-12703\", \"14_2a 1\"], [\"14_2a\", \"Apple\", \"17682-17685\", \"14_2a 2\"], [\"14_2a\", \"Apple\", \"17685-17736\", \"14_2a 2\"], [\"14_2a\", \"None\", \"38922-38949\", \"14_2a 5\"], [\"14_2a\", \"Apple\", \"45651-45693\", \"14_2a 6\"], [\"14_2a\", \"Apple\", \"45693-45696\", \"14_2a 6\"], [\"15_1b\", \"Apple\", \"15532-15541\", \"15_1b 2\"], [\"15_1b\", \"Bear\", \"17754-17757\", \"15_1b 2\"], [\"15_1b\", \"Bear\", \"17757-17766\", \"15_1b 2\"], [\"15_1b\", \"Bear\", \"17766-17793\", \"15_1b 2\"], [\"15_1b\", \"Bear\", \"17793-17799\", \"15_1b 2\"], [\"16_2b\", \"Apple\", \"9496-9523\", \"16_2b 1\"], [\"16_2b\", \"Cup\", \"12536-12537\", \"16_2b 2\"], [\"16_2b\", \"Cup\", \"12537-12540\", \"16_2b 2\"], [\"16_2b\", \"Apple\", \"14482-14504\", \"16_2b 3\"], [\"17_1c\", \"1+\", \"8233-8287\", \"17_1c 1\"], [\"17_1c\", \"Cup\", \"12793-12861\", \"17_1c 2\"], [\"17_1c\", \"Cup\", \"12861-12883\", \"17_1c 2\"], [\"17_1c\", \"Banana\", \"23002-23004\", \"17_1c 3\"], [\"17_1c\", \"Banana\", \"23004-23040\", \"17_1c 3\"], [\"17_1c\", \"Banana\", \"23040-23049\", \"17_1c 3\"], [\"17_1c\", \"Banana\", \"23049-23076\", \"17_1c 3\"], [\"17_1c\", \"Banana\", \"23076-23085\", \"17_1c 3\"], [\"17_1c\", \"Banana\", \"23085-23101\", \"17_1c 3\"], [\"18_2c\", \"Apple\", \"1683-1700\", \"18_2c 1\"], [\"18_2c\", \"Apple\", \"10690-10728\", \"18_2c 2\"], [\"18_2c\", \"Apple\", \"10728-10735\", \"18_2c 2\"], [\"18_2c\", \"Banana\", \"18242-18261\", \"18_2c 3\"], [\"18_2c\", \"Banana\", \"18261-18265\", \"18_2c 3\"]], \"hoverlabel\": {\"namelength\": 0}, \"hovertemplate\": \"lemma=apple<br>x=%{x}<br>y=%{y}<br>participant=%{customdata[0]}<br>top=%{customdata[1]}<br>step=%{customdata[2]}<br>pt=%{customdata[3]}\", \"legendgroup\": \"apple\", \"marker\": {\"color\": \"#479B55\", \"symbol\": \"circle\"}, \"mode\": \"markers\", \"name\": \"apple\", \"showlegend\": true, \"type\": \"scatter\", \"x\": [15.790186882019043, 15.485613822937012, -16.835063934326172, 13.471046447753906, 16.48795509338379, 14.378167152404785, -18.72553062438965, -18.304000854492188, -18.163745880126953, 13.459589958190918, 10.546951293945312, 9.911149978637695, -16.960784912109375, -16.936664581298828, -17.06299591064453, -17.201637268066406, -17.31609535217285, -25.623682022094727, -25.434858322143555, 12.642450332641602, 15.799266815185547, 16.276935577392578, 14.368927001953125, 10.892719268798828, 8.374048233032227, -57.459632873535156, -57.00288391113281, 9.878600120544434, 9.434934616088867, 8.857782363891602, 15.597044944763184, 15.074569702148438, 15.074549674987793, 15.275552749633789, 19.734798431396484, -11.560730934143066, 19.842716217041016, 20.51342010498047, 17.22382926940918, 17.22351837158203, 16.074138641357422, 13.37845230102539, 13.648612022399902, 14.09323787689209, -15.558810234069824, -37.66331100463867, 20.181005477905273, 20.191865921020508, -15.680161476135254, -16.699604034423828, -16.7966365814209, -16.76783561706543, -16.649559020996094, -12.561128616333008, -12.549090385437012, 22.978450775146484, 22.978363037109375, 17.33568572998047, 16.809337615966797, -19.748632431030273, 44.951171875, 10.78659725189209, 10.972461700439453, 14.06747055053711, 14.178350448608398, 13.17106819152832, 12.369146347045898, -21.1756649017334, -13.958182334899902, 14.600597381591797, 13.808355331420898, 21.35515022277832, 15.515772819519043, 15.398550033569336, 14.777257919311523, 47.78133010864258, 48.483821868896484, 49.05262756347656, 49.068756103515625, 14.099218368530273, -43.35306167602539, -42.57916259765625, 16.15256118774414, -13.911381721496582, -42.43594741821289, -42.50382995605469, -23.12784767150879, -23.43946075439453, -23.049856185913086, -23.374624252319336, -24.167856216430664, -23.984453201293945, 13.47297191619873, 15.748733520507812, 15.901936531066895, -21.234758377075195, -20.550655364990234], \"xaxis\": \"x\", \"y\": [-46.207916259765625, -47.30463409423828, -36.46126174926758, -41.17028045654297, -45.79362106323242, -46.192420959472656, -30.317678451538086, -30.483762741088867, -30.46417236328125, -52.65571212768555, -44.3040885925293, -44.10514450073242, -39.85162353515625, -40.47133255004883, -41.033931732177734, -41.69887161254883, -42.346832275390625, 24.525344848632812, 24.772878646850586, -51.290157318115234, -49.34416580200195, -49.71889114379883, -42.28455352783203, 4.900087356567383, -45.8585205078125, 10.970938682556152, 10.988377571105957, -48.610633850097656, -47.668514251708984, -46.68852615356445, -49.96555709838867, -51.052703857421875, -51.05274963378906, -46.005130767822266, -44.36358642578125, -5.585549354553223, 14.7509765625, 14.485437393188477, -5.388391017913818, -5.388076305389404, -48.207130432128906, -42.581180572509766, -42.72698211669922, -42.95579528808594, -38.30832290649414, -12.847755432128906, -11.550094604492188, -11.61095142364502, -9.028802871704102, -25.12482452392578, -24.181184768676758, -23.192672729492188, -22.749868392944336, -12.430154800415039, -11.808341026306152, 15.932241439819336, 15.932263374328613, -47.193119049072266, -47.885498046875, -25.849319458007812, 16.19975471496582, -42.74153137207031, -42.79576110839844, -52.63431167602539, -44.995758056640625, -45.04545974731445, -45.06903076171875, -26.398759841918945, -36.00735855102539, -47.22990417480469, -45.98843765258789, -8.379725456237793, -45.85906219482422, -45.42863845825195, -52.41276550292969, 13.778473854064941, 13.738356590270996, 13.638740539550781, 13.385284423828125, -50.96470260620117, -11.318557739257812, -11.228462219238281, -43.531578063964844, -35.246490478515625, -12.064765930175781, -11.505677223205566, -37.72507858276367, -36.814239501953125, -37.44619369506836, -36.93508529663086, -36.29187774658203, -36.030887603759766, -41.213722229003906, -42.07845687866211, -42.131961822509766, -26.412174224853516, -25.831771850585938], \"yaxis\": \"y\"}, {\"customdata\": [[\"1_1a\", \"Spoon\", \"30749-30794\", \"1_1a 3\"], [\"1_1a\", \"Fork\", \"47006-47007\", \"1_1a 5\"], [\"1_1a\", \"Fork\", \"47007-47016\", \"1_1a 5\"], [\"1_1a\", \"Fork\", \"47016-47024\", \"1_1a 5\"], [\"2_2a\", \"Knife\", \"6788-6795\", \"2_2a 1\"], [\"2_2a\", \"Knife\", \"6795-6797\", \"2_2a 1\"], [\"2_2a\", \"Bowl\", \"14696-14697\", \"2_2a 3\"], [\"2_2a\", \"Bowl\", \"14697-14714\", \"2_2a 3\"], [\"2_2a\", \"Knife\", \"16513-16533\", \"2_2a 3\"], [\"2_2a\", \"Knife\", \"16533-16536\", \"2_2a 3\"], [\"2_2a\", \"Knife\", \"16671-16684\", \"2_2a 3\"], [\"4_2b\", \"Knife\", \"17076-17099\", \"4_2b 2\"], [\"6_2c\", \"None\", \"9876-9882\", \"6_2c 1\"], [\"6_2c\", \"None\", \"9882-9900\", \"6_2c 1\"], [\"6_2c\", \"None\", \"9900-9903\", \"6_2c 1\"], [\"6_2c\", \"None\", \"10366-10393\", \"6_2c 1\"], [\"6_2c\", \"Apple\", \"17126-17127\", \"6_2c 2\"], [\"6_2c\", \"Apple\", \"17127-17144\", \"6_2c 2\"], [\"6_2c\", \"Apple\", \"17408-17435\", \"6_2c 2\"], [\"6_2c\", \"Apple\", \"17760-17773\", \"6_2c 2\"], [\"6_2c\", \"Knife\", \"22338-22354\", \"6_2c 3\"], [\"6_2c\", \"Spoon\", \"47099-47115\", \"6_2c 6\"], [\"6_2c\", \"Spoon\", \"47115-47144\", \"6_2c 6\"], [\"7_1a\", \"Cup\", \"25837-25848\", \"7_1a 1\"], [\"7_1a\", \"Cup\", \"25848-25872\", \"7_1a 1\"], [\"10_2b\", \"None\", \"27171-27189\", \"10_2b 1\"], [\"10_2b\", \"None\", \"27189-27216\", \"10_2b 1\"], [\"10_2b\", \"Knife\", \"37965-38019\", \"10_2b 3\"], [\"10_2b\", \"Knife\", \"42381-42426\", \"10_2b 3\"], [\"12_2c\", \"Knife\", \"37480-37507\", \"12_2c 3\"], [\"12_2c\", \"Knife\", \"57428-57429\", \"12_2c 6\"], [\"12_2c\", \"Knife\", \"57429-57462\", \"12_2c 6\"], [\"12_2c\", \"Knife\", \"57651-57654\", \"12_2c 6\"], [\"12_2c\", \"Knife\", \"57654-57687\", \"12_2c 6\"], [\"16_2b\", \"Knife\", \"11964-11970\", \"16_2b 2\"], [\"16_2b\", \"Knife\", \"11970-11979\", \"16_2b 2\"], [\"16_2b\", \"Knife\", \"11979-11999\", \"16_2b 2\"], [\"16_2b\", \"Banana\", \"13874-13878\", \"16_2b 2\"], [\"16_2b\", \"Banana\", \"13878-13888\", \"16_2b 2\"], [\"17_1c\", \"1+\", \"6731-6767\", \"17_1c 1\"], [\"17_1c\", \"None\", \"8566-8657\", \"17_1c 1\"], [\"17_1c\", \"Knife\", \"25467-25494\", \"17_1c 3\"], [\"18_2c\", \"None\", \"43221-43255\", \"18_2c 6\"]], \"hoverlabel\": {\"namelength\": 0}, \"hovertemplate\": \"lemma=knife<br>x=%{x}<br>y=%{y}<br>participant=%{customdata[0]}<br>top=%{customdata[1]}<br>step=%{customdata[2]}<br>pt=%{customdata[3]}\", \"legendgroup\": \"knife\", \"marker\": {\"color\": \"#EEA6FB\", \"symbol\": \"circle\"}, \"mode\": \"markers\", \"name\": \"knife\", \"showlegend\": true, \"type\": \"scatter\", \"x\": [-25.388652801513672, -7.206398010253906, -7.760995388031006, -8.309127807617188, -54.82704544067383, -55.036861419677734, -13.806902885437012, -13.564986228942871, -55.60692596435547, -55.64185333251953, -56.68882369995117, -58.43183517456055, 21.08910369873047, 21.567445755004883, 22.488216400146484, 14.534791946411133, 15.3049898147583, 15.304967880249023, 15.71090030670166, 16.090608596801758, -58.36144256591797, -25.5948429107666, -25.42948341369629, -38.054710388183594, -37.971771240234375, 17.92469024658203, 17.823543548583984, -59.60374450683594, -58.50460433959961, -57.78007888793945, -60.878299713134766, -60.77644729614258, -55.91300964355469, -55.9273796081543, -58.572959899902344, -58.89069366455078, -59.28738784790039, -21.088708877563477, -22.057174682617188, -61.34592819213867, 22.517654418945312, -57.78025817871094, 19.820796966552734], \"xaxis\": \"x\", \"y\": [17.841060638427734, 22.144489288330078, 21.914932250976562, 21.89564323425293, 9.543618202209473, 9.574345588684082, -7.341583251953125, -7.516321659088135, 9.728557586669922, 9.998194694519043, 12.844664573669434, 10.393059730529785, 1.1750065088272095, 1.6508959531784058, 2.3327667713165283, 12.414595603942871, -49.15885543823242, -49.15839385986328, -51.277774810791016, -43.68861770629883, 5.91660737991333, 19.179563522338867, 18.602264404296875, -6.856743812561035, -6.878708839416504, -9.747113227844238, -9.822093963623047, 11.625138282775879, 11.529759407043457, 12.05456256866455, 9.558894157409668, 9.098567962646484, 7.87774133682251, 7.832910060882568, 9.254339218139648, 8.638364791870117, 8.565309524536133, -35.26018142700195, -35.71919631958008, 10.968616485595703, 16.132577896118164, 12.054646492004395, 7.120280742645264], \"yaxis\": \"y\"}, {\"customdata\": [[\"1_1a\", \"Bear\", \"35803-35830\", \"1_1a 4\"], [\"1_1a\", \"None\", \"54841-54846\", \"1_1a 6\"], [\"1_1a\", \"3-\", \"54846-54886\", \"1_1a 6\"], [\"2_2a\", \"None\", \"18977-18981\", \"2_2a 4\"], [\"2_2a\", \"None\", \"18981-18999\", \"2_2a 4\"], [\"2_2a\", \"6+\", \"18999-19002\", \"2_2a 4\"], [\"3_1b\", \"Bear\", \"3691-3718\", \"3_1b 1\"], [\"3_1b\", \"7+\", \"30566-30584\", \"3_1b 4\"], [\"4_2b\", \"8+\", \"22708-22778\", \"4_2b 3\"], [\"4_2b\", \"None\", \"28561-28569\", \"4_2b 3\"], [\"4_2b\", \"7+\", \"48365-48369\", \"4_2b 6\"], [\"4_2b\", \"2+\", \"50122-50140\", \"4_2b 6\"], [\"5_1c\", \"None\", \"22085-22121\", \"5_1c 5\"], [\"5_1c\", \"Ball\", \"26164-26208\", \"5_1c 6\"], [\"6_2c\", \"Toy\", \"27881-27882\", \"6_2c 4\"], [\"6_2c\", \"Toy\", \"27882-27891\", \"6_2c 4\"], [\"6_2c\", \"Toy\", \"27891-27909\", \"6_2c 4\"], [\"6_2c\", \"Toy\", \"27909-27954\", \"6_2c 4\"], [\"6_2c\", \"Toy\", \"27954-27963\", \"6_2c 4\"], [\"6_2c\", \"Toy\", \"27963-27981\", \"6_2c 4\"], [\"6_2c\", \"None\", \"29576-29603\", \"6_2c 4\"], [\"6_2c\", \"Toy\", \"31810-31815\", \"6_2c 4\"], [\"6_2c\", \"Toy\", \"31815-31824\", \"6_2c 4\"], [\"6_2c\", \"Toy\", \"31824-31833\", \"6_2c 4\"], [\"6_2c\", \"Toy\", \"31833-31842\", \"6_2c 4\"], [\"6_2c\", \"Toy\", \"31842-31860\", \"6_2c 4\"], [\"6_2c\", \"Toy\", \"31860-31869\", \"6_2c 4\"], [\"6_2c\", \"Toy\", \"31869-31873\", \"6_2c 4\"], [\"6_2c\", \"None\", \"36458-36504\", \"6_2c 5\"], [\"6_2c\", \"None\", \"36504-36516\", \"6_2c 5\"], [\"6_2c\", \"None\", \"39473-39483\", \"6_2c 6\"], [\"6_2c\", \"None\", \"39483-39494\", \"6_2c 6\"], [\"6_2c\", \"None\", \"41251-41274\", \"6_2c 6\"], [\"6_2c\", \"None\", \"41274-41310\", \"6_2c 6\"], [\"6_2c\", \"None\", \"41310-41328\", \"6_2c 6\"], [\"6_2c\", \"None\", \"41328-41344\", \"6_2c 6\"], [\"6_2c\", \"6+\", \"42393-42428\", \"6_2c 6\"], [\"7_1a\", \"Book\", \"42516-42525\", \"7_1a 4\"], [\"7_1a\", \"Book\", \"42525-42534\", \"7_1a 4\"], [\"7_1a\", \"Book\", \"42534-42543\", \"7_1a 4\"], [\"7_1a\", \"7-\", \"42543-42560\", \"7_1a 4\"], [\"7_1a\", \"None\", \"62752-62788\", \"7_1a 6\"], [\"8_2a\", \"None\", \"40923-40975\", \"8_2a 6\"], [\"8_2a\", \"Ball\", \"43584-43627\", \"8_2a 6\"], [\"9_1b\", \"Bowl\", \"4800-4806\", \"9_1b 1\"], [\"9_1b\", \"Bowl\", \"4806-4851\", \"9_1b 1\"], [\"9_1b\", \"Bowl\", \"4851-4854\", \"9_1b 1\"], [\"9_1b\", \"2-\", \"35791-35800\", \"9_1b 6\"], [\"10_2b\", \"1+\", \"44171-44180\", \"10_2b 4\"], [\"10_2b\", \"None\", \"66379-66393\", \"10_2b 6\"], [\"10_2b\", \"9+\", \"66393-66396\", \"10_2b 6\"], [\"11_1c\", \"None\", \"31314-31329\", \"11_1c 4\"], [\"11_1c\", \"None\", \"31329-31341\", \"11_1c 4\"], [\"11_1c\", \"Doll\", \"37668-37683\", \"11_1c 4\"], [\"11_1c\", \"Doll\", \"37683-37749\", \"11_1c 4\"], [\"11_1c\", \"Ball\", \"51049-51094\", \"11_1c 6\"], [\"12_2c\", \"Dinosaur\", \"53196-53205\", \"12_2c 6\"], [\"13_1a\", \"Doll\", \"32678-32679\", \"13_1a 5\"], [\"13_1a\", \"Doll\", \"32679-32688\", \"13_1a 5\"], [\"13_1a\", \"Doll\", \"32688-32704\", \"13_1a 5\"], [\"13_1a\", \"None\", \"38402-38438\", \"13_1a 6\"], [\"14_2a\", \"1+\", \"12982-13000\", \"14_2a 1\"], [\"14_2a\", \"None\", \"29939-29948\", \"14_2a 4\"], [\"14_2a\", \"Toy\", \"35646-35667\", \"14_2a 4\"], [\"14_2a\", \"Toy\", \"35667-35685\", \"14_2a 4\"], [\"14_2a\", \"Toy\", \"35685-35691\", \"14_2a 4\"], [\"14_2a\", \"Bear\", \"42319-42346\", \"14_2a 5\"], [\"14_2a\", \"Bear\", \"46167-46188\", \"14_2a 6\"], [\"14_2a\", \"Bear\", \"46188-46194\", \"14_2a 6\"], [\"15_1b\", \"2-\", \"6791-6819\", \"15_1b 1\"], [\"16_2b\", \"None\", \"26588-26595\", \"16_2b 5\"], [\"16_2b\", \"None\", \"26595-26604\", \"16_2b 5\"], [\"16_2b\", \"None\", \"26604-26620\", \"16_2b 5\"], [\"17_1c\", \"None\", \"29519-29554\", \"17_1c 4\"], [\"17_1c\", \"None\", \"49988-50033\", \"17_1c 6\"], [\"18_2c\", \"None\", \"20052-20078\", \"18_2c 4\"], [\"18_2c\", \"Bear\", \"38996-39006\", \"18_2c 6\"], [\"18_2c\", \"Bear\", \"39006-39032\", \"18_2c 6\"]], \"hoverlabel\": {\"namelength\": 0}, \"hovertemplate\": \"lemma=toy<br>x=%{x}<br>y=%{y}<br>participant=%{customdata[0]}<br>top=%{customdata[1]}<br>step=%{customdata[2]}<br>pt=%{customdata[3]}\", \"legendgroup\": \"toy\", \"marker\": {\"color\": \"#DC587D\", \"symbol\": \"circle\"}, \"mode\": \"markers\", \"name\": \"toy\", \"showlegend\": true, \"type\": \"scatter\", \"x\": [44.25394821166992, 14.876806259155273, 14.901359558105469, 14.622832298278809, 14.643635749816895, 14.660897254943848, 45.54925537109375, 53.047000885009766, 50.28435516357422, 20.90802574157715, -2.739636182785034, 39.70830535888672, 11.121064186096191, 18.395984649658203, -0.3096340596675873, -0.6640105247497559, -0.6761062741279602, -1.2273986339569092, -1.7897828817367554, -1.992682695388794, 24.424591064453125, -4.044801712036133, -4.565202713012695, -4.510265827178955, -4.2474446296691895, -3.603191375732422, -3.5390284061431885, -3.8233766555786133, 21.51006507873535, 21.58101463317871, 23.51007652282715, 23.497352600097656, 15.497465133666992, 15.501188278198242, 15.530240058898926, 15.599403381347656, -1.2607648372650146, 37.980133056640625, 38.13465881347656, 38.311851501464844, 38.452659606933594, 21.08762550354004, 21.809856414794922, 13.175620079040527, -12.500301361083984, -12.723867416381836, -13.232000350952148, 23.048749923706055, -13.014056205749512, 12.826210021972656, 12.783766746520996, 15.479645729064941, 15.546422958374023, 3.5704410076141357, 3.611025333404541, 18.236583709716797, -3.185317039489746, 3.2980661392211914, 3.2734711170196533, 3.4292731285095215, 18.024412155151367, 13.601402282714844, 20.92346954345703, -2.9097838401794434, -3.8275954723358154, -3.5947093963623047, 44.96054458618164, 46.402488708496094, 46.41151809692383, 22.528644561767578, 19.023412704467773, 18.986759185791016, 18.713687896728516, 15.977688789367676, 21.936655044555664, 23.260440826416016, 49.12491226196289, 49.103729248046875], \"xaxis\": \"x\", \"y\": [17.029787063598633, 20.59609603881836, 20.6999568939209, 14.796010971069336, 16.112031936645508, 16.51737403869629, 19.929574966430664, 12.679774284362793, 19.20994758605957, -6.9818267822265625, 3.1407477855682373, -15.501470565795898, 0.21665242314338684, 28.187101364135742, 43.765594482421875, 43.27873611450195, 43.126094818115234, 42.94377517700195, 42.61716079711914, 42.71760177612305, 4.013482093811035, 44.07167053222656, 43.77969741821289, 44.38724136352539, 43.63904571533203, 43.90311050415039, 44.57396697998047, 44.87995529174805, -3.4079267978668213, -3.034762382507324, 4.618586540222168, 4.618053436279297, 3.335237503051758, 3.538351535797119, 4.184043884277344, 4.349664211273193, 4.7383131980896, -11.748412132263184, -11.89050006866455, -12.050715446472168, -12.177021026611328, -7.693373203277588, 13.530097961425781, 31.127666473388672, -9.024422645568848, -8.975163459777832, -8.878918647766113, 12.955293655395508, -36.790889739990234, -4.304532527923584, -4.259056568145752, 9.184860229492188, 9.315868377685547, -20.138225555419922, -20.165719985961914, 29.14379119873047, 3.8276960849761963, -21.266931533813477, -21.13604736328125, -20.98885154724121, -6.764001846313477, -52.15208435058594, 12.19443130493164, 43.2330207824707, 42.66237258911133, 43.17130661010742, 15.814393043518066, 16.012496948242188, 15.501155853271484, 12.992701530456543, 0.013543286360800266, 0.33327001333236694, 0.24276866018772125, 13.918155670166016, 12.311964988708496, 10.068612098693848, 18.197546005249023, 18.183101654052734], \"yaxis\": \"y\"}, {\"customdata\": [[\"1_1a\", \"Ball\", \"55101-55146\", \"1_1a 6\"], [\"2_2a\", \"6-\", \"5066-5101\", \"2_2a 1\"], [\"4_2b\", \"Banana\", \"8087-8091\", \"4_2b 1\"], [\"4_2b\", \"Banana\", \"8091-8100\", \"4_2b 1\"], [\"4_2b\", \"Banana\", \"8100-8110\", \"4_2b 1\"], [\"4_2b\", \"Apple\", \"13959-13977\", \"4_2b 2\"], [\"4_2b\", \"Apple\", \"13977-13981\", \"4_2b 2\"], [\"4_2b\", \"None\", \"22489-22509\", \"4_2b 3\"], [\"4_2b\", \"None\", \"22509-22518\", \"4_2b 3\"], [\"4_2b\", \"None\", \"22518-22527\", \"4_2b 3\"], [\"4_2b\", \"None\", \"22527-22534\", \"4_2b 3\"], [\"4_2b\", \"Dinosaur\", \"48643-48661\", \"4_2b 6\"], [\"4_2b\", \"Book\", \"50176-50189\", \"4_2b 6\"], [\"4_2b\", \"Book\", \"50813-50823\", \"4_2b 6\"], [\"4_2b\", \"Book\", \"50823-50827\", \"4_2b 6\"], [\"5_1c\", \"None\", \"4994-5012\", \"5_1c 1\"], [\"5_1c\", \"None\", \"29297-29313\", \"5_1c 6\"], [\"5_1c\", \"None\", \"29313-29322\", \"5_1c 6\"], [\"5_1c\", \"None\", \"29322-29333\", \"5_1c 6\"], [\"6_2c\", \"None\", \"26387-26388\", \"6_2c 4\"], [\"6_2c\", \"None\", \"26388-26397\", \"6_2c 4\"], [\"6_2c\", \"None\", \"26397-26401\", \"6_2c 4\"], [\"18_2c\", \"Bear\", \"1148-1152\", \"18_2c 1\"], [\"18_2c\", \"Bear\", \"1152-1175\", \"18_2c 1\"]], \"hoverlabel\": {\"namelength\": 0}, \"hovertemplate\": \"lemma=chair<br>x=%{x}<br>y=%{y}<br>participant=%{customdata[0]}<br>top=%{customdata[1]}<br>step=%{customdata[2]}<br>pt=%{customdata[3]}\", \"legendgroup\": \"chair\", \"marker\": {\"color\": \"#D626FF\", \"symbol\": \"circle\"}, \"mode\": \"markers\", \"name\": \"chair\", \"showlegend\": true, \"type\": \"scatter\", \"x\": [16.54073715209961, 13.68532657623291, -22.647319793701172, -23.00461769104004, -23.17439842224121, 17.179914474487305, 17.18150520324707, 13.032941818237305, 13.193188667297363, 14.30542278289795, 14.652936935424805, -2.7263290882110596, 43.79107666015625, 43.0340461730957, 43.056583404541016, 24.787294387817383, 18.793888092041016, 18.543397903442383, 18.333484649658203, 21.756608963012695, 21.569612503051758, 21.239089965820312, 52.65167236328125, 52.629608154296875], \"xaxis\": \"x\", \"y\": [30.694860458374023, 13.607117652893066, -35.025360107421875, -34.22660827636719, -34.02470016479492, -40.20719909667969, -40.19710159301758, -0.23301632702350616, -0.21024960279464722, -0.7225350141525269, -0.7934483885765076, 3.2050657272338867, -18.222518920898438, -17.04398536682129, -17.220584869384766, 4.080460071563721, 1.9010655879974365, 2.161513566970825, 2.64316725730896, -0.6278219223022461, -0.2925430238246918, 0.05183732882142067, 13.05735969543457, 13.082873344421387], \"yaxis\": \"y\"}, {\"customdata\": [[\"2_2a\", \"Cup\", \"9515-9536\", \"2_2a 1\"], [\"2_2a\", \"Cup\", \"9876-9891\", \"2_2a 1\"], [\"2_2a\", \"Cup\", \"9891-9958\", \"2_2a 1\"], [\"2_2a\", \"1+\", \"15060-15074\", \"2_2a 3\"], [\"3_1b\", \"None\", \"35831-35849\", \"3_1b 5\"], [\"4_2b\", \"4+\", \"21020-21024\", \"4_2b 3\"], [\"4_2b\", \"4+\", \"21024-21042\", \"4_2b 3\"], [\"4_2b\", \"Cup\", \"21042-21069\", \"4_2b 3\"], [\"4_2b\", \"Cup\", \"21069-21078\", \"4_2b 3\"], [\"4_2b\", \"Cup\", \"21078-21085\", \"4_2b 3\"], [\"4_2b\", \"Cup\", \"24385-24435\", \"4_2b 3\"], [\"4_2b\", \"Cup\", \"24435-24453\", \"4_2b 3\"], [\"4_2b\", \"Cup\", \"24453-24480\", \"4_2b 3\"], [\"4_2b\", \"Cup\", \"24480-24489\", \"4_2b 3\"], [\"4_2b\", \"Spoon\", \"25615-25633\", \"4_2b 3\"], [\"4_2b\", \"Fork\", \"26940-26967\", \"4_2b 3\"], [\"4_2b\", \"Fork\", \"27509-27536\", \"4_2b 3\"], [\"4_2b\", \"9+\", \"41881-41895\", \"4_2b 5\"], [\"4_2b\", \"9+\", \"41895-41940\", \"4_2b 5\"], [\"4_2b\", \"Fork\", \"41940-41961\", \"4_2b 5\"], [\"4_2b\", \"Cup\", \"45169-45171\", \"4_2b 5\"], [\"4_2b\", \"Cup\", \"45171-45187\", \"4_2b 5\"], [\"4_2b\", \"Bear\", \"47948-47952\", \"4_2b 5\"], [\"4_2b\", \"Bear\", \"47952-47961\", \"4_2b 5\"], [\"4_2b\", \"Spoon\", \"52467-52470\", \"4_2b 6\"], [\"4_2b\", \"Cup\", \"52470-52479\", \"4_2b 6\"], [\"4_2b\", \"Cup\", \"52479-52481\", \"4_2b 6\"], [\"5_1c\", \"1+\", \"10500-10545\", \"5_1c 3\"], [\"8_2a\", \"Cup\", \"9489-9503\", \"8_2a 1\"], [\"8_2a\", \"Bowl\", \"25456-25470\", \"8_2a 3\"], [\"8_2a\", \"None\", \"38373-38407\", \"8_2a 5\"], [\"10_2b\", \"None\", \"23730-23775\", \"10_2b 1\"], [\"10_2b\", \"None\", \"24288-24315\", \"10_2b 1\"], [\"10_2b\", \"Cup\", \"37138-37143\", \"10_2b 3\"], [\"10_2b\", \"Cup\", \"37143-37156\", \"10_2b 3\"], [\"10_2b\", \"Cup\", \"40446-40482\", \"10_2b 3\"], [\"10_2b\", \"Cup\", \"67627-67635\", \"10_2b 6\"], [\"10_2b\", \"Cup\", \"67635-67654\", \"10_2b 6\"], [\"10_2b\", \"Banana\", \"68793-68805\", \"10_2b 6\"], [\"10_2b\", \"Banana\", \"68805-68819\", \"10_2b 6\"], [\"11_1c\", \"2+\", \"19207-19252\", \"11_1c 1\"], [\"11_1c\", \"Cup\", \"25454-25470\", \"11_1c 2\"], [\"11_1c\", \"Cup\", \"25470-25481\", \"11_1c 2\"], [\"11_1c\", \"Fork\", \"29315-29322\", \"11_1c 3\"], [\"11_1c\", \"Fork\", \"29322-29342\", \"11_1c 3\"], [\"12_2c\", \"Cup\", \"27440-27458\", \"12_2c 1\"], [\"12_2c\", \"Cup\", \"32136-32139\", \"12_2c 2\"], [\"12_2c\", \"Cup\", \"32139-32163\", \"12_2c 2\"], [\"12_2c\", \"Cup\", \"32685-32712\", \"12_2c 2\"], [\"13_1a\", \"Cup\", \"37757-37772\", \"13_1a 6\"], [\"14_2a\", \"Cup\", \"14980-15016\", \"14_2a 1\"], [\"14_2a\", \"Cup\", \"15635-15651\", \"14_2a 1\"], [\"14_2a\", \"Cup\", \"15651-15653\", \"14_2a 1\"], [\"14_2a\", \"1+\", \"18608-18635\", \"14_2a 2\"], [\"14_2a\", \"Cup\", \"26962-27007\", \"14_2a 3\"], [\"14_2a\", \"None\", \"40397-40442\", \"14_2a 5\"], [\"14_2a\", \"Cup\", \"49630-49663\", \"14_2a 6\"], [\"16_2b\", \"Cup\", \"8129-8138\", \"16_2b 1\"], [\"17_1c\", \"Cup\", \"9899-9900\", \"17_1c 1\"], [\"17_1c\", \"Cup\", \"9900-9927\", \"17_1c 1\"], [\"17_1c\", \"Cup\", \"9927-9962\", \"17_1c 1\"], [\"18_2c\", \"None\", \"3500-3510\", \"18_2c 1\"], [\"18_2c\", \"None\", \"3510-3519\", \"18_2c 1\"], [\"18_2c\", \"None\", \"3519-3527\", \"18_2c 1\"]], \"hoverlabel\": {\"namelength\": 0}, \"hovertemplate\": \"lemma=cup<br>x=%{x}<br>y=%{y}<br>participant=%{customdata[0]}<br>top=%{customdata[1]}<br>step=%{customdata[2]}<br>pt=%{customdata[3]}\", \"legendgroup\": \"cup\", \"marker\": {\"color\": \"#6E899C\", \"symbol\": \"circle\"}, \"mode\": \"markers\", \"name\": \"cup\", \"showlegend\": true, \"type\": \"scatter\", \"x\": [-38.34189224243164, -34.48489761352539, -35.058624267578125, -37.658180236816406, 22.09585952758789, -30.9583740234375, -31.265560150146484, -31.775867462158203, -32.75982666015625, -33.71605682373047, -39.51774597167969, -40.217830657958984, -41.1113166809082, -41.80971908569336, -34.649600982666016, -10.773582458496094, -7.784273624420166, 40.86689376831055, 40.7223014831543, 40.5838737487793, -44.853939056396484, -44.37456512451172, 47.205387115478516, 47.373291015625, -27.33047866821289, -27.532873153686523, -27.77640151977539, -37.82315444946289, -33.91596603393555, -13.491559028625488, 13.697877883911133, 19.320589065551758, 12.686091423034668, -35.640663146972656, -35.640663146972656, -41.63095474243164, -38.74114227294922, -38.65066909790039, -10.996123313903809, -10.948739051818848, -37.34858322143555, -40.757240295410156, -41.87442398071289, -7.43814754486084, -7.100895881652832, -37.429988861083984, -42.92147445678711, -43.74351119995117, -44.174560546875, -39.63936996459961, -37.754676818847656, -34.537269592285156, -35.0003662109375, -15.6802396774292, -37.05978012084961, 19.54769515991211, -37.47047805786133, -34.67270278930664, -42.186439514160156, -42.27241134643555, -42.26947021484375, 22.76369857788086, 22.553682327270508, 22.985721588134766], \"xaxis\": \"x\", \"y\": [-4.880248546600342, -7.027368545532227, -6.769444942474365, -12.85520076751709, 13.994994163513184, -10.7356538772583, -10.635946273803711, -10.478447914123535, -10.230830192565918, -10.000463485717773, -13.264290809631348, -13.238226890563965, -13.878314971923828, -13.856221199035645, 23.80363655090332, 21.57744789123535, 22.571001052856445, 20.303529739379883, 20.367534637451172, 20.418596267700195, -10.30040168762207, -10.190374374389648, 16.477825164794922, 16.655847549438477, 13.516613006591797, 13.209118843078613, 13.146978378295898, -13.171431541442871, -7.030237197875977, -9.196638107299805, 12.793702125549316, -6.911474704742432, -0.17905239760875702, -9.362062454223633, -9.362064361572266, -12.532143592834473, -10.083802223205566, -9.747228622436523, -26.80900764465332, -26.780338287353516, -4.603384494781494, -11.804747581481934, -11.727545738220215, 20.599336624145508, 20.38327407836914, -6.142075061798096, -12.307373046875, -11.891007423400879, -10.755102157592773, -6.775829792022705, -11.75518798828125, -7.1891913414001465, -7.5688982009887695, -9.028838157653809, -12.161091804504395, 14.671710014343262, -11.13466739654541, -4.342353820800781, -9.360318183898926, -8.860980987548828, -8.803041458129883, 9.582629203796387, 10.54554557800293, 10.632478713989258], \"yaxis\": \"y\"}, {\"customdata\": [[\"2_2a\", \"2+\", \"38097-38123\", \"2_2a 6\"], [\"3_1b\", \"Bear\", \"32257-32283\", \"3_1b 5\"], [\"3_1b\", \"Bear\", \"32283-32293\", \"3_1b 5\"], [\"3_1b\", \"1+\", \"40864-40898\", \"3_1b 6\"], [\"4_2b\", \"Bear\", \"38112-38124\", \"4_2b 5\"], [\"4_2b\", \"Bear\", \"38124-38131\", \"4_2b 5\"], [\"4_2b\", \"Cup\", \"43637-43673\", \"4_2b 5\"], [\"4_2b\", \"1+\", \"45412-45438\", \"4_2b 5\"], [\"4_2b\", \"Ball\", \"51497-51534\", \"4_2b 6\"], [\"4_2b\", \"Ball\", \"51534-51537\", \"4_2b 6\"], [\"4_2b\", \"6-\", \"54052-54070\", \"4_2b 6\"], [\"6_2c\", \"None\", \"35400-35433\", \"6_2c 5\"], [\"6_2c\", \"None\", \"35433-35436\", \"6_2c 5\"], [\"6_2c\", \"Toy\", \"41042-41067\", \"6_2c 6\"], [\"7_1a\", \"Bowl\", \"22287-22320\", \"7_1a 1\"], [\"7_1a\", \"Bowl\", \"22320-22347\", \"7_1a 1\"], [\"7_1a\", \"Bowl\", \"22347-22349\", \"7_1a 1\"], [\"7_1a\", \"None\", \"64217-64251\", \"7_1a 6\"], [\"7_1a\", \"None\", \"64251-64253\", \"7_1a 6\"], [\"10_2b\", \"Toy\", \"49131-49176\", \"10_2b 4\"], [\"11_1c\", \"Bear\", \"42809-42813\", \"11_1c 5\"], [\"11_1c\", \"Bear\", \"42813-42853\", \"11_1c 5\"], [\"11_1c\", \"Plant\", \"45333-45387\", \"11_1c 5\"], [\"11_1c\", \"Plant\", \"45387-45396\", \"11_1c 5\"], [\"11_1c\", \"Plant\", \"45396-45405\", \"11_1c 5\"], [\"11_1c\", \"Plant\", \"45405-45423\", \"11_1c 5\"], [\"11_1c\", \"Plant\", \"45423-45432\", \"11_1c 5\"], [\"11_1c\", \"Plant\", \"45432-45442\", \"11_1c 5\"], [\"11_1c\", \"Plant\", \"46616-46638\", \"11_1c 6\"], [\"11_1c\", \"Plant\", \"46638-46652\", \"11_1c 6\"], [\"12_2c\", \"Toy\", \"50735-50787\", \"12_2c 5\"], [\"12_2c\", \"Toy\", \"50787-50798\", \"12_2c 5\"], [\"13_1a\", \"Plant\", \"31071-31133\", \"13_1a 5\"], [\"14_2a\", \"Dinosaur\", \"37411-37422\", \"14_2a 4\"], [\"14_2a\", \"Dinosaur\", \"37422-37447\", \"14_2a 4\"], [\"15_1b\", \"Plant\", \"39949-39969\", \"15_1b 6\"], [\"15_1b\", \"Plant\", \"39969-39985\", \"15_1b 6\"], [\"16_2b\", \"None\", \"26728-26901\", \"16_2b 5\"], [\"16_2b\", \"None\", \"26901-26926\", \"16_2b 5\"], [\"18_2c\", \"None\", \"44494-44521\", \"18_2c 6\"]], \"hoverlabel\": {\"namelength\": 0}, \"hovertemplate\": \"lemma=plant<br>x=%{x}<br>y=%{y}<br>participant=%{customdata[0]}<br>top=%{customdata[1]}<br>step=%{customdata[2]}<br>pt=%{customdata[3]}\", \"legendgroup\": \"plant\", \"marker\": {\"color\": \"#00B5F7\", \"symbol\": \"circle\"}, \"mode\": \"markers\", \"name\": \"plant\", \"showlegend\": true, \"type\": \"scatter\", \"x\": [-4.535600185394287, 47.91622543334961, 47.91120147705078, -16.423742294311523, 49.90178680419922, 49.90796661376953, -42.06662368774414, -27.45611000061035, 14.577065467834473, 14.610054016113281, 13.68532657623291, 19.80897331237793, 20.165876388549805, -0.061445824801921844, -11.123971939086914, -11.46723461151123, -11.5795259475708, 26.973054885864258, 26.839614868164062, -0.40035176277160645, 50.60045623779297, 50.6533088684082, -15.522440910339355, -15.41128921508789, -15.225662231445312, -14.849231719970703, -14.44308853149414, -14.13989543914795, -13.480822563171387, -13.575939178466797, -1.6834843158721924, -1.6241087913513184, -15.356710433959961, -1.9968549013137817, -1.6779931783676147, -15.746637344360352, -15.737690925598145, 21.160980224609375, 21.029478073120117, 18.244808197021484], \"xaxis\": \"x\", \"y\": [4.019032001495361, 14.754055976867676, 14.603670120239258, 7.646618843078613, 17.54108238220215, 17.441102981567383, -11.091765403747559, 24.589754104614258, 30.91164779663086, 30.84419822692871, 13.607117652893066, -4.8855791091918945, -4.117179870605469, 46.72993469238281, -10.832574844360352, -11.180819511413574, -11.476034164428711, 3.2290942668914795, 3.32726788520813, 44.33138656616211, 16.272722244262695, 16.364843368530273, 7.480933666229248, 7.490074157714844, 7.632180213928223, 7.645547866821289, 7.594520568847656, 7.4377217292785645, 7.743557453155518, 7.710931777954102, 39.543582916259766, 39.366241455078125, 8.665515899658203, 5.898797512054443, 5.804506301879883, 8.523072242736816, 8.559834480285645, -6.342223644256592, -5.795278549194336, 12.555109024047852], \"yaxis\": \"y\"}, {\"customdata\": [[\"3_1b\", \"Bear\", \"28485-28494\", \"3_1b 4\"], [\"3_1b\", \"Bear\", \"28494-28521\", \"3_1b 4\"], [\"5_1c\", \"Toy\", \"15410-15453\", \"5_1c 4\"], [\"5_1c\", \"Toy\", \"15453-15455\", \"5_1c 4\"], [\"5_1c\", \"Bear\", \"17193-17208\", \"5_1c 4\"], [\"5_1c\", \"Bear\", \"17208-17217\", \"5_1c 4\"], [\"5_1c\", \"Bear\", \"17217-17220\", \"5_1c 4\"], [\"5_1c\", \"Doll\", \"17958-17976\", \"5_1c 4\"], [\"5_1c\", \"Bear\", \"18760-18787\", \"5_1c 4\"], [\"7_1a\", \"Bear\", \"51882-51972\", \"7_1a 4\"], [\"7_1a\", \"Bear\", \"66022-66024\", \"7_1a 6\"], [\"7_1a\", \"Bear\", \"66024-66050\", \"7_1a 6\"], [\"9_1b\", \"Bear\", \"25724-25769\", \"9_1b 4\"], [\"9_1b\", \"Bear\", \"29089-29115\", \"9_1b 4\"], [\"9_1b\", \"Bear\", \"29115-29134\", \"9_1b 4\"], [\"9_1b\", \"Ball\", \"30116-30159\", \"9_1b 4\"], [\"9_1b\", \"Ball\", \"30159-30161\", \"9_1b 4\"], [\"9_1b\", \"Bear\", \"36710-36746\", \"9_1b 6\"], [\"11_1c\", \"Bear\", \"31810-31815\", \"11_1c 4\"], [\"11_1c\", \"Bear\", \"31815-31833\", \"11_1c 4\"], [\"11_1c\", \"Bear\", \"31833-31845\", \"11_1c 4\"], [\"11_1c\", \"None\", \"42162-42165\", \"11_1c 5\"], [\"11_1c\", \"5-\", \"42165-42210\", \"11_1c 5\"], [\"11_1c\", \"Bear\", \"42210-42219\", \"11_1c 5\"], [\"11_1c\", \"Bear\", \"42219-42246\", \"11_1c 5\"], [\"11_1c\", \"Bear\", \"42246-42255\", \"11_1c 5\"], [\"11_1c\", \"Bear\", \"42255-42273\", \"11_1c 5\"], [\"11_1c\", \"Bear\", \"42273-42288\", \"11_1c 5\"], [\"13_1a\", \"Bear\", \"22383-22419\", \"13_1a 4\"], [\"13_1a\", \"Bear\", \"23409-23436\", \"13_1a 4\"], [\"13_1a\", \"Toy\", \"25681-25708\", \"13_1a 4\"], [\"15_1b\", \"Bear\", \"29731-29736\", \"15_1b 4\"], [\"15_1b\", \"Bear\", \"29736-29754\", \"15_1b 4\"], [\"15_1b\", \"Bear\", \"29754-29758\", \"15_1b 4\"], [\"18_2c\", \"Bear\", \"39257-39285\", \"18_2c 6\"], [\"18_2c\", \"Bear\", \"39285-39303\", \"18_2c 6\"], [\"18_2c\", \"Bear\", \"39303-39329\", \"18_2c 6\"]], \"hoverlabel\": {\"namelength\": 0}, \"hovertemplate\": \"lemma=bear<br>x=%{x}<br>y=%{y}<br>participant=%{customdata[0]}<br>top=%{customdata[1]}<br>step=%{customdata[2]}<br>pt=%{customdata[3]}\", \"legendgroup\": \"bear\", \"marker\": {\"color\": \"#B68E00\", \"symbol\": \"circle\"}, \"mode\": \"markers\", \"name\": \"bear\", \"showlegend\": true, \"type\": \"scatter\", \"x\": [45.85841751098633, 46.34843826293945, -2.50888729095459, -3.1473000049591064, 48.87648010253906, 48.923675537109375, 48.939849853515625, 2.1216585636138916, 49.78170394897461, 49.66525650024414, 51.37067413330078, 51.400634765625, 44.42434310913086, 51.79041290283203, 51.67116928100586, 18.41276741027832, 18.398313522338867, 46.54637145996094, 51.65864944458008, 51.113059997558594, 50.58070755004883, 44.3366813659668, 44.63001251220703, 45.348716735839844, 46.3144645690918, 47.31106948852539, 47.7807502746582, 48.01462936401367, 45.163368225097656, 44.15497970581055, -3.402550458908081, 46.41965103149414, 47.614742279052734, 47.96485900878906, 50.95736312866211, 51.224056243896484, 51.35337448120117], \"xaxis\": \"x\", \"y\": [14.161581993103027, 13.93269157409668, 43.90727233886719, 43.30387878417969, 14.974452018737793, 15.631719589233398, 15.68410587310791, -19.427501678466797, 13.487874984741211, 13.321189880371094, 11.090919494628906, 10.976841926574707, 18.417531967163086, 14.227593421936035, 14.347698211669922, 27.38180160522461, 27.25604248046875, 14.92960262298584, 15.316558837890625, 15.129852294921875, 14.851140022277832, 11.126056671142578, 11.349960327148438, 11.781896591186523, 12.279486656188965, 12.732880592346191, 12.255940437316895, 12.06218147277832, 19.58970069885254, 17.6646728515625, 41.83040237426758, 17.213211059570312, 17.636629104614258, 17.88397216796875, 18.545122146606445, 18.25657081604004, 17.996051788330078], \"yaxis\": \"y\"}, {\"customdata\": [[\"3_1b\", \"Doll\", \"29321-29322\", \"3_1b 4\"], [\"3_1b\", \"Doll\", \"29322-29331\", \"3_1b 4\"], [\"3_1b\", \"Doll\", \"29331-29366\", \"3_1b 4\"], [\"5_1c\", \"5+\", \"23300-23337\", \"5_1c 5\"], [\"6_2c\", \"Dinosaur\", \"32758-32769\", \"6_2c 4\"], [\"6_2c\", \"Dinosaur\", \"32769-32805\", \"6_2c 4\"], [\"6_2c\", \"Dinosaur\", \"32805-32850\", \"6_2c 4\"], [\"6_2c\", \"Dinosaur\", \"32850-32872\", \"6_2c 4\"], [\"6_2c\", \"Toy\", \"39969-39978\", \"6_2c 6\"], [\"6_2c\", \"Toy\", \"39978-39991\", \"6_2c 6\"], [\"6_2c\", \"Toy\", \"40872-40896\", \"6_2c 6\"], [\"6_2c\", \"Toy\", \"40896-40899\", \"6_2c 6\"], [\"7_1a\", \"2-\", \"49683-49698\", \"7_1a 4\"], [\"7_1a\", \"1+\", \"49698-49710\", \"7_1a 4\"], [\"9_1b\", \"Doll\", \"35172-35199\", \"9_1b 5\"], [\"9_1b\", \"Doll\", \"36025-36027\", \"9_1b 6\"], [\"9_1b\", \"Doll\", \"36027-36052\", \"9_1b 6\"], [\"9_1b\", \"None\", \"37214-37250\", \"9_1b 6\"], [\"11_1c\", \"Doll\", \"38100-38118\", \"11_1c 4\"], [\"11_1c\", \"None\", \"50123-50139\", \"11_1c 6\"], [\"11_1c\", \"7-\", \"50139-50150\", \"11_1c 6\"], [\"13_1a\", \"Doll\", \"32500-32508\", \"13_1a 5\"], [\"13_1a\", \"Doll\", \"32508-32554\", \"13_1a 5\"], [\"13_1a\", \"Doll\", \"41356-41401\", \"13_1a 6\"]], \"hoverlabel\": {\"namelength\": 0}, \"hovertemplate\": \"lemma=doll<br>x=%{x}<br>y=%{y}<br>participant=%{customdata[0]}<br>top=%{customdata[1]}<br>step=%{customdata[2]}<br>pt=%{customdata[3]}\", \"legendgroup\": \"doll\", \"marker\": {\"color\": \"#C9FBE5\", \"symbol\": \"circle\"}, \"mode\": \"markers\", \"name\": \"doll\", \"showlegend\": true, \"type\": \"scatter\", \"x\": [4.783310413360596, 5.002695083618164, 4.81644344329834, 17.501157760620117, -3.2221951484680176, -3.03821063041687, -2.807690382003784, -2.6168673038482666, -2.326765298843384, -2.4623117446899414, -1.4030741453170776, -1.3711345195770264, 19.251209259033203, 19.087738037109375, 3.9506568908691406, 2.989140510559082, 2.8334438800811768, 14.557287216186523, 2.600210428237915, 9.181463241577148, 9.124313354492188, 3.5207080841064453, 3.6411068439483643, 3.922924280166626], \"xaxis\": \"x\", \"y\": [-19.30462646484375, -19.304847717285156, -19.35536766052246, -39.319175720214844, 7.093736171722412, 6.8764729499816895, 6.6162590980529785, 6.419736385345459, 47.505733489990234, 47.639244079589844, 44.285133361816406, 44.341617584228516, 19.166362762451172, 19.4222412109375, -17.16813087463379, -19.04353141784668, -18.693639755249023, 13.176523208618164, -19.722557067871094, -0.5674580335617065, -0.6152865290641785, -18.193660736083984, -17.787134170532227, -17.17858123779297], \"yaxis\": \"y\"}, {\"customdata\": [[\"4_2b\", \"2+\", \"50086-50108\", \"4_2b 6\"], [\"6_2c\", \"Toy\", \"40340-40383\", \"6_2c 6\"], [\"6_2c\", \"Toy\", \"40383-40384\", \"6_2c 6\"], [\"6_2c\", \"7-\", \"46232-46251\", \"6_2c 6\"], [\"8_2a\", \"Toy\", \"41046-41098\", \"8_2a 6\"], [\"11_1c\", \"Toy\", \"49882-49905\", \"11_1c 6\"], [\"11_1c\", \"Toy\", \"49905-49909\", \"11_1c 6\"], [\"13_1a\", \"1+\", \"39289-39294\", \"13_1a 6\"], [\"13_1a\", \"1+\", \"39294-39303\", \"13_1a 6\"], [\"13_1a\", \"None\", \"39303-39306\", \"13_1a 6\"], [\"13_1a\", \"Toy\", \"40745-40762\", \"13_1a 6\"], [\"13_1a\", \"Doll\", \"41634-41661\", \"13_1a 6\"], [\"13_1a\", \"Ball\", \"42327-42345\", \"13_1a 6\"], [\"16_2b\", \"Dinosaur\", \"32050-32086\", \"16_2b 6\"], [\"17_1c\", \"None\", \"53218-53245\", \"17_1c 6\"], [\"18_2c\", \"None\", \"39616-39643\", \"18_2c 6\"]], \"hoverlabel\": {\"namelength\": 0}, \"hovertemplate\": \"lemma=clock<br>x=%{x}<br>y=%{y}<br>participant=%{customdata[0]}<br>top=%{customdata[1]}<br>step=%{customdata[2]}<br>pt=%{customdata[3]}\", \"legendgroup\": \"clock\", \"marker\": {\"color\": \"#FF0092\", \"symbol\": \"circle\"}, \"mode\": \"markers\", \"name\": \"clock\", \"showlegend\": true, \"type\": \"scatter\", \"x\": [39.716758728027344, 0.2110293060541153, 0.15722206234931946, 12.410269737243652, -0.05499904975295067, -2.903719425201416, -2.7397313117980957, 42.9234733581543, 41.71309280395508, 41.349327087402344, -0.8694189190864563, 2.750373601913452, 14.185941696166992, -4.377967834472656, 11.44552993774414, 25.862714767456055], \"xaxis\": \"x\", \"y\": [-15.520017623901367, 45.24666213989258, 46.03373336791992, 1.401152491569519, 47.161827087402344, 45.906776428222656, 45.41842269897461, 16.271650314331055, 15.950400352478027, 15.872191429138184, 47.564449310302734, -17.77938461303711, 23.28045654296875, 3.997398614883423, 1.7227081060409546, 4.656642436981201], \"yaxis\": \"y\"}, {\"customdata\": [[\"7_1a\", \"Doll\", \"47500-47527\", \"7_1a 4\"], [\"18_2c\", \"Book\", \"43426-43443\", \"18_2c 6\"], [\"18_2c\", \"Book\", \"43443-43452\", \"18_2c 6\"], [\"18_2c\", \"Book\", \"43452-43453\", \"18_2c 6\"]], \"hoverlabel\": {\"namelength\": 0}, \"hovertemplate\": \"lemma=door<br>x=%{x}<br>y=%{y}<br>participant=%{customdata[0]}<br>top=%{customdata[1]}<br>step=%{customdata[2]}<br>pt=%{customdata[3]}\", \"legendgroup\": \"door\", \"marker\": {\"color\": \"#22FFA7\", \"symbol\": \"circle\"}, \"mode\": \"markers\", \"name\": \"door\", \"showlegend\": true, \"type\": \"scatter\", \"x\": [2.1799285411834717, 45.28263854980469, 44.286949157714844, 43.73837661743164], \"xaxis\": \"x\", \"y\": [-19.837770462036133, -13.955968856811523, -14.209815979003906, -14.525017738342285], \"yaxis\": \"y\"}, {\"customdata\": [[\"10_2b\", \"Dinosaur\", \"67140-67158\", \"10_2b 6\"]], \"hoverlabel\": {\"namelength\": 0}, \"hovertemplate\": \"lemma=window<br>x=%{x}<br>y=%{y}<br>participant=%{customdata[0]}<br>top=%{customdata[1]}<br>step=%{customdata[2]}<br>pt=%{customdata[3]}\", \"legendgroup\": \"window\", \"marker\": {\"color\": \"#E3EE9E\", \"symbol\": \"circle\"}, \"mode\": \"markers\", \"name\": \"window\", \"showlegend\": true, \"type\": \"scatter\", \"x\": [-2.5163350105285645], \"xaxis\": \"x\", \"y\": [5.8773417472839355], \"yaxis\": \"y\"}],\n",
       "                        {\"legend\": {\"title\": {\"text\": \"lemma\"}, \"tracegroupgap\": 0}, \"margin\": {\"t\": 60}, \"template\": {\"data\": {\"bar\": [{\"error_x\": {\"color\": \"#2a3f5f\"}, \"error_y\": {\"color\": \"#2a3f5f\"}, \"marker\": {\"line\": {\"color\": \"#E5ECF6\", \"width\": 0.5}}, \"type\": \"bar\"}], \"barpolar\": [{\"marker\": {\"line\": {\"color\": \"#E5ECF6\", \"width\": 0.5}}, \"type\": \"barpolar\"}], \"carpet\": [{\"aaxis\": {\"endlinecolor\": \"#2a3f5f\", \"gridcolor\": \"white\", \"linecolor\": \"white\", \"minorgridcolor\": \"white\", \"startlinecolor\": \"#2a3f5f\"}, \"baxis\": {\"endlinecolor\": \"#2a3f5f\", \"gridcolor\": \"white\", \"linecolor\": \"white\", \"minorgridcolor\": \"white\", \"startlinecolor\": \"#2a3f5f\"}, \"type\": \"carpet\"}], \"choropleth\": [{\"colorbar\": {\"outlinewidth\": 0, \"ticks\": \"\"}, \"type\": \"choropleth\"}], \"contour\": [{\"colorbar\": {\"outlinewidth\": 0, \"ticks\": \"\"}, \"colorscale\": [[0.0, \"#0d0887\"], [0.1111111111111111, \"#46039f\"], [0.2222222222222222, \"#7201a8\"], [0.3333333333333333, \"#9c179e\"], [0.4444444444444444, \"#bd3786\"], [0.5555555555555556, \"#d8576b\"], [0.6666666666666666, \"#ed7953\"], [0.7777777777777778, \"#fb9f3a\"], [0.8888888888888888, \"#fdca26\"], [1.0, \"#f0f921\"]], \"type\": \"contour\"}], \"contourcarpet\": [{\"colorbar\": {\"outlinewidth\": 0, \"ticks\": \"\"}, \"type\": \"contourcarpet\"}], \"heatmap\": [{\"colorbar\": {\"outlinewidth\": 0, \"ticks\": \"\"}, \"colorscale\": [[0.0, \"#0d0887\"], [0.1111111111111111, \"#46039f\"], [0.2222222222222222, \"#7201a8\"], [0.3333333333333333, \"#9c179e\"], [0.4444444444444444, \"#bd3786\"], [0.5555555555555556, \"#d8576b\"], [0.6666666666666666, \"#ed7953\"], [0.7777777777777778, \"#fb9f3a\"], [0.8888888888888888, \"#fdca26\"], [1.0, \"#f0f921\"]], \"type\": \"heatmap\"}], \"heatmapgl\": [{\"colorbar\": {\"outlinewidth\": 0, \"ticks\": \"\"}, \"colorscale\": [[0.0, \"#0d0887\"], [0.1111111111111111, \"#46039f\"], [0.2222222222222222, \"#7201a8\"], [0.3333333333333333, \"#9c179e\"], [0.4444444444444444, \"#bd3786\"], [0.5555555555555556, \"#d8576b\"], [0.6666666666666666, \"#ed7953\"], [0.7777777777777778, \"#fb9f3a\"], [0.8888888888888888, \"#fdca26\"], [1.0, \"#f0f921\"]], \"type\": \"heatmapgl\"}], \"histogram\": [{\"marker\": {\"colorbar\": {\"outlinewidth\": 0, \"ticks\": \"\"}}, \"type\": \"histogram\"}], \"histogram2d\": [{\"colorbar\": {\"outlinewidth\": 0, \"ticks\": \"\"}, \"colorscale\": [[0.0, \"#0d0887\"], [0.1111111111111111, \"#46039f\"], [0.2222222222222222, \"#7201a8\"], [0.3333333333333333, \"#9c179e\"], [0.4444444444444444, \"#bd3786\"], [0.5555555555555556, \"#d8576b\"], [0.6666666666666666, \"#ed7953\"], [0.7777777777777778, \"#fb9f3a\"], [0.8888888888888888, \"#fdca26\"], [1.0, \"#f0f921\"]], \"type\": \"histogram2d\"}], \"histogram2dcontour\": [{\"colorbar\": {\"outlinewidth\": 0, \"ticks\": \"\"}, \"colorscale\": [[0.0, \"#0d0887\"], [0.1111111111111111, \"#46039f\"], [0.2222222222222222, \"#7201a8\"], [0.3333333333333333, \"#9c179e\"], [0.4444444444444444, \"#bd3786\"], [0.5555555555555556, \"#d8576b\"], [0.6666666666666666, \"#ed7953\"], [0.7777777777777778, \"#fb9f3a\"], [0.8888888888888888, \"#fdca26\"], [1.0, \"#f0f921\"]], \"type\": \"histogram2dcontour\"}], \"mesh3d\": [{\"colorbar\": {\"outlinewidth\": 0, \"ticks\": \"\"}, \"type\": \"mesh3d\"}], \"parcoords\": [{\"line\": {\"colorbar\": {\"outlinewidth\": 0, \"ticks\": \"\"}}, \"type\": \"parcoords\"}], \"pie\": [{\"automargin\": true, \"type\": \"pie\"}], \"scatter\": [{\"marker\": {\"colorbar\": {\"outlinewidth\": 0, \"ticks\": \"\"}}, \"type\": \"scatter\"}], \"scatter3d\": [{\"line\": {\"colorbar\": {\"outlinewidth\": 0, \"ticks\": \"\"}}, \"marker\": {\"colorbar\": {\"outlinewidth\": 0, \"ticks\": \"\"}}, \"type\": \"scatter3d\"}], \"scattercarpet\": [{\"marker\": {\"colorbar\": {\"outlinewidth\": 0, \"ticks\": \"\"}}, \"type\": \"scattercarpet\"}], \"scattergeo\": [{\"marker\": {\"colorbar\": {\"outlinewidth\": 0, \"ticks\": \"\"}}, \"type\": \"scattergeo\"}], \"scattergl\": [{\"marker\": {\"colorbar\": {\"outlinewidth\": 0, \"ticks\": \"\"}}, \"type\": \"scattergl\"}], \"scattermapbox\": [{\"marker\": {\"colorbar\": {\"outlinewidth\": 0, \"ticks\": \"\"}}, \"type\": \"scattermapbox\"}], \"scatterpolar\": [{\"marker\": {\"colorbar\": {\"outlinewidth\": 0, \"ticks\": \"\"}}, \"type\": \"scatterpolar\"}], \"scatterpolargl\": [{\"marker\": {\"colorbar\": {\"outlinewidth\": 0, \"ticks\": \"\"}}, \"type\": \"scatterpolargl\"}], \"scatterternary\": [{\"marker\": {\"colorbar\": {\"outlinewidth\": 0, \"ticks\": \"\"}}, \"type\": \"scatterternary\"}], \"surface\": [{\"colorbar\": {\"outlinewidth\": 0, \"ticks\": \"\"}, \"colorscale\": [[0.0, \"#0d0887\"], [0.1111111111111111, \"#46039f\"], [0.2222222222222222, \"#7201a8\"], [0.3333333333333333, \"#9c179e\"], [0.4444444444444444, \"#bd3786\"], [0.5555555555555556, \"#d8576b\"], [0.6666666666666666, \"#ed7953\"], [0.7777777777777778, \"#fb9f3a\"], [0.8888888888888888, \"#fdca26\"], [1.0, \"#f0f921\"]], \"type\": \"surface\"}], \"table\": [{\"cells\": {\"fill\": {\"color\": \"#EBF0F8\"}, \"line\": {\"color\": \"white\"}}, \"header\": {\"fill\": {\"color\": \"#C8D4E3\"}, \"line\": {\"color\": \"white\"}}, \"type\": \"table\"}]}, \"layout\": {\"annotationdefaults\": {\"arrowcolor\": \"#2a3f5f\", \"arrowhead\": 0, \"arrowwidth\": 1}, \"coloraxis\": {\"colorbar\": {\"outlinewidth\": 0, \"ticks\": \"\"}}, \"colorscale\": {\"diverging\": [[0, \"#8e0152\"], [0.1, \"#c51b7d\"], [0.2, \"#de77ae\"], [0.3, \"#f1b6da\"], [0.4, \"#fde0ef\"], [0.5, \"#f7f7f7\"], [0.6, \"#e6f5d0\"], [0.7, \"#b8e186\"], [0.8, \"#7fbc41\"], [0.9, \"#4d9221\"], [1, \"#276419\"]], \"sequential\": [[0.0, \"#0d0887\"], [0.1111111111111111, \"#46039f\"], [0.2222222222222222, \"#7201a8\"], [0.3333333333333333, \"#9c179e\"], [0.4444444444444444, \"#bd3786\"], [0.5555555555555556, \"#d8576b\"], [0.6666666666666666, \"#ed7953\"], [0.7777777777777778, \"#fb9f3a\"], [0.8888888888888888, \"#fdca26\"], [1.0, \"#f0f921\"]], \"sequentialminus\": [[0.0, \"#0d0887\"], [0.1111111111111111, \"#46039f\"], [0.2222222222222222, \"#7201a8\"], [0.3333333333333333, \"#9c179e\"], [0.4444444444444444, \"#bd3786\"], [0.5555555555555556, \"#d8576b\"], [0.6666666666666666, \"#ed7953\"], [0.7777777777777778, \"#fb9f3a\"], [0.8888888888888888, \"#fdca26\"], [1.0, \"#f0f921\"]]}, \"colorway\": [\"#636efa\", \"#EF553B\", \"#00cc96\", \"#ab63fa\", \"#FFA15A\", \"#19d3f3\", \"#FF6692\", \"#B6E880\", \"#FF97FF\", \"#FECB52\"], \"font\": {\"color\": \"#2a3f5f\"}, \"geo\": {\"bgcolor\": \"white\", \"lakecolor\": \"white\", \"landcolor\": \"#E5ECF6\", \"showlakes\": true, \"showland\": true, \"subunitcolor\": \"white\"}, \"hoverlabel\": {\"align\": \"left\"}, \"hovermode\": \"closest\", \"mapbox\": {\"style\": \"light\"}, \"paper_bgcolor\": \"white\", \"plot_bgcolor\": \"#E5ECF6\", \"polar\": {\"angularaxis\": {\"gridcolor\": \"white\", \"linecolor\": \"white\", \"ticks\": \"\"}, \"bgcolor\": \"#E5ECF6\", \"radialaxis\": {\"gridcolor\": \"white\", \"linecolor\": \"white\", \"ticks\": \"\"}}, \"scene\": {\"xaxis\": {\"backgroundcolor\": \"#E5ECF6\", \"gridcolor\": \"white\", \"gridwidth\": 2, \"linecolor\": \"white\", \"showbackground\": true, \"ticks\": \"\", \"zerolinecolor\": \"white\"}, \"yaxis\": {\"backgroundcolor\": \"#E5ECF6\", \"gridcolor\": \"white\", \"gridwidth\": 2, \"linecolor\": \"white\", \"showbackground\": true, \"ticks\": \"\", \"zerolinecolor\": \"white\"}, \"zaxis\": {\"backgroundcolor\": \"#E5ECF6\", \"gridcolor\": \"white\", \"gridwidth\": 2, \"linecolor\": \"white\", \"showbackground\": true, \"ticks\": \"\", \"zerolinecolor\": \"white\"}}, \"shapedefaults\": {\"line\": {\"color\": \"#2a3f5f\"}}, \"ternary\": {\"aaxis\": {\"gridcolor\": \"white\", \"linecolor\": \"white\", \"ticks\": \"\"}, \"baxis\": {\"gridcolor\": \"white\", \"linecolor\": \"white\", \"ticks\": \"\"}, \"bgcolor\": \"#E5ECF6\", \"caxis\": {\"gridcolor\": \"white\", \"linecolor\": \"white\", \"ticks\": \"\"}}, \"title\": {\"x\": 0.05}, \"xaxis\": {\"automargin\": true, \"gridcolor\": \"white\", \"linecolor\": \"white\", \"ticks\": \"\", \"title\": {\"standoff\": 15}, \"zerolinecolor\": \"white\", \"zerolinewidth\": 2}, \"yaxis\": {\"automargin\": true, \"gridcolor\": \"white\", \"linecolor\": \"white\", \"ticks\": \"\", \"title\": {\"standoff\": 15}, \"zerolinecolor\": \"white\", \"zerolinewidth\": 2}}}, \"xaxis\": {\"anchor\": \"y\", \"domain\": [0.0, 1.0], \"title\": {\"text\": \"x\"}}, \"yaxis\": {\"anchor\": \"x\", \"domain\": [0.0, 1.0], \"title\": {\"text\": \"y\"}}},\n",
       "                        {\"responsive\": true}\n",
       "                    ).then(function(){\n",
       "                            \n",
       "var gd = document.getElementById('38e733b6-df39-4b4d-8788-b8f333ab4459');\n",
       "var x = new MutationObserver(function (mutations, observer) {{\n",
       "        var display = window.getComputedStyle(gd).display;\n",
       "        if (!display || display === 'none') {{\n",
       "            console.log([gd, 'removed!']);\n",
       "            Plotly.purge(gd);\n",
       "            observer.disconnect();\n",
       "        }}\n",
       "}});\n",
       "\n",
       "// Listen for the removal of the full notebook cells\n",
       "var notebookContainer = gd.closest('#notebook-container');\n",
       "if (notebookContainer) {{\n",
       "    x.observe(notebookContainer, {childList: true});\n",
       "}}\n",
       "\n",
       "// Listen for the clearing of the current output cell\n",
       "var outputEl = gd.closest('.output');\n",
       "if (outputEl) {{\n",
       "    x.observe(outputEl, {childList: true});\n",
       "}}\n",
       "\n",
       "                        })\n",
       "                };\n",
       "                });\n",
       "            </script>\n",
       "        </div>"
      ]
     },
     "metadata": {},
     "output_type": "display_data"
    }
   ],
   "source": [
    "lemmas = [y.split('_')[0] for y in y_plot]\n",
    "pos = [y.split('_')[1] for y in y_plot]\n",
    "ps = [y.split(' ')[0] for y in m_plot]\n",
    "ts = [y.split(' ')[1] for y in m_plot]\n",
    "pts = [y.rsplit(' ', 1)[0] for y in m_plot]\n",
    "steps = [y.split(' ')[2] for y in m_plot]\n",
    "\n",
    "ddict = {'x': red[:,0], 'y': red[:,1], 'lemma': lemmas, 'pos': pos,\n",
    "         'lemmapos': y_plot, 'participant': ps, 'task': ts, 'pt': pts, 'step': steps}\n",
    "\n",
    "top_feat = [vocab[i] for i in np.argmax(X_plot, axis=1)]\n",
    "ddict['top'] = top_feat\n",
    "#for i in range(len(vocab)):\n",
    "#    ddict[vocab[i]] = X_plot[:, i]\n",
    "    \n",
    "feats = ['participant', 'top', 'step', 'pt'] #ddict.keys()\n",
    "\n",
    "if red.shape[1] == 3:\n",
    "    ddict['z'] = red[:,2]\n",
    "    d = pd.DataFrame.from_dict(ddict)\n",
    "    fig = px.scatter_3d(d, x=\"x\", y=\"y\", z=\"z\", color='lemma',\n",
    "                 hover_data=feats)\n",
    "else:\n",
    "    d = pd.DataFrame.from_dict(ddict)\n",
    "    fig = px.scatter(d, x=\"x\", y=\"y\", color='lemma', hover_data=feats,\n",
    "                    color_discrete_sequence=px.colors.qualitative.Light24)\n",
    "fig.write_image(\"verb-n2-obj.pdf\")\n",
    "fig.show()"
   ]
  },
  {
   "cell_type": "markdown",
   "metadata": {},
   "source": [
    "## Graveyard"
   ]
  },
  {
   "cell_type": "code",
   "execution_count": null,
   "metadata": {},
   "outputs": [],
   "source": [
    "from sklearn.decomposition import TruncatedSVD\n",
    "from sklearn.manifold import TSNE\n",
    "\n",
    "freq, PMI, row_names, col_names, row_tots, col_tots = make_ngram_mats(data, vocab=vocab_lst,\n",
    "                                                                    POS = \"VERB\",\n",
    "                                                                    window_size=3)\n",
    "#svd = TruncatedSVD(n_components=2, n_iter=20)\n",
    "#red = svd.fit_transform(PMI)\n",
    "tsne = TSNE(n_components=2)\n",
    "red = tsne.fit_transform(freq)"
   ]
  },
  {
   "cell_type": "code",
   "execution_count": null,
   "metadata": {},
   "outputs": [],
   "source": [
    "top_verbs = [w for w,c in sorted(words[\"VERB\"].items(), key=lambda e:e[1], reverse=True)][:50]\n",
    "plt.figure(figsize=(20,10))\n",
    "plt.scatter(red[:,0], red[:,1], alpha=0.5)\n",
    "for i in range(len(row_names)):\n",
    "    if row_names[i] in top_verbs:\n",
    "        x, y = red[i,:]\n",
    "        plt.annotate(row_names[i], xy=(x,y), ha=\"center\", va=\"center\", fontsize=\"x-large\")\n",
    "plt.show()"
   ]
  },
  {
   "cell_type": "code",
   "execution_count": null,
   "metadata": {},
   "outputs": [],
   "source": [
    "for pos in ['VERB']: #, 'NOUN']:\n",
    "    freq, PMI, row_names, col_names, row_tots, col_tots = make_mats(data,\n",
    "                                                                    POS = pos,\n",
    "                                                                    window_size=3)\n",
    "    make_heatmap(freq, row_names, col_names, row_tots, col_tots, CUTOFF=100)\n",
    "    make_heatmap(PMI, row_names, col_names, row_tots, col_tots, CUTOFF=100)"
   ]
  },
  {
   "cell_type": "markdown",
   "metadata": {},
   "source": [
    "## Analyze action frequencies and co-occurences"
   ]
  },
  {
   "cell_type": "code",
   "execution_count": null,
   "metadata": {},
   "outputs": [],
   "source": [
    "zs = sorted(list(set([r['z'] for r in data])))\n",
    "print(len(zs), zs)\n",
    "\n",
    "seqs = {}\n",
    "lasts = {}\n",
    "for d in data:\n",
    "    p = d['participant']\n",
    "    t = d['task']\n",
    "    k = (p,t)\n",
    "    if k not in seqs:\n",
    "        seqs[k] = []\n",
    "        lasts[k] = None\n",
    "    if d['z'] == 'NA':\n",
    "        continue\n",
    "    z = int(d['z'])\n",
    "    if not z == lasts[k]:\n",
    "        seqs[k].append(z)\n",
    "        lasts[k] = z\n",
    "    \n",
    "lbls = [k for k in seqs]\n",
    "plt.hist([seqs[k] for k in lbls], bins=len(zs)-1, label=lbls)\n",
    "plt.xticks(np.arange(len(zs))+1.5, np.arange(len(zs)))\n",
    "#plt.legend()\n",
    "plt.show()"
   ]
  },
  {
   "cell_type": "code",
   "execution_count": null,
   "metadata": {},
   "outputs": [],
   "source": [
    "zs = sorted(list(set([r['z'] for r in data])), key=lambda e:int(e) if not e == 'NA' else -1)\n",
    "people = sorted(list(set([r['participant'] for r in data])))\n",
    "tasks = sorted(list(set([r['task'] for r in data])))\n",
    "pts = sorted(list(set([r['participant']+'_'+r['task'] for r in data])))\n",
    "\n",
    "z_by_p = np.zeros((len(people), len(zs)))\n",
    "z_by_t = np.zeros((len(tasks), len(zs)))\n",
    "z_by_pt = np.zeros((len(pts), len(zs)))\n",
    "\n",
    "for i, d in enumerate(data):\n",
    "    p = d['participant']\n",
    "    t = d['task']\n",
    "    pt = '%s_%s'%(p, t)\n",
    "    z = d['z']\n",
    "    z_by_p[people.index(p)][zs.index(z)] += 1\n",
    "    z_by_t[tasks.index(t)][zs.index(z)] += 1\n",
    "    z_by_pt[pts.index(pt)][zs.index(z)] += 1\n",
    "        \n",
    "make_heatmap(z_by_p, people, zs, np.sum(z_by_p, axis=1), np.sum(z_by_p, axis=0),\n",
    "             CUTOFF = 0, col_scale = 0.3)\n",
    "make_heatmap(z_by_t, tasks, zs, np.sum(z_by_t, axis=1), np.sum(z_by_t, axis=0),\n",
    "             CUTOFF = 0, col_scale = 0.3)\n",
    "make_heatmap(z_by_pt, pts, zs, np.sum(z_by_pt, axis=1), np.sum(z_by_pt, axis=0),\n",
    "             CUTOFF = 0, col_scale = 0.3, row_scale=0.2)"
   ]
  },
  {
   "cell_type": "code",
   "execution_count": null,
   "metadata": {},
   "outputs": [],
   "source": [
    "zs = sorted(list(set([r['z'] for r in data])), key=lambda e:int(e) if not e == 'NA' else -1)\n",
    "W = 1\n",
    "\n",
    "z_by_z = np.zeros((len(zs), len(zs)))\n",
    "\n",
    "for k in seqs:\n",
    "    lst = seqs[k]\n",
    "    for i in range(len(lst)):\n",
    "        for j in range(max(0, i-W), min(i+W, N)):\n",
    "            if not i == j:\n",
    "                z_by_z[zs.index('%s'%lst[i])][zs.index('%s'%lst[j])] += 1\n",
    "        \n",
    "pmi = get_pmi(z_by_z)\n",
    "make_heatmap(pmi, zs, zs, np.sum(z_by_z, axis=1), np.sum(z_by_z, axis=0),\n",
    "             CUTOFF = 10, col_scale = 0.5, row_scale=0.5)\n",
    "\n",
    "make_heatmap(z_by_z, zs, zs, np.sum(z_by_z, axis=1), np.sum(z_by_z, axis=0),\n",
    "             CUTOFF = 10, col_scale = 0.5, row_scale=0.5, cmap='Blues')\n",
    "\n",
    "logged = np.log10(z_by_z)\n",
    "logged[np.isinf(logged)] = 0\n",
    "make_heatmap(logged, zs, zs, np.sum(z_by_z, axis=1), np.sum(z_by_z, axis=0),\n",
    "             CUTOFF = 10, col_scale = 0.5, row_scale=0.5, cmap='Blues')"
   ]
  }
 ],
 "metadata": {
  "kernelspec": {
   "display_name": "Python 3",
   "language": "python",
   "name": "python3"
  },
  "language_info": {
   "codemirror_mode": {
    "name": "ipython",
    "version": 3
   },
   "file_extension": ".py",
   "mimetype": "text/x-python",
   "name": "python",
   "nbconvert_exporter": "python",
   "pygments_lexer": "ipython3",
   "version": "3.6.8"
  }
 },
 "nbformat": 4,
 "nbformat_minor": 2
}
