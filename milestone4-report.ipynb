{
 "cells": [
  {
   "cell_type": "code",
   "execution_count": 46,
   "metadata": {},
   "outputs": [],
   "source": [
    "import csv\n",
    "import numpy as np\n",
    "import seaborn as sns\n",
    "import matplotlib.pyplot as plt\n",
    "from math import log\n",
    "from collections import Counter\n",
    "from nltk.util import ngrams\n",
    "import pandas as pd\n",
    "import plotly.express as px\n",
    "from sklearn.decomposition import TruncatedSVD\n",
    "from sklearn.manifold import TSNE\n",
    "from sklearn.neighbors import NearestNeighbors\n",
    "\n",
    "data = [row for row in csv.DictReader(open('aligned_data.tsv'), delimiter='\\t')]"
   ]
  },
  {
   "cell_type": "code",
   "execution_count": 54,
   "metadata": {},
   "outputs": [],
   "source": [
    "MODE = 'raw' # how to represent states, one of \"raw\", \"endpoints\", \"objects\"\n",
    "OBJS = False # whether to include \"used objects\" as features (separate from the states)\n",
    "POS = 'VERB' # which POS to use\n",
    "WIN_SIZE = 1 # word use +/- how many states?\n",
    "K = 2 # how large of ngrams to use (max length will be K+1)\n",
    "CUTOFF = 2 # how many unique people need do actions have to occur with? \n",
    "SUPERVISED = False # whether the dimensionality reduction has access to labels"
   ]
  },
  {
   "cell_type": "code",
   "execution_count": 55,
   "metadata": {},
   "outputs": [],
   "source": [
    "def make_heatmap(M, row_names, col_names, row_tots, col_tots,\n",
    "                 col_cutoff = 20, row_cutoff = 20, row_scale=0.15, col_scale=0.2, cmap='coolwarm',\n",
    "                sort = None, annotate=False, saveas=None):\n",
    "    \n",
    "    if (row_cutoff is not None) and (col_cutoff is not None):          \n",
    "        plot_M = M[row_tots>row_cutoff, :][:, col_tots>col_cutoff]\n",
    "        plot_row = [w for i, w in enumerate(row_names) if row_tots[i] > row_cutoff]\n",
    "        plot_col = [w for i, w in enumerate(col_names) if col_tots[i] > col_cutoff]\n",
    "    else:\n",
    "        plot_M = M\n",
    "        plot_row = row_names\n",
    "        plot_col = col_names\n",
    "        \n",
    "    if sort == 'diag':\n",
    "        idxs = np.argmax(plot_M, axis=1) \n",
    "        order = np.argsort(idxs)\n",
    "        sorted_M = plot_M[order]\n",
    "        plot_M = sorted_M\n",
    "        plot_row = [plot_row[i] for i in order]\n",
    "    elif sort == 'strength':\n",
    "        idxs = np.max(plot_M, axis=1) \n",
    "        order = np.flip(np.argsort(idxs))\n",
    "        sorted_M = plot_M[order]\n",
    "        plot_M = sorted_M\n",
    "        plot_row = [plot_row[i] for i in order]\n",
    "    elif sort == 'row':\n",
    "        rows = sorted(list(set(plot_row)))\n",
    "        order = np.argsort([rows.index(n) for n in plot_row])\n",
    "        sorted_M = plot_M[order]\n",
    "        plot_M = sorted_M\n",
    "        plot_row = [plot_row[i] for i in order]\n",
    "        \n",
    "    height, width = plot_M.shape\n",
    "    plt.figure(figsize=(int(round(width*col_scale)), int(round(height*row_scale))))\n",
    "\n",
    "    if annotate:\n",
    "        sns.heatmap(plot_M, cmap=cmap, annot=True, fmt=\".01f\")\n",
    "    else:\n",
    "        sns.heatmap(plot_M, cmap=cmap, cbar=False)\n",
    "    plt.yticks(np.arange(plot_M.shape[0])+0.5, plot_row, rotation=0)\n",
    "    plt.xticks(np.arange(plot_M.shape[1])+0.5, plot_col, rotation=90)\n",
    "    if saveas:\n",
    "        plt.savefig(saveas, bbox_inches='tight')\n",
    "    plt.show()\n",
    "    plt.clf()\n",
    "    \n",
    "def get_pmi(freq):\n",
    "    col_tots = np.sum(freq, axis=0)\n",
    "    row_tots = np.sum(freq, axis=1)\n",
    "    tot = np.sum(freq)\n",
    "    \n",
    "    rows, cols = freq.shape\n",
    "    PMI = np.zeros((rows, cols))\n",
    "    for i in range(rows):\n",
    "        for j in range(cols):\n",
    "            pmi = (freq[i][j]/tot) / ((row_tots[i]/tot) * (col_tots[j]/tot))\n",
    "            PMI[i][j] = log(pmi) if pmi > 0 else 0\n",
    "    return PMI\n",
    "    \n",
    "def make_mats(D, POS = 'VERB', window_size=0):\n",
    "    poslst = POS.split(',')\n",
    "    zs = sorted(list(set([r['z'] for r in data])),\n",
    "                key=lambda e:int(e) if not e == 'NA' else -1)\n",
    "    words = sorted(list(set([r['lemma'] for r in D if r['pos'] in poslst])))\n",
    "  \n",
    "    \n",
    "    N = len(D)\n",
    "    freq = np.zeros((len(words), len(zs)))\n",
    "    straight_count = np.zeros((len(words), len(zs)))\n",
    "    for i, d in enumerate(D):\n",
    "        if d['pos'] in poslst:\n",
    "            w = d['lemma']\n",
    "            for j in range(max(0, i-window_size), min(i+window_size, N)+1):\n",
    "                s = D[j]['z']\n",
    "                freq[words.index(w)][zs.index(s)] += 1\n",
    "                if i == j:\n",
    "                    straight_count[words.index(w)][zs.index(s)] += 1\n",
    "    \n",
    "    col_tots = np.sum(straight_count, axis=0)\n",
    "    row_tots = np.sum(straight_count, axis=1)\n",
    "    PMI = get_pmi(freq)\n",
    "    return freq, PMI, words, zs, row_tots, col_tots\n",
    "\n",
    "def make_ngram_mats(D, vocab, K = 3, POS = 'VERB', window_size=0):\n",
    "    poslst = POS.split(',')\n",
    "    zs = vocab\n",
    "    words = sorted(list(set([r['lemma'] for r in D if r['pos'] in poslst])))\n",
    "\n",
    "    N = len(D)\n",
    "    freq = np.zeros((len(words), len(zs)))\n",
    "    straight_count = np.zeros((len(words), len(zs)))\n",
    "    for i, d in enumerate(D):\n",
    "        w = d['lemma']\n",
    "        if d['pos'] in poslst:\n",
    "            lower = max(0, i-window_size)\n",
    "            upper = min(i+window_size, N)+1\n",
    "            for j in range(lower, upper):\n",
    "                for k in range(K+1):\n",
    "                    if j+k < len(D):\n",
    "                        acts = []\n",
    "                        for idx in range(j, j+k+1):\n",
    "                            z = get_z(D[idx], MODE)\n",
    "                            acts.append(z)\n",
    "                        s = ' '.join(acts)\n",
    "                        if s in zs:\n",
    "                            freq[words.index(w)][zs.index(s)] += 1\n",
    "                            if (i == j):\n",
    "                                straight_count[words.index(w)][zs.index(s)] += 1\n",
    "    \n",
    "    col_tots = np.sum(straight_count, axis=0)\n",
    "    row_tots = np.sum(straight_count, axis=1)\n",
    "    \n",
    "    PMI = get_pmi(freq)\n",
    "    return freq, PMI, words, zs, row_tots, col_tots\n",
    "\n",
    "def get_z(D, mode):\n",
    "    z = D['z']\n",
    "    if mode == 'endpoints':\n",
    "        z += \"-\" if D[\"end_obj\"] == \"None\" else \"+\"\n",
    "    elif mode == 'objects':\n",
    "        z += D[\"end_obj\"]\n",
    "    return z\n",
    "\n",
    "def make_token_mats(D, _vocab, K = 1, window_size = 1, use_objects=True):   \n",
    "    vocab = [v for v in _vocab if len(v.split()) <= K+1]\n",
    "    if use_objects:\n",
    "        objs = list(set([d['end_obj'] for d in D]))\n",
    "        vocab += objs\n",
    "    vocabset = set(vocab)\n",
    "    N = len(D)\n",
    "    freq = np.zeros((N, len(vocab)))\n",
    "    lbls = []\n",
    "    meta = []\n",
    "    for i, d in enumerate(D):\n",
    "        start = d['step']\n",
    "        end = D[i+1]['step'] if i < N-1 else ''\n",
    "        w = d['lemma']+'_'+d['pos']\n",
    "        lbls.append(w)\n",
    "        meta.append(d['participant'] + ' ' + d['task'] + ' ' + '%s-%s'%(start, end))\n",
    "        lower = max(0, i-window_size)\n",
    "        upper = min(i+window_size, N)\n",
    "        for j in range(lower, upper):\n",
    "            if use_objects:\n",
    "                o = D[j]['end_obj']\n",
    "                freq[i][vocab.index(o)] += 1\n",
    "            for k in range(K+1):\n",
    "                if j+k < len(D):\n",
    "                    acts = []\n",
    "                    for idx in range(j, j+k+1):\n",
    "                        z = get_z(D[idx], MODE)\n",
    "                        acts.append(z)\n",
    "                    s = ' '.join(acts)\n",
    "                    if s in vocabset:\n",
    "                        freq[i][vocab.index(s)] += 1\n",
    "\n",
    "    #PMI = get_pmi(freq)\n",
    "    return freq, lbls, meta, vocab"
   ]
  },
  {
   "cell_type": "code",
   "execution_count": 56,
   "metadata": {},
   "outputs": [
    {
     "name": "stdout",
     "output_type": "stream",
     "text": [
      "92 ['3', '1', '2', '5', '8', '1 3', '7', '3 1', '4', '6']\n",
      "577 ['NA_NA', '-PRON-_PRON', 'be_AUX', 'and_CCONJ', 'the_DET', 'go_VERB', 'to_PART', 'up_ADP', 'put_VERB', 'a_DET']\n"
     ]
    }
   ],
   "source": [
    "# make sequences of states for computing ngrams over\n",
    "seqs = {}\n",
    "lasts = {}\n",
    "for d in data:\n",
    "    p = d['participant']\n",
    "    t = d['task']\n",
    "    k = (p,t)\n",
    "    if k not in seqs:\n",
    "        seqs[k] = [[], []]\n",
    "        lasts[k] = [None, None]\n",
    "\n",
    "    z = get_z(d, MODE)\n",
    "    if not z == lasts[k][0]:\n",
    "        seqs[k][0].append(z)\n",
    "        lasts[k][0] = z\n",
    "        \n",
    "    w = '%s_%s'%(d['lemma'], d['pos'])\n",
    "    if not w == lasts[k][1]:\n",
    "        seqs[k][1].append(w)\n",
    "        lasts[k][1] = w\n",
    "        \n",
    "# compute vocabularies to use later\n",
    "vocab = [{}, {}] # actions, words\n",
    "by_person = [{}, {}] # actions, words\n",
    "ns = [K, 1] # how large of ngrams\n",
    "\n",
    "for k, lsts in seqs.items():\n",
    "    for i, lst in enumerate(lsts):\n",
    "        for n in range(ns[i]+1):\n",
    "            for ngm in ngrams(lst, n):\n",
    "                w = ' '.join(['%s'%e for e in ngm])\n",
    "                if w not in vocab[i]:\n",
    "                    vocab[i][w] = 0\n",
    "                    by_person[i][w] = set()\n",
    "                vocab[i][w] += 1\n",
    "                by_person[i][w].add(k[0])\n",
    "                \n",
    "vocab_lsts = [[], []]\n",
    "\n",
    "for i, v in enumerate(vocab):\n",
    "    for w, c in sorted(v.items(), key=lambda e:e[1], reverse=True):\n",
    "        if len(by_person[i][w]) >= CUTOFF:\n",
    "            vocab_lsts[i].append(w)\n",
    "            \n",
    "for l in vocab_lsts:\n",
    "    print(len(l), l[:10])"
   ]
  },
  {
   "cell_type": "markdown",
   "metadata": {},
   "source": [
    "## Cluster word instances"
   ]
  },
  {
   "cell_type": "code",
   "execution_count": 57,
   "metadata": {},
   "outputs": [
    {
     "name": "stdout",
     "output_type": "stream",
     "text": [
      "(31535, 92)\n",
      "31535\n",
      "96223.0\n"
     ]
    }
   ],
   "source": [
    "X, y, meta, vocab = make_token_mats(data, vocab_lsts[0], K = K,\n",
    "                                    window_size = WIN_SIZE, use_objects=OBJS)\n",
    "print(X.shape)\n",
    "print(len(y))"
   ]
  },
  {
   "cell_type": "code",
   "execution_count": 58,
   "metadata": {},
   "outputs": [
    {
     "name": "stdout",
     "output_type": "stream",
     "text": [
      "['pick_VERB', 'put_VERB', 'push_VERB', 'get_VERB', 'drop_VERB', 'throw_VERB', 'hold_VERB', 'open_VERB', 'close_VERB', 'give_VERB', 'go_VERB', 'shake_VERB', 'take_VERB', 'eat_VERB', 'wash_VERB', 'play_VERB', 'walk_VERB', 'cook_VERB', 'stop_VERB']\n",
      "(1347, 92)\n",
      "3725.0\n"
     ]
    }
   ],
   "source": [
    "#top_words = [w for w in vocab_lsts[1] if w.split('_')[1] == POS][:20] \n",
    "\n",
    "top_words = []\n",
    "for l in open('../nbc/target_words.txt').readlines():\n",
    "    pos, w = l.strip().split('\\t')\n",
    "    if pos == POS:\n",
    "        top_words.append('%s_%s'%(w, pos))\n",
    "print(top_words)\n",
    "\n",
    "is_top = [yy in top_words for yy in y]\n",
    "X_plot = X[is_top, :]\n",
    "y_plot = np.array(y)[is_top]\n",
    "m_plot = np.array(meta)[is_top]\n",
    "print(X_plot.shape)\n",
    "print(np.sum(X_plot))"
   ]
  },
  {
   "cell_type": "code",
   "execution_count": 59,
   "metadata": {},
   "outputs": [],
   "source": [
    "#reducer = TruncatedSVD(n_components=2)\n",
    "reducer = TSNE(n_components=2)\n",
    "\n",
    "if SUPERVISED:\n",
    "    red = reducer.fit_transform(X_plot, y_plot)\n",
    "else:\n",
    "    red = reducer.fit_transform(X_plot)"
   ]
  },
  {
   "cell_type": "code",
   "execution_count": 60,
   "metadata": {},
   "outputs": [
    {
     "data": {
      "application/vnd.plotly.v1+json": {
       "config": {
        "plotlyServerURL": "https://plot.ly"
       },
       "data": [
        {
         "customdata": [
          [
           "1_1a",
           "2",
           "13229-13238",
           "1_1a 1"
          ],
          [
           "1_1a",
           "7",
           "13732-13741",
           "1_1a 1"
          ],
          [
           "1_1a",
           "7",
           "14737-14746",
           "1_1a 1"
          ],
          [
           "1_1a",
           "7",
           "16571-16589",
           "1_1a 1"
          ],
          [
           "1_1a",
           "2",
           "18061-18070",
           "1_1a 1"
          ],
          [
           "1_1a",
           "2",
           "18430-18522",
           "1_1a 1"
          ],
          [
           "1_1a",
           "1",
           "18522-18538",
           "1_1a 1"
          ],
          [
           "1_1a",
           "6",
           "19436-19463",
           "1_1a 1"
          ],
          [
           "1_1a",
           "1",
           "22733-22751",
           "1_1a 2"
          ],
          [
           "1_1a",
           "3",
           "22967-22976",
           "1_1a 2"
          ],
          [
           "1_1a",
           "3",
           "24619-24633",
           "1_1a 2"
          ],
          [
           "1_1a",
           "3",
           "24633-24637",
           "1_1a 2"
          ],
          [
           "1_1a",
           "1",
           "25227-25236",
           "1_1a 2"
          ],
          [
           "1_1a",
           "2",
           "33371-33406",
           "1_1a 3"
          ],
          [
           "1_1a",
           "8",
           "36020-36073",
           "1_1a 4"
          ],
          [
           "1_1a",
           "5",
           "42903-42911",
           "1_1a 4"
          ],
          [
           "1_1a",
           "1",
           "45053-45059",
           "1_1a 5"
          ],
          [
           "1_1a",
           "3",
           "54743-54747",
           "1_1a 6"
          ],
          [
           "1_1a",
           "3",
           "54747-54752",
           "1_1a 6"
          ],
          [
           "1_1a",
           "1",
           "56224-56233",
           "1_1a 6"
          ],
          [
           "2_2a",
           "5",
           "12077-12096",
           "2_2a 2"
          ],
          [
           "2_2a",
           "3",
           "12096-12105",
           "2_2a 2"
          ],
          [
           "2_2a",
           "3",
           "12105-12113",
           "2_2a 2"
          ],
          [
           "2_2a",
           "5",
           "13286-13304",
           "2_2a 2"
          ],
          [
           "2_2a",
           "1",
           "13919-13932",
           "2_2a 2"
          ],
          [
           "2_2a",
           "3",
           "13932-13941",
           "2_2a 2"
          ],
          [
           "2_2a",
           "3",
           "13941-13947",
           "2_2a 2"
          ],
          [
           "2_2a",
           "1",
           "14424-14441",
           "2_2a 3"
          ],
          [
           "2_2a",
           "1",
           "14441-14459",
           "2_2a 3"
          ],
          [
           "2_2a",
           "6",
           "17067-17071",
           "2_2a 3"
          ],
          [
           "2_2a",
           "9",
           "19542-19556",
           "2_2a 4"
          ],
          [
           "2_2a",
           "8",
           "20327-20338",
           "2_2a 4"
          ],
          [
           "2_2a",
           "2",
           "20689-20691",
           "2_2a 4"
          ],
          [
           "2_2a",
           "2",
           "20691-20699",
           "2_2a 4"
          ],
          [
           "2_2a",
           "2",
           "20894-20909",
           "2_2a 4"
          ],
          [
           "2_2a",
           "8",
           "21810-21816",
           "2_2a 4"
          ],
          [
           "2_2a",
           "3",
           "21816-21834",
           "2_2a 4"
          ],
          [
           "2_2a",
           "9",
           "22729-22734",
           "2_2a 4"
          ],
          [
           "2_2a",
           "8",
           "22734-22761",
           "2_2a 4"
          ],
          [
           "2_2a",
           "1",
           "22761-22788",
           "2_2a 4"
          ],
          [
           "2_2a",
           "5",
           "38370-38378",
           "2_2a 6"
          ],
          [
           "2_2a",
           "3",
           "39105-39113",
           "2_2a 6"
          ],
          [
           "3_1b",
           "1",
           "11513-11531",
           "3_1b 2"
          ],
          [
           "3_1b",
           "1",
           "18821-18830",
           "3_1b 3"
          ],
          [
           "3_1b",
           "2",
           "19811-19820",
           "3_1b 3"
          ],
          [
           "3_1b",
           "2",
           "20665-20682",
           "3_1b 3"
          ],
          [
           "3_1b",
           "2",
           "20682-20683",
           "3_1b 3"
          ],
          [
           "3_1b",
           "3",
           "24345-24354",
           "3_1b 3"
          ],
          [
           "3_1b",
           "3",
           "24354-24372",
           "3_1b 3"
          ],
          [
           "3_1b",
           "2",
           "37806-37809",
           "3_1b 5"
          ],
          [
           "3_1b",
           "1",
           "37809-37824",
           "3_1b 5"
          ],
          [
           "4_2b",
           "1",
           "7448-7461",
           "4_2b 1"
          ],
          [
           "4_2b",
           "1",
           "7461-7537",
           "4_2b 1"
          ],
          [
           "4_2b",
           "3",
           "9711-9720",
           "4_2b 1"
          ],
          [
           "4_2b",
           "1",
           "11726-11770",
           "4_2b 1"
          ],
          [
           "4_2b",
           "3",
           "15039-15048",
           "4_2b 2"
          ],
          [
           "4_2b",
           "2",
           "17851-17865",
           "4_2b 2"
          ],
          [
           "4_2b",
           "1",
           "17865-17892",
           "4_2b 2"
          ],
          [
           "4_2b",
           "1",
           "17892-17899",
           "4_2b 2"
          ],
          [
           "4_2b",
           "2",
           "19183-19192",
           "4_2b 3"
          ],
          [
           "4_2b",
           "2",
           "20123-20124",
           "4_2b 3"
          ],
          [
           "4_2b",
           "2",
           "20124-20132",
           "4_2b 3"
          ],
          [
           "4_2b",
           "3",
           "21901-21913",
           "4_2b 3"
          ],
          [
           "4_2b",
           "2",
           "27883-27909",
           "4_2b 3"
          ],
          [
           "4_2b",
           "1",
           "27909-27910",
           "4_2b 3"
          ],
          [
           "4_2b",
           "1",
           "30767-30780",
           "4_2b 4"
          ],
          [
           "4_2b",
           "1",
           "30780-30785",
           "4_2b 4"
          ],
          [
           "4_2b",
           "6",
           "33267-33272",
           "4_2b 4"
          ],
          [
           "4_2b",
           "2",
           "33478-33487",
           "4_2b 4"
          ],
          [
           "4_2b",
           "2",
           "33845-33858",
           "4_2b 4"
          ],
          [
           "4_2b",
           "2",
           "33858-33859",
           "4_2b 4"
          ],
          [
           "4_2b",
           "7",
           "34520-34529",
           "4_2b 4"
          ],
          [
           "4_2b",
           "5",
           "39573-39585",
           "4_2b 5"
          ],
          [
           "4_2b",
           "9",
           "51546-51550",
           "4_2b 6"
          ],
          [
           "5_1c",
           "6",
           "368-377",
           "5_1c 1"
          ],
          [
           "5_1c",
           "2",
           "584-593",
           "5_1c 1"
          ],
          [
           "5_1c",
           "3",
           "3193-3195",
           "5_1c 1"
          ],
          [
           "5_1c",
           "3",
           "3195-3211",
           "5_1c 1"
          ],
          [
           "5_1c",
           "1",
           "6713-6722",
           "5_1c 2"
          ],
          [
           "5_1c",
           "3",
           "15608-15624",
           "5_1c 4"
          ],
          [
           "5_1c",
           "3",
           "15624-15626",
           "5_1c 4"
          ],
          [
           "5_1c",
           "1",
           "16914-16932",
           "5_1c 4"
          ],
          [
           "5_1c",
           "1",
           "18525-18561",
           "5_1c 4"
          ],
          [
           "5_1c",
           "8",
           "29207-29216",
           "5_1c 6"
          ],
          [
           "6_2c",
           "8",
           "7128-7137",
           "6_2c 1"
          ],
          [
           "6_2c",
           "1",
           "7137-7142",
           "6_2c 1"
          ],
          [
           "6_2c",
           "9",
           "26630-26631",
           "6_2c 4"
          ],
          [
           "6_2c",
           "5",
           "26631-26635",
           "6_2c 4"
          ],
          [
           "6_2c",
           "3",
           "46790-46800",
           "6_2c 6"
          ],
          [
           "6_2c",
           "3",
           "46800-46818",
           "6_2c 6"
          ],
          [
           "7_1a",
           "1",
           "16344-16380",
           "7_1a 1"
          ],
          [
           "7_1a",
           "1",
           "16380-16398",
           "7_1a 1"
          ],
          [
           "7_1a",
           "1",
           "16398-16434",
           "7_1a 1"
          ],
          [
           "7_1a",
           "1",
           "24618-24645",
           "7_1a 1"
          ],
          [
           "7_1a",
           "5",
           "25442-25469",
           "7_1a 1"
          ],
          [
           "7_1a",
           "2",
           "26780-26811",
           "7_1a 1"
          ],
          [
           "7_1a",
           "1",
           "26811-26815",
           "7_1a 1"
          ],
          [
           "7_1a",
           "7",
           "28017-28043",
           "7_1a 1"
          ],
          [
           "7_1a",
           "6",
           "28385-28404",
           "7_1a 1"
          ],
          [
           "7_1a",
           "1",
           "31895-31913",
           "7_1a 2"
          ],
          [
           "7_1a",
           "1",
           "32623-32632",
           "7_1a 2"
          ],
          [
           "7_1a",
           "1",
           "36103-36131",
           "7_1a 3"
          ],
          [
           "7_1a",
           "1",
           "36516-36534",
           "7_1a 3"
          ],
          [
           "7_1a",
           "2",
           "38017-38044",
           "7_1a 3"
          ],
          [
           "7_1a",
           "1",
           "39246-39264",
           "7_1a 3"
          ],
          [
           "7_1a",
           "5",
           "40555-40565",
           "7_1a 3"
          ],
          [
           "7_1a",
           "7",
           "62662-62698",
           "7_1a 6"
          ],
          [
           "7_1a",
           "3",
           "65583-65619",
           "7_1a 6"
          ],
          [
           "8_2a",
           "1",
           "3881-3897",
           "8_2a 1"
          ],
          [
           "8_2a",
           "3",
           "3897-3908",
           "8_2a 1"
          ],
          [
           "8_2a",
           "2",
           "7320-7346",
           "8_2a 1"
          ],
          [
           "8_2a",
           "2",
           "8466-8489",
           "8_2a 1"
          ],
          [
           "8_2a",
           "3",
           "10317-10330",
           "8_2a 2"
          ],
          [
           "8_2a",
           "5",
           "13131-13140",
           "8_2a 2"
          ],
          [
           "8_2a",
           "5",
           "14076-14085",
           "8_2a 2"
          ],
          [
           "8_2a",
           "3",
           "14742-14751",
           "8_2a 2"
          ],
          [
           "8_2a",
           "3",
           "14751-14754",
           "8_2a 2"
          ],
          [
           "8_2a",
           "6",
           "19986-20007",
           "8_2a 3"
          ],
          [
           "8_2a",
           "2",
           "20007-20008",
           "8_2a 3"
          ],
          [
           "8_2a",
           "7",
           "21085-21093",
           "8_2a 3"
          ],
          [
           "8_2a",
           "1",
           "25537-25542",
           "8_2a 3"
          ],
          [
           "8_2a",
           "8",
           "26474-26478",
           "8_2a 4"
          ],
          [
           "8_2a",
           "1",
           "28039-28044",
           "8_2a 4"
          ],
          [
           "8_2a",
           "1",
           "28044-28048",
           "8_2a 4"
          ],
          [
           "8_2a",
           "1",
           "29058-29076",
           "8_2a 4"
          ],
          [
           "8_2a",
           "2",
           "31059-31077",
           "8_2a 4"
          ],
          [
           "8_2a",
           "8",
           "32351-32360",
           "8_2a 4"
          ],
          [
           "8_2a",
           "6",
           "32888-32895",
           "8_2a 4"
          ],
          [
           "8_2a",
           "2",
           "33137-33138",
           "8_2a 4"
          ],
          [
           "8_2a",
           "1",
           "33138-33173",
           "8_2a 4"
          ],
          [
           "8_2a",
           "2",
           "33680-33689",
           "8_2a 4"
          ],
          [
           "8_2a",
           "2",
           "35321-35329",
           "8_2a 4"
          ],
          [
           "8_2a",
           "8",
           "40836-40845",
           "8_2a 6"
          ],
          [
           "8_2a",
           "8",
           "45507-45513",
           "8_2a 6"
          ],
          [
           "8_2a",
           "8",
           "45513-45515",
           "8_2a 6"
          ],
          [
           "9_1b",
           "7",
           "4746-4755",
           "9_1b 1"
          ],
          [
           "9_1b",
           "3",
           "13089-13095",
           "9_1b 2"
          ],
          [
           "9_1b",
           "3",
           "13095-13131",
           "9_1b 2"
          ],
          [
           "9_1b",
           "5",
           "13131-13188",
           "9_1b 2"
          ],
          [
           "9_1b",
           "8",
           "14295-14304",
           "9_1b 2"
          ],
          [
           "9_1b",
           "1",
           "17840-17847",
           "9_1b 3"
          ],
          [
           "9_1b",
           "3",
           "17847-17849",
           "9_1b 3"
          ],
          [
           "9_1b",
           "1",
           "21870-21879",
           "9_1b 3"
          ],
          [
           "9_1b",
           "8",
           "22725-22743",
           "9_1b 3"
          ],
          [
           "9_1b",
           "1",
           "23906-23915",
           "9_1b 4"
          ],
          [
           "9_1b",
           "1",
           "25319-25337",
           "9_1b 4"
          ],
          [
           "9_1b",
           "3",
           "28288-28333",
           "9_1b 4"
          ],
          [
           "9_1b",
           "1",
           "35630-35640",
           "9_1b 6"
          ],
          [
           "9_1b",
           "3",
           "35640-35649",
           "9_1b 6"
          ],
          [
           "9_1b",
           "3",
           "35649-35712",
           "9_1b 6"
          ],
          [
           "9_1b",
           "2",
           "35712-35737",
           "9_1b 6"
          ],
          [
           "10_2b",
           "2",
           "23398-23416",
           "10_2b 1"
          ],
          [
           "10_2b",
           "1",
           "25367-25385",
           "10_2b 1"
          ],
          [
           "10_2b",
           "1",
           "25799-25817",
           "10_2b 1"
          ],
          [
           "10_2b",
           "1",
           "26256-26274",
           "10_2b 1"
          ],
          [
           "10_2b",
           "1",
           "26282-26292",
           "10_2b 1"
          ],
          [
           "10_2b",
           "3",
           "26543-26568",
           "10_2b 1"
          ],
          [
           "10_2b",
           "3",
           "26568-26624",
           "10_2b 1"
          ],
          [
           "10_2b",
           "1",
           "26633-26651",
           "10_2b 1"
          ],
          [
           "10_2b",
           "1",
           "27619-27637",
           "10_2b 1"
          ],
          [
           "10_2b",
           "8",
           "29377-29395",
           "10_2b 1"
          ],
          [
           "10_2b",
           "8",
           "29395-29412",
           "10_2b 1"
          ],
          [
           "10_2b",
           "2",
           "29412-29421",
           "10_2b 1"
          ],
          [
           "10_2b",
           "1",
           "30680-30689",
           "10_2b 2"
          ],
          [
           "10_2b",
           "1",
           "35531-35540",
           "10_2b 2"
          ],
          [
           "10_2b",
           "1",
           "36759-36786",
           "10_2b 3"
          ],
          [
           "10_2b",
           "1",
           "44079-44082",
           "10_2b 4"
          ],
          [
           "10_2b",
           "3",
           "44082-44086",
           "10_2b 4"
          ],
          [
           "10_2b",
           "1",
           "47861-47879",
           "10_2b 4"
          ],
          [
           "10_2b",
           "1",
           "48949-48958",
           "10_2b 4"
          ],
          [
           "10_2b",
           "7",
           "49624-49635",
           "10_2b 4"
          ],
          [
           "10_2b",
           "2",
           "49635-49696",
           "10_2b 4"
          ],
          [
           "10_2b",
           "2",
           "56760-56778",
           "10_2b 5"
          ],
          [
           "10_2b",
           "1",
           "59551-59578",
           "10_2b 5"
          ],
          [
           "10_2b",
           "3",
           "63599-63612",
           "10_2b 5"
          ],
          [
           "10_2b",
           "3",
           "63612-63616",
           "10_2b 5"
          ],
          [
           "10_2b",
           "2",
           "70386-70404",
           "10_2b 6"
          ],
          [
           "12_2c",
           "8",
           "20767-20794",
           "12_2c 1"
          ],
          [
           "12_2c",
           "1",
           "22141-22169",
           "12_2c 1"
          ],
          [
           "12_2c",
           "1",
           "22331-22347",
           "12_2c 1"
          ],
          [
           "12_2c",
           "1",
           "22347-22348",
           "12_2c 1"
          ],
          [
           "12_2c",
           "8",
           "23588-23606",
           "12_2c 1"
          ],
          [
           "12_2c",
           "3",
           "24648-24657",
           "12_2c 1"
          ],
          [
           "12_2c",
           "1",
           "26871-26883",
           "12_2c 1"
          ],
          [
           "12_2c",
           "3",
           "26883-26889",
           "12_2c 1"
          ],
          [
           "12_2c",
           "1",
           "32424-32442",
           "12_2c 2"
          ],
          [
           "12_2c",
           "1",
           "38625-38628",
           "12_2c 3"
          ],
          [
           "12_2c",
           "3",
           "38628-38653",
           "12_2c 3"
          ],
          [
           "12_2c",
           "2",
           "39786-39803",
           "12_2c 3"
          ],
          [
           "13_1a",
           "1",
           "1132-1159",
           "13_1a 1"
          ],
          [
           "13_1a",
           "1",
           "2124-2133",
           "13_1a 1"
          ],
          [
           "13_1a",
           "1",
           "2133-2142",
           "13_1a 1"
          ],
          [
           "13_1a",
           "6",
           "2151-2160",
           "13_1a 1"
          ],
          [
           "13_1a",
           "2",
           "9694-9702",
           "13_1a 2"
          ],
          [
           "13_1a",
           "3",
           "9702-9703",
           "13_1a 2"
          ],
          [
           "13_1a",
           "2",
           "15206-15210",
           "13_1a 3"
          ],
          [
           "13_1a",
           "2",
           "15210-15219",
           "13_1a 3"
          ],
          [
           "13_1a",
           "3",
           "15219-15233",
           "13_1a 3"
          ],
          [
           "13_1a",
           "1",
           "18473-18490",
           "13_1a 3"
          ],
          [
           "13_1a",
           "2",
           "34901-34919",
           "13_1a 6"
          ],
          [
           "13_1a",
           "1",
           "35306-35333",
           "13_1a 6"
          ],
          [
           "13_1a",
           "2",
           "36133-36169",
           "13_1a 6"
          ],
          [
           "13_1a",
           "1",
           "38312-38330",
           "13_1a 6"
          ],
          [
           "14_2a",
           "8",
           "8944-8946",
           "14_2a 1"
          ],
          [
           "14_2a",
           "3",
           "8946-8980",
           "14_2a 1"
          ],
          [
           "14_2a",
           "1",
           "10283-10328",
           "14_2a 1"
          ],
          [
           "14_2a",
           "8",
           "16879-16884",
           "14_2a 2"
          ],
          [
           "14_2a",
           "1",
           "18545-18563",
           "14_2a 2"
          ],
          [
           "14_2a",
           "1",
           "20682-20691",
           "14_2a 2"
          ],
          [
           "14_2a",
           "1",
           "21589-21598",
           "14_2a 2"
          ],
          [
           "14_2a",
           "3",
           "21842-21851",
           "14_2a 2"
          ],
          [
           "14_2a",
           "1",
           "22445-22454",
           "14_2a 2"
          ],
          [
           "14_2a",
           "2",
           "25034-25061",
           "14_2a 3"
          ],
          [
           "14_2a",
           "2",
           "27399-27405",
           "14_2a 3"
          ],
          [
           "14_2a",
           "1",
           "27405-27408",
           "14_2a 3"
          ],
          [
           "14_2a",
           "8",
           "30128-30141",
           "14_2a 4"
          ],
          [
           "14_2a",
           "2",
           "30141-30146",
           "14_2a 4"
          ],
          [
           "14_2a",
           "9",
           "31037-31055",
           "14_2a 4"
          ],
          [
           "14_2a",
           "2",
           "32242-32247",
           "14_2a 4"
          ],
          [
           "14_2a",
           "1",
           "32247-32260",
           "14_2a 4"
          ],
          [
           "14_2a",
           "2",
           "33758-33776",
           "14_2a 4"
          ],
          [
           "14_2a",
           "2",
           "45159-45168",
           "14_2a 6"
          ],
          [
           "14_2a",
           "3",
           "46230-46293",
           "14_2a 6"
          ],
          [
           "14_2a",
           "5",
           "48778-48780",
           "14_2a 6"
          ],
          [
           "14_2a",
           "5",
           "48780-48787",
           "14_2a 6"
          ],
          [
           "14_2a",
           "3",
           "49835-49851",
           "14_2a 6"
          ],
          [
           "14_2a",
           "3",
           "49851-49853",
           "14_2a 6"
          ],
          [
           "15_1b",
           "6",
           "10812-10830",
           "15_1b 1"
          ],
          [
           "15_1b",
           "2",
           "11866-11880",
           "15_1b 1"
          ],
          [
           "15_1b",
           "2",
           "11880-11884",
           "15_1b 1"
          ],
          [
           "15_1b",
           "5",
           "12702-12721",
           "15_1b 1"
          ],
          [
           "15_1b",
           "1",
           "13695-13707",
           "15_1b 2"
          ],
          [
           "15_1b",
           "3",
           "13707-13713",
           "15_1b 2"
          ],
          [
           "15_1b",
           "6",
           "17142-17151",
           "15_1b 2"
          ],
          [
           "15_1b",
           "6",
           "24740-24741",
           "15_1b 4"
          ],
          [
           "15_1b",
           "7",
           "24741-24758",
           "15_1b 4"
          ],
          [
           "15_1b",
           "5",
           "27901-27928",
           "15_1b 4"
          ],
          [
           "15_1b",
           "7",
           "28270-28279",
           "15_1b 4"
          ],
          [
           "15_1b",
           "2",
           "36961-36972",
           "15_1b 6"
          ],
          [
           "15_1b",
           "2",
           "36972-36979",
           "15_1b 6"
          ],
          [
           "16_2b",
           "7",
           "9131-9136",
           "16_2b 1"
          ],
          [
           "16_2b",
           "8",
           "12914-12915",
           "16_2b 2"
          ],
          [
           "16_2b",
           "1",
           "12915-12927",
           "16_2b 2"
          ],
          [
           "16_2b",
           "9",
           "13200-13203",
           "16_2b 2"
          ],
          [
           "16_2b",
           "8",
           "13203-13209",
           "16_2b 2"
          ],
          [
           "16_2b",
           "3",
           "14513-14517",
           "16_2b 3"
          ],
          [
           "16_2b",
           "1",
           "17611-17619",
           "16_2b 3"
          ],
          [
           "16_2b",
           "1",
           "18295-18304",
           "16_2b 3"
          ],
          [
           "16_2b",
           "1",
           "18331-18339",
           "16_2b 3"
          ],
          [
           "16_2b",
           "3",
           "32459-32463",
           "16_2b 6"
          ],
          [
           "16_2b",
           "3",
           "32463-32468",
           "16_2b 6"
          ],
          [
           "17_1c",
           "2",
           "9296-9314",
           "17_1c 1"
          ],
          [
           "17_1c",
           "2",
           "12974-12978",
           "17_1c 2"
          ],
          [
           "17_1c",
           "3",
           "12978-12991",
           "17_1c 2"
          ],
          [
           "17_1c",
           "1",
           "17772-17790",
           "17_1c 2"
          ],
          [
           "17_1c",
           "1",
           "19105-19134",
           "17_1c 3"
          ],
          [
           "17_1c",
           "1",
           "19134-19141",
           "17_1c 3"
          ],
          [
           "17_1c",
           "2",
           "21905-21931",
           "17_1c 3"
          ],
          [
           "17_1c",
           "2",
           "24234-24243",
           "17_1c 3"
          ],
          [
           "17_1c",
           "1",
           "25179-25197",
           "17_1c 3"
          ],
          [
           "17_1c",
           "1",
           "29969-29996",
           "17_1c 4"
          ],
          [
           "17_1c",
           "1",
           "31264-31266",
           "17_1c 4"
          ],
          [
           "17_1c",
           "3",
           "31266-31273",
           "17_1c 4"
          ],
          [
           "17_1c",
           "1",
           "31913-31959",
           "17_1c 4"
          ],
          [
           "17_1c",
           "3",
           "31959-31968",
           "17_1c 4"
          ],
          [
           "17_1c",
           "3",
           "31968-32013",
           "17_1c 4"
          ],
          [
           "17_1c",
           "1",
           "32013-32031",
           "17_1c 4"
          ],
          [
           "17_1c",
           "3",
           "32031-32040",
           "17_1c 4"
          ],
          [
           "17_1c",
           "3",
           "32040-32048",
           "17_1c 4"
          ],
          [
           "17_1c",
           "1",
           "35975-35982",
           "17_1c 4"
          ],
          [
           "17_1c",
           "3",
           "35982-35991",
           "17_1c 4"
          ],
          [
           "17_1c",
           "3",
           "35991-36018",
           "17_1c 4"
          ],
          [
           "17_1c",
           "5",
           "36018-36027",
           "17_1c 4"
          ],
          [
           "17_1c",
           "3",
           "36027-36054",
           "17_1c 4"
          ],
          [
           "17_1c",
           "3",
           "36054-36063",
           "17_1c 4"
          ],
          [
           "17_1c",
           "1",
           "36063-36074",
           "17_1c 4"
          ],
          [
           "17_1c",
           "8",
           "41518-41526",
           "17_1c 5"
          ],
          [
           "17_1c",
           "6",
           "49925-49934",
           "17_1c 6"
          ],
          [
           "17_1c",
           "8",
           "53764-53784",
           "17_1c 6"
          ],
          [
           "17_1c",
           "3",
           "53784-53791",
           "17_1c 6"
          ],
          [
           "17_1c",
           "6",
           "54806-54824",
           "17_1c 6"
          ],
          [
           "17_1c",
           "1",
           "56568-56586",
           "17_1c 6"
          ],
          [
           "17_1c",
           "1",
           "57279-57294",
           "17_1c 6"
          ],
          [
           "17_1c",
           "3",
           "57294-57297",
           "17_1c 6"
          ],
          [
           "18_2c",
           "2",
           "5324-5328",
           "18_2c 1"
          ],
          [
           "18_2c",
           "1",
           "5328-5351",
           "18_2c 1"
          ],
          [
           "18_2c",
           "1",
           "7691-7708",
           "18_2c 2"
          ],
          [
           "18_2c",
           "1",
           "8527-8536",
           "18_2c 2"
          ],
          [
           "18_2c",
           "3",
           "8967-8982",
           "18_2c 2"
          ],
          [
           "18_2c",
           "3",
           "8982-9000",
           "18_2c 2"
          ],
          [
           "18_2c",
           "3",
           "9000-9021",
           "18_2c 2"
          ],
          [
           "18_2c",
           "3",
           "12040-12042",
           "18_2c 2"
          ],
          [
           "18_2c",
           "3",
           "12042-12059",
           "18_2c 2"
          ],
          [
           "18_2c",
           "1",
           "15726-15735",
           "18_2c 3"
          ],
          [
           "18_2c",
           "7",
           "16496-16497",
           "18_2c 3"
          ],
          [
           "18_2c",
           "7",
           "16497-16505",
           "18_2c 3"
          ],
          [
           "18_2c",
           "2",
           "28637-28646",
           "18_2c 4"
          ],
          [
           "18_2c",
           "2",
           "41833-41842",
           "18_2c 6"
          ],
          [
           "18_2c",
           "2",
           "42887-42896",
           "18_2c 6"
          ],
          [
           "18_2c",
           "1",
           "43927-43936",
           "18_2c 6"
          ]
         ],
         "hoverlabel": {
          "namelength": 0
         },
         "hovertemplate": "lemma=go<br>x=%{x}<br>y=%{y}<br>participant=%{customdata[0]}<br>top=%{customdata[1]}<br>step=%{customdata[2]}<br>pt=%{customdata[3]}",
         "legendgroup": "go",
         "marker": {
          "color": "#FD3216",
          "symbol": "circle"
         },
         "mode": "markers",
         "name": "go",
         "showlegend": true,
         "type": "scattergl",
         "x": [
          -23.540620803833008,
          1.9252126216888428,
          2.0367610454559326,
          1.92431640625,
          -22.451004028320312,
          4.808896064758301,
          43.376075744628906,
          10.549237251281738,
          -1.3547006845474243,
          -8.656420707702637,
          -35.23872756958008,
          -26.893016815185547,
          0.9442797899246216,
          -23.705711364746094,
          16.66608428955078,
          20.867921829223633,
          -1.3547006845474243,
          -5.531339168548584,
          -2.0877349376678467,
          1.9552427530288696,
          25.211360931396484,
          31.760047912597656,
          -25.97572135925293,
          23.833850860595703,
          17.864418029785156,
          -12.440847396850586,
          -5.132256031036377,
          0.25931647419929504,
          0.8942776918411255,
          10.668990135192871,
          15.108501434326172,
          16.66653823852539,
          -25.484317779541016,
          -23.52092933654785,
          -22.67373275756836,
          15.472846031188965,
          -21.31712532043457,
          15.387423515319824,
          16.000764846801758,
          5.684101581573486,
          23.833850860595703,
          -15.301836013793945,
          1.7139467000961304,
          2.5214054584503174,
          -24.0533390045166,
          -18.037490844726562,
          -11.354546546936035,
          -11.162130355834961,
          -18.47989845275879,
          4.324803829193115,
          42.79029083251953,
          12.873551368713379,
          48.69370651245117,
          -21.317258834838867,
          0.4540945589542389,
          -15.004475593566895,
          4.808475494384766,
          46.62590789794922,
          48.6787109375,
          -23.52128791809082,
          -18.037490844726562,
          -11.355202674865723,
          -8.390776634216309,
          4.8167195320129395,
          43.02981948852539,
          6.0669355392456055,
          6.702456474304199,
          10.932082176208496,
          -23.600828170776367,
          -25.90876007080078,
          -20.739038467407227,
          1.9252092838287354,
          23.833850860595703,
          15.108660697937012,
          10.9981689453125,
          -23.072229385375977,
          -34.81922912597656,
          -26.283763885498047,
          2.335843086242676,
          -34.847835540771484,
          -26.438722610473633,
          2.9923946857452393,
          2.9923946857452393,
          16.65181541442871,
          18.68133544921875,
          5.600611686706543,
          15.77877426147461,
          17.686389923095703,
          -5.729763031005859,
          33.64448547363281,
          12.873566627502441,
          46.626712799072266,
          42.79157257080078,
          -0.11187581717967987,
          23.833850860595703,
          4.405869483947754,
          43.041160583496094,
          2.288973331451416,
          10.668990135192871,
          0.39430782198905945,
          2.802323579788208,
          2.9838476181030273,
          1.4118473529815674,
          -22.882905960083008,
          1.005334734916687,
          23.833850860595703,
          2.288972854614258,
          -14.905760765075684,
          18.36052894592285,
          -14.254077911376953,
          -24.920291900634766,
          -24.312665939331055,
          -9.157455444335938,
          25.20862579345703,
          23.833850860595703,
          -15.43125057220459,
          35.05854415893555,
          9.013696670532227,
          -20.034130096435547,
          2.3167834281921387,
          1.1390384435653687,
          17.26845932006836,
          12.873549461364746,
          48.691795349121094,
          -0.3510243892669678,
          -23.970565795898438,
          17.142534255981445,
          10.766633987426758,
          4.600849628448486,
          42.797508239746094,
          -23.935258865356445,
          -23.910598754882812,
          17.142534255981445,
          16.684179306030273,
          14.61610221862793,
          1.8483620882034302,
          -5.730690956115723,
          36.01493835449219,
          4.114777565002441,
          16.693201065063477,
          16.86172866821289,
          -15.358772277832031,
          2.9923946857452393,
          16.693191528320312,
          -1.3547006845474243,
          -1.3547006845474243,
          -7.6905293464660645,
          16.912561416625977,
          -12.847013473510742,
          -2.0385773181915283,
          -20.033935546875,
          -23.624500274658203,
          2.9923946857452393,
          0.45647937059402466,
          1.2286760807037354,
          -0.3898794651031494,
          -35.494483947753906,
          -26.510644912719727,
          0.8382190465927124,
          -0.2680846154689789,
          16.65181541442871,
          18.9205379486084,
          -21.921504974365234,
          1.242650032043457,
          0.5082041621208191,
          0.11464277654886246,
          17.309736251831055,
          -14.995503425598145,
          0.7151454091072083,
          0.1227387934923172,
          -1.2811566591262817,
          -8.824112892150879,
          -23.89052963256836,
          1.9016315937042236,
          -35.23872756958008,
          -26.608318328857422,
          -24.71138572692871,
          16.815185546875,
          2.2906229496002197,
          12.873551368713379,
          48.69370651245117,
          16.947080612182617,
          -9.138204574584961,
          18.36052894592285,
          -15.545406341552734,
          -0.12696437537670135,
          18.36052894592285,
          -14.23144245147705,
          -25.421541213989258,
          -1.3547006845474243,
          -3.1588871479034424,
          -4.375909328460693,
          11.103849411010742,
          -22.947364807128906,
          -12.508293151855469,
          -25.484580993652344,
          -23.575559616088867,
          -20.297632217407227,
          0.5081827044487,
          -25.44988441467285,
          1.458284616470337,
          -25.092723846435547,
          1.458284616470337,
          15.472611427307129,
          -20.2965145111084,
          1.458284616470337,
          18.92314910888672,
          1.458284616470337,
          1.458284616470337,
          1.458284616470337,
          -7.982314586639404,
          1.458284616470337,
          -25.774980545043945,
          4.6163105964660645,
          43.78715133666992,
          18.92315101623535,
          -21.922422409057617,
          15.108660697937012,
          5.25234317779541,
          43.58198928833008,
          -25.070167541503906,
          -24.067834854125977,
          -8.81213665008545,
          23.139183044433594,
          4.108482837677002,
          -5.729463577270508,
          35.05886459350586,
          10.595470428466797,
          -25.484603881835938,
          -23.521757125854492,
          23.835599899291992,
          16.81611442565918,
          -14.86561393737793,
          10.595470428466797,
          12.101873397827148,
          3.899038076400757,
          23.836135864257812,
          1.695339322090149,
          -18.03750228881836,
          -11.359960556030273,
          1.6695517301559448,
          18.6827392578125,
          5.60060453414917,
          15.387678146362305,
          15.959809303283691,
          -7.84255838394165,
          1.458284616470337,
          1.458284616470337,
          1.458284616470337,
          -35.739803314208984,
          -26.510644912719727,
          -25.725324630737305,
          -22.947099685668945,
          -12.508331298828125,
          1.458284616470337,
          12.873496055603027,
          48.696327209472656,
          -26.425382614135742,
          -24.563583374023438,
          1.458284616470337,
          1.458284616470337,
          17.34248924255371,
          -15.295336723327637,
          17.8392391204834,
          -23.52825927734375,
          -28.4403018951416,
          48.4788703918457,
          -12.602689743041992,
          -26.283782958984375,
          17.71208381652832,
          -15.431392669677734,
          34.75951385498047,
          18.877071380615234,
          -33.62578201293945,
          -28.4403018951416,
          48.69643783569336,
          17.267791748046875,
          10.595470428466797,
          15.47278118133545,
          -20.29737091064453,
          10.758052825927734,
          1.458284616470337,
          17.36870002746582,
          -15.544267654418945,
          5.107191562652588,
          43.618980407714844,
          1.458284616470337,
          1.458284616470337,
          -35.9741325378418,
          -23.528194427490234,
          -14.258275985717773,
          -5.7297444343566895,
          35.059425354003906,
          1.458284616470337,
          1.6701736450195312,
          3.8997786045074463,
          -24.85963249206543,
          -25.46147918701172,
          -25.482162475585938,
          1.5980768203735352
         ],
         "xaxis": "x",
         "y": [
          8.373190879821777,
          -0.8139706254005432,
          -0.8159735798835754,
          -0.8137630820274353,
          8.501372337341309,
          -45.32828903198242,
          12.163481712341309,
          -12.710383415222168,
          26.74750518798828,
          -15.67950439453125,
          -11.2749605178833,
          -23.941421508789062,
          29.375118255615234,
          9.313495635986328,
          8.42178726196289,
          -8.777359962463379,
          26.74750518798828,
          -14.573962211608887,
          -14.469123840332031,
          28.604515075683594,
          -6.046383857727051,
          -13.500990867614746,
          -24.062776565551758,
          -5.395705699920654,
          -33.009307861328125,
          -41.5905876159668,
          -18.07032585144043,
          28.907482147216797,
          28.798442840576172,
          -12.537628173828125,
          -4.384058952331543,
          8.020222663879395,
          13.371535301208496,
          14.891624450683594,
          9.943010330200195,
          11.799118041992188,
          -13.590771675109863,
          -3.580307960510254,
          -1.382624626159668,
          21.158355712890625,
          -5.395705223083496,
          -40.01950454711914,
          28.14940643310547,
          29.441816329956055,
          9.195021629333496,
          7.925250053405762,
          6.907217025756836,
          -14.44677448272705,
          -13.389592170715332,
          -45.971702575683594,
          11.462325096130371,
          36.67184066772461,
          17.50116539001465,
          -13.590944290161133,
          28.813335418701172,
          -41.27375030517578,
          -45.328243255615234,
          15.223366737365723,
          17.49468994140625,
          10.686638832092285,
          7.9252495765686035,
          6.907320976257324,
          -15.689750671386719,
          -45.32947540283203,
          12.100086212158203,
          26.9012508392334,
          26.573732376098633,
          -13.019529342651367,
          8.580026626586914,
          5.049589157104492,
          1.4593136310577393,
          -0.813969612121582,
          -5.395704746246338,
          -4.383935928344727,
          -12.984472274780273,
          10.38696002960205,
          -10.566267967224121,
          -24.207090377807617,
          28.618680953979492,
          -10.933921813964844,
          -23.14554214477539,
          26.013689041137695,
          26.013689041137695,
          8.399819374084473,
          7.558722972869873,
          21.242273330688477,
          -4.753227710723877,
          -5.3441057205200195,
          -23.362295150756836,
          -14.526712417602539,
          36.67174530029297,
          15.223424911499023,
          11.458162307739258,
          28.361406326293945,
          -5.3957061767578125,
          -45.54474639892578,
          11.260355949401855,
          -0.641327440738678,
          -12.537628173828125,
          29.52787971496582,
          29.48900604248047,
          28.981517791748047,
          29.26065444946289,
          8.044689178466797,
          26.68889808654785,
          -5.3957061767578125,
          -0.6413282752037048,
          -40.58304214477539,
          -32.21164321899414,
          -40.4922981262207,
          9.67719554901123,
          9.822096824645996,
          -15.6152982711792,
          -6.047701835632324,
          -5.395705223083496,
          -44.34939956665039,
          -15.732320785522461,
          -13.949850082397461,
          0.5630185604095459,
          -0.40992623567581177,
          28.31378746032715,
          8.36363697052002,
          36.67182540893555,
          17.498146057128906,
          28.767271041870117,
          10.075321197509766,
          8.505711555480957,
          -12.492103576660156,
          -46.2574348449707,
          11.75185489654541,
          9.68732738494873,
          8.826529502868652,
          8.505711555480957,
          6.108543395996094,
          4.909626483917236,
          -0.17538224160671234,
          -23.36012077331543,
          -15.303865432739258,
          3.035398006439209,
          7.99661111831665,
          -32.45613479614258,
          -41.082130432128906,
          26.013689041137695,
          7.996623992919922,
          26.74750518798828,
          26.74750518798828,
          -15.282552719116211,
          -31.984683990478516,
          -38.26268768310547,
          -14.929098129272461,
          0.5630719661712646,
          7.925677299499512,
          26.013689041137695,
          29.464326858520508,
          28.482059478759766,
          29.19464111328125,
          -11.296616554260254,
          -24.238576889038086,
          28.735071182250977,
          29.460527420043945,
          8.399819374084473,
          9.78234577178955,
          15.099078178405762,
          28.388105392456055,
          27.608753204345703,
          28.099746704101562,
          -32.30052185058594,
          -41.26673889160156,
          28.174428939819336,
          28.08739471435547,
          2.0397369861602783,
          6.245168685913086,
          9.977354049682617,
          27.648719787597656,
          -11.2749605178833,
          -24.11912727355957,
          8.544034004211426,
          8.55673599243164,
          27.90774917602539,
          36.671791076660156,
          17.50116539001465,
          8.579252243041992,
          -15.727926254272461,
          -32.21164321899414,
          -40.762813568115234,
          29.73426628112793,
          -32.21164321899414,
          -40.64594650268555,
          10.024789810180664,
          26.74750518798828,
          27.818687438964844,
          26.462635040283203,
          -12.74531364440918,
          4.796624660491943,
          -8.91696548461914,
          13.371533393859863,
          14.940776824951172,
          -13.158856391906738,
          27.60877799987793,
          8.043057441711426,
          31.45989227294922,
          7.736616134643555,
          31.45989227294922,
          11.803388595581055,
          -13.15984058380127,
          31.45989227294922,
          9.786365509033203,
          31.45989227294922,
          31.45989227294922,
          31.45989227294922,
          -14.94799518585205,
          31.45989227294922,
          8.546420097351074,
          -45.36245346069336,
          11.679777145385742,
          9.78636646270752,
          15.099552154541016,
          -4.383937358856201,
          -45.966487884521484,
          12.07481575012207,
          7.7145514488220215,
          8.269376754760742,
          -14.956161499023438,
          -5.6173295974731445,
          3.040564775466919,
          -23.362886428833008,
          -15.732638359069824,
          -12.916028022766113,
          13.371539115905762,
          14.891863822937012,
          -5.397122383117676,
          -32.104698181152344,
          -39.92502212524414,
          -12.916028022766113,
          -14.097880363464355,
          -4.092384338378906,
          -5.397634506225586,
          -0.6266250610351562,
          7.92525053024292,
          6.907867908477783,
          -0.40058234333992004,
          7.560497283935547,
          21.242517471313477,
          -3.5815038681030273,
          -1.438761591911316,
          -15.020848274230957,
          31.45989227294922,
          31.45989227294922,
          31.45989227294922,
          -11.193161010742188,
          -24.238576889038086,
          9.389710426330566,
          4.796418190002441,
          -8.917437553405762,
          31.45989227294922,
          36.671600341796875,
          17.50270652770996,
          7.030303001403809,
          7.423995018005371,
          31.45989227294922,
          31.45989227294922,
          -31.65340805053711,
          -40.01218032836914,
          -32.500816345214844,
          -34.64406967163086,
          -24.63431739807129,
          18.417112350463867,
          -8.869349479675293,
          -24.207096099853516,
          -32.20591735839844,
          -44.34946823120117,
          -16.736141204833984,
          -5.726129531860352,
          -13.205965995788574,
          -24.634309768676758,
          17.502758026123047,
          8.026559829711914,
          -12.916028022766113,
          11.803396224975586,
          -13.159205436706543,
          -13.032896041870117,
          31.45989227294922,
          -32.431495666503906,
          -40.769100189208984,
          -46.219242095947266,
          12.03359603881836,
          31.45989227294922,
          31.45989227294922,
          -10.599900245666504,
          -34.64405822753906,
          -40.51901626586914,
          -23.36126136779785,
          -15.733479499816895,
          31.45989227294922,
          -0.3974786400794983,
          -1.0382089614868164,
          7.6749420166015625,
          8.050654411315918,
          8.401256561279297,
          28.58987045288086
         ],
         "yaxis": "y"
        },
        {
         "customdata": [
          [
           "1_1a",
           "7",
           "13750-13752",
           "1_1a 1"
          ],
          [
           "1_1a",
           "2",
           "13752-13768",
           "1_1a 1"
          ],
          [
           "1_1a",
           "3",
           "21828-21834",
           "1_1a 2"
          ],
          [
           "1_1a",
           "3",
           "21834-21836",
           "1_1a 2"
          ],
          [
           "1_1a",
           "2",
           "27283-27302",
           "1_1a 3"
          ],
          [
           "1_1a",
           "3",
           "30130-30150",
           "1_1a 3"
          ],
          [
           "1_1a",
           "3",
           "30150-30156",
           "1_1a 3"
          ],
          [
           "2_2a",
           "3",
           "12466-12483",
           "2_2a 2"
          ],
          [
           "4_2b",
           "5",
           "31255-31275",
           "4_2b 4"
          ],
          [
           "4_2b",
           "5",
           "31275-31302",
           "4_2b 4"
          ],
          [
           "4_2b",
           "6",
           "31302-31327",
           "4_2b 4"
          ],
          [
           "4_2b",
           "6",
           "32237-32246",
           "4_2b 4"
          ],
          [
           "6_2c",
           "2",
           "20284-20318",
           "6_2c 3"
          ],
          [
           "7_1a",
           "1",
           "15589-15606",
           "7_1a 1"
          ],
          [
           "7_1a",
           "1",
           "15606-15624",
           "7_1a 1"
          ],
          [
           "7_1a",
           "2",
           "15624-15669",
           "7_1a 1"
          ],
          [
           "7_1a",
           "2",
           "15669-15724",
           "7_1a 1"
          ],
          [
           "8_2a",
           "1",
           "12514-12532",
           "8_2a 2"
          ],
          [
           "8_2a",
           "6",
           "13761-13770",
           "8_2a 2"
          ],
          [
           "8_2a",
           "2",
           "13770-13786",
           "8_2a 2"
          ],
          [
           "8_2a",
           "1",
           "15475-15489",
           "8_2a 2"
          ],
          [
           "8_2a",
           "1",
           "31689-31707",
           "8_2a 4"
          ],
          [
           "8_2a",
           "1",
           "31707-31733",
           "8_2a 4"
          ],
          [
           "8_2a",
           "1",
           "41158-41176",
           "8_2a 6"
          ],
          [
           "9_1b",
           "9",
           "4250-4257",
           "9_1b 1"
          ],
          [
           "9_1b",
           "4",
           "4257-4275",
           "9_1b 1"
          ],
          [
           "9_1b",
           "3",
           "4275-4311",
           "9_1b 1"
          ],
          [
           "9_1b",
           "3",
           "4311-4320",
           "9_1b 1"
          ],
          [
           "9_1b",
           "4",
           "4320-4323",
           "9_1b 1"
          ],
          [
           "9_1b",
           "6",
           "5600-5616",
           "9_1b 1"
          ],
          [
           "9_1b",
           "2",
           "5616-5706",
           "9_1b 1"
          ],
          [
           "9_1b",
           "1",
           "5706-5708",
           "9_1b 1"
          ],
          [
           "9_1b",
           "2",
           "9057-9108",
           "9_1b 1"
          ],
          [
           "9_1b",
           "1",
           "9108-9144",
           "9_1b 1"
          ],
          [
           "9_1b",
           "1",
           "9144-9153",
           "9_1b 1"
          ],
          [
           "9_1b",
           "1",
           "9153-9171",
           "9_1b 1"
          ],
          [
           "9_1b",
           "1",
           "9171-9183",
           "9_1b 1"
          ],
          [
           "9_1b",
           "1",
           "12765-12810",
           "9_1b 2"
          ],
          [
           "9_1b",
           "1",
           "16219-16246",
           "9_1b 3"
          ],
          [
           "9_1b",
           "2",
           "35136-35163",
           "9_1b 5"
          ],
          [
           "9_1b",
           "9",
           "36539-36540",
           "9_1b 6"
          ],
          [
           "9_1b",
           "6",
           "36540-36621",
           "9_1b 6"
          ],
          [
           "9_1b",
           "2",
           "36621-36656",
           "9_1b 6"
          ],
          [
           "9_1b",
           "1",
           "37385-37421",
           "9_1b 6"
          ],
          [
           "10_2b",
           "7",
           "31096-31122",
           "10_2b 2"
          ],
          [
           "10_2b",
           "3",
           "31122-31140",
           "10_2b 2"
          ],
          [
           "10_2b",
           "3",
           "31140-31194",
           "10_2b 2"
          ],
          [
           "10_2b",
           "1",
           "31194-31240",
           "10_2b 2"
          ],
          [
           "10_2b",
           "6",
           "37058-37062",
           "10_2b 3"
          ],
          [
           "10_2b",
           "7",
           "37062-37080",
           "10_2b 3"
          ],
          [
           "10_2b",
           "2",
           "37080-37089",
           "10_2b 3"
          ],
          [
           "10_2b",
           "1",
           "37089-37123",
           "10_2b 3"
          ],
          [
           "10_2b",
           "8",
           "40392-40410",
           "10_2b 3"
          ],
          [
           "10_2b",
           "3",
           "40410-40428",
           "10_2b 3"
          ],
          [
           "10_2b",
           "3",
           "41537-41607",
           "10_2b 3"
          ],
          [
           "10_2b",
           "3",
           "41607-41627",
           "10_2b 3"
          ],
          [
           "10_2b",
           "1",
           "48222-48258",
           "10_2b 4"
          ],
          [
           "10_2b",
           "1",
           "68366-68418",
           "10_2b 6"
          ],
          [
           "10_2b",
           "1",
           "68418-68437",
           "10_2b 6"
          ],
          [
           "11_1c",
           "3",
           "15873-15921",
           "11_1c 1"
          ],
          [
           "11_1c",
           "3",
           "15921-16053",
           "11_1c 1"
          ],
          [
           "11_1c",
           "2",
           "17655-17682",
           "11_1c 1"
          ],
          [
           "11_1c",
           "3",
           "22411-22419",
           "11_1c 2"
          ],
          [
           "11_1c",
           "3",
           "22419-22437",
           "11_1c 2"
          ],
          [
           "11_1c",
           "3",
           "22437-22438",
           "11_1c 2"
          ],
          [
           "11_1c",
           "3",
           "23788-23796",
           "11_1c 2"
          ],
          [
           "11_1c",
           "3",
           "23796-23797",
           "11_1c 2"
          ],
          [
           "11_1c",
           "3",
           "28254-28314",
           "11_1c 3"
          ],
          [
           "11_1c",
           "3",
           "28314-28325",
           "11_1c 3"
          ],
          [
           "11_1c",
           "1",
           "46796-46800",
           "11_1c 6"
          ],
          [
           "11_1c",
           "3",
           "46800-46814",
           "11_1c 6"
          ],
          [
           "11_1c",
           "6",
           "49028-49032",
           "11_1c 6"
          ],
          [
           "11_1c",
           "6",
           "49032-49046",
           "11_1c 6"
          ],
          [
           "11_1c",
           "6",
           "49756-49765",
           "11_1c 6"
          ],
          [
           "12_2c",
           "1",
           "30385-30403",
           "12_2c 2"
          ],
          [
           "12_2c",
           "3",
           "31536-31554",
           "12_2c 2"
          ],
          [
           "12_2c",
           "4",
           "34031-34047",
           "12_2c 3"
          ],
          [
           "12_2c",
           "5",
           "34047-34049",
           "12_2c 3"
          ],
          [
           "14_2a",
           "1",
           "19447-19472",
           "14_2a 2"
          ],
          [
           "14_2a",
           "1",
           "20700-20727",
           "14_2a 2"
          ],
          [
           "15_1b",
           "1",
           "31820-31838",
           "15_1b 5"
          ],
          [
           "16_2b",
           "1",
           "20196-20273",
           "16_2b 4"
          ],
          [
           "16_2b",
           "3",
           "33411-33426",
           "16_2b 6"
          ],
          [
           "16_2b",
           "3",
           "33426-33435",
           "16_2b 6"
          ],
          [
           "16_2b",
           "3",
           "33435-33438",
           "16_2b 6"
          ],
          [
           "17_1c",
           "1",
           "14897-14906",
           "17_1c 2"
          ],
          [
           "17_1c",
           "3",
           "16497-16524",
           "17_1c 2"
          ],
          [
           "17_1c",
           "3",
           "16524-16533",
           "17_1c 2"
          ],
          [
           "17_1c",
           "3",
           "17171-17224",
           "17_1c 2"
          ],
          [
           "17_1c",
           "1",
           "39547-39556",
           "17_1c 5"
          ],
          [
           "17_1c",
           "1",
           "52400-52409",
           "17_1c 6"
          ],
          [
           "18_2c",
           "1",
           "8536-8554",
           "18_2c 2"
          ],
          [
           "18_2c",
           "5",
           "10861-10890",
           "18_2c 2"
          ],
          [
           "18_2c",
           "5",
           "10890-10908",
           "18_2c 2"
          ],
          [
           "18_2c",
           "5",
           "10908-10915",
           "18_2c 2"
          ],
          [
           "18_2c",
           "3",
           "13434-13443",
           "18_2c 2"
          ],
          [
           "18_2c",
           "8",
           "18108-18169",
           "18_2c 3"
          ],
          [
           "18_2c",
           "3",
           "24126-24138",
           "18_2c 4"
          ],
          [
           "18_2c",
           "3",
           "24138-24144",
           "18_2c 4"
          ],
          [
           "18_2c",
           "3",
           "27884-27893",
           "18_2c 4"
          ],
          [
           "18_2c",
           "8",
           "39733-39742",
           "18_2c 6"
          ],
          [
           "18_2c",
           "2",
           "41851-41860",
           "18_2c 6"
          ],
          [
           "18_2c",
           "2",
           "42896-42912",
           "18_2c 6"
          ],
          [
           "18_2c",
           "3",
           "42912-42914",
           "18_2c 6"
          ]
         ],
         "hoverlabel": {
          "namelength": 0
         },
         "hovertemplate": "lemma=take<br>x=%{x}<br>y=%{y}<br>participant=%{customdata[0]}<br>top=%{customdata[1]}<br>step=%{customdata[2]}<br>pt=%{customdata[3]}",
         "legendgroup": "take",
         "marker": {
          "color": "#00FE35",
          "symbol": "circle"
         },
         "mode": "markers",
         "name": "take",
         "showlegend": true,
         "type": "scattergl",
         "x": [
          -1.2837697267532349,
          -8.82282829284668,
          -10.665175437927246,
          -12.893926620483398,
          -24.788619995117188,
          -35.494483947753906,
          -25.989307403564453,
          -34.94411087036133,
          23.032867431640625,
          18.8205623626709,
          13.395946502685547,
          10.968135833740234,
          -22.382732391357422,
          12.873538970947266,
          49.62922286987305,
          -10.190710067749023,
          -8.824186325073242,
          2.9923946857452393,
          9.01390266418457,
          -20.034317016601562,
          -1.3547006845474243,
          12.87349796295166,
          48.691795349121094,
          1.3630284070968628,
          14.504956245422363,
          12.585705757141113,
          -14.162469863891602,
          -5.107101917266846,
          12.610213279724121,
          9.013728141784668,
          -19.78131675720215,
          43.66704177856445,
          4.418673515319824,
          46.6258659362793,
          46.626129150390625,
          46.62599182128906,
          48.691795349121094,
          2.839848279953003,
          -0.011815143749117851,
          -24.507972717285156,
          14.85856819152832,
          13.387815475463867,
          -20.033363342285156,
          2.9923946857452393,
          -0.08005749434232712,
          -4.824510097503662,
          -28.4403018951416,
          48.69370651245117,
          12.102998733520508,
          3.898684501647949,
          -7.778820514678955,
          42.88090896606445,
          15.473758697509766,
          -21.31721305847168,
          -35.39882278442383,
          -26.879592895507812,
          0.7079586982727051,
          12.873540878295898,
          48.691795349121094,
          -5.530762195587158,
          -2.0898637771606445,
          -24.81053352355957,
          -35.235416412353516,
          -23.528215408325195,
          -14.48063850402832,
          -5.530762195587158,
          -2.0875275135040283,
          -34.81922912597656,
          -26.584178924560547,
          16.915237426757812,
          -15.358772277832031,
          12.680744171142578,
          13.257713317871094,
          11.103853225708008,
          2.006793975830078,
          31.75959587097168,
          12.159367561340332,
          21.573686599731445,
          1.458284616470337,
          1.458284616470337,
          1.458284616470337,
          1.458284616470337,
          -35.97085189819336,
          -23.527862548828125,
          -15.357011795043945,
          1.458284616470337,
          -5.730757236480713,
          35.05875778198242,
          -8.26956558227539,
          1.458284616470337,
          1.458284616470337,
          1.458284616470337,
          23.972444534301758,
          22.08885383605957,
          21.580373764038086,
          -9.134535789489746,
          17.26609230041504,
          -9.051594734191895,
          -11.373394966125488,
          -7.7820143699646,
          17.330265045166016,
          -25.55558967590332,
          -22.947097778320312,
          -12.508703231811523
         ],
         "xaxis": "x",
         "y": [
          2.041689872741699,
          6.2446794509887695,
          -17.86772918701172,
          -19.290117263793945,
          9.306976318359375,
          -11.296616554260254,
          -23.303028106689453,
          -10.356263160705566,
          -5.50653600692749,
          -5.741379261016846,
          -8.204854011535645,
          -12.513259887695312,
          8.981527328491211,
          36.67159652709961,
          17.411121368408203,
          6.640896320343018,
          6.245205402374268,
          26.013689041137695,
          -13.951258659362793,
          0.5630851984024048,
          26.74750518798828,
          36.67216491699219,
          17.498146057128906,
          29.283203125,
          -4.194317817687988,
          -2.51322078704834,
          -19.722431182861328,
          -18.078950881958008,
          -2.4956581592559814,
          -13.949883460998535,
          0.11232269555330276,
          11.388784408569336,
          -45.527923583984375,
          15.223408699035645,
          15.22337532043457,
          15.223342895507812,
          17.498146057128906,
          29.485980987548828,
          29.710878372192383,
          10.682854652404785,
          -4.947037696838379,
          -8.15293025970459,
          0.562932014465332,
          26.013689041137695,
          -2.0863523483276367,
          -9.537178039550781,
          -24.634313583374023,
          17.50116539001465,
          -14.091087341308594,
          -4.169821262359619,
          6.794083118438721,
          11.95849323272705,
          11.80125617980957,
          -13.590995788574219,
          -10.703312873840332,
          -23.98760223388672,
          28.203641891479492,
          36.67243957519531,
          17.498146057128906,
          -14.57335376739502,
          -14.470956802368164,
          10.560165405273438,
          -10.139566421508789,
          -34.64396667480469,
          -40.071922302246094,
          -14.57335376739502,
          -14.469025611877441,
          -10.566267967224121,
          -23.1820068359375,
          -31.980846405029297,
          -41.082130432128906,
          -12.101188659667969,
          -9.082229614257812,
          -12.745369911193848,
          29.350257873535156,
          -13.500709533691406,
          1.3180997371673584,
          -1.1658142805099487,
          31.45989227294922,
          31.45989227294922,
          31.45989227294922,
          31.45989227294922,
          -10.8571195602417,
          -34.644012451171875,
          -41.083106994628906,
          31.45989227294922,
          -23.361175537109375,
          -15.732874870300293,
          -16.007678985595703,
          31.45989227294922,
          31.45989227294922,
          31.45989227294922,
          -3.8830621242523193,
          -1.5011200904846191,
          -1.1639094352722168,
          -15.874242782592773,
          8.023019790649414,
          -13.636252403259277,
          -10.162243843078613,
          -16.133939743041992,
          8.19859504699707,
          8.62153434753418,
          4.796411991119385,
          -8.916910171508789
         ],
         "yaxis": "y"
        },
        {
         "customdata": [
          [
           "1_1a",
           "7",
           "15061-15084",
           "1_1a 1"
          ],
          [
           "1_1a",
           "2",
           "15084-15088",
           "1_1a 1"
          ],
          [
           "1_1a",
           "3",
           "16049-16056",
           "1_1a 1"
          ],
          [
           "1_1a",
           "3",
           "16056-16058",
           "1_1a 1"
          ],
          [
           "1_1a",
           "2",
           "18079-18106",
           "1_1a 1"
          ],
          [
           "1_1a",
           "3",
           "24268-24295",
           "1_1a 2"
          ],
          [
           "1_1a",
           "2",
           "27455-27473",
           "1_1a 3"
          ],
          [
           "1_1a",
           "1",
           "29177-29195",
           "1_1a 3"
          ],
          [
           "1_1a",
           "2",
           "30973-30987",
           "1_1a 3"
          ],
          [
           "1_1a",
           "1",
           "30987-31068",
           "1_1a 3"
          ],
          [
           "1_1a",
           "3",
           "31068-31086",
           "1_1a 3"
          ],
          [
           "1_1a",
           "3",
           "31086-31089",
           "1_1a 3"
          ],
          [
           "1_1a",
           "7",
           "34971-34974",
           "1_1a 3"
          ],
          [
           "1_1a",
           "2",
           "34974-34983",
           "1_1a 3"
          ],
          [
           "1_1a",
           "1",
           "34983-35037",
           "1_1a 3"
          ],
          [
           "1_1a",
           "3",
           "35037-35055",
           "1_1a 3"
          ],
          [
           "1_1a",
           "3",
           "35055-35061",
           "1_1a 3"
          ],
          [
           "1_1a",
           "3",
           "36126-36144",
           "1_1a 4"
          ],
          [
           "1_1a",
           "3",
           "36144-36145",
           "1_1a 4"
          ],
          [
           "1_1a",
           "3",
           "41298-41310",
           "1_1a 4"
          ],
          [
           "1_1a",
           "3",
           "41310-41316",
           "1_1a 4"
          ],
          [
           "1_1a",
           "1",
           "56242-56251",
           "1_1a 6"
          ],
          [
           "1_1a",
           "7",
           "56917-56952",
           "1_1a 6"
          ],
          [
           "1_1a",
           "1",
           "57447-57482",
           "1_1a 6"
          ],
          [
           "3_1b",
           "2",
           "19828-19838",
           "3_1b 3"
          ],
          [
           "3_1b",
           "8",
           "21742-21753",
           "3_1b 3"
          ],
          [
           "3_1b",
           "3",
           "21753-21760",
           "3_1b 3"
          ],
          [
           "3_1b",
           "1",
           "24030-24048",
           "3_1b 3"
          ],
          [
           "3_1b",
           "1",
           "24048-24066",
           "3_1b 3"
          ],
          [
           "3_1b",
           "1",
           "38735-38754",
           "3_1b 6"
          ],
          [
           "3_1b",
           "1",
           "38754-38761",
           "3_1b 6"
          ],
          [
           "3_1b",
           "1",
           "39570-39588",
           "3_1b 6"
          ],
          [
           "3_1b",
           "2",
           "41339-41402",
           "3_1b 6"
          ],
          [
           "4_2b",
           "2",
           "10179-10188",
           "4_2b 1"
          ],
          [
           "4_2b",
           "1",
           "10188-10206",
           "4_2b 1"
          ],
          [
           "4_2b",
           "8",
           "17591-17595",
           "4_2b 2"
          ],
          [
           "4_2b",
           "3",
           "17595-17600",
           "4_2b 2"
          ],
          [
           "4_2b",
           "3",
           "21930-21933",
           "4_2b 3"
          ],
          [
           "4_2b",
           "3",
           "21933-21943",
           "4_2b 3"
          ],
          [
           "4_2b",
           "3",
           "24666-24772",
           "4_2b 3"
          ],
          [
           "4_2b",
           "1",
           "27404-27431",
           "4_2b 3"
          ],
          [
           "4_2b",
           "3",
           "29844-29853",
           "4_2b 4"
          ],
          [
           "4_2b",
           "3",
           "29853-29871",
           "4_2b 4"
          ],
          [
           "4_2b",
           "1",
           "29871-29880",
           "4_2b 4"
          ],
          [
           "4_2b",
           "1",
           "39000-39005",
           "4_2b 5"
          ],
          [
           "4_2b",
           "5",
           "43185-43191",
           "4_2b 5"
          ],
          [
           "4_2b",
           "5",
           "43191-43194",
           "4_2b 5"
          ],
          [
           "4_2b",
           "8",
           "48351-48357",
           "4_2b 6"
          ],
          [
           "4_2b",
           "8",
           "48357-48360",
           "4_2b 6"
          ],
          [
           "4_2b",
           "6",
           "48916-48929",
           "4_2b 6"
          ],
          [
           "4_2b",
           "8",
           "49925-49941",
           "4_2b 6"
          ],
          [
           "4_2b",
           "2",
           "49941-49988",
           "4_2b 6"
          ],
          [
           "4_2b",
           "3",
           "50372-50381",
           "4_2b 6"
          ],
          [
           "5_1c",
           "2",
           "2699-2700",
           "5_1c 1"
          ],
          [
           "5_1c",
           "1",
           "2700-2717",
           "5_1c 1"
          ],
          [
           "5_1c",
           "8",
           "11715-11733",
           "5_1c 3"
          ],
          [
           "5_1c",
           "2",
           "28585-28613",
           "5_1c 6"
          ],
          [
           "6_2c",
           "7",
           "6694-6696",
           "6_2c 1"
          ],
          [
           "6_2c",
           "7",
           "6696-6720",
           "6_2c 1"
          ],
          [
           "6_2c",
           "1",
           "7849-7892",
           "6_2c 1"
          ],
          [
           "6_2c",
           "5",
           "8812-8820",
           "6_2c 1"
          ],
          [
           "6_2c",
           "3",
           "8820-8856",
           "6_2c 1"
          ],
          [
           "6_2c",
           "6",
           "10348-10366",
           "6_2c 1"
          ],
          [
           "6_2c",
           "7",
           "13519-13527",
           "6_2c 2"
          ],
          [
           "6_2c",
           "3",
           "13527-13536",
           "6_2c 2"
          ],
          [
           "6_2c",
           "8",
           "15022-15030",
           "6_2c 2"
          ],
          [
           "6_2c",
           "3",
           "15030-15031",
           "6_2c 2"
          ],
          [
           "6_2c",
           "3",
           "16239-16245",
           "6_2c 2"
          ],
          [
           "6_2c",
           "3",
           "16245-16254",
           "6_2c 2"
          ],
          [
           "6_2c",
           "3",
           "16254-16262",
           "6_2c 2"
          ],
          [
           "6_2c",
           "3",
           "17733-17748",
           "6_2c 2"
          ],
          [
           "6_2c",
           "3",
           "17748-17755",
           "6_2c 2"
          ],
          [
           "6_2c",
           "1",
           "20797-20806",
           "6_2c 3"
          ],
          [
           "6_2c",
           "2",
           "21787-21804",
           "6_2c 3"
          ],
          [
           "6_2c",
           "3",
           "28947-28962",
           "6_2c 4"
          ],
          [
           "6_2c",
           "3",
           "28962-28978",
           "6_2c 4"
          ],
          [
           "6_2c",
           "1",
           "30818-30823",
           "6_2c 4"
          ],
          [
           "6_2c",
           "1",
           "32118-32132",
           "6_2c 4"
          ],
          [
           "6_2c",
           "1",
           "40721-40765",
           "6_2c 6"
          ],
          [
           "6_2c",
           "6",
           "41204-41217",
           "6_2c 6"
          ],
          [
           "6_2c",
           "1",
           "42350-42354",
           "6_2c 6"
          ],
          [
           "6_2c",
           "3",
           "42354-42363",
           "6_2c 6"
          ],
          [
           "6_2c",
           "3",
           "42363-42368",
           "6_2c 6"
          ],
          [
           "6_2c",
           "9",
           "44416-44442",
           "6_2c 6"
          ],
          [
           "6_2c",
           "1",
           "44442-44505",
           "6_2c 6"
          ],
          [
           "6_2c",
           "3",
           "44505-44516",
           "6_2c 6"
          ],
          [
           "6_2c",
           "8",
           "45244-45262",
           "6_2c 6"
          ],
          [
           "7_1a",
           "7",
           "19774-19791",
           "7_1a 1"
          ],
          [
           "7_1a",
           "3",
           "19791-19792",
           "7_1a 1"
          ],
          [
           "7_1a",
           "3",
           "20950-20968",
           "7_1a 1"
          ],
          [
           "7_1a",
           "7",
           "28061-28062",
           "7_1a 1"
          ],
          [
           "7_1a",
           "2",
           "28062-28079",
           "7_1a 1"
          ],
          [
           "7_1a",
           "7",
           "36140-36157",
           "7_1a 3"
          ],
          [
           "7_1a",
           "3",
           "37487-37512",
           "7_1a 3"
          ],
          [
           "7_1a",
           "3",
           "37512-37548",
           "7_1a 3"
          ],
          [
           "7_1a",
           "2",
           "37548-37550",
           "7_1a 3"
          ],
          [
           "7_1a",
           "1",
           "46442-46449",
           "7_1a 4"
          ],
          [
           "7_1a",
           "3",
           "46449-46458",
           "7_1a 4"
          ],
          [
           "7_1a",
           "3",
           "46458-46539",
           "7_1a 4"
          ],
          [
           "7_1a",
           "3",
           "46539-46557",
           "7_1a 4"
          ],
          [
           "7_1a",
           "3",
           "46557-46566",
           "7_1a 4"
          ],
          [
           "7_1a",
           "2",
           "49647-49674",
           "7_1a 4"
          ],
          [
           "7_1a",
           "3",
           "51128-51145",
           "7_1a 4"
          ],
          [
           "7_1a",
           "7",
           "62698-62703",
           "7_1a 6"
          ],
          [
           "7_1a",
           "2",
           "62703-62730",
           "7_1a 6"
          ],
          [
           "7_1a",
           "1",
           "62730-62743",
           "7_1a 6"
          ],
          [
           "7_1a",
           "8",
           "63948-63981",
           "7_1a 6"
          ],
          [
           "7_1a",
           "3",
           "63981-63990",
           "7_1a 6"
          ],
          [
           "7_1a",
           "3",
           "63990-64056",
           "7_1a 6"
          ],
          [
           "8_2a",
           "1",
           "4078-4104",
           "8_2a 1"
          ],
          [
           "8_2a",
           "6",
           "5876-5877",
           "8_2a 1"
          ],
          [
           "8_2a",
           "8",
           "5877-5889",
           "8_2a 1"
          ],
          [
           "8_2a",
           "6",
           "8048-8064",
           "8_2a 1"
          ],
          [
           "8_2a",
           "4",
           "8064-8082",
           "8_2a 1"
          ],
          [
           "8_2a",
           "2",
           "8082-8101",
           "8_2a 1"
          ],
          [
           "8_2a",
           "9",
           "8997-9000",
           "8_2a 1"
          ],
          [
           "8_2a",
           "8",
           "9000-9009",
           "8_2a 1"
          ],
          [
           "8_2a",
           "1",
           "9009-9023",
           "8_2a 1"
          ],
          [
           "8_2a",
           "1",
           "12916-12997",
           "8_2a 2"
          ],
          [
           "8_2a",
           "1",
           "16213-16218",
           "8_2a 2"
          ],
          [
           "8_2a",
           "2",
           "19122-19149",
           "8_2a 3"
          ],
          [
           "8_2a",
           "2",
           "20284-20295",
           "8_2a 3"
          ],
          [
           "8_2a",
           "2",
           "20295-20340",
           "8_2a 3"
          ],
          [
           "8_2a",
           "2",
           "20340-20349",
           "8_2a 3"
          ],
          [
           "8_2a",
           "2",
           "20349-20358",
           "8_2a 3"
          ],
          [
           "8_2a",
           "5",
           "20358-20364",
           "8_2a 3"
          ],
          [
           "8_2a",
           "2",
           "22353-22365",
           "8_2a 3"
          ],
          [
           "8_2a",
           "1",
           "22365-22371",
           "8_2a 3"
          ],
          [
           "8_2a",
           "3",
           "24935-24939",
           "8_2a 3"
          ],
          [
           "8_2a",
           "3",
           "24939-24945",
           "8_2a 3"
          ],
          [
           "8_2a",
           "1",
           "25686-25695",
           "8_2a 3"
          ],
          [
           "8_2a",
           "1",
           "25695-25699",
           "8_2a 3"
          ],
          [
           "8_2a",
           "1",
           "29076-29103",
           "8_2a 4"
          ],
          [
           "8_2a",
           "2",
           "32403-32412",
           "8_2a 4"
          ],
          [
           "8_2a",
           "1",
           "40354-40364",
           "8_2a 5"
          ],
          [
           "8_2a",
           "2",
           "43139-43166",
           "8_2a 6"
          ],
          [
           "8_2a",
           "3",
           "44843-44857",
           "8_2a 6"
          ],
          [
           "8_2a",
           "4",
           "45521-45525",
           "8_2a 6"
          ],
          [
           "8_2a",
           "1",
           "46721-46755",
           "8_2a 6"
          ],
          [
           "8_2a",
           "1",
           "46755-46773",
           "8_2a 6"
          ],
          [
           "8_2a",
           "5",
           "46773-46782",
           "8_2a 6"
          ],
          [
           "8_2a",
           "7",
           "46782-46795",
           "8_2a 6"
          ],
          [
           "9_1b",
           "1",
           "7032-7086",
           "9_1b 1"
          ],
          [
           "9_1b",
           "1",
           "9408-9444",
           "9_1b 1"
          ],
          [
           "9_1b",
           "2",
           "11685-11739",
           "9_1b 2"
          ],
          [
           "9_1b",
           "1",
           "16354-16362",
           "9_1b 3"
          ],
          [
           "9_1b",
           "1",
           "16362-16434",
           "9_1b 3"
          ],
          [
           "9_1b",
           "1",
           "16434-16444",
           "9_1b 3"
          ],
          [
           "9_1b",
           "2",
           "23246-23355",
           "9_1b 3"
          ],
          [
           "9_1b",
           "7",
           "30044-30060",
           "9_1b 4"
          ],
          [
           "9_1b",
           "2",
           "30060-30071",
           "9_1b 4"
          ],
          [
           "9_1b",
           "3",
           "34029-34056",
           "9_1b 5"
          ],
          [
           "9_1b",
           "2",
           "35755-35773",
           "9_1b 6"
          ],
          [
           "9_1b",
           "7",
           "36431-36467",
           "9_1b 6"
          ],
          [
           "9_1b",
           "5",
           "36827-36828",
           "9_1b 6"
          ],
          [
           "9_1b",
           "5",
           "36828-36846",
           "9_1b 6"
          ],
          [
           "9_1b",
           "5",
           "36846-36855",
           "9_1b 6"
          ],
          [
           "9_1b",
           "5",
           "36855-36935",
           "9_1b 6"
          ],
          [
           "9_1b",
           "7",
           "37521-37638",
           "9_1b 6"
          ],
          [
           "9_1b",
           "2",
           "37638-37647",
           "9_1b 6"
          ],
          [
           "10_2b",
           "1",
           "25385-25403",
           "10_2b 1"
          ],
          [
           "10_2b",
           "2",
           "29914-29932",
           "10_2b 1"
          ],
          [
           "10_2b",
           "1",
           "30863-30881",
           "10_2b 2"
          ],
          [
           "10_2b",
           "6",
           "37721-37730",
           "10_2b 3"
          ],
          [
           "10_2b",
           "2",
           "38530-38593",
           "10_2b 3"
          ],
          [
           "10_2b",
           "2",
           "41059-41104",
           "10_2b 3"
          ],
          [
           "10_2b",
           "8",
           "41924-41942",
           "10_2b 3"
          ],
          [
           "10_2b",
           "8",
           "42732-42777",
           "10_2b 3"
          ],
          [
           "10_2b",
           "3",
           "43346-43364",
           "10_2b 3"
          ],
          [
           "10_2b",
           "1",
           "61831-61840",
           "10_2b 5"
          ],
          [
           "10_2b",
           "2",
           "67879-67959",
           "10_2b 6"
          ],
          [
           "10_2b",
           "2",
           "68632-68706",
           "10_2b 6"
          ],
          [
           "10_2b",
           "2",
           "68706-68715",
           "10_2b 6"
          ],
          [
           "10_2b",
           "4",
           "68715-68721",
           "10_2b 6"
          ],
          [
           "10_2b",
           "8",
           "69335-69336",
           "10_2b 6"
          ],
          [
           "10_2b",
           "3",
           "69336-69354",
           "10_2b 6"
          ],
          [
           "10_2b",
           "3",
           "69354-69362",
           "10_2b 6"
          ],
          [
           "10_2b",
           "2",
           "70413-70425",
           "10_2b 6"
          ],
          [
           "10_2b",
           "2",
           "70425-70452",
           "10_2b 6"
          ],
          [
           "10_2b",
           "1",
           "70452-70458",
           "10_2b 6"
          ],
          [
           "11_1c",
           "6",
           "16386-16398",
           "11_1c 1"
          ],
          [
           "11_1c",
           "3",
           "16398-16404",
           "11_1c 1"
          ],
          [
           "11_1c",
           "2",
           "19171-19189",
           "11_1c 1"
          ],
          [
           "11_1c",
           "2",
           "27138-27144",
           "11_1c 3"
          ],
          [
           "11_1c",
           "2",
           "27144-27156",
           "11_1c 3"
          ],
          [
           "11_1c",
           "1",
           "28838-28847",
           "11_1c 3"
          ],
          [
           "11_1c",
           "6",
           "39576-39594",
           "11_1c 4"
          ],
          [
           "11_1c",
           "2",
           "47130-47157",
           "11_1c 6"
          ],
          [
           "11_1c",
           "8",
           "49245-49263",
           "11_1c 6"
          ],
          [
           "12_2c",
           "7",
           "26594-26595",
           "12_2c 1"
          ],
          [
           "12_2c",
           "2",
           "26595-26622",
           "12_2c 1"
          ],
          [
           "12_2c",
           "3",
           "26622-26628",
           "12_2c 1"
          ],
          [
           "12_2c",
           "1",
           "35623-35650",
           "12_2c 3"
          ],
          [
           "12_2c",
           "7",
           "36943-36963",
           "12_2c 3"
          ],
          [
           "12_2c",
           "5",
           "36963-36979",
           "12_2c 3"
          ],
          [
           "12_2c",
           "1",
           "56203-56230",
           "12_2c 6"
          ],
          [
           "12_2c",
           "7",
           "56484-56493",
           "12_2c 6"
          ],
          [
           "12_2c",
           "7",
           "56493-56502",
           "12_2c 6"
          ],
          [
           "13_1a",
           "2",
           "21683-21708",
           "13_1a 4"
          ],
          [
           "13_1a",
           "2",
           "21708-21762",
           "13_1a 4"
          ],
          [
           "13_1a",
           "3",
           "21762-21790",
           "13_1a 4"
          ],
          [
           "13_1a",
           "1",
           "35342-35360",
           "13_1a 6"
          ],
          [
           "13_1a",
           "2",
           "36178-36180",
           "13_1a 6"
          ],
          [
           "13_1a",
           "2",
           "36180-36196",
           "13_1a 6"
          ],
          [
           "13_1a",
           "7",
           "36880-36891",
           "13_1a 6"
          ],
          [
           "13_1a",
           "2",
           "36891-36907",
           "13_1a 6"
          ],
          [
           "13_1a",
           "1",
           "37375-37411",
           "13_1a 6"
          ],
          [
           "13_1a",
           "2",
           "37825-37836",
           "13_1a 6"
          ],
          [
           "13_1a",
           "1",
           "37836-37853",
           "13_1a 6"
          ],
          [
           "13_1a",
           "2",
           "38967-38985",
           "13_1a 6"
          ],
          [
           "13_1a",
           "7",
           "39836-39854",
           "13_1a 6"
          ],
          [
           "13_1a",
           "8",
           "40268-40286",
           "13_1a 6"
          ],
          [
           "13_1a",
           "7",
           "41320-41337",
           "13_1a 6"
          ],
          [
           "13_1a",
           "2",
           "41337-41338",
           "13_1a 6"
          ],
          [
           "13_1a",
           "1",
           "42238-42264",
           "13_1a 6"
          ],
          [
           "14_2a",
           "1",
           "11155-11175",
           "14_2a 1"
          ],
          [
           "14_2a",
           "2",
           "12478-12573",
           "14_2a 1"
          ],
          [
           "14_2a",
           "1",
           "12573-12586",
           "14_2a 1"
          ],
          [
           "14_2a",
           "1",
           "12937-12964",
           "14_2a 1"
          ],
          [
           "14_2a",
           "1",
           "16242-16254",
           "14_2a 1"
          ],
          [
           "14_2a",
           "3",
           "16254-16256",
           "14_2a 1"
          ],
          [
           "14_2a",
           "1",
           "25403-25416",
           "14_2a 3"
          ],
          [
           "14_2a",
           "3",
           "25416-25438",
           "14_2a 3"
          ],
          [
           "14_2a",
           "2",
           "33785-33812",
           "14_2a 4"
          ],
          [
           "14_2a",
           "3",
           "35763-35772",
           "14_2a 4"
          ],
          [
           "14_2a",
           "2",
           "48027-48069",
           "14_2a 6"
          ],
          [
           "14_2a",
           "1",
           "48069-48072",
           "14_2a 6"
          ],
          [
           "15_1b",
           "6",
           "10839-10854",
           "15_1b 1"
          ],
          [
           "15_1b",
           "4",
           "10854-10872",
           "15_1b 1"
          ],
          [
           "15_1b",
           "3",
           "10872-10875",
           "15_1b 1"
          ],
          [
           "15_1b",
           "6",
           "36817-36844",
           "15_1b 6"
          ],
          [
           "15_1b",
           "8",
           "38248-38286",
           "15_1b 6"
          ],
          [
           "15_1b",
           "8",
           "38286-38304",
           "15_1b 6"
          ],
          [
           "15_1b",
           "2",
           "38304-38331",
           "15_1b 6"
          ],
          [
           "15_1b",
           "2",
           "38331-38349",
           "15_1b 6"
          ],
          [
           "15_1b",
           "2",
           "38349-38385",
           "15_1b 6"
          ],
          [
           "15_1b",
           "3",
           "38385-38394",
           "15_1b 6"
          ],
          [
           "15_1b",
           "3",
           "38394-38412",
           "15_1b 6"
          ],
          [
           "15_1b",
           "4",
           "38412-38430",
           "15_1b 6"
          ],
          [
           "15_1b",
           "8",
           "38430-38491",
           "15_1b 6"
          ],
          [
           "15_1b",
           "8",
           "39049-39067",
           "15_1b 6"
          ],
          [
           "16_2b",
           "6",
           "7288-7299",
           "16_2b 1"
          ],
          [
           "16_2b",
           "2",
           "7299-7308",
           "16_2b 1"
          ],
          [
           "16_2b",
           "1",
           "7308-7317",
           "16_2b 1"
          ],
          [
           "16_2b",
           "1",
           "7317-7342",
           "16_2b 1"
          ],
          [
           "16_2b",
           "1",
           "10110-10125",
           "16_2b 1"
          ],
          [
           "16_2b",
           "1",
           "10125-10143",
           "16_2b 1"
          ],
          [
           "16_2b",
           "1",
           "15419-15444",
           "16_2b 3"
          ],
          [
           "16_2b",
           "2",
           "16117-16135",
           "16_2b 3"
          ],
          [
           "16_2b",
           "1",
           "17009-17036",
           "16_2b 3"
          ],
          [
           "16_2b",
           "3",
           "21401-21402",
           "16_2b 4"
          ],
          [
           "16_2b",
           "3",
           "21402-21418",
           "16_2b 4"
          ],
          [
           "16_2b",
           "3",
           "27052-27063",
           "16_2b 5"
          ],
          [
           "16_2b",
           "3",
           "27063-27070",
           "16_2b 5"
          ],
          [
           "16_2b",
           "3",
           "30666-30670",
           "16_2b 5"
          ],
          [
           "16_2b",
           "6",
           "31844-31853",
           "16_2b 6"
          ],
          [
           "17_1c",
           "1",
           "15311-15338",
           "17_1c 2"
          ],
          [
           "17_1c",
           "1",
           "17799-17820",
           "17_1c 2"
          ],
          [
           "17_1c",
           "1",
           "17820-17844",
           "17_1c 2"
          ],
          [
           "17_1c",
           "8",
           "18293-18338",
           "17_1c 2"
          ],
          [
           "17_1c",
           "2",
           "20195-20294",
           "17_1c 3"
          ],
          [
           "17_1c",
           "2",
           "21508-21526",
           "17_1c 3"
          ],
          [
           "17_1c",
           "2",
           "22472-22508",
           "17_1c 3"
          ],
          [
           "17_1c",
           "2",
           "23514-23532",
           "17_1c 3"
          ],
          [
           "17_1c",
           "1",
           "25197-25215",
           "17_1c 3"
          ],
          [
           "17_1c",
           "3",
           "27895-27900",
           "17_1c 3"
          ],
          [
           "17_1c",
           "3",
           "27900-27909",
           "17_1c 3"
          ],
          [
           "17_1c",
           "3",
           "27909-27921",
           "17_1c 3"
          ],
          [
           "17_1c",
           "1",
           "28616-28662",
           "17_1c 3"
          ],
          [
           "17_1c",
           "2",
           "36619-36646",
           "17_1c 4"
          ],
          [
           "17_1c",
           "1",
           "37698-37788",
           "17_1c 4"
          ],
          [
           "17_1c",
           "5",
           "43844-43848",
           "17_1c 5"
          ],
          [
           "17_1c",
           "5",
           "43848-43880",
           "17_1c 5"
          ],
          [
           "17_1c",
           "6",
           "49961-49968",
           "17_1c 6"
          ],
          [
           "17_1c",
           "2",
           "49968-49979",
           "17_1c 6"
          ],
          [
           "17_1c",
           "4",
           "52778-52794",
           "17_1c 6"
          ],
          [
           "17_1c",
           "7",
           "52794-52830",
           "17_1c 6"
          ],
          [
           "17_1c",
           "8",
           "52830-52839",
           "17_1c 6"
          ],
          [
           "17_1c",
           "3",
           "52839-52922",
           "17_1c 6"
          ],
          [
           "17_1c",
           "3",
           "53800-53809",
           "17_1c 6"
          ],
          [
           "17_1c",
           "2",
           "54384-54387",
           "17_1c 6"
          ],
          [
           "17_1c",
           "1",
           "54387-54439",
           "17_1c 6"
          ],
          [
           "17_1c",
           "1",
           "56586-56614",
           "17_1c 6"
          ],
          [
           "18_2c",
           "3",
           "1238-1260",
           "18_2c 1"
          ],
          [
           "18_2c",
           "3",
           "1260-1265",
           "18_2c 1"
          ],
          [
           "18_2c",
           "9",
           "16292-16305",
           "18_2c 3"
          ],
          [
           "18_2c",
           "1",
           "20725-20727",
           "18_2c 4"
          ],
          [
           "18_2c",
           "3",
           "20727-20732",
           "18_2c 4"
          ],
          [
           "18_2c",
           "5",
           "35098-35100",
           "18_2c 5"
          ],
          [
           "18_2c",
           "5",
           "35100-35116",
           "18_2c 5"
          ],
          [
           "18_2c",
           "2",
           "42977-42993",
           "18_2c 6"
          ],
          [
           "18_2c",
           "1",
           "42993-42995",
           "18_2c 6"
          ]
         ],
         "hoverlabel": {
          "namelength": 0
         },
         "hovertemplate": "lemma=put<br>x=%{x}<br>y=%{y}<br>participant=%{customdata[0]}<br>top=%{customdata[1]}<br>step=%{customdata[2]}<br>pt=%{customdata[3]}",
         "legendgroup": "put",
         "marker": {
          "color": "#6A76FC",
          "symbol": "circle"
         },
         "mode": "markers",
         "name": "put",
         "showlegend": true,
         "type": "scattergl",
         "x": [
          -1.2922194004058838,
          -8.825255393981934,
          -7.876206874847412,
          -6.199932098388672,
          -22.377714157104492,
          -7.766945838928223,
          -23.938400268554688,
          1.4847261905670166,
          4.477116107940674,
          43.87278747558594,
          -15.431371688842773,
          35.05873489379883,
          -1.2884156703948975,
          -7.774207592010498,
          43.8729133605957,
          -15.431377410888672,
          35.05929183959961,
          -13.410646438598633,
          -12.8939208984375,
          -10.665386199951172,
          -12.89391803741455,
          0.6743572950363159,
          -0.08101038634777069,
          1.6890217065811157,
          -22.79664421081543,
          15.473245620727539,
          -20.297590255737305,
          12.873553276062012,
          48.691795349121094,
          12.873544692993164,
          48.6787109375,
          2.9923946857452393,
          -23.089832305908203,
          5.218629360198975,
          43.376075744628906,
          15.471695899963379,
          -20.296831130981445,
          -35.565696716308594,
          -26.84850311279297,
          -8.36485767364502,
          2.8929271697998047,
          -34.85358810424805,
          -24.737150192260742,
          -1.11733078956604,
          2.9923946857452393,
          23.97053337097168,
          22.536239624023438,
          14.955198287963867,
          13.737627983093262,
          10.976710319519043,
          18.9204044342041,
          -21.921056747436523,
          -8.983108520507812,
          4.324803829193115,
          43.21426773071289,
          16.610361099243164,
          -23.447654724121094,
          2.6625378131866455,
          3.603076696395874,
          2.9923946857452393,
          25.21133804321289,
          32.56697082519531,
          10.995558738708496,
          -0.07883890718221664,
          -4.812047004699707,
          15.472709655761719,
          -20.29754638671875,
          -35.948204040527344,
          -23.52808952331543,
          -14.90473747253418,
          -5.729057788848877,
          35.058074951171875,
          2.0805437564849854,
          -24.20663833618164,
          -10.664785385131836,
          -12.89378833770752,
          0.5297290682792664,
          1.2853542566299438,
          -1.3547006845474243,
          10.808767318725586,
          17.275100708007812,
          -12.847207069396973,
          -2.0884644985198975,
          15.02415657043457,
          14.782637596130371,
          -14.904317855834961,
          16.64404296875,
          -0.08112849295139313,
          -4.812261581420898,
          -8.11068344116211,
          -1.2865017652511597,
          -8.82257080078125,
          1.720450758934021,
          -5.531339645385742,
          -2.0382325649261475,
          -20.034015655517578,
          18.267139434814453,
          -17.300588607788086,
          -19.288042068481445,
          -21.317216873168945,
          -25.86907386779785,
          -23.923580169677734,
          -7.758701324462891,
          -1.2870845794677734,
          -7.774207592010498,
          43.530582427978516,
          15.472585678100586,
          -21.31730842590332,
          -25.935810089111328,
          2.2906360626220703,
          11.087181091308594,
          11.165513038635254,
          9.355081558227539,
          8.701559066772461,
          -19.28619956970215,
          15.385946273803711,
          16.00075912475586,
          5.601466655731201,
          -1.3547006845474243,
          -1.3547006845474243,
          -24.428974151611328,
          -18.037490844726562,
          -10.192879676818848,
          -9.016458511352539,
          4.301564693450928,
          4.114283084869385,
          5.1752142906188965,
          43.041160583496094,
          -34.85344696044922,
          -26.84850311279297,
          5.370986461639404,
          5.502394199371338,
          1.1482871770858765,
          -23.568817138671875,
          2.9838438034057617,
          -24.425233840942383,
          -7.608166694641113,
          11.79442310333252,
          -0.5942539572715759,
          -1.1010864973068237,
          18.846054077148438,
          5.905688762664795,
          0.9050837755203247,
          0.7841088771820068,
          -22.57989501953125,
          12.87354564666748,
          46.62565231323242,
          43.26548385620117,
          -24.678129196166992,
          -1.28510320186615,
          -8.823962211608887,
          -8.748737335205078,
          -24.73102569580078,
          1.896943211555481,
          23.963376998901367,
          22.088850021362305,
          21.496606826782227,
          4.114063262939453,
          -1.2869772911071777,
          -8.823687553405762,
          0.25029700994491577,
          -23.49393653869629,
          1.1482819318771362,
          10.968135833740234,
          -23.335874557495117,
          -23.109106063842773,
          16.603349685668945,
          15.472126007080078,
          -7.641338348388672,
          1.8190377950668335,
          -25.08256721496582,
          -21.213134765625,
          -20.125097274780273,
          12.500304222106934,
          15.47248649597168,
          -21.316875457763672,
          -25.85413932800293,
          -21.213134765625,
          -20.125232696533203,
          7.2936015129089355,
          10.695208549499512,
          -0.4106265604496002,
          -25.289274215698242,
          -25.484329223632812,
          -23.521068572998047,
          2.8388171195983887,
          11.103853225708008,
          -25.11992835998535,
          16.797060012817383,
          -1.2922935485839844,
          -8.505298614501953,
          -12.50861930847168,
          2.9923946857452393,
          2.2142930030822754,
          3.955644369125366,
          -1.3547006845474243,
          3.682368516921997,
          5.334676742553711,
          -25.908845901489258,
          -20.82192039489746,
          -0.41040605306625366,
          1.458284616470337,
          -18.03750228881836,
          -11.359947204589844,
          -1.2895562648773193,
          -8.827133178710938,
          1.458284616470337,
          4.787868499755859,
          43.77763366699219,
          -21.877866744995117,
          1.6953400373458862,
          17.071237564086914,
          -1.2896063327789307,
          -8.827133178710938,
          1.458284616470337,
          1.458284616470337,
          4.773346900939941,
          43.58198928833008,
          1.458284616470337,
          17.448150634765625,
          -15.542865753173828,
          18.316917419433594,
          -14.360334396362305,
          -23.93513298034668,
          -8.43896484375,
          5.1371355056762695,
          43.759178161621094,
          9.35059642791748,
          8.6921968460083,
          -14.132758140563965,
          10.595470428466797,
          16.68701934814453,
          14.655786514282227,
          -19.202335357666016,
          -10.192861557006836,
          -8.50671100616455,
          -12.497591018676758,
          -2.148339033126831,
          8.686553001403809,
          13.173554420471191,
          17.01382064819336,
          9.011564254760742,
          -19.779109954833984,
          46.62626266479492,
          48.696434020996094,
          12.873498916625977,
          48.696327209472656,
          1.458284616470337,
          -25.641437530517578,
          1.458284616470337,
          -35.235416412353516,
          -26.893016815185547,
          -5.730714321136475,
          35.05838394165039,
          9.468037605285645,
          10.59591007232666,
          1.458284616470337,
          2.1715474128723145,
          4.27317476272583,
          16.726572036743164,
          -25.725311279296875,
          -27.096254348754883,
          -27.156173706054688,
          -27.156173706054688,
          1.458284616470337,
          -35.739803314208984,
          -23.528316497802734,
          -14.480881690979004,
          1.458284616470337,
          -24.510343551635742,
          1.458284616470337,
          23.456212997436523,
          20.873708724975586,
          9.011564254760742,
          -20.035846710205078,
          11.314800262451172,
          8.214324951171875,
          12.935345649719238,
          -20.2972469329834,
          -9.10116958618164,
          4.6163105964660645,
          43.78000259399414,
          1.458284616470337,
          -7.541897773742676,
          -5.131766319274902,
          15.108660697937012,
          17.424922943115234,
          -14.620408058166504,
          23.972444534301758,
          22.543338775634766,
          4.331264972686768,
          43.66704177856445
         ],
         "xaxis": "x",
         "y": [
          2.041961193084717,
          6.245627403259277,
          -18.102506637573242,
          -10.797391891479492,
          8.916191101074219,
          -16.14182472229004,
          9.103472709655762,
          29.18409538269043,
          -46.183006286621094,
          9.185492515563965,
          -44.349430084228516,
          -15.732805252075195,
          2.0426814556121826,
          6.79323673248291,
          9.185489654541016,
          -44.34943389892578,
          -15.733072280883789,
          -19.47047233581543,
          -19.290096282958984,
          -17.868425369262695,
          -19.29010581970215,
          29.444547653198242,
          -2.086829900741577,
          28.66258430480957,
          8.110468864440918,
          11.80176067352295,
          -13.15850830078125,
          36.67164611816406,
          17.498146057128906,
          36.6717529296875,
          17.49468994140625,
          26.013689041137695,
          8.841178894042969,
          -45.60527038574219,
          12.163481712341309,
          11.796834945678711,
          -13.15985107421875,
          -10.138301849365234,
          -23.53671646118164,
          -15.672455787658691,
          28.425947189331055,
          -10.944767951965332,
          -25.016584396362305,
          21.07344627380371,
          26.013689041137695,
          -3.8813536167144775,
          -1.8581385612487793,
          8.557600021362305,
          8.551970481872559,
          -12.518126487731934,
          9.78193187713623,
          15.098892211914062,
          -15.109478950500488,
          -45.971702575683594,
          11.206758499145508,
          8.16161823272705,
          9.962130546569824,
          -2.2389729022979736,
          -3.33835768699646,
          26.013689041137695,
          -6.0463762283325195,
          -13.380575180053711,
          -12.988142013549805,
          -2.088179588317871,
          -9.61367130279541,
          11.798821449279785,
          -13.158552169799805,
          -10.415135383605957,
          -34.6440544128418,
          -40.5873908996582,
          -23.363637924194336,
          -15.732941627502441,
          28.532371520996094,
          8.643138885498047,
          -17.86822509765625,
          -19.28997230529785,
          28.485254287719727,
          27.313339233398438,
          26.74750518798828,
          -12.484390258789062,
          -31.571372985839844,
          -38.26310348510742,
          -14.469429969787598,
          -4.497123718261719,
          -32.805301666259766,
          -40.58882522583008,
          8.385175704956055,
          -2.087411642074585,
          -9.614325523376465,
          -16.36967658996582,
          2.0414702892303467,
          6.244452476501465,
          -0.29066091775894165,
          -14.57366943359375,
          -14.929247856140137,
          0.5630104541778564,
          -31.80466651916504,
          -41.26881790161133,
          -13.294422149658203,
          -13.590988159179688,
          -23.84604263305664,
          10.719104766845703,
          -16.110454559326172,
          2.0422661304473877,
          6.79323673248291,
          11.280364036560059,
          11.797094345092773,
          -13.590924263000488,
          -23.967540740966797,
          27.907756805419922,
          -11.181031227111816,
          -10.684338569641113,
          -11.66030502319336,
          -9.643882751464844,
          10.147056579589844,
          -3.5810813903808594,
          -1.3835667371749878,
          21.241832733154297,
          26.74750518798828,
          26.74750518798828,
          8.993020057678223,
          7.9252495765686035,
          6.641159534454346,
          5.766891002655029,
          3.4521732330322266,
          3.0355911254882812,
          -45.53568649291992,
          11.260355949401855,
          -10.4896240234375,
          -23.53671646118164,
          28.729116439819336,
          28.72810935974121,
          27.372587203979492,
          10.262290000915527,
          28.974931716918945,
          10.099335670471191,
          -15.66197395324707,
          1.6815769672393799,
          23.288047790527344,
          21.123661041259766,
          -5.721161365509033,
          -1.4948457479476929,
          29.37128257751465,
          29.42461585998535,
          8.292139053344727,
          36.6715202331543,
          15.223376274108887,
          11.202486991882324,
          9.927889823913574,
          2.042259454727173,
          6.2450642585754395,
          -14.9802827835083,
          9.309243202209473,
          -0.16141775250434875,
          -3.8835506439208984,
          -1.501120924949646,
          -1.0974504947662354,
          3.0358927249908447,
          2.042012929916382,
          6.244831562042236,
          28.90581512451172,
          7.487558364868164,
          27.37258529663086,
          -12.513259887695312,
          9.551753997802734,
          7.714604377746582,
          8.192938804626465,
          11.797067642211914,
          -15.431023597717285,
          27.59014129638672,
          8.880273818969727,
          11.645735740661621,
          11.419898986816406,
          -2.2451746463775635,
          11.797757148742676,
          -13.590761184692383,
          -23.62554359436035,
          11.645735740661621,
          11.421217918395996,
          26.240642547607422,
          -14.450729370117188,
          -13.645875930786133,
          9.7724609375,
          13.371532440185547,
          14.89159107208252,
          28.38922691345215,
          -12.745369911193848,
          9.210573196411133,
          8.547585487365723,
          2.0420432090759277,
          5.475980758666992,
          -8.916545867919922,
          26.013689041137695,
          0.9253743290901184,
          2.5208899974823,
          26.74750518798828,
          0.02237599901854992,
          -1.0254433155059814,
          5.04987907409668,
          1.5684571266174316,
          -13.648443222045898,
          31.45989227294922,
          7.925251007080078,
          6.9078779220581055,
          2.039991855621338,
          6.246665000915527,
          31.45989227294922,
          -46.29574966430664,
          11.569621086120605,
          7.014348983764648,
          -0.626626193523407,
          7.895534038543701,
          2.0399913787841797,
          6.246665000915527,
          31.45989227294922,
          31.45989227294922,
          -46.296112060546875,
          12.07481575012207,
          31.45989227294922,
          -33.058555603027344,
          -40.76893615722656,
          -32.658023834228516,
          -40.92722702026367,
          7.858209609985352,
          -15.699211120605469,
          -46.186065673828125,
          11.812371253967285,
          -11.663265228271484,
          -9.626078605651855,
          -19.708560943603516,
          -12.916028022766113,
          6.111129283905029,
          4.946626663208008,
          10.090690612792969,
          6.641368389129639,
          5.474293231964111,
          -8.885335922241211,
          -14.318848609924316,
          -9.546273231506348,
          3.9932215213775635,
          7.858043193817139,
          -13.956026077270508,
          0.10941624641418457,
          15.223419189453125,
          17.502758026123047,
          36.67193603515625,
          17.50270652770996,
          31.45989227294922,
          9.000353813171387,
          31.45989227294922,
          -10.139566421508789,
          -23.941421508789062,
          -23.36012077331543,
          -15.732345581054688,
          -2.17584490776062,
          -12.91671085357666,
          31.45989227294922,
          23.183536529541016,
          21.499353408813477,
          7.931250095367432,
          9.389765739440918,
          8.061479568481445,
          9.669943809509277,
          9.669943809509277,
          31.45989227294922,
          -11.193161010742188,
          -34.6437873840332,
          -40.0755729675293,
          31.45989227294922,
          7.882540702819824,
          31.45989227294922,
          -6.537483215332031,
          -8.78371810913086,
          -13.956026077270508,
          0.5632178783416748,
          1.6420427560806274,
          0.8986026048660278,
          8.90050220489502,
          -13.159181594848633,
          -15.360856056213379,
          -45.36245346069336,
          11.60446834564209,
          31.45989227294922,
          -13.844303131103516,
          -18.070064544677734,
          -4.383935928344727,
          -33.07342529296875,
          -41.17455291748047,
          -3.8830621242523193,
          -1.8573646545410156,
          -45.65616226196289,
          11.388784408569336
         ],
         "yaxis": "y"
        },
        {
         "customdata": [
          [
           "1_1a",
           "1",
           "17378-17379",
           "1_1a 1"
          ],
          [
           "1_1a",
           "3",
           "17379-17406",
           "1_1a 1"
          ],
          [
           "1_1a",
           "3",
           "17406-17458",
           "1_1a 1"
          ],
          [
           "1_1a",
           "5",
           "23980-24026",
           "1_1a 2"
          ],
          [
           "1_1a",
           "5",
           "50993-50994",
           "1_1a 5"
          ],
          [
           "1_1a",
           "5",
           "50994-51002",
           "1_1a 5"
          ],
          [
           "2_2a",
           "2",
           "7225-7234",
           "2_2a 1"
          ],
          [
           "2_2a",
           "1",
           "9435-9441",
           "2_2a 1"
          ],
          [
           "2_2a",
           "3",
           "9441-9495",
           "2_2a 1"
          ],
          [
           "2_2a",
           "3",
           "9495-9504",
           "2_2a 1"
          ],
          [
           "2_2a",
           "2",
           "9504-9515",
           "2_2a 1"
          ],
          [
           "2_2a",
           "3",
           "16605-16628",
           "2_2a 3"
          ],
          [
           "2_2a",
           "9",
           "19146-19152",
           "2_2a 4"
          ],
          [
           "2_2a",
           "8",
           "19152-19159",
           "2_2a 4"
          ],
          [
           "4_2b",
           "3",
           "25356-25360",
           "4_2b 3"
          ],
          [
           "4_2b",
           "2",
           "49865-49874",
           "4_2b 6"
          ],
          [
           "5_1c",
           "1",
           "14012-14030",
           "5_1c 4"
          ],
          [
           "5_1c",
           "2",
           "26272-26307",
           "5_1c 6"
          ],
          [
           "10_2b",
           "1",
           "26750-26777",
           "10_2b 1"
          ],
          [
           "10_2b",
           "2",
           "58933-58951",
           "10_2b 5"
          ],
          [
           "10_2b",
           "9",
           "63049-63067",
           "10_2b 5"
          ],
          [
           "11_1c",
           "9",
           "26417-26424",
           "11_1c 3"
          ],
          [
           "11_1c",
           "5",
           "26424-26435",
           "11_1c 3"
          ],
          [
           "12_2c",
           "3",
           "20722-20745",
           "12_2c 1"
          ],
          [
           "12_2c",
           "3",
           "20745-20754",
           "12_2c 1"
          ],
          [
           "12_2c",
           "3",
           "20754-20758",
           "12_2c 1"
          ],
          [
           "12_2c",
           "3",
           "31014-31032",
           "12_2c 2"
          ],
          [
           "12_2c",
           "4",
           "34000-34002",
           "12_2c 3"
          ],
          [
           "12_2c",
           "3",
           "34002-34011",
           "12_2c 3"
          ],
          [
           "12_2c",
           "3",
           "34011-34020",
           "12_2c 3"
          ],
          [
           "12_2c",
           "3",
           "34020-34023",
           "12_2c 3"
          ],
          [
           "12_2c",
           "7",
           "34446-34452",
           "12_2c 3"
          ],
          [
           "12_2c",
           "2",
           "34452-34464",
           "12_2c 3"
          ],
          [
           "12_2c",
           "1",
           "37390-37399",
           "12_2c 3"
          ],
          [
           "12_2c",
           "1",
           "37874-37892",
           "12_2c 3"
          ],
          [
           "12_2c",
           "3",
           "46146-46155",
           "12_2c 4"
          ],
          [
           "12_2c",
           "5",
           "48684-48690",
           "12_2c 5"
          ],
          [
           "12_2c",
           "5",
           "48690-48720",
           "12_2c 5"
          ],
          [
           "12_2c",
           "7",
           "56470-56484",
           "12_2c 6"
          ],
          [
           "12_2c",
           "7",
           "56969-57005",
           "12_2c 6"
          ],
          [
           "12_2c",
           "6",
           "57938-57965",
           "12_2c 6"
          ],
          [
           "15_1b",
           "2",
           "6368-6395",
           "15_1b 1"
          ],
          [
           "15_1b",
           "2",
           "19559-19566",
           "15_1b 3"
          ],
          [
           "15_1b",
           "1",
           "19566-19595",
           "15_1b 3"
          ],
          [
           "16_2b",
           "8",
           "5777-5813",
           "16_2b 1"
          ],
          [
           "16_2b",
           "2",
           "8754-8781",
           "16_2b 1"
          ],
          [
           "16_2b",
           "8",
           "14871-14886",
           "16_2b 3"
          ],
          [
           "17_1c",
           "3",
           "18266-18279",
           "17_1c 2"
          ],
          [
           "17_1c",
           "3",
           "18279-18284",
           "17_1c 2"
          ],
          [
           "18_2c",
           "8",
           "922-940",
           "18_2c 1"
          ]
         ],
         "hoverlabel": {
          "namelength": 0
         },
         "hovertemplate": "lemma=get<br>x=%{x}<br>y=%{y}<br>participant=%{customdata[0]}<br>top=%{customdata[1]}<br>step=%{customdata[2]}<br>pt=%{customdata[3]}",
         "legendgroup": "get",
         "marker": {
          "color": "#FED4C4",
          "symbol": "circle"
         },
         "mode": "markers",
         "name": "get",
         "showlegend": true,
         "type": "scattergl",
         "x": [
          17.232688903808594,
          -12.847014427185059,
          -2.0875959396362305,
          23.833850860595703,
          23.963411331176758,
          22.535526275634766,
          -23.4309139251709,
          17.71282196044922,
          -12.847206115722656,
          -2.0385773181915283,
          -20.034297943115234,
          9.469078063964844,
          15.384761810302734,
          15.955093383789062,
          -8.789369583129883,
          -24.607589721679688,
          2.8424301147460938,
          -23.397377014160156,
          0.4564993977546692,
          -24.294374465942383,
          15.108660697937012,
          15.780950546264648,
          17.68665885925293,
          -34.85358810424805,
          -23.52861976623535,
          -15.479447364807129,
          -9.122901916503906,
          11.607797622680664,
          -14.650444984436035,
          -23.528465270996094,
          -15.479447364807129,
          -1.2920477390289307,
          -8.82519245147705,
          -1.3547006845474243,
          -1.3547006845474243,
          -8.311724662780762,
          23.449745178222656,
          20.867918014526367,
          2.2307779788970947,
          2.2307775020599365,
          11.103849411010742,
          -24.6583309173584,
          5.287274360656738,
          43.70573043823242,
          17.01382064819336,
          -24.393953323364258,
          16.980148315429688,
          -11.162729263305664,
          -18.479660034179688,
          17.266117095947266
         ],
         "xaxis": "x",
         "y": [
          -32.91876983642578,
          -38.26255798339844,
          -14.469042778015137,
          -5.395705699920654,
          -3.883735418319702,
          -1.860532283782959,
          8.890067100524902,
          -32.30875778198242,
          -38.26310348510742,
          -14.929098129272461,
          0.5630558133125305,
          -2.173410654067993,
          -3.582897663116455,
          -1.4405686855316162,
          -16.314626693725586,
          9.06596851348877,
          29.48695945739746,
          7.542920112609863,
          29.464317321777344,
          10.64433479309082,
          -4.383936882019043,
          -4.748956203460693,
          -5.344173908233643,
          -10.944767951965332,
          -34.64408493041992,
          -40.2931022644043,
          -15.48382568359375,
          1.5068246126174927,
          -19.885725021362305,
          -34.64398956298828,
          -40.2931022644043,
          2.0420703887939453,
          6.24562406539917,
          26.74750518798828,
          26.74750518798828,
          -15.613361358642578,
          -6.531367301940918,
          -8.77706527709961,
          -0.24499312043190002,
          -0.2449927031993866,
          -12.74531364440918,
          8.287836074829102,
          -45.840576171875,
          11.882625579833984,
          7.858043193817139,
          7.392621994018555,
          7.855776309967041,
          -14.446556091308594,
          -13.390029907226562,
          8.023062705993652
         ],
         "yaxis": "y"
        },
        {
         "customdata": [
          [
           "1_1a",
           "1",
           "21124-21132",
           "1_1a 1"
          ],
          [
           "1_1a",
           "3",
           "21132-21141",
           "1_1a 1"
          ],
          [
           "1_1a",
           "3",
           "21141-21178",
           "1_1a 1"
          ],
          [
           "2_2a",
           "1",
           "10220-10251",
           "2_2a 1"
          ],
          [
           "2_2a",
           "3",
           "10251-10278",
           "2_2a 1"
          ],
          [
           "2_2a",
           "3",
           "10278-10284",
           "2_2a 1"
          ],
          [
           "3_1b",
           "1",
           "16918-16920",
           "3_1b 2"
          ],
          [
           "3_1b",
           "1",
           "16920-16945",
           "3_1b 2"
          ],
          [
           "4_2b",
           "4",
           "13433-13446",
           "4_2b 1"
          ],
          [
           "4_2b",
           "3",
           "13446-13464",
           "4_2b 1"
          ],
          [
           "4_2b",
           "3",
           "13464-13467",
           "4_2b 1"
          ],
          [
           "10_2b",
           "3",
           "65867-65871",
           "10_2b 5"
          ],
          [
           "10_2b",
           "3",
           "65871-65899",
           "10_2b 5"
          ],
          [
           "11_1c",
           "7",
           "46287-46305",
           "11_1c 5"
          ],
          [
           "11_1c",
           "3",
           "46305-46314",
           "11_1c 5"
          ],
          [
           "11_1c",
           "3",
           "46314-46323",
           "11_1c 5"
          ],
          [
           "12_2c",
           "1",
           "52048-52074",
           "12_2c 5"
          ],
          [
           "12_2c",
           "1",
           "52074-52075",
           "12_2c 5"
          ],
          [
           "14_2a",
           "1",
           "44795-44829",
           "14_2a 5"
          ],
          [
           "14_2a",
           "1",
           "44829-44849",
           "14_2a 5"
          ]
         ],
         "hoverlabel": {
          "namelength": 0
         },
         "hovertemplate": "lemma=stop<br>x=%{x}<br>y=%{y}<br>participant=%{customdata[0]}<br>top=%{customdata[1]}<br>step=%{customdata[2]}<br>pt=%{customdata[3]}",
         "legendgroup": "stop",
         "marker": {
          "color": "#FE00CE",
          "symbol": "circle"
         },
         "mode": "markers",
         "name": "stop",
         "showlegend": true,
         "type": "scattergl",
         "x": [
          17.498655319213867,
          -12.847003936767578,
          -2.088404893875122,
          17.765369415283203,
          -16.034072875976562,
          -12.893922805786133,
          12.873541831970215,
          48.691795349121094,
          11.603845596313477,
          -14.650419235229492,
          -26.09902572631836,
          -34.94411087036133,
          -26.019704818725586,
          -0.08364010602235794,
          -4.715738773345947,
          -2.08835506439209,
          12.87354564666748,
          48.69175720214844,
          12.873481750488281,
          48.69643783569336
         ],
         "xaxis": "x",
         "y": [
          -31.499807357788086,
          -38.2625617980957,
          -14.46904468536377,
          -33.06227111816406,
          -38.15135955810547,
          -19.29010772705078,
          36.67174530029297,
          17.498146057128906,
          1.50555419921875,
          -19.8857364654541,
          -23.242408752441406,
          -10.356263160705566,
          -23.28265380859375,
          -2.0883896350860596,
          -9.737555503845215,
          -14.469045639038086,
          36.67189407348633,
          17.49813461303711,
          36.67245101928711,
          17.502758026123047
         ],
         "yaxis": "y"
        },
        {
         "customdata": [
          [
           "1_1a",
           "1",
           "24637-24642",
           "1_1a 2"
          ],
          [
           "1_1a",
           "3",
           "24642-24646",
           "1_1a 2"
          ],
          [
           "1_1a",
           "3",
           "46108-46116",
           "1_1a 5"
          ],
          [
           "1_1a",
           "1",
           "48407-48416",
           "1_1a 5"
          ],
          [
           "1_1a",
           "3",
           "49986-50004",
           "1_1a 5"
          ],
          [
           "1_1a",
           "3",
           "50004-50022",
           "1_1a 5"
          ],
          [
           "2_2a",
           "1",
           "8117-8135",
           "2_2a 1"
          ],
          [
           "2_2a",
           "2",
           "36667-36683",
           "2_2a 5"
          ],
          [
           "3_1b",
           "1",
           "35166-35194",
           "3_1b 5"
          ],
          [
           "4_2b",
           "2",
           "14247-14256",
           "4_2b 2"
          ],
          [
           "4_2b",
           "6",
           "16651-16669",
           "4_2b 2"
          ],
          [
           "4_2b",
           "2",
           "29627-29631",
           "4_2b 4"
          ],
          [
           "4_2b",
           "5",
           "41322-41326",
           "4_2b 5"
          ],
          [
           "4_2b",
           "5",
           "43097-43110",
           "4_2b 5"
          ],
          [
           "4_2b",
           "3",
           "43110-43114",
           "4_2b 5"
          ],
          [
           "5_1c",
           "2",
           "1043-1052",
           "5_1c 1"
          ],
          [
           "5_1c",
           "1",
           "5102-5120",
           "5_1c 1"
          ],
          [
           "5_1c",
           "3",
           "7280-7307",
           "5_1c 2"
          ],
          [
           "5_1c",
           "3",
           "24480-24489",
           "5_1c 5"
          ],
          [
           "5_1c",
           "1",
           "29963-30008",
           "5_1c 6"
          ],
          [
           "6_2c",
           "3",
           "14219-14220",
           "6_2c 2"
          ],
          [
           "6_2c",
           "3",
           "14220-14227",
           "6_2c 2"
          ],
          [
           "6_2c",
           "1",
           "18014-18032",
           "6_2c 2"
          ],
          [
           "6_2c",
           "3",
           "18449-18468",
           "6_2c 2"
          ],
          [
           "7_1a",
           "1",
           "32641-32643",
           "7_1a 2"
          ],
          [
           "7_1a",
           "3",
           "32643-32650",
           "7_1a 2"
          ],
          [
           "7_1a",
           "1",
           "34247-34265",
           "7_1a 2"
          ],
          [
           "8_2a",
           "3",
           "11245-11250",
           "8_2a 2"
          ],
          [
           "8_2a",
           "3",
           "11250-11295",
           "8_2a 2"
          ],
          [
           "8_2a",
           "3",
           "11295-11313",
           "8_2a 2"
          ],
          [
           "8_2a",
           "3",
           "11313-11367",
           "8_2a 2"
          ],
          [
           "8_2a",
           "3",
           "11367-11385",
           "8_2a 2"
          ],
          [
           "8_2a",
           "3",
           "11385-11448",
           "8_2a 2"
          ],
          [
           "8_2a",
           "3",
           "11448-11457",
           "8_2a 2"
          ],
          [
           "8_2a",
           "3",
           "11457-11462",
           "8_2a 2"
          ],
          [
           "8_2a",
           "7",
           "22335-22338",
           "8_2a 3"
          ],
          [
           "8_2a",
           "2",
           "22338-22339",
           "8_2a 3"
          ],
          [
           "8_2a",
           "4",
           "22502-22507",
           "8_2a 3"
          ],
          [
           "9_1b",
           "7",
           "13188-13206",
           "9_1b 2"
          ],
          [
           "9_1b",
           "2",
           "15904-15913",
           "9_1b 3"
          ],
          [
           "10_2b",
           "6",
           "60461-60489",
           "10_2b 5"
          ],
          [
           "10_2b",
           "3",
           "65780-65781",
           "10_2b 5"
          ],
          [
           "10_2b",
           "3",
           "65781-65798",
           "10_2b 5"
          ],
          [
           "11_1c",
           "2",
           "16890-16893",
           "11_1c 1"
          ],
          [
           "11_1c",
           "2",
           "16893-16908",
           "11_1c 1"
          ],
          [
           "11_1c",
           "1",
           "19496-19514",
           "11_1c 1"
          ],
          [
           "11_1c",
           "6",
           "21988-22006",
           "11_1c 2"
          ],
          [
           "11_1c",
           "7",
           "24914-24941",
           "11_1c 2"
          ],
          [
           "11_1c",
           "NA",
           "26336-26354",
           "11_1c 3"
          ],
          [
           "11_1c",
           "1",
           "45171-45180",
           "11_1c 5"
          ],
          [
           "11_1c",
           "3",
           "45180-45199",
           "11_1c 5"
          ],
          [
           "11_1c",
           "2",
           "47031-47067",
           "11_1c 6"
          ],
          [
           "11_1c",
           "7",
           "47535-47553",
           "11_1c 6"
          ],
          [
           "12_2c",
           "1",
           "22429-22438",
           "12_2c 1"
          ],
          [
           "12_2c",
           "2",
           "38914-38950",
           "12_2c 3"
          ],
          [
           "12_2c",
           "1",
           "46778-46800",
           "12_2c 5"
          ],
          [
           "12_2c",
           "3",
           "46800-46814",
           "12_2c 5"
          ],
          [
           "12_2c",
           "1",
           "47973-48000",
           "12_2c 5"
          ],
          [
           "13_1a",
           "1",
           "9730-9757",
           "13_1a 2"
          ],
          [
           "13_1a",
           "1",
           "11782-11809",
           "13_1a 2"
          ],
          [
           "13_1a",
           "1",
           "12934-12942",
           "13_1a 2"
          ],
          [
           "13_1a",
           "1",
           "12942-12960",
           "13_1a 2"
          ],
          [
           "13_1a",
           "1",
           "12960-12988",
           "13_1a 2"
          ],
          [
           "13_1a",
           "1",
           "14229-14256",
           "13_1a 2"
          ],
          [
           "14_2a",
           "2",
           "10974-11001",
           "14_2a 1"
          ],
          [
           "14_2a",
           "4",
           "11688-11700",
           "14_2a 1"
          ],
          [
           "14_2a",
           "8",
           "11700-11706",
           "14_2a 1"
          ],
          [
           "14_2a",
           "1",
           "13804-13831",
           "14_2a 1"
          ],
          [
           "14_2a",
           "2",
           "16893-16906",
           "14_2a 2"
          ],
          [
           "14_2a",
           "1",
           "19642-19651",
           "14_2a 2"
          ],
          [
           "14_2a",
           "1",
           "20439-20493",
           "14_2a 2"
          ],
          [
           "14_2a",
           "1",
           "21607-21616",
           "14_2a 2"
          ],
          [
           "14_2a",
           "1",
           "22463-22472",
           "14_2a 2"
          ],
          [
           "14_2a",
           "1",
           "43915-43959",
           "14_2a 5"
          ],
          [
           "14_2a",
           "8",
           "45732-45765",
           "14_2a 6"
          ],
          [
           "14_2a",
           "8",
           "45765-45778",
           "14_2a 6"
          ],
          [
           "15_1b",
           "2",
           "7763-7799",
           "15_1b 1"
          ],
          [
           "15_1b",
           "1",
           "12460-12465",
           "15_1b 1"
          ],
          [
           "15_1b",
           "3",
           "12465-12469",
           "15_1b 1"
          ],
          [
           "15_1b",
           "8",
           "17601-17628",
           "15_1b 2"
          ],
          [
           "15_1b",
           "1",
           "35292-35325",
           "15_1b 5"
          ],
          [
           "15_1b",
           "3",
           "35325-35334",
           "15_1b 5"
          ],
          [
           "15_1b",
           "3",
           "35334-35336",
           "15_1b 5"
          ],
          [
           "16_2b",
           "6",
           "9894-9903",
           "16_2b 1"
          ],
          [
           "16_2b",
           "5",
           "12684-12702",
           "16_2b 2"
          ],
          [
           "16_2b",
           "1",
           "13947-13950",
           "16_2b 2"
          ],
          [
           "16_2b",
           "3",
           "13950-13951",
           "16_2b 2"
          ],
          [
           "16_2b",
           "3",
           "27681-27684",
           "16_2b 5"
          ],
          [
           "16_2b",
           "3",
           "27684-27690",
           "16_2b 5"
          ],
          [
           "17_1c",
           "1",
           "12505-12541",
           "17_1c 2"
          ],
          [
           "17_1c",
           "3",
           "16659-16686",
           "17_1c 2"
          ],
          [
           "17_1c",
           "1",
           "39727-39735",
           "17_1c 5"
          ],
          [
           "17_1c",
           "3",
           "39735-39736",
           "17_1c 5"
          ],
          [
           "17_1c",
           "1",
           "47113-47149",
           "17_1c 5"
          ],
          [
           "18_2c",
           "2",
           "447-468",
           "18_2c 1"
          ],
          [
           "18_2c",
           "1",
           "468-473",
           "18_2c 1"
          ],
          [
           "18_2c",
           "1",
           "2811-2820",
           "18_2c 1"
          ],
          [
           "18_2c",
           "2",
           "4696-4716",
           "18_2c 1"
          ],
          [
           "18_2c",
           "3",
           "4716-4723",
           "18_2c 1"
          ],
          [
           "18_2c",
           "3",
           "5559-5562",
           "18_2c 1"
          ],
          [
           "18_2c",
           "3",
           "5562-5564",
           "18_2c 1"
          ],
          [
           "18_2c",
           "1",
           "18450-18468",
           "18_2c 3"
          ],
          [
           "18_2c",
           "5",
           "35574-35583",
           "18_2c 5"
          ],
          [
           "18_2c",
           "3",
           "38119-38177",
           "18_2c 5"
          ]
         ],
         "hoverlabel": {
          "namelength": 0
         },
         "hovertemplate": "lemma=eat<br>x=%{x}<br>y=%{y}<br>participant=%{customdata[0]}<br>top=%{customdata[1]}<br>step=%{customdata[2]}<br>pt=%{customdata[3]}",
         "legendgroup": "eat",
         "marker": {
          "color": "#0DF9FF",
          "symbol": "circle"
         },
         "mode": "markers",
         "name": "eat",
         "showlegend": true,
         "type": "scattergl",
         "x": [
          17.78532600402832,
          -14.254607200622559,
          -5.729519367218018,
          0.33442655205726624,
          -16.0323486328125,
          -13.410646438598633,
          -1.3547006845474243,
          -22.336084365844727,
          -1.3547006845474243,
          4.602058410644531,
          10.968135833740234,
          -22.75349998474121,
          23.833850860595703,
          25.211341857910156,
          32.51366424560547,
          -23.12416648864746,
          2.278825521469116,
          -7.954530239105225,
          -15.431231498718262,
          2.9923946857452393,
          -35.74581527709961,
          -26.84857749938965,
          1.7317402362823486,
          -34.818992614746094,
          17.61586570739746,
          -14.997894287109375,
          2.9838650226593018,
          -5.729499340057373,
          33.64448547363281,
          31.758955001831055,
          -23.528301239013672,
          -23.528310775756836,
          -23.528305053710938,
          -23.528297424316406,
          -25.822343826293945,
          -1.2811150550842285,
          -8.822977066040039,
          11.794451713562012,
          1.8830758333206177,
          -22.54058837890625,
          10.549237251281738,
          -7.876167297363281,
          -6.19964075088501,
          -18.037490844726562,
          -11.35619831085205,
          1.9284746646881104,
          11.03467845916748,
          2.235834836959839,
          9.400389671325684,
          43.872764587402344,
          -14.585066795349121,
          -24.874473571777344,
          2.116560935974121,
          2.16190505027771,
          -24.888063430786133,
          17.140104293823242,
          -15.295336723327637,
          -1.3547006845474243,
          -1.3547006845474243,
          2.9923946857452393,
          12.87350082397461,
          46.62583541870117,
          42.857906341552734,
          2.9923946857452393,
          -23.98338508605957,
          12.04552936553955,
          13.174187660217285,
          1.458284616470337,
          -25.641437530517578,
          1.458284616470337,
          18.040613174438477,
          1.458284616470337,
          1.458284616470337,
          1.458284616470337,
          16.68701934814453,
          14.616676330566406,
          -24.883777618408203,
          17.8392391204834,
          -14.877387046813965,
          17.071237564086914,
          18.040613174438477,
          -15.431268692016602,
          35.059303283691406,
          10.595848083496094,
          23.835813522338867,
          17.712085723876953,
          -15.013829231262207,
          -5.7307281494140625,
          35.058372497558594,
          1.458284616470337,
          -9.021651268005371,
          17.878551483154297,
          -15.135908126831055,
          1.458284616470337,
          5.286866188049316,
          43.62476348876953,
          1.458284616470337,
          -22.947216033935547,
          -12.508419036865234,
          -35.77934646606445,
          -26.09903907775879,
          1.458284616470337,
          23.835708618164062,
          -8.45645809173584
         ],
         "xaxis": "x",
         "y": [
          -31.53533935546875,
          -40.498146057128906,
          -23.36288070678711,
          28.47699546813965,
          -38.15176773071289,
          -19.47047233581543,
          26.74750518798828,
          9.624734878540039,
          26.74750518798828,
          -46.2578239440918,
          -12.513259887695312,
          9.932069778442383,
          -5.395705223083496,
          -6.046377182006836,
          -13.581634521484375,
          10.465142250061035,
          28.802671432495117,
          -14.95389175415039,
          -44.34907913208008,
          26.013689041137695,
          -10.247154235839844,
          -23.536983489990234,
          27.5590877532959,
          -10.565953254699707,
          -32.066959381103516,
          -41.26766586303711,
          28.974443435668945,
          -23.361852645874023,
          -14.526900291442871,
          -13.499987602233887,
          -34.64423751831055,
          -34.64405822753906,
          -34.644046783447266,
          -34.644073486328125,
          -23.587324142456055,
          2.0397555828094482,
          6.244766712188721,
          1.681583046913147,
          -0.1649087518453598,
          9.174419403076172,
          -12.710383415222168,
          -18.10197639465332,
          -10.797462463378906,
          7.925250053405762,
          6.907924652099609,
          29.3384952545166,
          -12.949337005615234,
          -0.2515195608139038,
          -2.202617645263672,
          9.185498237609863,
          -41.15956115722656,
          8.740171432495117,
          -0.17247168719768524,
          29.34910011291504,
          10.536003112792969,
          -32.86188507080078,
          -40.01218032836914,
          26.74750518798828,
          26.74750518798828,
          26.013689041137695,
          36.67083740234375,
          15.223390579223633,
          11.948592185974121,
          26.013689041137695,
          7.3853230476379395,
          2.2779266834259033,
          3.9938101768493652,
          31.45989227294922,
          9.000353813171387,
          31.45989227294922,
          -32.95159149169922,
          31.45989227294922,
          31.45989227294922,
          31.45989227294922,
          6.111129283905029,
          4.914857864379883,
          8.365569114685059,
          -32.500816345214844,
          -39.925193786621094,
          7.895534038543701,
          -32.95159149169922,
          -44.34941482543945,
          -15.733080863952637,
          -12.91661548614502,
          -5.397412300109863,
          -32.20591354370117,
          -41.2695198059082,
          -23.360105514526367,
          -15.732358932495117,
          31.45989227294922,
          -15.152046203613281,
          -31.55692481994629,
          -39.950443267822266,
          31.45989227294922,
          -45.855812072753906,
          12.02505111694336,
          31.45989227294922,
          4.796415328979492,
          -8.917193412780762,
          -10.277481079101562,
          -23.242401123046875,
          31.45989227294922,
          -5.397111892700195,
          -16.42616081237793
         ],
         "yaxis": "y"
        },
        {
         "customdata": [
          [
           "1_1a",
           "1",
           "26943-26979",
           "1_1a 3"
          ],
          [
           "2_2a",
           "5",
           "15749-15759",
           "2_2a 3"
          ],
          [
           "2_2a",
           "5",
           "15759-15767",
           "2_2a 3"
          ],
          [
           "2_2a",
           "3",
           "16483-16500",
           "2_2a 3"
          ],
          [
           "2_2a",
           "3",
           "16913-16926",
           "2_2a 3"
          ],
          [
           "3_1b",
           "1",
           "21492-21510",
           "3_1b 3"
          ],
          [
           "3_1b",
           "3",
           "21510-21519",
           "3_1b 3"
          ],
          [
           "3_1b",
           "3",
           "21519-21537",
           "3_1b 3"
          ],
          [
           "4_2b",
           "7",
           "21795-21798",
           "4_2b 3"
          ],
          [
           "4_2b",
           "7",
           "21798-21807",
           "4_2b 3"
          ],
          [
           "4_2b",
           "4",
           "21807-21814",
           "4_2b 3"
          ],
          [
           "4_2b",
           "3",
           "28461-28470",
           "4_2b 3"
          ],
          [
           "4_2b",
           "3",
           "53763-53766",
           "4_2b 6"
          ],
          [
           "4_2b",
           "3",
           "53766-53771",
           "4_2b 6"
          ],
          [
           "6_2c",
           "1",
           "21215-21231",
           "6_2c 3"
          ],
          [
           "6_2c",
           "1",
           "21231-21240",
           "6_2c 3"
          ],
          [
           "6_2c",
           "3",
           "23206-23219",
           "6_2c 3"
          ],
          [
           "6_2c",
           "6",
           "25470-25488",
           "6_2c 3"
          ],
          [
           "6_2c",
           "6",
           "25488-25498",
           "6_2c 3"
          ],
          [
           "6_2c",
           "1",
           "38807-38823",
           "6_2c 5"
          ],
          [
           "7_1a",
           "3",
           "15159-15165",
           "7_1a 1"
          ],
          [
           "7_1a",
           "3",
           "15165-15239",
           "7_1a 1"
          ],
          [
           "7_1a",
           "1",
           "17780-17825",
           "7_1a 1"
          ],
          [
           "7_1a",
           "2",
           "18211-18252",
           "7_1a 1"
          ],
          [
           "7_1a",
           "1",
           "18252-18256",
           "7_1a 1"
          ],
          [
           "7_1a",
           "1",
           "39058-39085",
           "7_1a 3"
          ],
          [
           "7_1a",
           "3",
           "40601-40626",
           "7_1a 3"
          ],
          [
           "7_1a",
           "3",
           "40626-40716",
           "7_1a 3"
          ],
          [
           "7_1a",
           "5",
           "40716-40717",
           "7_1a 3"
          ],
          [
           "7_1a",
           "1",
           "41076-41139",
           "7_1a 3"
          ],
          [
           "8_2a",
           "1",
           "17758-17775",
           "8_2a 3"
          ],
          [
           "8_2a",
           "3",
           "17775-17786",
           "8_2a 3"
          ],
          [
           "8_2a",
           "3",
           "22673-22686",
           "8_2a 3"
          ],
          [
           "10_2b",
           "1",
           "36813-36942",
           "10_2b 3"
          ],
          [
           "12_2c",
           "7",
           "25458-25479",
           "12_2c 1"
          ],
          [
           "12_2c",
           "3",
           "25479-25533",
           "12_2c 1"
          ],
          [
           "12_2c",
           "3",
           "25533-25584",
           "12_2c 1"
          ],
          [
           "12_2c",
           "2",
           "34473-34488",
           "12_2c 3"
          ],
          [
           "12_2c",
           "1",
           "34488-34506",
           "12_2c 3"
          ],
          [
           "12_2c",
           "3",
           "34506-34509",
           "12_2c 3"
          ],
          [
           "12_2c",
           "5",
           "37667-37674",
           "12_2c 3"
          ],
          [
           "12_2c",
           "3",
           "37674-37694",
           "12_2c 3"
          ],
          [
           "14_2a",
           "3",
           "25780-25785",
           "14_2a 3"
          ],
          [
           "14_2a",
           "3",
           "25785-25821",
           "14_2a 3"
          ],
          [
           "14_2a",
           "3",
           "25821-25825",
           "14_2a 3"
          ],
          [
           "16_2b",
           "3",
           "16748-16758",
           "16_2b 3"
          ],
          [
           "16_2b",
           "3",
           "16758-16824",
           "16_2b 3"
          ],
          [
           "18_2c",
           "1",
           "10160-10161",
           "18_2c 2"
          ],
          [
           "18_2c",
           "3",
           "10161-10170",
           "18_2c 2"
          ],
          [
           "18_2c",
           "3",
           "10170-10205",
           "18_2c 2"
          ],
          [
           "18_2c",
           "1",
           "16064-16090",
           "18_2c 3"
          ]
         ],
         "hoverlabel": {
          "namelength": 0
         },
         "hovertemplate": "lemma=wash<br>x=%{x}<br>y=%{y}<br>participant=%{customdata[0]}<br>top=%{customdata[1]}<br>step=%{customdata[2]}<br>pt=%{customdata[3]}",
         "legendgroup": "wash",
         "marker": {
          "color": "#F6F926",
          "symbol": "circle"
         },
         "mode": "markers",
         "name": "wash",
         "showlegend": true,
         "type": "scattergl",
         "x": [
          2.3267414569854736,
          23.96497344970703,
          22.536422729492188,
          9.468503952026367,
          9.468315124511719,
          17.471416473388672,
          -17.299768447875977,
          -19.287263870239258,
          3.684694766998291,
          5.344793319702148,
          12.609028816223145,
          -8.898560523986816,
          -35.71474838256836,
          -25.988000869750977,
          -0.5939995646476746,
          -1.041549563407898,
          -7.68343448638916,
          12.678717613220215,
          13.255776405334473,
          -1.3547006845474243,
          -35.235416412353516,
          -25.872575759887695,
          1.11037278175354,
          4.328469753265381,
          43.041160583496094,
          2.290628433227539,
          -11.162248611450195,
          -18.358949661254883,
          20.04909896850586,
          48.691795349121094,
          18.01014518737793,
          -14.859201431274414,
          -8.010104179382324,
          0.6738783717155457,
          -0.08364000916481018,
          -4.716132640838623,
          -2.087514638900757,
          5.166147708892822,
          43.87311935424805,
          -14.632509231567383,
          25.215232849121094,
          32.51381301879883,
          -34.847835540771484,
          -23.527862548828125,
          -14.360334396362305,
          -35.00047302246094,
          -26.283763885498047,
          17.27761459350586,
          -23.528301239013672,
          -26.584178924560547,
          1.458284616470337
         ],
         "xaxis": "x",
         "y": [
          28.809694290161133,
          -3.882368326187134,
          -1.8578824996948242,
          -2.1735284328460693,
          -2.173151731491089,
          -31.537126541137695,
          -41.268798828125,
          -13.294342041015625,
          0.021429888904094696,
          -1.0113791227340698,
          -2.495365619659424,
          -16.24247169494629,
          -10.204811096191406,
          -24.08763313293457,
          23.287240982055664,
          21.109392166137695,
          -15.31886100769043,
          -12.099129676818848,
          -9.081164360046387,
          26.74750518798828,
          -10.139566421508789,
          -23.84893798828125,
          28.062999725341797,
          -46.02251434326172,
          11.260355949401855,
          27.90775489807129,
          -14.446566581726074,
          -13.40331745147705,
          3.894362688064575,
          17.498146057128906,
          -32.97055435180664,
          -39.933597564697266,
          -14.929181098937988,
          27.44563102722168,
          -2.088390588760376,
          -9.736626625061035,
          -14.469024658203125,
          -45.520751953125,
          9.185699462890625,
          -39.95927810668945,
          -6.046247482299805,
          -13.581535339355469,
          -10.933921813964844,
          -34.644012451171875,
          -40.92722702026367,
          -11.2102632522583,
          -24.207090377807617,
          -31.56551170349121,
          -34.64423751831055,
          -23.1820068359375,
          31.45989227294922
         ],
         "yaxis": "y"
        },
        {
         "customdata": [
          [
           "1_1a",
           "4",
           "33784-33786",
           "1_1a 3"
          ],
          [
           "1_1a",
           "5",
           "33786-33822",
           "1_1a 3"
          ],
          [
           "1_1a",
           "3",
           "33822-33831",
           "1_1a 3"
          ],
          [
           "1_1a",
           "3",
           "33831-33839",
           "1_1a 3"
          ],
          [
           "3_1b",
           "2",
           "20449-20539",
           "3_1b 3"
          ],
          [
           "4_2b",
           "1",
           "35708-35717",
           "4_2b 4"
          ],
          [
           "8_2a",
           "3",
           "25928-25929",
           "8_2a 3"
          ],
          [
           "8_2a",
           "3",
           "25929-25938",
           "8_2a 3"
          ],
          [
           "8_2a",
           "3",
           "25938-25947",
           "8_2a 3"
          ],
          [
           "8_2a",
           "3",
           "25947-25951",
           "8_2a 3"
          ],
          [
           "17_1c",
           "1",
           "32057-32074",
           "17_1c 4"
          ]
         ],
         "hoverlabel": {
          "namelength": 0
         },
         "hovertemplate": "lemma=give<br>x=%{x}<br>y=%{y}<br>participant=%{customdata[0]}<br>top=%{customdata[1]}<br>step=%{customdata[2]}<br>pt=%{customdata[3]}",
         "legendgroup": "give",
         "marker": {
          "color": "#FF9616",
          "symbol": "circle"
         },
         "mode": "markers",
         "name": "give",
         "showlegend": true,
         "type": "scattergl",
         "x": [
          12.155719757080078,
          21.511199951171875,
          33.644371032714844,
          35.05817413330078,
          -23.529766082763672,
          2.9923946857452393,
          -35.894569396972656,
          -23.528301239013672,
          -12.441010475158691,
          -5.13189172744751,
          1.458284616470337
         ],
         "xaxis": "x",
         "y": [
          1.3167163133621216,
          -1.0907095670700073,
          -14.526571273803711,
          -15.73239517211914,
          9.60474681854248,
          26.013689041137695,
          -11.009783744812012,
          -34.64423751831055,
          -41.59059524536133,
          -18.06998634338379,
          31.45989227294922
         ],
         "yaxis": "y"
        },
        {
         "customdata": [
          [
           "1_1a",
           "7",
           "34396-34414",
           "1_1a 3"
          ],
          [
           "1_1a",
           "1",
           "40283-40292",
           "1_1a 4"
          ],
          [
           "1_1a",
           "9",
           "42608-42617",
           "1_1a 4"
          ],
          [
           "1_1a",
           "3",
           "43595-43622",
           "1_1a 4"
          ],
          [
           "2_2a",
           "2",
           "17602-17628",
           "2_2a 3"
          ],
          [
           "4_2b",
           "2",
           "49874-49890",
           "4_2b 6"
          ],
          [
           "4_2b",
           "7",
           "51608-51631",
           "4_2b 6"
          ],
          [
           "5_1c",
           "2",
           "12749-12753",
           "5_1c 3"
          ],
          [
           "5_1c",
           "1",
           "12753-12776",
           "5_1c 3"
          ],
          [
           "6_2c",
           "1",
           "19470-19523",
           "6_2c 3"
          ],
          [
           "6_2c",
           "2",
           "33919-33937",
           "6_2c 5"
          ],
          [
           "7_1a",
           "1",
           "39282-39300",
           "7_1a 3"
          ],
          [
           "8_2a",
           "9",
           "21102-21114",
           "8_2a 3"
          ],
          [
           "8_2a",
           "7",
           "21114-21124",
           "8_2a 3"
          ],
          [
           "8_2a",
           "2",
           "21357-21375",
           "8_2a 3"
          ],
          [
           "8_2a",
           "1",
           "21375-21410",
           "8_2a 3"
          ],
          [
           "8_2a",
           "3",
           "27201-27246",
           "8_2a 4"
          ],
          [
           "11_1c",
           "3",
           "26832-26865",
           "11_1c 3"
          ],
          [
           "11_1c",
           "3",
           "26865-26867",
           "11_1c 3"
          ],
          [
           "11_1c",
           "8",
           "33962-33989",
           "11_1c 4"
          ],
          [
           "11_1c",
           "7",
           "34662-34734",
           "11_1c 4"
          ],
          [
           "12_2c",
           "8",
           "39390-39408",
           "12_2c 3"
          ],
          [
           "13_1a",
           "2",
           "15251-15255",
           "13_1a 3"
          ],
          [
           "13_1a",
           "1",
           "15255-15278",
           "13_1a 3"
          ],
          [
           "13_1a",
           "8",
           "15783-15786",
           "13_1a 3"
          ],
          [
           "13_1a",
           "8",
           "15786-15804",
           "13_1a 3"
          ],
          [
           "13_1a",
           "7",
           "15804-15810",
           "13_1a 3"
          ],
          [
           "13_1a",
           "7",
           "16755-16782",
           "13_1a 3"
          ],
          [
           "15_1b",
           "6",
           "23192-23220",
           "15_1b 3"
          ],
          [
           "15_1b",
           "4",
           "23220-23228",
           "15_1b 3"
          ],
          [
           "15_1b",
           "4",
           "32890-32904",
           "15_1b 5"
          ],
          [
           "15_1b",
           "1",
           "32904-32913",
           "15_1b 5"
          ],
          [
           "15_1b",
           "3",
           "32913-32922",
           "15_1b 5"
          ],
          [
           "15_1b",
           "3",
           "32922-32926",
           "15_1b 5"
          ],
          [
           "16_2b",
           "9",
           "14700-14751",
           "16_2b 3"
          ]
         ],
         "hoverlabel": {
          "namelength": 0
         },
         "hovertemplate": "lemma=throw<br>x=%{x}<br>y=%{y}<br>participant=%{customdata[0]}<br>top=%{customdata[1]}<br>step=%{customdata[2]}<br>pt=%{customdata[3]}",
         "legendgroup": "throw",
         "marker": {
          "color": "#479B55",
          "symbol": "circle"
         },
         "mode": "markers",
         "name": "throw",
         "showlegend": true,
         "type": "scattergl",
         "x": [
          2.065009117126465,
          -0.37107953429222107,
          15.108439445495605,
          -8.349502563476562,
          -24.466840744018555,
          -25.204397201538086,
          2.2882637977600098,
          5.102048873901367,
          43.17676544189453,
          2.791006088256836,
          -22.86447525024414,
          2.1618947982788086,
          14.95606517791748,
          5.906839847564697,
          5.218629360198975,
          42.79029083251953,
          -8.300960540771484,
          -10.665386199951172,
          -12.892831802368164,
          16.947071075439453,
          2.2358357906341553,
          16.947071075439453,
          4.3218889236450195,
          43.37044906616211,
          16.68436622619629,
          14.622467041015625,
          8.257521629333496,
          2.2541284561157227,
          9.35059642791748,
          8.702471733093262,
          11.734979629516602,
          7.428612232208252,
          -23.52833366394043,
          -26.09903907775879,
          15.384709358215332
         ],
         "xaxis": "x",
         "y": [
          -0.812225341796875,
          29.319726943969727,
          -4.384066104888916,
          -14.828132629394531,
          9.630824089050293,
          10.177183151245117,
          -0.6426236629486084,
          -46.224613189697266,
          12.16036605834961,
          28.349836349487305,
          10.176166534423828,
          29.349061965942383,
          -4.483369827270508,
          -1.4952579736709595,
          -45.60527038574219,
          11.462325096130371,
          -15.301905632019043,
          -17.868425369262695,
          -19.289331436157227,
          8.579251289367676,
          -0.2515197992324829,
          8.579251289367676,
          -45.693939208984375,
          11.21819019317627,
          6.109682083129883,
          4.91422176361084,
          0.8862708210945129,
          -0.2715677320957184,
          -11.663265228271484,
          -9.629798889160156,
          1.6901681423187256,
          26.171401977539062,
          -34.64403533935547,
          -23.242401123046875,
          -3.580197811126709
         ],
         "yaxis": "y"
        },
        {
         "customdata": [
          [
           "1_1a",
           "1",
           "35839-35856",
           "1_1a 4"
          ],
          [
           "1_1a",
           "3",
           "35856-35866",
           "1_1a 4"
          ],
          [
           "1_1a",
           "3",
           "37206-37215",
           "1_1a 4"
          ],
          [
           "1_1a",
           "9",
           "42303-42309",
           "1_1a 4"
          ],
          [
           "1_1a",
           "4",
           "42309-42318",
           "1_1a 4"
          ],
          [
           "1_1a",
           "4",
           "42318-42329",
           "1_1a 4"
          ],
          [
           "2_2a",
           "6",
           "19011-19025",
           "2_2a 4"
          ],
          [
           "2_2a",
           "2",
           "20156-20160",
           "2_2a 4"
          ],
          [
           "2_2a",
           "2",
           "20160-20169",
           "2_2a 4"
          ],
          [
           "2_2a",
           "2",
           "20169-20170",
           "2_2a 4"
          ],
          [
           "3_1b",
           "2",
           "25276-25294",
           "3_1b 4"
          ],
          [
           "3_1b",
           "7",
           "30530-30539",
           "3_1b 4"
          ],
          [
           "4_2b",
           "6",
           "53327-53344",
           "4_2b 6"
          ],
          [
           "5_1c",
           "3",
           "22688-22706",
           "5_1c 5"
          ],
          [
           "5_1c",
           "3",
           "30530-30537",
           "5_1c 6"
          ],
          [
           "5_1c",
           "3",
           "30537-30575",
           "5_1c 6"
          ],
          [
           "6_2c",
           "1",
           "36622-36627",
           "6_2c 5"
          ],
          [
           "7_1a",
           "2",
           "28457-28493",
           "7_1a 1"
          ],
          [
           "7_1a",
           "1",
           "36615-36660",
           "7_1a 3"
          ],
          [
           "7_1a",
           "2",
           "41892-41919",
           "7_1a 3"
          ],
          [
           "8_2a",
           "1",
           "28182-28217",
           "8_2a 4"
          ],
          [
           "8_2a",
           "8",
           "34842-34848",
           "8_2a 4"
          ],
          [
           "8_2a",
           "8",
           "34848-34853",
           "8_2a 4"
          ],
          [
           "8_2a",
           "3",
           "37793-37829",
           "8_2a 5"
          ],
          [
           "8_2a",
           "1",
           "42990-42999",
           "8_2a 6"
          ],
          [
           "9_1b",
           "1",
           "23924-23940",
           "9_1b 4"
          ],
          [
           "9_1b",
           "3",
           "23940-23942",
           "9_1b 4"
          ],
          [
           "9_1b",
           "7",
           "34839-34857",
           "9_1b 5"
          ],
          [
           "9_1b",
           "2",
           "38223-38241",
           "9_1b 6"
          ],
          [
           "9_1b",
           "2",
           "38241-38268",
           "9_1b 6"
          ],
          [
           "10_2b",
           "1",
           "44126-44135",
           "10_2b 4"
          ],
          [
           "10_2b",
           "2",
           "50730-50739",
           "10_2b 4"
          ],
          [
           "11_1c",
           "5",
           "48632-48636",
           "11_1c 6"
          ],
          [
           "11_1c",
           "5",
           "48636-48645",
           "11_1c 6"
          ],
          [
           "11_1c",
           "7",
           "48645-48659",
           "11_1c 6"
          ],
          [
           "12_2c",
           "3",
           "41046-41055",
           "12_2c 4"
          ],
          [
           "13_1a",
           "2",
           "21169-21205",
           "13_1a 4"
          ],
          [
           "13_1a",
           "3",
           "21439-21447",
           "13_1a 4"
          ],
          [
           "13_1a",
           "3",
           "21447-21457",
           "13_1a 4"
          ],
          [
           "14_2a",
           "5",
           "29336-29340",
           "14_2a 3"
          ],
          [
           "14_2a",
           "3",
           "29340-29354",
           "14_2a 3"
          ],
          [
           "14_2a",
           "7",
           "29894-29903",
           "14_2a 4"
          ],
          [
           "14_2a",
           "2",
           "32602-32654",
           "14_2a 4"
          ],
          [
           "14_2a",
           "1",
           "35610-35619",
           "14_2a 4"
          ],
          [
           "14_2a",
           "1",
           "41404-41421",
           "14_2a 5"
          ],
          [
           "15_1b",
           "9",
           "24319-24327",
           "15_1b 4"
          ],
          [
           "15_1b",
           "5",
           "24327-24336",
           "15_1b 4"
          ],
          [
           "15_1b",
           "7",
           "37960-37996",
           "15_1b 6"
          ],
          [
           "17_1c",
           "1",
           "29888-29897",
           "17_1c 4"
          ],
          [
           "18_2c",
           "3",
           "19989-20025",
           "18_2c 4"
          ],
          [
           "18_2c",
           "9",
           "24569-24582",
           "18_2c 4"
          ]
         ],
         "hoverlabel": {
          "namelength": 0
         },
         "hovertemplate": "lemma=play<br>x=%{x}<br>y=%{y}<br>participant=%{customdata[0]}<br>top=%{customdata[1]}<br>step=%{customdata[2]}<br>pt=%{customdata[3]}",
         "legendgroup": "play",
         "marker": {
          "color": "#EEA6FB",
          "symbol": "circle"
         },
         "mode": "markers",
         "name": "play",
         "showlegend": true,
         "type": "scattergl",
         "x": [
          17.865257263183594,
          -15.553750991821289,
          35.0588264465332,
          14.505258560180664,
          12.547907829284668,
          12.496631622314453,
          10.668990135192871,
          -18.037490844726562,
          -10.192879676818848,
          -8.82398509979248,
          -22.95459747314453,
          2.2575435638427734,
          10.986300468444824,
          -8.8949556350708,
          -5.730721473693848,
          35.05838394165039,
          -1.3547006845474243,
          -23.66950225830078,
          1.1695003509521484,
          -23.17525291442871,
          -0.2423924058675766,
          15.794317245483398,
          16.09922218322754,
          -7.926643371582031,
          1.3630307912826538,
          17.015220642089844,
          -14.357306480407715,
          1.9013859033584595,
          -18.037490844726562,
          -11.35452938079834,
          0.6383416652679443,
          -23.253450393676758,
          23.969280242919922,
          22.627437591552734,
          8.25654125213623,
          -8.45645809173584,
          -24.426111221313477,
          -5.729474067687988,
          35.05929946899414,
          25.215391159057617,
          32.51396179199219,
          1.695339560508728,
          -24.181856155395508,
          1.458284616470337,
          1.458284616470337,
          15.779935836791992,
          17.69160270690918,
          1.6953397989273071,
          1.458284616470337,
          -14.343855857849121,
          15.108648300170898
         ],
         "xaxis": "x",
         "y": [
          -31.562679290771484,
          -40.473976135253906,
          -15.732803344726562,
          -4.193944454193115,
          -2.3770594596862793,
          -2.2462949752807617,
          -12.537628173828125,
          7.925249099731445,
          6.641159534454346,
          6.2450690269470215,
          9.310437202453613,
          -0.6984905004501343,
          -12.992182731628418,
          -16.23253059387207,
          -23.360118865966797,
          -15.732357025146484,
          26.74750518798828,
          8.300312042236328,
          29.264373779296875,
          9.17393684387207,
          28.482152938842773,
          7.501694202423096,
          0.015025179833173752,
          -16.283933639526367,
          29.283206939697266,
          -31.79058265686035,
          -40.2889518737793,
          -0.16031692922115326,
          7.925250053405762,
          6.907180309295654,
          27.749454498291016,
          9.507731437683105,
          -3.8825230598449707,
          -1.883512020111084,
          0.8864842653274536,
          -16.42616081237793,
          8.320216178894043,
          -23.362884521484375,
          -15.733080863952637,
          -6.047244548797607,
          -13.58161735534668,
          -0.6266252994537354,
          7.9473958015441895,
          31.45989227294922,
          31.45989227294922,
          -4.752336025238037,
          -5.34982967376709,
          -0.6266252398490906,
          31.45989227294922,
          -40.90105438232422,
          -4.384009838104248
         ],
         "yaxis": "y"
        },
        {
         "customdata": [
          [
           "1_1a",
           "8",
           "36073-36099",
           "1_1a 4"
          ],
          [
           "1_1a",
           "3",
           "36099-36100",
           "1_1a 4"
          ],
          [
           "1_1a",
           "3",
           "37098-37116",
           "1_1a 4"
          ],
          [
           "1_1a",
           "3",
           "38327-38331",
           "1_1a 4"
          ],
          [
           "1_1a",
           "3",
           "38331-38345",
           "1_1a 4"
          ],
          [
           "1_1a",
           "3",
           "40086-40104",
           "1_1a 4"
          ],
          [
           "1_1a",
           "8",
           "42929-42948",
           "1_1a 4"
          ],
          [
           "1_1a",
           "5",
           "46053-46071",
           "1_1a 5"
          ],
          [
           "1_1a",
           "5",
           "46486-46511",
           "1_1a 5"
          ],
          [
           "1_1a",
           "6",
           "55281-55290",
           "1_1a 6"
          ],
          [
           "1_1a",
           "7",
           "56620-56638",
           "1_1a 6"
          ],
          [
           "2_2a",
           "3",
           "12878-12888",
           "2_2a 2"
          ],
          [
           "2_2a",
           "3",
           "12888-12915",
           "2_2a 2"
          ],
          [
           "2_2a",
           "3",
           "12915-12933",
           "2_2a 2"
          ],
          [
           "2_2a",
           "1",
           "31100-31125",
           "2_2a 5"
          ],
          [
           "4_2b",
           "1",
           "28526-28535",
           "4_2b 3"
          ],
          [
           "5_1c",
           "7",
           "25966-25974",
           "5_1c 6"
          ],
          [
           "5_1c",
           "3",
           "25974-25984",
           "5_1c 6"
          ],
          [
           "6_2c",
           "5",
           "4652-4665",
           "6_2c 1"
          ],
          [
           "6_2c",
           "2",
           "6111-6146",
           "6_2c 1"
          ],
          [
           "6_2c",
           "4",
           "7622-7632",
           "6_2c 1"
          ],
          [
           "6_2c",
           "8",
           "7632-7635",
           "6_2c 1"
          ],
          [
           "6_2c",
           "8",
           "8565-8577",
           "6_2c 1"
          ],
          [
           "6_2c",
           "2",
           "8577-8583",
           "6_2c 1"
          ],
          [
           "6_2c",
           "4",
           "9841-9855",
           "6_2c 1"
          ],
          [
           "6_2c",
           "3",
           "11300-11314",
           "6_2c 1"
          ],
          [
           "6_2c",
           "1",
           "12610-12628",
           "6_2c 2"
          ],
          [
           "6_2c",
           "3",
           "13952-13959",
           "6_2c 2"
          ],
          [
           "6_2c",
           "3",
           "13959-13979",
           "6_2c 2"
          ],
          [
           "6_2c",
           "4",
           "14546-14553",
           "6_2c 2"
          ],
          [
           "6_2c",
           "8",
           "14553-14562",
           "6_2c 2"
          ],
          [
           "6_2c",
           "3",
           "14562-14578",
           "6_2c 2"
          ],
          [
           "6_2c",
           "3",
           "15504-15522",
           "6_2c 2"
          ],
          [
           "6_2c",
           "1",
           "15838-15867",
           "6_2c 2"
          ],
          [
           "6_2c",
           "3",
           "15867-15876",
           "6_2c 2"
          ],
          [
           "6_2c",
           "3",
           "15876-15885",
           "6_2c 2"
          ],
          [
           "6_2c",
           "5",
           "15885-15899",
           "6_2c 2"
          ],
          [
           "6_2c",
           "1",
           "16799-16815",
           "6_2c 2"
          ],
          [
           "6_2c",
           "1",
           "17000-17098",
           "6_2c 2"
          ],
          [
           "6_2c",
           "3",
           "18840-18866",
           "6_2c 3"
          ],
          [
           "6_2c",
           "6",
           "21563-21573",
           "6_2c 3"
          ],
          [
           "6_2c",
           "6",
           "21573-21582",
           "6_2c 3"
          ],
          [
           "6_2c",
           "6",
           "21582-21586",
           "6_2c 3"
          ],
          [
           "6_2c",
           "7",
           "22307-22324",
           "6_2c 3"
          ],
          [
           "6_2c",
           "4",
           "23491-23508",
           "6_2c 3"
          ],
          [
           "6_2c",
           "8",
           "23508-23517",
           "6_2c 3"
          ],
          [
           "6_2c",
           "2",
           "24390-24400",
           "6_2c 3"
          ],
          [
           "6_2c",
           "1",
           "24664-24687",
           "6_2c 3"
          ],
          [
           "6_2c",
           "3",
           "24687-24696",
           "6_2c 3"
          ],
          [
           "6_2c",
           "3",
           "24696-24697",
           "6_2c 3"
          ],
          [
           "6_2c",
           "3",
           "25767-25776",
           "6_2c 3"
          ],
          [
           "6_2c",
           "3",
           "25776-25803",
           "6_2c 3"
          ],
          [
           "6_2c",
           "3",
           "25803-25811",
           "6_2c 3"
          ],
          [
           "6_2c",
           "5",
           "26639-26640",
           "6_2c 4"
          ],
          [
           "6_2c",
           "5",
           "26640-26648",
           "6_2c 4"
          ],
          [
           "6_2c",
           "3",
           "27841-27846",
           "6_2c 4"
          ],
          [
           "6_2c",
           "3",
           "27846-27856",
           "6_2c 4"
          ],
          [
           "6_2c",
           "3",
           "30232-30240",
           "6_2c 4"
          ],
          [
           "6_2c",
           "3",
           "32695-32731",
           "6_2c 4"
          ],
          [
           "6_2c",
           "1",
           "33144-33242",
           "6_2c 4"
          ],
          [
           "6_2c",
           "4",
           "33360-33363",
           "6_2c 4"
          ],
          [
           "6_2c",
           "7",
           "33363-33385",
           "6_2c 4"
          ],
          [
           "6_2c",
           "7",
           "42086-42095",
           "6_2c 6"
          ],
          [
           "6_2c",
           "2",
           "43346-43369",
           "6_2c 6"
          ],
          [
           "6_2c",
           "4",
           "45693-45702",
           "6_2c 6"
          ],
          [
           "6_2c",
           "8",
           "45702-45719",
           "6_2c 6"
          ],
          [
           "7_1a",
           "1",
           "23455-23473",
           "7_1a 1"
          ],
          [
           "7_1a",
           "1",
           "36552-36570",
           "7_1a 3"
          ],
          [
           "7_1a",
           "1",
           "63030-63036",
           "7_1a 6"
          ],
          [
           "7_1a",
           "3",
           "63036-63066",
           "7_1a 6"
          ],
          [
           "8_2a",
           "3",
           "3908-3915",
           "8_2a 1"
          ],
          [
           "8_2a",
           "3",
           "3915-3924",
           "8_2a 1"
          ],
          [
           "8_2a",
           "3",
           "3924-3925",
           "8_2a 1"
          ],
          [
           "8_2a",
           "8",
           "4889-4907",
           "8_2a 1"
          ],
          [
           "8_2a",
           "8",
           "5479-5481",
           "8_2a 1"
          ],
          [
           "8_2a",
           "2",
           "5481-5497",
           "8_2a 1"
          ],
          [
           "8_2a",
           "1",
           "6783-6786",
           "8_2a 1"
          ],
          [
           "8_2a",
           "3",
           "6786-6813",
           "8_2a 1"
          ],
          [
           "8_2a",
           "3",
           "6813-6827",
           "8_2a 1"
          ],
          [
           "8_2a",
           "5",
           "12341-12358",
           "8_2a 2"
          ],
          [
           "8_2a",
           "3",
           "13323-13329",
           "8_2a 2"
          ],
          [
           "8_2a",
           "3",
           "13329-13350",
           "8_2a 2"
          ],
          [
           "8_2a",
           "2",
           "16360-16398",
           "8_2a 2"
          ],
          [
           "8_2a",
           "1",
           "16398-16448",
           "8_2a 2"
          ],
          [
           "8_2a",
           "7",
           "16643-16659",
           "8_2a 3"
          ],
          [
           "8_2a",
           "2",
           "16659-16675",
           "8_2a 3"
          ],
          [
           "8_2a",
           "3",
           "19692-19701",
           "8_2a 3"
          ],
          [
           "8_2a",
           "3",
           "19701-19715",
           "8_2a 3"
          ],
          [
           "8_2a",
           "1",
           "25119-25128",
           "8_2a 3"
          ],
          [
           "8_2a",
           "8",
           "26483-26492",
           "8_2a 4"
          ],
          [
           "8_2a",
           "6",
           "26669-26685",
           "8_2a 4"
          ],
          [
           "8_2a",
           "6",
           "26685-26696",
           "8_2a 4"
          ],
          [
           "8_2a",
           "1",
           "33698-33724",
           "8_2a 4"
          ],
          [
           "8_2a",
           "9",
           "34051-34056",
           "8_2a 4"
          ],
          [
           "8_2a",
           "8",
           "34056-34074",
           "8_2a 4"
          ],
          [
           "8_2a",
           "2",
           "42036-42080",
           "8_2a 6"
          ],
          [
           "8_2a",
           "2",
           "45076-45081",
           "8_2a 6"
          ],
          [
           "8_2a",
           "1",
           "45081-45099",
           "8_2a 6"
          ],
          [
           "8_2a",
           "1",
           "45099-45129",
           "8_2a 6"
          ],
          [
           "8_2a",
           "3",
           "45882-45909",
           "8_2a 6"
          ],
          [
           "8_2a",
           "3",
           "45909-45918",
           "8_2a 6"
          ],
          [
           "8_2a",
           "8",
           "45918-45948",
           "8_2a 6"
          ],
          [
           "8_2a",
           "2",
           "46446-46467",
           "8_2a 6"
          ],
          [
           "8_2a",
           "2",
           "46467-46485",
           "8_2a 6"
          ],
          [
           "8_2a",
           "2",
           "46485-46494",
           "8_2a 6"
          ],
          [
           "8_2a",
           "1",
           "46494-46495",
           "8_2a 6"
          ],
          [
           "8_2a",
           "9",
           "46619-46638",
           "8_2a 6"
          ],
          [
           "8_2a",
           "6",
           "46638-46646",
           "8_2a 6"
          ],
          [
           "9_1b",
           "1",
           "5942-6041",
           "9_1b 1"
          ],
          [
           "9_1b",
           "2",
           "7824-7857",
           "9_1b 1"
          ],
          [
           "9_1b",
           "1",
           "7857-7860",
           "9_1b 1"
          ],
          [
           "9_1b",
           "2",
           "7923-7929",
           "9_1b 1"
          ],
          [
           "9_1b",
           "1",
           "7929-7950",
           "9_1b 1"
          ],
          [
           "9_1b",
           "3",
           "11118-11154",
           "9_1b 2"
          ],
          [
           "9_1b",
           "8",
           "19073-19080",
           "9_1b 3"
          ],
          [
           "9_1b",
           "3",
           "19080-19098",
           "9_1b 3"
          ],
          [
           "9_1b",
           "3",
           "19098-19107",
           "9_1b 3"
          ],
          [
           "9_1b",
           "8",
           "19107-19108",
           "9_1b 3"
          ],
          [
           "9_1b",
           "3",
           "23066-23085",
           "9_1b 3"
          ],
          [
           "9_1b",
           "3",
           "23085-23111",
           "9_1b 3"
          ],
          [
           "9_1b",
           "8",
           "28828-28854",
           "9_1b 4"
          ],
          [
           "9_1b",
           "3",
           "28854-28855",
           "9_1b 4"
          ],
          [
           "9_1b",
           "7",
           "35935-35946",
           "9_1b 6"
          ],
          [
           "9_1b",
           "2",
           "35946-35955",
           "9_1b 6"
          ],
          [
           "9_1b",
           "1",
           "35955-35980",
           "9_1b 6"
          ],
          [
           "9_1b",
           "1",
           "37962-37989",
           "9_1b 6"
          ],
          [
           "10_2b",
           "3",
           "42318-42345",
           "10_2b 3"
          ],
          [
           "10_2b",
           "3",
           "42345-42354",
           "10_2b 3"
          ],
          [
           "10_2b",
           "2",
           "45118-45135",
           "10_2b 4"
          ],
          [
           "10_2b",
           "1",
           "45135-45171",
           "10_2b 4"
          ],
          [
           "10_2b",
           "3",
           "45171-45173",
           "10_2b 4"
          ],
          [
           "10_2b",
           "1",
           "50640-50658",
           "10_2b 4"
          ],
          [
           "10_2b",
           "1",
           "52307-52380",
           "10_2b 4"
          ],
          [
           "10_2b",
           "3",
           "52380-52389",
           "10_2b 4"
          ],
          [
           "10_2b",
           "3",
           "52389-52406",
           "10_2b 4"
          ],
          [
           "10_2b",
           "1",
           "53499-53544",
           "10_2b 4"
          ],
          [
           "10_2b",
           "1",
           "67582-67600",
           "10_2b 6"
          ],
          [
           "11_1c",
           "2",
           "25382-25398",
           "11_1c 2"
          ],
          [
           "11_1c",
           "1",
           "25398-25427",
           "11_1c 2"
          ],
          [
           "11_1c",
           "5",
           "41595-41607",
           "11_1c 5"
          ],
          [
           "11_1c",
           "1",
           "41607-41613",
           "11_1c 5"
          ],
          [
           "12_2c",
           "5",
           "28801-28818",
           "12_2c 2"
          ],
          [
           "12_2c",
           "5",
           "28818-28819",
           "12_2c 2"
          ],
          [
           "12_2c",
           "5",
           "30104-30105",
           "12_2c 2"
          ],
          [
           "12_2c",
           "3",
           "30105-30122",
           "12_2c 2"
          ],
          [
           "12_2c",
           "3",
           "30924-30942",
           "12_2c 2"
          ],
          [
           "12_2c",
           "3",
           "32039-32049",
           "12_2c 2"
          ],
          [
           "12_2c",
           "3",
           "32049-32067",
           "12_2c 2"
          ],
          [
           "12_2c",
           "1",
           "32067-32085",
           "12_2c 2"
          ],
          [
           "12_2c",
           "1",
           "32085-32094",
           "12_2c 2"
          ],
          [
           "12_2c",
           "1",
           "32094-32109",
           "12_2c 2"
          ],
          [
           "12_2c",
           "1",
           "40702-40716",
           "12_2c 4"
          ],
          [
           "12_2c",
           "1",
           "40716-40761",
           "12_2c 4"
          ],
          [
           "12_2c",
           "3",
           "40761-40770",
           "12_2c 4"
          ],
          [
           "12_2c",
           "3",
           "40770-40779",
           "12_2c 4"
          ],
          [
           "12_2c",
           "3",
           "40779-40803",
           "12_2c 4"
          ],
          [
           "13_1a",
           "1",
           "1177-1258",
           "13_1a 1"
          ],
          [
           "13_1a",
           "3",
           "1441-1468",
           "13_1a 1"
          ],
          [
           "13_1a",
           "6",
           "2160-2178",
           "13_1a 1"
          ],
          [
           "13_1a",
           "1",
           "2465-2483",
           "13_1a 1"
          ],
          [
           "13_1a",
           "2",
           "7373-7389",
           "13_1a 1"
          ],
          [
           "13_1a",
           "1",
           "7389-7400",
           "13_1a 1"
          ],
          [
           "13_1a",
           "1",
           "10208-10224",
           "13_1a 2"
          ],
          [
           "13_1a",
           "1",
           "10224-10235",
           "13_1a 2"
          ],
          [
           "13_1a",
           "1",
           "11179-11206",
           "13_1a 2"
          ],
          [
           "13_1a",
           "3",
           "13698-13725",
           "13_1a 2"
          ],
          [
           "13_1a",
           "1",
           "14049-14121",
           "13_1a 2"
          ],
          [
           "13_1a",
           "1",
           "15512-15539",
           "13_1a 3"
          ],
          [
           "13_1a",
           "1",
           "16377-16404",
           "13_1a 3"
          ],
          [
           "13_1a",
           "2",
           "18194-18207",
           "13_1a 3"
          ],
          [
           "13_1a",
           "1",
           "18207-18220",
           "13_1a 3"
          ],
          [
           "13_1a",
           "1",
           "19476-19512",
           "13_1a 3"
          ],
          [
           "13_1a",
           "1",
           "36700-36720",
           "13_1a 6"
          ],
          [
           "13_1a",
           "3",
           "36720-36727",
           "13_1a 6"
          ],
          [
           "13_1a",
           "1",
           "37231-37249",
           "13_1a 6"
          ],
          [
           "13_1a",
           "1",
           "37708-37717",
           "13_1a 6"
          ],
          [
           "13_1a",
           "1",
           "38707-38725",
           "13_1a 6"
          ],
          [
           "13_1a",
           "7",
           "39549-39558",
           "13_1a 6"
          ],
          [
           "13_1a",
           "1",
           "42039-42057",
           "13_1a 6"
          ],
          [
           "13_1a",
           "1",
           "42057-42066",
           "13_1a 6"
          ],
          [
           "14_2a",
           "3",
           "8989-8998",
           "14_2a 1"
          ],
          [
           "14_2a",
           "1",
           "18563-18581",
           "14_2a 2"
          ],
          [
           "14_2a",
           "1",
           "23817-23844",
           "14_2a 3"
          ],
          [
           "14_2a",
           "2",
           "30156-30159",
           "14_2a 4"
          ],
          [
           "14_2a",
           "1",
           "30159-30195",
           "14_2a 4"
          ],
          [
           "14_2a",
           "1",
           "30195-30210",
           "14_2a 4"
          ],
          [
           "14_2a",
           "1",
           "32896-32913",
           "14_2a 4"
          ],
          [
           "14_2a",
           "3",
           "32913-32914",
           "14_2a 4"
          ],
          [
           "14_2a",
           "1",
           "44131-44149",
           "14_2a 5"
          ],
          [
           "14_2a",
           "1",
           "46302-46320",
           "14_2a 6"
          ],
          [
           "16_2b",
           "1",
           "10273-10307",
           "16_2b 1"
          ],
          [
           "17_1c",
           "1",
           "6650-6704",
           "17_1c 1"
          ],
          [
           "17_1c",
           "1",
           "8017-8044",
           "17_1c 1"
          ],
          [
           "17_1c",
           "2",
           "9323-9333",
           "17_1c 1"
          ],
          [
           "17_1c",
           "1",
           "9333-9341",
           "17_1c 1"
          ],
          [
           "17_1c",
           "1",
           "10753-10807",
           "17_1c 1"
          ],
          [
           "17_1c",
           "3",
           "13000-13005",
           "17_1c 2"
          ],
          [
           "17_1c",
           "3",
           "13005-13018",
           "17_1c 2"
          ],
          [
           "17_1c",
           "1",
           "13998-14025",
           "17_1c 2"
          ],
          [
           "17_1c",
           "3",
           "14781-14799",
           "17_1c 2"
          ],
          [
           "17_1c",
           "1",
           "15941-15977",
           "17_1c 2"
          ],
          [
           "17_1c",
           "1",
           "19448-19465",
           "17_1c 3"
          ],
          [
           "17_1c",
           "1",
           "20977-20986",
           "17_1c 3"
          ],
          [
           "17_1c",
           "1",
           "23218-23254",
           "17_1c 3"
          ],
          [
           "17_1c",
           "1",
           "24612-24648",
           "17_1c 3"
          ],
          [
           "17_1c",
           "1",
           "26348-26393",
           "17_1c 3"
          ],
          [
           "17_1c",
           "1",
           "28463-28467",
           "17_1c 3"
          ],
          [
           "17_1c",
           "1",
           "28467-28509",
           "17_1c 3"
          ],
          [
           "17_1c",
           "1",
           "29996-29997",
           "17_1c 4"
          ],
          [
           "17_1c",
           "1",
           "29997-30014",
           "17_1c 4"
          ],
          [
           "17_1c",
           "3",
           "31282-31300",
           "17_1c 4"
          ],
          [
           "17_1c",
           "1",
           "34923-34977",
           "17_1c 4"
          ],
          [
           "17_1c",
           "2",
           "36074-36119",
           "17_1c 4"
          ],
          [
           "17_1c",
           "1",
           "37572-37599",
           "17_1c 4"
          ],
          [
           "17_1c",
           "3",
           "50240-50256",
           "17_1c 6"
          ],
          [
           "17_1c",
           "3",
           "50256-50276",
           "17_1c 6"
          ],
          [
           "17_1c",
           "2",
           "50429-50438",
           "17_1c 6"
          ],
          [
           "17_1c",
           "1",
           "52048-52083",
           "17_1c 6"
          ],
          [
           "17_1c",
           "1",
           "52083-52129",
           "17_1c 6"
          ],
          [
           "17_1c",
           "1",
           "54213-54240",
           "17_1c 6"
          ],
          [
           "17_1c",
           "5",
           "56812-56829",
           "17_1c 6"
          ],
          [
           "18_2c",
           "1",
           "6549-6567",
           "18_2c 2"
          ],
          [
           "18_2c",
           "3",
           "15744-15753",
           "18_2c 3"
          ]
         ],
         "hoverlabel": {
          "namelength": 0
         },
         "hovertemplate": "lemma=pick<br>x=%{x}<br>y=%{y}<br>participant=%{customdata[0]}<br>top=%{customdata[1]}<br>step=%{customdata[2]}<br>pt=%{customdata[3]}",
         "legendgroup": "pick",
         "marker": {
          "color": "#DC587D",
          "symbol": "circle"
         },
         "mode": "markers",
         "name": "pick",
         "showlegend": true,
         "type": "scattergl",
         "x": [
          15.473512649536133,
          -20.297840118408203,
          -8.580035209655762,
          -5.73071813583374,
          35.057716369628906,
          32.51378631591797,
          14.95478630065918,
          23.163114547729492,
          23.83384895324707,
          10.668990135192871,
          1.8896243572235107,
          -5.730690956115723,
          33.64442443847656,
          32.51374053955078,
          0.2775232195854187,
          2.4825901985168457,
          -0.08166616410017014,
          -4.812076091766357,
          23.833850860595703,
          -24.189607620239258,
          12.042196273803711,
          13.172529220581055,
          18.92184066772461,
          -21.92144203186035,
          12.153454780578613,
          -8.344011306762695,
          1.0395762920379639,
          -10.664569854736328,
          -12.893915176391602,
          12.0442476272583,
          13.136514663696289,
          -20.297548294067383,
          -7.96928596496582,
          18.334775924682617,
          -15.431361198425293,
          35.704227447509766,
          19.99493980407715,
          1.2904670238494873,
          1.5393569469451904,
          -7.610556602478027,
          12.680201530456543,
          13.332578659057617,
          13.399601936340332,
          2.307752847671509,
          12.044970512390137,
          13.173556327819824,
          -25.135099411010742,
          18.227325439453125,
          -15.43129825592041,
          35.058048248291016,
          -0.30730512738227844,
          -23.528423309326172,
          -14.620408058166504,
          23.448650360107422,
          20.86760711669922,
          -35.565731048583984,
          -26.44332504272461,
          -7.610556602478027,
          -9.148749351501465,
          -0.026563087478280067,
          11.316843032836914,
          8.254853248596191,
          1.7749556303024292,
          -23.95329475402832,
          8.686524391174316,
          13.17408561706543,
          1.081822156906128,
          2.5665385723114014,
          17.14015769958496,
          -15.540148735046387,
          -35.18476104736328,
          -23.528369903564453,
          -14.360334396362305,
          17.295719146728516,
          18.921001434326172,
          -21.92133903503418,
          18.243289947509766,
          -12.441012382507324,
          -5.131872177124023,
          23.83384895324707,
          -35.739803314208984,
          -26.891233444213867,
          4.818665504455566,
          42.86778259277344,
          -1.2871030569076538,
          -8.82369613647461,
          -12.84691333770752,
          -2.087477445602417,
          16.977052688598633,
          17.14257049560547,
          12.678472518920898,
          13.255348205566406,
          1.6504595279693604,
          15.379286766052246,
          15.972562789916992,
          -23.19921112060547,
          5.016910552978516,
          41.7507209777832,
          -4.375909805297852,
          -11.162202835083008,
          -18.354894638061523,
          16.099807739257812,
          -25.908720016479492,
          -20.35921287536621,
          -19.78127098083496,
          43.0191764831543,
          14.858924865722656,
          13.399554252624512,
          1.885060429573059,
          5.171779632568359,
          43.17081832885742,
          4.825477123260498,
          42.7974967956543,
          -8.35493278503418,
          15.47237491607666,
          -20.39130973815918,
          -6.225334167480469,
          12.986218452453613,
          -35.96385955810547,
          -25.837520599365234,
          15.472143173217773,
          -20.296459197998047,
          -1.2878649234771729,
          -7.774207592010498,
          43.53057098388672,
          2.9923946857452393,
          -35.9741325378418,
          -26.842647552490234,
          4.834036350250244,
          43.8731575012207,
          -14.481152534484863,
          -0.0957193598151207,
          17.066823959350586,
          -15.431389808654785,
          35.059288024902344,
          -0.3999756872653961,
          1.7132140398025513,
          4.405768394470215,
          43.53057098388672,
          24.480575561523438,
          -0.6413872838020325,
          23.964027404785156,
          22.534883499145508,
          25.215232849121094,
          32.5139274597168,
          -8.882270812988281,
          -35.739803314208984,
          -24.737150192260742,
          -0.809273898601532,
          -0.8093462586402893,
          -1.0412402153015137,
          2.1727428436279297,
          4.256709575653076,
          -19.28740692138672,
          -19.287263870239258,
          -20.297826766967773,
          -1.3547006845474243,
          -8.80612564086914,
          11.103853225708008,
          -1.3547006845474243,
          4.3854522705078125,
          42.79750442504883,
          -0.5944717526435852,
          -1.0412803888320923,
          -2.5233922004699707,
          -35.23872756958008,
          2.9923946857452393,
          2.9923946857452393,
          2.9923946857452393,
          4.4873785972595215,
          42.790950775146484,
          0.6485469341278076,
          16.894607543945312,
          -14.912415504455566,
          1.458284616470337,
          1.458284616470337,
          1.458284616470337,
          1.6695517301559448,
          12.873485565185547,
          48.696434020996094,
          -8.326499938964844,
          1.458284616470337,
          1.458284616470337,
          5.25390625,
          46.626197814941406,
          48.696327209472656,
          17.878551483154297,
          -14.620408058166504,
          1.458284616470337,
          1.458284616470337,
          1.458284616470337,
          1.458284616470337,
          1.458284616470337,
          5.155427932739258,
          43.780094146728516,
          1.458284616470337,
          -35.9741325378418,
          -26.55853271484375,
          1.458284616470337,
          -9.084193229675293,
          1.458284616470337,
          1.458284616470337,
          1.458284616470337,
          1.458284616470337,
          1.458284616470337,
          1.458284616470337,
          12.87349796295166,
          48.69633102416992,
          1.1761009693145752,
          1.1617428064346313,
          -7.662135124206543,
          1.458284616470337,
          -23.968252182006836,
          1.458284616470337,
          -35.235416412353516,
          -25.852628707885742,
          -26.405439376831055,
          12.873493194580078,
          48.69633102416992,
          1.458284616470337,
          23.834980010986328,
          1.458284616470337,
          -8.460809707641602
         ],
         "xaxis": "x",
         "y": [
          11.802122116088867,
          -13.158763885498047,
          -14.88867473602295,
          -23.360118865966797,
          -15.733333587646484,
          -13.581748962402344,
          8.555817604064941,
          -5.037034511566162,
          -5.395705223083496,
          -12.537628173828125,
          -0.8051749467849731,
          -23.36012077331543,
          -14.526653289794922,
          -13.581282615661621,
          27.899219512939453,
          28.00922966003418,
          -2.08687686920166,
          -9.613991737365723,
          -5.395705223083496,
          9.493000984191895,
          2.2770698070526123,
          3.9879050254821777,
          9.784334182739258,
          15.098984718322754,
          1.3123670816421509,
          -14.829314231872559,
          27.8997859954834,
          -17.86778450012207,
          -19.29006004333496,
          2.275975227355957,
          4.059360504150391,
          -13.158308982849121,
          -16.287885665893555,
          -32.61376190185547,
          -44.34943389892578,
          -16.291118621826172,
          3.8676271438598633,
          27.307945251464844,
          28.1031551361084,
          -15.802461624145508,
          -12.098108291625977,
          -8.654793739318848,
          -8.205268859863281,
          -0.600044846534729,
          2.2763822078704834,
          3.986126184463501,
          10.296396255493164,
          -31.77605438232422,
          -44.34939956665039,
          -15.733220100402832,
          -13.593072891235352,
          -34.64411544799805,
          -41.17455291748047,
          -6.531136512756348,
          -8.777448654174805,
          -10.138314247131348,
          -23.146223068237305,
          -15.802461624145508,
          -15.886165618896484,
          29.717601776123047,
          1.6445322036743164,
          0.8868510723114014,
          -0.23148635029792786,
          8.861544609069824,
          -9.546133041381836,
          3.989168405532837,
          28.60996437072754,
          29.471071243286133,
          -32.86192321777344,
          -40.78854751586914,
          -11.257476806640625,
          -34.64363098144531,
          -40.92722702026367,
          8.276140213012695,
          9.782215118408203,
          15.09908676147461,
          -31.793750762939453,
          -41.59055709838867,
          -18.070262908935547,
          -5.395705223083496,
          -11.193161010742188,
          -23.94512367248535,
          -46.29037857055664,
          11.93871784210205,
          2.042200803756714,
          6.2449951171875,
          -38.262874603271484,
          -14.469022750854492,
          -32.73125076293945,
          8.505685806274414,
          -12.096369743347168,
          -9.081226348876953,
          28.017627716064453,
          -3.5773677825927734,
          -1.4122943878173828,
          8.584512710571289,
          -45.3965950012207,
          12.266368865966797,
          26.458885192871094,
          -14.446517944335938,
          -13.402400016784668,
          0.012226715683937073,
          5.049652099609375,
          0.9699015617370605,
          0.11249581724405289,
          11.210025787353516,
          -4.945300102233887,
          -8.20383358001709,
          28.451635360717773,
          -45.52939987182617,
          12.15567398071289,
          -45.33076858520508,
          11.751812934875488,
          -15.672754287719727,
          11.795348167419434,
          -12.704174041748047,
          -10.815946578979492,
          8.824678421020508,
          -10.889854431152344,
          -23.662155151367188,
          11.79831600189209,
          -13.160136222839355,
          2.0409488677978516,
          6.79323673248291,
          11.280357360839844,
          26.013689041137695,
          -10.599900245666504,
          -23.511011123657227,
          -46.3150520324707,
          9.185622215270996,
          -40.07168197631836,
          28.337942123413086,
          -31.74050521850586,
          -44.34944534301758,
          -15.733084678649902,
          28.896474838256836,
          27.541893005371094,
          -45.54469299316406,
          11.280357360839844,
          -5.117593288421631,
          21.034181594848633,
          -3.885017156600952,
          -1.8614517450332642,
          -6.046245574951172,
          -13.581229209899902,
          -16.239593505859375,
          -11.193161010742188,
          -25.016584396362305,
          21.065908432006836,
          21.06639289855957,
          21.106246948242188,
          23.18346405029297,
          21.46717071533203,
          -13.294439315795898,
          -13.294258117675781,
          -13.15891170501709,
          26.74750518798828,
          -14.94987678527832,
          -12.745369911193848,
          26.74750518798828,
          -45.57065963745117,
          11.75184154510498,
          23.28763771057129,
          21.108768463134766,
          29.6025390625,
          -11.2749605178833,
          26.013689041137695,
          26.013689041137695,
          26.013689041137695,
          -46.197059631347656,
          11.46109390258789,
          29.01492691040039,
          -32.59918975830078,
          -40.57275390625,
          31.45989227294922,
          31.45989227294922,
          31.45989227294922,
          -0.40058282017707825,
          36.67354965209961,
          17.502758026123047,
          -16.43707275390625,
          31.45989227294922,
          31.45989227294922,
          -45.96196365356445,
          15.22339153289795,
          17.50270652770996,
          -31.55692481994629,
          -41.17455291748047,
          31.45989227294922,
          31.45989227294922,
          31.45989227294922,
          31.45989227294922,
          31.45989227294922,
          -46.151023864746094,
          11.601972579956055,
          31.45989227294922,
          -10.599900245666504,
          -24.21434211730957,
          31.45989227294922,
          -16.011377334594727,
          31.45989227294922,
          31.45989227294922,
          31.45989227294922,
          31.45989227294922,
          31.45989227294922,
          31.45989227294922,
          36.67198181152344,
          17.50270652770996,
          34.58049392700195,
          34.8955078125,
          -15.350000381469727,
          31.45989227294922,
          7.388873100280762,
          31.45989227294922,
          -10.139566421508789,
          -23.626338958740234,
          11.090082168579102,
          36.671878814697266,
          17.50270652770996,
          31.45989227294922,
          -5.396539211273193,
          31.45989227294922,
          -16.417587280273438
         ],
         "yaxis": "y"
        },
        {
         "customdata": [
          [
           "1_1a",
           "3",
           "41379-41382",
           "1_1a 4"
          ],
          [
           "1_1a",
           "3",
           "41382-41391",
           "1_1a 4"
          ],
          [
           "1_1a",
           "3",
           "41391-41400",
           "1_1a 4"
          ],
          [
           "1_1a",
           "3",
           "41400-41409",
           "1_1a 4"
          ],
          [
           "1_1a",
           "3",
           "41409-41414",
           "1_1a 4"
          ],
          [
           "9_1b",
           "1",
           "28342-28351",
           "9_1b 4"
          ],
          [
           "17_1c",
           "8",
           "41671-41679",
           "17_1c 5"
          ],
          [
           "17_1c",
           "3",
           "41679-41697",
           "17_1c 5"
          ],
          [
           "17_1c",
           "3",
           "41697-41707",
           "17_1c 5"
          ]
         ],
         "hoverlabel": {
          "namelength": 0
         },
         "hovertemplate": "lemma=open<br>x=%{x}<br>y=%{y}<br>participant=%{customdata[0]}<br>top=%{customdata[1]}<br>step=%{customdata[2]}<br>pt=%{customdata[3]}",
         "legendgroup": "open",
         "marker": {
          "color": "#D626FF",
          "symbol": "circle"
         },
         "mode": "markers",
         "name": "open",
         "showlegend": true,
         "type": "scattergl",
         "x": [
          -5.730722427368164,
          33.644412994384766,
          33.644405364990234,
          33.64441680908203,
          32.51374435424805,
          -1.3547006845474243,
          15.472795486450195,
          -21.316926956176758,
          -26.842647552490234
         ],
         "xaxis": "x",
         "y": [
          -23.36011505126953,
          -14.526857376098633,
          -14.526650428771973,
          -14.526738166809082,
          -13.581384658813477,
          26.74750518798828,
          11.803401947021484,
          -13.59097957611084,
          -23.511011123657227
         ],
         "yaxis": "y"
        },
        {
         "customdata": [
          [
           "1_1a",
           "7",
           "51307-51343",
           "1_1a 5"
          ],
          [
           "2_2a",
           "3",
           "11928-11934",
           "2_2a 2"
          ],
          [
           "2_2a",
           "3",
           "11934-11937",
           "2_2a 2"
          ],
          [
           "7_1a",
           "2",
           "41991-41994",
           "7_1a 3"
          ],
          [
           "7_1a",
           "1",
           "41994-42036",
           "7_1a 3"
          ],
          [
           "7_1a",
           "3",
           "47473-47500",
           "7_1a 4"
          ],
          [
           "8_2a",
           "6",
           "26945-26963",
           "8_2a 4"
          ],
          [
           "9_1b",
           "1",
           "5789-5898",
           "9_1b 1"
          ],
          [
           "9_1b",
           "2",
           "8157-8202",
           "9_1b 1"
          ],
          [
           "10_2b",
           "1",
           "51825-51852",
           "10_2b 4"
          ],
          [
           "11_1c",
           "1",
           "18689-18715",
           "11_1c 1"
          ],
          [
           "11_1c",
           "3",
           "20441-20448",
           "11_1c 1"
          ],
          [
           "11_1c",
           "3",
           "20448-20459",
           "11_1c 1"
          ],
          [
           "11_1c",
           "6",
           "24608-24633",
           "11_1c 2"
          ],
          [
           "11_1c",
           "7",
           "24633-24653",
           "11_1c 2"
          ],
          [
           "12_2c",
           "3",
           "31203-31230",
           "12_2c 2"
          ],
          [
           "17_1c",
           "1",
           "9809-9854",
           "17_1c 1"
          ],
          [
           "17_1c",
           "1",
           "13863-13890",
           "17_1c 2"
          ],
          [
           "17_1c",
           "3",
           "21724-21726",
           "17_1c 3"
          ],
          [
           "17_1c",
           "3",
           "21726-21744",
           "17_1c 3"
          ],
          [
           "17_1c",
           "3",
           "21744-21762",
           "17_1c 3"
          ],
          [
           "17_1c",
           "3",
           "21762-21771",
           "17_1c 3"
          ],
          [
           "17_1c",
           "5",
           "21771-21788",
           "17_1c 3"
          ],
          [
           "17_1c",
           "1",
           "45162-45189",
           "17_1c 5"
          ],
          [
           "18_2c",
           "9",
           "24347-24354",
           "18_2c 4"
          ],
          [
           "18_2c",
           "8",
           "24354-24361",
           "18_2c 4"
          ]
         ],
         "hoverlabel": {
          "namelength": 0
         },
         "hovertemplate": "lemma=drop<br>x=%{x}<br>y=%{y}<br>participant=%{customdata[0]}<br>top=%{customdata[1]}<br>step=%{customdata[2]}<br>pt=%{customdata[3]}",
         "legendgroup": "drop",
         "marker": {
          "color": "#6E899C",
          "symbol": "circle"
         },
         "mode": "markers",
         "name": "drop",
         "showlegend": true,
         "type": "scattergl",
         "x": [
          2.2491321563720703,
          -35.768333435058594,
          -25.98480796813965,
          4.324803829193115,
          43.239295959472656,
          -9.121027946472168,
          10.883124351501465,
          2.723421573638916,
          -23.60157585144043,
          -0.2892158627510071,
          1.596144437789917,
          -5.730690956115723,
          35.058284759521484,
          12.102214813232422,
          3.9037187099456787,
          -26.84855842590332,
          1.458284616470337,
          1.458284616470337,
          -5.729022979736328,
          33.64445495605469,
          33.644447326660156,
          34.75726318359375,
          18.82192039489746,
          1.458284616470337,
          15.38078498840332,
          15.959301948547363
         ],
         "xaxis": "x",
         "y": [
          -0.7086133360862732,
          -10.270934104919434,
          -24.06904411315918,
          -45.971702575683594,
          12.170559883117676,
          -15.365958213806152,
          -13.035653114318848,
          28.192487716674805,
          10.684930801391602,
          28.93692970275879,
          29.310115814208984,
          -23.36012077331543,
          -15.733640670776367,
          -14.093687057495117,
          -4.091381072998047,
          -23.536916732788086,
          31.45989227294922,
          31.45989227294922,
          -23.363637924194336,
          -14.526739120483398,
          -14.526890754699707,
          -16.733844757080078,
          -5.7115373611450195,
          31.45989227294922,
          -3.57745099067688,
          -1.4361764192581177
         ],
         "yaxis": "y"
        },
        {
         "customdata": [
          [
           "1_1a",
           "2",
           "56727-56745",
           "1_1a 6"
          ],
          [
           "4_2b",
           "2",
           "15921-15927",
           "4_2b 2"
          ],
          [
           "6_2c",
           "3",
           "4905-4914",
           "6_2c 1"
          ],
          [
           "6_2c",
           "3",
           "4914-4927",
           "6_2c 1"
          ],
          [
           "6_2c",
           "7",
           "5505-5535",
           "6_2c 1"
          ],
          [
           "6_2c",
           "8",
           "9616-9641",
           "6_2c 1"
          ],
          [
           "6_2c",
           "2",
           "12814-12832",
           "6_2c 2"
          ],
          [
           "6_2c",
           "1",
           "19109-19143",
           "6_2c 3"
          ],
          [
           "6_2c",
           "3",
           "19143-19152",
           "6_2c 3"
          ],
          [
           "6_2c",
           "3",
           "19152-19153",
           "6_2c 3"
          ],
          [
           "6_2c",
           "1",
           "20458-20475",
           "6_2c 3"
          ],
          [
           "6_2c",
           "3",
           "20475-20476",
           "6_2c 3"
          ],
          [
           "6_2c",
           "1",
           "22092-22110",
           "6_2c 3"
          ],
          [
           "6_2c",
           "3",
           "24167-24181",
           "6_2c 3"
          ],
          [
           "6_2c",
           "1",
           "24903-24912",
           "6_2c 3"
          ],
          [
           "6_2c",
           "3",
           "24912-24918",
           "6_2c 3"
          ],
          [
           "6_2c",
           "8",
           "26126-26160",
           "6_2c 4"
          ],
          [
           "6_2c",
           "1",
           "29687-29714",
           "6_2c 4"
          ],
          [
           "6_2c",
           "6",
           "40054-40068",
           "6_2c 6"
          ],
          [
           "6_2c",
           "3",
           "40068-40072",
           "6_2c 6"
          ],
          [
           "6_2c",
           "4",
           "41467-41472",
           "6_2c 6"
          ],
          [
           "6_2c",
           "8",
           "41472-41517",
           "6_2c 6"
          ],
          [
           "6_2c",
           "5",
           "41517-41526",
           "6_2c 6"
          ],
          [
           "6_2c",
           "3",
           "41526-41562",
           "6_2c 6"
          ],
          [
           "6_2c",
           "3",
           "41562-41589",
           "6_2c 6"
          ],
          [
           "6_2c",
           "2",
           "41589-41597",
           "6_2c 6"
          ],
          [
           "6_2c",
           "2",
           "42167-42192",
           "6_2c 6"
          ],
          [
           "6_2c",
           "2",
           "42192-42203",
           "6_2c 6"
          ],
          [
           "6_2c",
           "3",
           "43511-43515",
           "6_2c 6"
          ],
          [
           "6_2c",
           "3",
           "43515-43574",
           "6_2c 6"
          ],
          [
           "13_1a",
           "1",
           "6178-6192",
           "13_1a 1"
          ],
          [
           "13_1a",
           "3",
           "6192-6205",
           "13_1a 1"
          ]
         ],
         "hoverlabel": {
          "namelength": 0
         },
         "hovertemplate": "lemma=walk<br>x=%{x}<br>y=%{y}<br>participant=%{customdata[0]}<br>top=%{customdata[1]}<br>step=%{customdata[2]}<br>pt=%{customdata[3]}",
         "legendgroup": "walk",
         "marker": {
          "color": "#00B5F7",
          "symbol": "circle"
         },
         "mode": "markers",
         "name": "walk",
         "showlegend": true,
         "type": "scattergl",
         "x": [
          -22.538467407226562,
          -24.163972854614258,
          -16.033096313476562,
          -12.893926620483398,
          2.6625378131866455,
          17.263656616210938,
          -23.101322174072266,
          16.821847915649414,
          -16.60661506652832,
          -11.373144149780273,
          18.348995208740234,
          -15.30749797821045,
          1.4647499322891235,
          -8.300960540771484,
          16.86172866821289,
          -15.012526512145996,
          16.61036491394043,
          1.928556203842163,
          10.695996284484863,
          -0.4115417003631592,
          12.047696113586426,
          13.179616928100586,
          20.091205596923828,
          32.57343673706055,
          -11.348350524902344,
          -11.354137420654297,
          -18.03745460510254,
          -11.354599952697754,
          -35.39884948730469,
          -25.948810577392578,
          17.36870002746582,
          -15.557501792907715
         ],
         "xaxis": "x",
         "y": [
          9.528549194335938,
          10.710956573486328,
          -38.15204620361328,
          -19.290117263793945,
          -2.2389726638793945,
          8.370701789855957,
          7.905818939208984,
          -32.106807708740234,
          -39.83601379394531,
          -10.16378402709961,
          -32.57843780517578,
          -41.063209533691406,
          29.151655197143555,
          -15.301849365234375,
          -32.45613479614258,
          -39.93806457519531,
          8.161603927612305,
          29.338518142700195,
          -14.452371597290039,
          -13.641365051269531,
          2.276789903640747,
          4.029575347900391,
          3.8719992637634277,
          -13.395257949829102,
          -10.162750244140625,
          6.907012462615967,
          7.9252495765686035,
          6.9072418212890625,
          -10.703596115112305,
          -23.324731826782227,
          -32.431495666503906,
          -40.49326705932617
         ],
         "yaxis": "y"
        },
        {
         "customdata": [
          [
           "4_2b",
           "1",
           "43905-43911",
           "4_2b 5"
          ],
          [
           "4_2b",
           "3",
           "43911-43967",
           "4_2b 5"
          ],
          [
           "4_2b",
           "3",
           "47021-47039",
           "4_2b 5"
          ],
          [
           "4_2b",
           "3",
           "47524-47529",
           "4_2b 5"
          ],
          [
           "4_2b",
           "3",
           "47529-47533",
           "4_2b 5"
          ],
          [
           "4_2b",
           "1",
           "47747-47783",
           "4_2b 5"
          ],
          [
           "4_2b",
           "9",
           "47966-47979",
           "4_2b 5"
          ],
          [
           "4_2b",
           "5",
           "47979-47985",
           "4_2b 5"
          ],
          [
           "6_2c",
           "3",
           "28287-28305",
           "6_2c 4"
          ],
          [
           "6_2c",
           "3",
           "28305-28331",
           "6_2c 4"
          ],
          [
           "7_1a",
           "2",
           "61841-61922",
           "7_1a 5"
          ],
          [
           "8_2a",
           "1",
           "9780-9798",
           "8_2a 1"
          ],
          [
           "11_1c",
           "1",
           "20288-20295",
           "11_1c 1"
          ],
          [
           "11_1c",
           "3",
           "20295-20313",
           "11_1c 1"
          ],
          [
           "11_1c",
           "3",
           "20313-20331",
           "11_1c 1"
          ],
          [
           "11_1c",
           "5",
           "20331-20340",
           "11_1c 1"
          ],
          [
           "11_1c",
           "2",
           "20340-20358",
           "11_1c 1"
          ],
          [
           "11_1c",
           "1",
           "20358-20369",
           "11_1c 1"
          ],
          [
           "13_1a",
           "4",
           "34189-34200",
           "13_1a 5"
          ],
          [
           "13_1a",
           "5",
           "34200-34216",
           "13_1a 5"
          ],
          [
           "14_2a",
           "3",
           "21860-21870",
           "14_2a 2"
          ],
          [
           "14_2a",
           "3",
           "21870-21887",
           "14_2a 2"
          ],
          [
           "14_2a",
           "3",
           "42427-42444",
           "14_2a 5"
          ],
          [
           "14_2a",
           "3",
           "42444-42463",
           "14_2a 5"
          ],
          [
           "17_1c",
           "2",
           "7001-7046",
           "17_1c 1"
          ],
          [
           "17_1c",
           "1",
           "13638-13743",
           "17_1c 2"
          ],
          [
           "17_1c",
           "3",
           "13743-13761",
           "17_1c 2"
          ],
          [
           "17_1c",
           "3",
           "13761-13782",
           "17_1c 2"
          ],
          [
           "17_1c",
           "1",
           "13953-13971",
           "17_1c 2"
          ],
          [
           "17_1c",
           "1",
           "19303-19357",
           "17_1c 3"
          ],
          [
           "17_1c",
           "8",
           "40852-40870",
           "17_1c 5"
          ],
          [
           "17_1c",
           "2",
           "43718-43722",
           "17_1c 5"
          ],
          [
           "17_1c",
           "2",
           "43722-43749",
           "17_1c 5"
          ],
          [
           "17_1c",
           "2",
           "43749-43767",
           "17_1c 5"
          ],
          [
           "17_1c",
           "1",
           "43767-43803",
           "17_1c 5"
          ],
          [
           "17_1c",
           "3",
           "43803-43826",
           "17_1c 5"
          ],
          [
           "17_1c",
           "3",
           "48238-48283",
           "17_1c 5"
          ],
          [
           "18_2c",
           "1",
           "6953-6971",
           "18_2c 2"
          ],
          [
           "18_2c",
           "8",
           "36535-36562",
           "18_2c 5"
          ]
         ],
         "hoverlabel": {
          "namelength": 0
         },
         "hovertemplate": "lemma=hold<br>x=%{x}<br>y=%{y}<br>participant=%{customdata[0]}<br>top=%{customdata[1]}<br>step=%{customdata[2]}<br>pt=%{customdata[3]}",
         "legendgroup": "hold",
         "marker": {
          "color": "#B68E00",
          "symbol": "circle"
         },
         "mode": "markers",
         "name": "hold",
         "showlegend": true,
         "type": "scattergl",
         "x": [
          18.234634399414062,
          -15.479447364807129,
          -8.431666374206543,
          -5.730721950531006,
          35.05860900878906,
          0.7228723168373108,
          15.7764892578125,
          17.682485580444336,
          -34.942691802978516,
          -26.584178924560547,
          -22.885093688964844,
          -0.21179763972759247,
          17.443342208862305,
          -15.431313514709473,
          36.016963958740234,
          4.024707317352295,
          -7.774207592010498,
          43.021366119384766,
          12.15522289276123,
          21.579011917114258,
          -35.068016052246094,
          -26.584224700927734,
          -35.970848083496094,
          -26.283782958984375,
          -25.61127471923828,
          18.407882690429688,
          -23.528305053710938,
          -26.651573181152344,
          1.458284616470337,
          1.458284616470337,
          17.06951141357422,
          -18.037500381469727,
          -10.192861557006836,
          -7.774638652801514,
          43.87317657470703,
          -14.356833457946777,
          -7.6021223068237305,
          1.458284616470337,
          17.320737838745117
         ],
         "xaxis": "x",
         "y": [
          -31.788867950439453,
          -40.2931022644043,
          -14.828901290893555,
          -23.36011505126953,
          -15.73285961151123,
          27.40390396118164,
          -4.75072717666626,
          -5.347114086151123,
          -11.095319747924805,
          -23.1820068359375,
          8.62248706817627,
          29.73317527770996,
          -33.06403350830078,
          -44.349403381347656,
          -15.305322647094727,
          3.11171293258667,
          6.79323673248291,
          12.09438419342041,
          1.312662124633789,
          -1.164270043373108,
          -10.255563735961914,
          -23.182016372680664,
          -10.857138633728027,
          -24.207096099853516,
          9.714916229248047,
          -32.44878005981445,
          -34.644046783447266,
          -24.050308227539062,
          31.45989227294922,
          31.45989227294922,
          7.869021415710449,
          7.92525053024292,
          6.641368389129639,
          6.7935638427734375,
          9.185487747192383,
          -40.25350570678711,
          -15.77253532409668,
          31.45989227294922,
          8.246688842773438
         ],
         "yaxis": "y"
        }
       ],
       "layout": {
        "legend": {
         "title": {
          "text": "lemma"
         },
         "tracegroupgap": 0
        },
        "margin": {
         "t": 60
        },
        "template": {
         "data": {
          "bar": [
           {
            "error_x": {
             "color": "#2a3f5f"
            },
            "error_y": {
             "color": "#2a3f5f"
            },
            "marker": {
             "line": {
              "color": "#E5ECF6",
              "width": 0.5
             }
            },
            "type": "bar"
           }
          ],
          "barpolar": [
           {
            "marker": {
             "line": {
              "color": "#E5ECF6",
              "width": 0.5
             }
            },
            "type": "barpolar"
           }
          ],
          "carpet": [
           {
            "aaxis": {
             "endlinecolor": "#2a3f5f",
             "gridcolor": "white",
             "linecolor": "white",
             "minorgridcolor": "white",
             "startlinecolor": "#2a3f5f"
            },
            "baxis": {
             "endlinecolor": "#2a3f5f",
             "gridcolor": "white",
             "linecolor": "white",
             "minorgridcolor": "white",
             "startlinecolor": "#2a3f5f"
            },
            "type": "carpet"
           }
          ],
          "choropleth": [
           {
            "colorbar": {
             "outlinewidth": 0,
             "ticks": ""
            },
            "type": "choropleth"
           }
          ],
          "contour": [
           {
            "colorbar": {
             "outlinewidth": 0,
             "ticks": ""
            },
            "colorscale": [
             [
              0,
              "#0d0887"
             ],
             [
              0.1111111111111111,
              "#46039f"
             ],
             [
              0.2222222222222222,
              "#7201a8"
             ],
             [
              0.3333333333333333,
              "#9c179e"
             ],
             [
              0.4444444444444444,
              "#bd3786"
             ],
             [
              0.5555555555555556,
              "#d8576b"
             ],
             [
              0.6666666666666666,
              "#ed7953"
             ],
             [
              0.7777777777777778,
              "#fb9f3a"
             ],
             [
              0.8888888888888888,
              "#fdca26"
             ],
             [
              1,
              "#f0f921"
             ]
            ],
            "type": "contour"
           }
          ],
          "contourcarpet": [
           {
            "colorbar": {
             "outlinewidth": 0,
             "ticks": ""
            },
            "type": "contourcarpet"
           }
          ],
          "heatmap": [
           {
            "colorbar": {
             "outlinewidth": 0,
             "ticks": ""
            },
            "colorscale": [
             [
              0,
              "#0d0887"
             ],
             [
              0.1111111111111111,
              "#46039f"
             ],
             [
              0.2222222222222222,
              "#7201a8"
             ],
             [
              0.3333333333333333,
              "#9c179e"
             ],
             [
              0.4444444444444444,
              "#bd3786"
             ],
             [
              0.5555555555555556,
              "#d8576b"
             ],
             [
              0.6666666666666666,
              "#ed7953"
             ],
             [
              0.7777777777777778,
              "#fb9f3a"
             ],
             [
              0.8888888888888888,
              "#fdca26"
             ],
             [
              1,
              "#f0f921"
             ]
            ],
            "type": "heatmap"
           }
          ],
          "heatmapgl": [
           {
            "colorbar": {
             "outlinewidth": 0,
             "ticks": ""
            },
            "colorscale": [
             [
              0,
              "#0d0887"
             ],
             [
              0.1111111111111111,
              "#46039f"
             ],
             [
              0.2222222222222222,
              "#7201a8"
             ],
             [
              0.3333333333333333,
              "#9c179e"
             ],
             [
              0.4444444444444444,
              "#bd3786"
             ],
             [
              0.5555555555555556,
              "#d8576b"
             ],
             [
              0.6666666666666666,
              "#ed7953"
             ],
             [
              0.7777777777777778,
              "#fb9f3a"
             ],
             [
              0.8888888888888888,
              "#fdca26"
             ],
             [
              1,
              "#f0f921"
             ]
            ],
            "type": "heatmapgl"
           }
          ],
          "histogram": [
           {
            "marker": {
             "colorbar": {
              "outlinewidth": 0,
              "ticks": ""
             }
            },
            "type": "histogram"
           }
          ],
          "histogram2d": [
           {
            "colorbar": {
             "outlinewidth": 0,
             "ticks": ""
            },
            "colorscale": [
             [
              0,
              "#0d0887"
             ],
             [
              0.1111111111111111,
              "#46039f"
             ],
             [
              0.2222222222222222,
              "#7201a8"
             ],
             [
              0.3333333333333333,
              "#9c179e"
             ],
             [
              0.4444444444444444,
              "#bd3786"
             ],
             [
              0.5555555555555556,
              "#d8576b"
             ],
             [
              0.6666666666666666,
              "#ed7953"
             ],
             [
              0.7777777777777778,
              "#fb9f3a"
             ],
             [
              0.8888888888888888,
              "#fdca26"
             ],
             [
              1,
              "#f0f921"
             ]
            ],
            "type": "histogram2d"
           }
          ],
          "histogram2dcontour": [
           {
            "colorbar": {
             "outlinewidth": 0,
             "ticks": ""
            },
            "colorscale": [
             [
              0,
              "#0d0887"
             ],
             [
              0.1111111111111111,
              "#46039f"
             ],
             [
              0.2222222222222222,
              "#7201a8"
             ],
             [
              0.3333333333333333,
              "#9c179e"
             ],
             [
              0.4444444444444444,
              "#bd3786"
             ],
             [
              0.5555555555555556,
              "#d8576b"
             ],
             [
              0.6666666666666666,
              "#ed7953"
             ],
             [
              0.7777777777777778,
              "#fb9f3a"
             ],
             [
              0.8888888888888888,
              "#fdca26"
             ],
             [
              1,
              "#f0f921"
             ]
            ],
            "type": "histogram2dcontour"
           }
          ],
          "mesh3d": [
           {
            "colorbar": {
             "outlinewidth": 0,
             "ticks": ""
            },
            "type": "mesh3d"
           }
          ],
          "parcoords": [
           {
            "line": {
             "colorbar": {
              "outlinewidth": 0,
              "ticks": ""
             }
            },
            "type": "parcoords"
           }
          ],
          "pie": [
           {
            "automargin": true,
            "type": "pie"
           }
          ],
          "scatter": [
           {
            "marker": {
             "colorbar": {
              "outlinewidth": 0,
              "ticks": ""
             }
            },
            "type": "scatter"
           }
          ],
          "scatter3d": [
           {
            "line": {
             "colorbar": {
              "outlinewidth": 0,
              "ticks": ""
             }
            },
            "marker": {
             "colorbar": {
              "outlinewidth": 0,
              "ticks": ""
             }
            },
            "type": "scatter3d"
           }
          ],
          "scattercarpet": [
           {
            "marker": {
             "colorbar": {
              "outlinewidth": 0,
              "ticks": ""
             }
            },
            "type": "scattercarpet"
           }
          ],
          "scattergeo": [
           {
            "marker": {
             "colorbar": {
              "outlinewidth": 0,
              "ticks": ""
             }
            },
            "type": "scattergeo"
           }
          ],
          "scattergl": [
           {
            "marker": {
             "colorbar": {
              "outlinewidth": 0,
              "ticks": ""
             }
            },
            "type": "scattergl"
           }
          ],
          "scattermapbox": [
           {
            "marker": {
             "colorbar": {
              "outlinewidth": 0,
              "ticks": ""
             }
            },
            "type": "scattermapbox"
           }
          ],
          "scatterpolar": [
           {
            "marker": {
             "colorbar": {
              "outlinewidth": 0,
              "ticks": ""
             }
            },
            "type": "scatterpolar"
           }
          ],
          "scatterpolargl": [
           {
            "marker": {
             "colorbar": {
              "outlinewidth": 0,
              "ticks": ""
             }
            },
            "type": "scatterpolargl"
           }
          ],
          "scatterternary": [
           {
            "marker": {
             "colorbar": {
              "outlinewidth": 0,
              "ticks": ""
             }
            },
            "type": "scatterternary"
           }
          ],
          "surface": [
           {
            "colorbar": {
             "outlinewidth": 0,
             "ticks": ""
            },
            "colorscale": [
             [
              0,
              "#0d0887"
             ],
             [
              0.1111111111111111,
              "#46039f"
             ],
             [
              0.2222222222222222,
              "#7201a8"
             ],
             [
              0.3333333333333333,
              "#9c179e"
             ],
             [
              0.4444444444444444,
              "#bd3786"
             ],
             [
              0.5555555555555556,
              "#d8576b"
             ],
             [
              0.6666666666666666,
              "#ed7953"
             ],
             [
              0.7777777777777778,
              "#fb9f3a"
             ],
             [
              0.8888888888888888,
              "#fdca26"
             ],
             [
              1,
              "#f0f921"
             ]
            ],
            "type": "surface"
           }
          ],
          "table": [
           {
            "cells": {
             "fill": {
              "color": "#EBF0F8"
             },
             "line": {
              "color": "white"
             }
            },
            "header": {
             "fill": {
              "color": "#C8D4E3"
             },
             "line": {
              "color": "white"
             }
            },
            "type": "table"
           }
          ]
         },
         "layout": {
          "annotationdefaults": {
           "arrowcolor": "#2a3f5f",
           "arrowhead": 0,
           "arrowwidth": 1
          },
          "coloraxis": {
           "colorbar": {
            "outlinewidth": 0,
            "ticks": ""
           }
          },
          "colorscale": {
           "diverging": [
            [
             0,
             "#8e0152"
            ],
            [
             0.1,
             "#c51b7d"
            ],
            [
             0.2,
             "#de77ae"
            ],
            [
             0.3,
             "#f1b6da"
            ],
            [
             0.4,
             "#fde0ef"
            ],
            [
             0.5,
             "#f7f7f7"
            ],
            [
             0.6,
             "#e6f5d0"
            ],
            [
             0.7,
             "#b8e186"
            ],
            [
             0.8,
             "#7fbc41"
            ],
            [
             0.9,
             "#4d9221"
            ],
            [
             1,
             "#276419"
            ]
           ],
           "sequential": [
            [
             0,
             "#0d0887"
            ],
            [
             0.1111111111111111,
             "#46039f"
            ],
            [
             0.2222222222222222,
             "#7201a8"
            ],
            [
             0.3333333333333333,
             "#9c179e"
            ],
            [
             0.4444444444444444,
             "#bd3786"
            ],
            [
             0.5555555555555556,
             "#d8576b"
            ],
            [
             0.6666666666666666,
             "#ed7953"
            ],
            [
             0.7777777777777778,
             "#fb9f3a"
            ],
            [
             0.8888888888888888,
             "#fdca26"
            ],
            [
             1,
             "#f0f921"
            ]
           ],
           "sequentialminus": [
            [
             0,
             "#0d0887"
            ],
            [
             0.1111111111111111,
             "#46039f"
            ],
            [
             0.2222222222222222,
             "#7201a8"
            ],
            [
             0.3333333333333333,
             "#9c179e"
            ],
            [
             0.4444444444444444,
             "#bd3786"
            ],
            [
             0.5555555555555556,
             "#d8576b"
            ],
            [
             0.6666666666666666,
             "#ed7953"
            ],
            [
             0.7777777777777778,
             "#fb9f3a"
            ],
            [
             0.8888888888888888,
             "#fdca26"
            ],
            [
             1,
             "#f0f921"
            ]
           ]
          },
          "colorway": [
           "#636efa",
           "#EF553B",
           "#00cc96",
           "#ab63fa",
           "#FFA15A",
           "#19d3f3",
           "#FF6692",
           "#B6E880",
           "#FF97FF",
           "#FECB52"
          ],
          "font": {
           "color": "#2a3f5f"
          },
          "geo": {
           "bgcolor": "white",
           "lakecolor": "white",
           "landcolor": "#E5ECF6",
           "showlakes": true,
           "showland": true,
           "subunitcolor": "white"
          },
          "hoverlabel": {
           "align": "left"
          },
          "hovermode": "closest",
          "mapbox": {
           "style": "light"
          },
          "paper_bgcolor": "white",
          "plot_bgcolor": "#E5ECF6",
          "polar": {
           "angularaxis": {
            "gridcolor": "white",
            "linecolor": "white",
            "ticks": ""
           },
           "bgcolor": "#E5ECF6",
           "radialaxis": {
            "gridcolor": "white",
            "linecolor": "white",
            "ticks": ""
           }
          },
          "scene": {
           "xaxis": {
            "backgroundcolor": "#E5ECF6",
            "gridcolor": "white",
            "gridwidth": 2,
            "linecolor": "white",
            "showbackground": true,
            "ticks": "",
            "zerolinecolor": "white"
           },
           "yaxis": {
            "backgroundcolor": "#E5ECF6",
            "gridcolor": "white",
            "gridwidth": 2,
            "linecolor": "white",
            "showbackground": true,
            "ticks": "",
            "zerolinecolor": "white"
           },
           "zaxis": {
            "backgroundcolor": "#E5ECF6",
            "gridcolor": "white",
            "gridwidth": 2,
            "linecolor": "white",
            "showbackground": true,
            "ticks": "",
            "zerolinecolor": "white"
           }
          },
          "shapedefaults": {
           "line": {
            "color": "#2a3f5f"
           }
          },
          "ternary": {
           "aaxis": {
            "gridcolor": "white",
            "linecolor": "white",
            "ticks": ""
           },
           "baxis": {
            "gridcolor": "white",
            "linecolor": "white",
            "ticks": ""
           },
           "bgcolor": "#E5ECF6",
           "caxis": {
            "gridcolor": "white",
            "linecolor": "white",
            "ticks": ""
           }
          },
          "title": {
           "x": 0.05
          },
          "xaxis": {
           "automargin": true,
           "gridcolor": "white",
           "linecolor": "white",
           "ticks": "",
           "title": {
            "standoff": 15
           },
           "zerolinecolor": "white",
           "zerolinewidth": 2
          },
          "yaxis": {
           "automargin": true,
           "gridcolor": "white",
           "linecolor": "white",
           "ticks": "",
           "title": {
            "standoff": 15
           },
           "zerolinecolor": "white",
           "zerolinewidth": 2
          }
         }
        },
        "xaxis": {
         "anchor": "y",
         "domain": [
          0,
          1
         ],
         "title": {
          "text": "x"
         }
        },
        "yaxis": {
         "anchor": "x",
         "domain": [
          0,
          1
         ],
         "title": {
          "text": "y"
         }
        }
       }
      },
      "text/html": [
       "<div>\n",
       "        \n",
       "        \n",
       "            <div id=\"e46f8f8d-820e-4c73-9f18-d958716c1971\" class=\"plotly-graph-div\" style=\"height:525px; width:100%;\"></div>\n",
       "            <script type=\"text/javascript\">\n",
       "                require([\"plotly\"], function(Plotly) {\n",
       "                    window.PLOTLYENV=window.PLOTLYENV || {};\n",
       "                    \n",
       "                if (document.getElementById(\"e46f8f8d-820e-4c73-9f18-d958716c1971\")) {\n",
       "                    Plotly.newPlot(\n",
       "                        'e46f8f8d-820e-4c73-9f18-d958716c1971',\n",
       "                        [{\"customdata\": [[\"1_1a\", \"2\", \"13229-13238\", \"1_1a 1\"], [\"1_1a\", \"7\", \"13732-13741\", \"1_1a 1\"], [\"1_1a\", \"7\", \"14737-14746\", \"1_1a 1\"], [\"1_1a\", \"7\", \"16571-16589\", \"1_1a 1\"], [\"1_1a\", \"2\", \"18061-18070\", \"1_1a 1\"], [\"1_1a\", \"2\", \"18430-18522\", \"1_1a 1\"], [\"1_1a\", \"1\", \"18522-18538\", \"1_1a 1\"], [\"1_1a\", \"6\", \"19436-19463\", \"1_1a 1\"], [\"1_1a\", \"1\", \"22733-22751\", \"1_1a 2\"], [\"1_1a\", \"3\", \"22967-22976\", \"1_1a 2\"], [\"1_1a\", \"3\", \"24619-24633\", \"1_1a 2\"], [\"1_1a\", \"3\", \"24633-24637\", \"1_1a 2\"], [\"1_1a\", \"1\", \"25227-25236\", \"1_1a 2\"], [\"1_1a\", \"2\", \"33371-33406\", \"1_1a 3\"], [\"1_1a\", \"8\", \"36020-36073\", \"1_1a 4\"], [\"1_1a\", \"5\", \"42903-42911\", \"1_1a 4\"], [\"1_1a\", \"1\", \"45053-45059\", \"1_1a 5\"], [\"1_1a\", \"3\", \"54743-54747\", \"1_1a 6\"], [\"1_1a\", \"3\", \"54747-54752\", \"1_1a 6\"], [\"1_1a\", \"1\", \"56224-56233\", \"1_1a 6\"], [\"2_2a\", \"5\", \"12077-12096\", \"2_2a 2\"], [\"2_2a\", \"3\", \"12096-12105\", \"2_2a 2\"], [\"2_2a\", \"3\", \"12105-12113\", \"2_2a 2\"], [\"2_2a\", \"5\", \"13286-13304\", \"2_2a 2\"], [\"2_2a\", \"1\", \"13919-13932\", \"2_2a 2\"], [\"2_2a\", \"3\", \"13932-13941\", \"2_2a 2\"], [\"2_2a\", \"3\", \"13941-13947\", \"2_2a 2\"], [\"2_2a\", \"1\", \"14424-14441\", \"2_2a 3\"], [\"2_2a\", \"1\", \"14441-14459\", \"2_2a 3\"], [\"2_2a\", \"6\", \"17067-17071\", \"2_2a 3\"], [\"2_2a\", \"9\", \"19542-19556\", \"2_2a 4\"], [\"2_2a\", \"8\", \"20327-20338\", \"2_2a 4\"], [\"2_2a\", \"2\", \"20689-20691\", \"2_2a 4\"], [\"2_2a\", \"2\", \"20691-20699\", \"2_2a 4\"], [\"2_2a\", \"2\", \"20894-20909\", \"2_2a 4\"], [\"2_2a\", \"8\", \"21810-21816\", \"2_2a 4\"], [\"2_2a\", \"3\", \"21816-21834\", \"2_2a 4\"], [\"2_2a\", \"9\", \"22729-22734\", \"2_2a 4\"], [\"2_2a\", \"8\", \"22734-22761\", \"2_2a 4\"], [\"2_2a\", \"1\", \"22761-22788\", \"2_2a 4\"], [\"2_2a\", \"5\", \"38370-38378\", \"2_2a 6\"], [\"2_2a\", \"3\", \"39105-39113\", \"2_2a 6\"], [\"3_1b\", \"1\", \"11513-11531\", \"3_1b 2\"], [\"3_1b\", \"1\", \"18821-18830\", \"3_1b 3\"], [\"3_1b\", \"2\", \"19811-19820\", \"3_1b 3\"], [\"3_1b\", \"2\", \"20665-20682\", \"3_1b 3\"], [\"3_1b\", \"2\", \"20682-20683\", \"3_1b 3\"], [\"3_1b\", \"3\", \"24345-24354\", \"3_1b 3\"], [\"3_1b\", \"3\", \"24354-24372\", \"3_1b 3\"], [\"3_1b\", \"2\", \"37806-37809\", \"3_1b 5\"], [\"3_1b\", \"1\", \"37809-37824\", \"3_1b 5\"], [\"4_2b\", \"1\", \"7448-7461\", \"4_2b 1\"], [\"4_2b\", \"1\", \"7461-7537\", \"4_2b 1\"], [\"4_2b\", \"3\", \"9711-9720\", \"4_2b 1\"], [\"4_2b\", \"1\", \"11726-11770\", \"4_2b 1\"], [\"4_2b\", \"3\", \"15039-15048\", \"4_2b 2\"], [\"4_2b\", \"2\", \"17851-17865\", \"4_2b 2\"], [\"4_2b\", \"1\", \"17865-17892\", \"4_2b 2\"], [\"4_2b\", \"1\", \"17892-17899\", \"4_2b 2\"], [\"4_2b\", \"2\", \"19183-19192\", \"4_2b 3\"], [\"4_2b\", \"2\", \"20123-20124\", \"4_2b 3\"], [\"4_2b\", \"2\", \"20124-20132\", \"4_2b 3\"], [\"4_2b\", \"3\", \"21901-21913\", \"4_2b 3\"], [\"4_2b\", \"2\", \"27883-27909\", \"4_2b 3\"], [\"4_2b\", \"1\", \"27909-27910\", \"4_2b 3\"], [\"4_2b\", \"1\", \"30767-30780\", \"4_2b 4\"], [\"4_2b\", \"1\", \"30780-30785\", \"4_2b 4\"], [\"4_2b\", \"6\", \"33267-33272\", \"4_2b 4\"], [\"4_2b\", \"2\", \"33478-33487\", \"4_2b 4\"], [\"4_2b\", \"2\", \"33845-33858\", \"4_2b 4\"], [\"4_2b\", \"2\", \"33858-33859\", \"4_2b 4\"], [\"4_2b\", \"7\", \"34520-34529\", \"4_2b 4\"], [\"4_2b\", \"5\", \"39573-39585\", \"4_2b 5\"], [\"4_2b\", \"9\", \"51546-51550\", \"4_2b 6\"], [\"5_1c\", \"6\", \"368-377\", \"5_1c 1\"], [\"5_1c\", \"2\", \"584-593\", \"5_1c 1\"], [\"5_1c\", \"3\", \"3193-3195\", \"5_1c 1\"], [\"5_1c\", \"3\", \"3195-3211\", \"5_1c 1\"], [\"5_1c\", \"1\", \"6713-6722\", \"5_1c 2\"], [\"5_1c\", \"3\", \"15608-15624\", \"5_1c 4\"], [\"5_1c\", \"3\", \"15624-15626\", \"5_1c 4\"], [\"5_1c\", \"1\", \"16914-16932\", \"5_1c 4\"], [\"5_1c\", \"1\", \"18525-18561\", \"5_1c 4\"], [\"5_1c\", \"8\", \"29207-29216\", \"5_1c 6\"], [\"6_2c\", \"8\", \"7128-7137\", \"6_2c 1\"], [\"6_2c\", \"1\", \"7137-7142\", \"6_2c 1\"], [\"6_2c\", \"9\", \"26630-26631\", \"6_2c 4\"], [\"6_2c\", \"5\", \"26631-26635\", \"6_2c 4\"], [\"6_2c\", \"3\", \"46790-46800\", \"6_2c 6\"], [\"6_2c\", \"3\", \"46800-46818\", \"6_2c 6\"], [\"7_1a\", \"1\", \"16344-16380\", \"7_1a 1\"], [\"7_1a\", \"1\", \"16380-16398\", \"7_1a 1\"], [\"7_1a\", \"1\", \"16398-16434\", \"7_1a 1\"], [\"7_1a\", \"1\", \"24618-24645\", \"7_1a 1\"], [\"7_1a\", \"5\", \"25442-25469\", \"7_1a 1\"], [\"7_1a\", \"2\", \"26780-26811\", \"7_1a 1\"], [\"7_1a\", \"1\", \"26811-26815\", \"7_1a 1\"], [\"7_1a\", \"7\", \"28017-28043\", \"7_1a 1\"], [\"7_1a\", \"6\", \"28385-28404\", \"7_1a 1\"], [\"7_1a\", \"1\", \"31895-31913\", \"7_1a 2\"], [\"7_1a\", \"1\", \"32623-32632\", \"7_1a 2\"], [\"7_1a\", \"1\", \"36103-36131\", \"7_1a 3\"], [\"7_1a\", \"1\", \"36516-36534\", \"7_1a 3\"], [\"7_1a\", \"2\", \"38017-38044\", \"7_1a 3\"], [\"7_1a\", \"1\", \"39246-39264\", \"7_1a 3\"], [\"7_1a\", \"5\", \"40555-40565\", \"7_1a 3\"], [\"7_1a\", \"7\", \"62662-62698\", \"7_1a 6\"], [\"7_1a\", \"3\", \"65583-65619\", \"7_1a 6\"], [\"8_2a\", \"1\", \"3881-3897\", \"8_2a 1\"], [\"8_2a\", \"3\", \"3897-3908\", \"8_2a 1\"], [\"8_2a\", \"2\", \"7320-7346\", \"8_2a 1\"], [\"8_2a\", \"2\", \"8466-8489\", \"8_2a 1\"], [\"8_2a\", \"3\", \"10317-10330\", \"8_2a 2\"], [\"8_2a\", \"5\", \"13131-13140\", \"8_2a 2\"], [\"8_2a\", \"5\", \"14076-14085\", \"8_2a 2\"], [\"8_2a\", \"3\", \"14742-14751\", \"8_2a 2\"], [\"8_2a\", \"3\", \"14751-14754\", \"8_2a 2\"], [\"8_2a\", \"6\", \"19986-20007\", \"8_2a 3\"], [\"8_2a\", \"2\", \"20007-20008\", \"8_2a 3\"], [\"8_2a\", \"7\", \"21085-21093\", \"8_2a 3\"], [\"8_2a\", \"1\", \"25537-25542\", \"8_2a 3\"], [\"8_2a\", \"8\", \"26474-26478\", \"8_2a 4\"], [\"8_2a\", \"1\", \"28039-28044\", \"8_2a 4\"], [\"8_2a\", \"1\", \"28044-28048\", \"8_2a 4\"], [\"8_2a\", \"1\", \"29058-29076\", \"8_2a 4\"], [\"8_2a\", \"2\", \"31059-31077\", \"8_2a 4\"], [\"8_2a\", \"8\", \"32351-32360\", \"8_2a 4\"], [\"8_2a\", \"6\", \"32888-32895\", \"8_2a 4\"], [\"8_2a\", \"2\", \"33137-33138\", \"8_2a 4\"], [\"8_2a\", \"1\", \"33138-33173\", \"8_2a 4\"], [\"8_2a\", \"2\", \"33680-33689\", \"8_2a 4\"], [\"8_2a\", \"2\", \"35321-35329\", \"8_2a 4\"], [\"8_2a\", \"8\", \"40836-40845\", \"8_2a 6\"], [\"8_2a\", \"8\", \"45507-45513\", \"8_2a 6\"], [\"8_2a\", \"8\", \"45513-45515\", \"8_2a 6\"], [\"9_1b\", \"7\", \"4746-4755\", \"9_1b 1\"], [\"9_1b\", \"3\", \"13089-13095\", \"9_1b 2\"], [\"9_1b\", \"3\", \"13095-13131\", \"9_1b 2\"], [\"9_1b\", \"5\", \"13131-13188\", \"9_1b 2\"], [\"9_1b\", \"8\", \"14295-14304\", \"9_1b 2\"], [\"9_1b\", \"1\", \"17840-17847\", \"9_1b 3\"], [\"9_1b\", \"3\", \"17847-17849\", \"9_1b 3\"], [\"9_1b\", \"1\", \"21870-21879\", \"9_1b 3\"], [\"9_1b\", \"8\", \"22725-22743\", \"9_1b 3\"], [\"9_1b\", \"1\", \"23906-23915\", \"9_1b 4\"], [\"9_1b\", \"1\", \"25319-25337\", \"9_1b 4\"], [\"9_1b\", \"3\", \"28288-28333\", \"9_1b 4\"], [\"9_1b\", \"1\", \"35630-35640\", \"9_1b 6\"], [\"9_1b\", \"3\", \"35640-35649\", \"9_1b 6\"], [\"9_1b\", \"3\", \"35649-35712\", \"9_1b 6\"], [\"9_1b\", \"2\", \"35712-35737\", \"9_1b 6\"], [\"10_2b\", \"2\", \"23398-23416\", \"10_2b 1\"], [\"10_2b\", \"1\", \"25367-25385\", \"10_2b 1\"], [\"10_2b\", \"1\", \"25799-25817\", \"10_2b 1\"], [\"10_2b\", \"1\", \"26256-26274\", \"10_2b 1\"], [\"10_2b\", \"1\", \"26282-26292\", \"10_2b 1\"], [\"10_2b\", \"3\", \"26543-26568\", \"10_2b 1\"], [\"10_2b\", \"3\", \"26568-26624\", \"10_2b 1\"], [\"10_2b\", \"1\", \"26633-26651\", \"10_2b 1\"], [\"10_2b\", \"1\", \"27619-27637\", \"10_2b 1\"], [\"10_2b\", \"8\", \"29377-29395\", \"10_2b 1\"], [\"10_2b\", \"8\", \"29395-29412\", \"10_2b 1\"], [\"10_2b\", \"2\", \"29412-29421\", \"10_2b 1\"], [\"10_2b\", \"1\", \"30680-30689\", \"10_2b 2\"], [\"10_2b\", \"1\", \"35531-35540\", \"10_2b 2\"], [\"10_2b\", \"1\", \"36759-36786\", \"10_2b 3\"], [\"10_2b\", \"1\", \"44079-44082\", \"10_2b 4\"], [\"10_2b\", \"3\", \"44082-44086\", \"10_2b 4\"], [\"10_2b\", \"1\", \"47861-47879\", \"10_2b 4\"], [\"10_2b\", \"1\", \"48949-48958\", \"10_2b 4\"], [\"10_2b\", \"7\", \"49624-49635\", \"10_2b 4\"], [\"10_2b\", \"2\", \"49635-49696\", \"10_2b 4\"], [\"10_2b\", \"2\", \"56760-56778\", \"10_2b 5\"], [\"10_2b\", \"1\", \"59551-59578\", \"10_2b 5\"], [\"10_2b\", \"3\", \"63599-63612\", \"10_2b 5\"], [\"10_2b\", \"3\", \"63612-63616\", \"10_2b 5\"], [\"10_2b\", \"2\", \"70386-70404\", \"10_2b 6\"], [\"12_2c\", \"8\", \"20767-20794\", \"12_2c 1\"], [\"12_2c\", \"1\", \"22141-22169\", \"12_2c 1\"], [\"12_2c\", \"1\", \"22331-22347\", \"12_2c 1\"], [\"12_2c\", \"1\", \"22347-22348\", \"12_2c 1\"], [\"12_2c\", \"8\", \"23588-23606\", \"12_2c 1\"], [\"12_2c\", \"3\", \"24648-24657\", \"12_2c 1\"], [\"12_2c\", \"1\", \"26871-26883\", \"12_2c 1\"], [\"12_2c\", \"3\", \"26883-26889\", \"12_2c 1\"], [\"12_2c\", \"1\", \"32424-32442\", \"12_2c 2\"], [\"12_2c\", \"1\", \"38625-38628\", \"12_2c 3\"], [\"12_2c\", \"3\", \"38628-38653\", \"12_2c 3\"], [\"12_2c\", \"2\", \"39786-39803\", \"12_2c 3\"], [\"13_1a\", \"1\", \"1132-1159\", \"13_1a 1\"], [\"13_1a\", \"1\", \"2124-2133\", \"13_1a 1\"], [\"13_1a\", \"1\", \"2133-2142\", \"13_1a 1\"], [\"13_1a\", \"6\", \"2151-2160\", \"13_1a 1\"], [\"13_1a\", \"2\", \"9694-9702\", \"13_1a 2\"], [\"13_1a\", \"3\", \"9702-9703\", \"13_1a 2\"], [\"13_1a\", \"2\", \"15206-15210\", \"13_1a 3\"], [\"13_1a\", \"2\", \"15210-15219\", \"13_1a 3\"], [\"13_1a\", \"3\", \"15219-15233\", \"13_1a 3\"], [\"13_1a\", \"1\", \"18473-18490\", \"13_1a 3\"], [\"13_1a\", \"2\", \"34901-34919\", \"13_1a 6\"], [\"13_1a\", \"1\", \"35306-35333\", \"13_1a 6\"], [\"13_1a\", \"2\", \"36133-36169\", \"13_1a 6\"], [\"13_1a\", \"1\", \"38312-38330\", \"13_1a 6\"], [\"14_2a\", \"8\", \"8944-8946\", \"14_2a 1\"], [\"14_2a\", \"3\", \"8946-8980\", \"14_2a 1\"], [\"14_2a\", \"1\", \"10283-10328\", \"14_2a 1\"], [\"14_2a\", \"8\", \"16879-16884\", \"14_2a 2\"], [\"14_2a\", \"1\", \"18545-18563\", \"14_2a 2\"], [\"14_2a\", \"1\", \"20682-20691\", \"14_2a 2\"], [\"14_2a\", \"1\", \"21589-21598\", \"14_2a 2\"], [\"14_2a\", \"3\", \"21842-21851\", \"14_2a 2\"], [\"14_2a\", \"1\", \"22445-22454\", \"14_2a 2\"], [\"14_2a\", \"2\", \"25034-25061\", \"14_2a 3\"], [\"14_2a\", \"2\", \"27399-27405\", \"14_2a 3\"], [\"14_2a\", \"1\", \"27405-27408\", \"14_2a 3\"], [\"14_2a\", \"8\", \"30128-30141\", \"14_2a 4\"], [\"14_2a\", \"2\", \"30141-30146\", \"14_2a 4\"], [\"14_2a\", \"9\", \"31037-31055\", \"14_2a 4\"], [\"14_2a\", \"2\", \"32242-32247\", \"14_2a 4\"], [\"14_2a\", \"1\", \"32247-32260\", \"14_2a 4\"], [\"14_2a\", \"2\", \"33758-33776\", \"14_2a 4\"], [\"14_2a\", \"2\", \"45159-45168\", \"14_2a 6\"], [\"14_2a\", \"3\", \"46230-46293\", \"14_2a 6\"], [\"14_2a\", \"5\", \"48778-48780\", \"14_2a 6\"], [\"14_2a\", \"5\", \"48780-48787\", \"14_2a 6\"], [\"14_2a\", \"3\", \"49835-49851\", \"14_2a 6\"], [\"14_2a\", \"3\", \"49851-49853\", \"14_2a 6\"], [\"15_1b\", \"6\", \"10812-10830\", \"15_1b 1\"], [\"15_1b\", \"2\", \"11866-11880\", \"15_1b 1\"], [\"15_1b\", \"2\", \"11880-11884\", \"15_1b 1\"], [\"15_1b\", \"5\", \"12702-12721\", \"15_1b 1\"], [\"15_1b\", \"1\", \"13695-13707\", \"15_1b 2\"], [\"15_1b\", \"3\", \"13707-13713\", \"15_1b 2\"], [\"15_1b\", \"6\", \"17142-17151\", \"15_1b 2\"], [\"15_1b\", \"6\", \"24740-24741\", \"15_1b 4\"], [\"15_1b\", \"7\", \"24741-24758\", \"15_1b 4\"], [\"15_1b\", \"5\", \"27901-27928\", \"15_1b 4\"], [\"15_1b\", \"7\", \"28270-28279\", \"15_1b 4\"], [\"15_1b\", \"2\", \"36961-36972\", \"15_1b 6\"], [\"15_1b\", \"2\", \"36972-36979\", \"15_1b 6\"], [\"16_2b\", \"7\", \"9131-9136\", \"16_2b 1\"], [\"16_2b\", \"8\", \"12914-12915\", \"16_2b 2\"], [\"16_2b\", \"1\", \"12915-12927\", \"16_2b 2\"], [\"16_2b\", \"9\", \"13200-13203\", \"16_2b 2\"], [\"16_2b\", \"8\", \"13203-13209\", \"16_2b 2\"], [\"16_2b\", \"3\", \"14513-14517\", \"16_2b 3\"], [\"16_2b\", \"1\", \"17611-17619\", \"16_2b 3\"], [\"16_2b\", \"1\", \"18295-18304\", \"16_2b 3\"], [\"16_2b\", \"1\", \"18331-18339\", \"16_2b 3\"], [\"16_2b\", \"3\", \"32459-32463\", \"16_2b 6\"], [\"16_2b\", \"3\", \"32463-32468\", \"16_2b 6\"], [\"17_1c\", \"2\", \"9296-9314\", \"17_1c 1\"], [\"17_1c\", \"2\", \"12974-12978\", \"17_1c 2\"], [\"17_1c\", \"3\", \"12978-12991\", \"17_1c 2\"], [\"17_1c\", \"1\", \"17772-17790\", \"17_1c 2\"], [\"17_1c\", \"1\", \"19105-19134\", \"17_1c 3\"], [\"17_1c\", \"1\", \"19134-19141\", \"17_1c 3\"], [\"17_1c\", \"2\", \"21905-21931\", \"17_1c 3\"], [\"17_1c\", \"2\", \"24234-24243\", \"17_1c 3\"], [\"17_1c\", \"1\", \"25179-25197\", \"17_1c 3\"], [\"17_1c\", \"1\", \"29969-29996\", \"17_1c 4\"], [\"17_1c\", \"1\", \"31264-31266\", \"17_1c 4\"], [\"17_1c\", \"3\", \"31266-31273\", \"17_1c 4\"], [\"17_1c\", \"1\", \"31913-31959\", \"17_1c 4\"], [\"17_1c\", \"3\", \"31959-31968\", \"17_1c 4\"], [\"17_1c\", \"3\", \"31968-32013\", \"17_1c 4\"], [\"17_1c\", \"1\", \"32013-32031\", \"17_1c 4\"], [\"17_1c\", \"3\", \"32031-32040\", \"17_1c 4\"], [\"17_1c\", \"3\", \"32040-32048\", \"17_1c 4\"], [\"17_1c\", \"1\", \"35975-35982\", \"17_1c 4\"], [\"17_1c\", \"3\", \"35982-35991\", \"17_1c 4\"], [\"17_1c\", \"3\", \"35991-36018\", \"17_1c 4\"], [\"17_1c\", \"5\", \"36018-36027\", \"17_1c 4\"], [\"17_1c\", \"3\", \"36027-36054\", \"17_1c 4\"], [\"17_1c\", \"3\", \"36054-36063\", \"17_1c 4\"], [\"17_1c\", \"1\", \"36063-36074\", \"17_1c 4\"], [\"17_1c\", \"8\", \"41518-41526\", \"17_1c 5\"], [\"17_1c\", \"6\", \"49925-49934\", \"17_1c 6\"], [\"17_1c\", \"8\", \"53764-53784\", \"17_1c 6\"], [\"17_1c\", \"3\", \"53784-53791\", \"17_1c 6\"], [\"17_1c\", \"6\", \"54806-54824\", \"17_1c 6\"], [\"17_1c\", \"1\", \"56568-56586\", \"17_1c 6\"], [\"17_1c\", \"1\", \"57279-57294\", \"17_1c 6\"], [\"17_1c\", \"3\", \"57294-57297\", \"17_1c 6\"], [\"18_2c\", \"2\", \"5324-5328\", \"18_2c 1\"], [\"18_2c\", \"1\", \"5328-5351\", \"18_2c 1\"], [\"18_2c\", \"1\", \"7691-7708\", \"18_2c 2\"], [\"18_2c\", \"1\", \"8527-8536\", \"18_2c 2\"], [\"18_2c\", \"3\", \"8967-8982\", \"18_2c 2\"], [\"18_2c\", \"3\", \"8982-9000\", \"18_2c 2\"], [\"18_2c\", \"3\", \"9000-9021\", \"18_2c 2\"], [\"18_2c\", \"3\", \"12040-12042\", \"18_2c 2\"], [\"18_2c\", \"3\", \"12042-12059\", \"18_2c 2\"], [\"18_2c\", \"1\", \"15726-15735\", \"18_2c 3\"], [\"18_2c\", \"7\", \"16496-16497\", \"18_2c 3\"], [\"18_2c\", \"7\", \"16497-16505\", \"18_2c 3\"], [\"18_2c\", \"2\", \"28637-28646\", \"18_2c 4\"], [\"18_2c\", \"2\", \"41833-41842\", \"18_2c 6\"], [\"18_2c\", \"2\", \"42887-42896\", \"18_2c 6\"], [\"18_2c\", \"1\", \"43927-43936\", \"18_2c 6\"]], \"hoverlabel\": {\"namelength\": 0}, \"hovertemplate\": \"lemma=go<br>x=%{x}<br>y=%{y}<br>participant=%{customdata[0]}<br>top=%{customdata[1]}<br>step=%{customdata[2]}<br>pt=%{customdata[3]}\", \"legendgroup\": \"go\", \"marker\": {\"color\": \"#FD3216\", \"symbol\": \"circle\"}, \"mode\": \"markers\", \"name\": \"go\", \"showlegend\": true, \"type\": \"scattergl\", \"x\": [-23.540620803833008, 1.9252126216888428, 2.0367610454559326, 1.92431640625, -22.451004028320312, 4.808896064758301, 43.376075744628906, 10.549237251281738, -1.3547006845474243, -8.656420707702637, -35.23872756958008, -26.893016815185547, 0.9442797899246216, -23.705711364746094, 16.66608428955078, 20.867921829223633, -1.3547006845474243, -5.531339168548584, -2.0877349376678467, 1.9552427530288696, 25.211360931396484, 31.760047912597656, -25.97572135925293, 23.833850860595703, 17.864418029785156, -12.440847396850586, -5.132256031036377, 0.25931647419929504, 0.8942776918411255, 10.668990135192871, 15.108501434326172, 16.66653823852539, -25.484317779541016, -23.52092933654785, -22.67373275756836, 15.472846031188965, -21.31712532043457, 15.387423515319824, 16.000764846801758, 5.684101581573486, 23.833850860595703, -15.301836013793945, 1.7139467000961304, 2.5214054584503174, -24.0533390045166, -18.037490844726562, -11.354546546936035, -11.162130355834961, -18.47989845275879, 4.324803829193115, 42.79029083251953, 12.873551368713379, 48.69370651245117, -21.317258834838867, 0.4540945589542389, -15.004475593566895, 4.808475494384766, 46.62590789794922, 48.6787109375, -23.52128791809082, -18.037490844726562, -11.355202674865723, -8.390776634216309, 4.8167195320129395, 43.02981948852539, 6.0669355392456055, 6.702456474304199, 10.932082176208496, -23.600828170776367, -25.90876007080078, -20.739038467407227, 1.9252092838287354, 23.833850860595703, 15.108660697937012, 10.9981689453125, -23.072229385375977, -34.81922912597656, -26.283763885498047, 2.335843086242676, -34.847835540771484, -26.438722610473633, 2.9923946857452393, 2.9923946857452393, 16.65181541442871, 18.68133544921875, 5.600611686706543, 15.77877426147461, 17.686389923095703, -5.729763031005859, 33.64448547363281, 12.873566627502441, 46.626712799072266, 42.79157257080078, -0.11187581717967987, 23.833850860595703, 4.405869483947754, 43.041160583496094, 2.288973331451416, 10.668990135192871, 0.39430782198905945, 2.802323579788208, 2.9838476181030273, 1.4118473529815674, -22.882905960083008, 1.005334734916687, 23.833850860595703, 2.288972854614258, -14.905760765075684, 18.36052894592285, -14.254077911376953, -24.920291900634766, -24.312665939331055, -9.157455444335938, 25.20862579345703, 23.833850860595703, -15.43125057220459, 35.05854415893555, 9.013696670532227, -20.034130096435547, 2.3167834281921387, 1.1390384435653687, 17.26845932006836, 12.873549461364746, 48.691795349121094, -0.3510243892669678, -23.970565795898438, 17.142534255981445, 10.766633987426758, 4.600849628448486, 42.797508239746094, -23.935258865356445, -23.910598754882812, 17.142534255981445, 16.684179306030273, 14.61610221862793, 1.8483620882034302, -5.730690956115723, 36.01493835449219, 4.114777565002441, 16.693201065063477, 16.86172866821289, -15.358772277832031, 2.9923946857452393, 16.693191528320312, -1.3547006845474243, -1.3547006845474243, -7.6905293464660645, 16.912561416625977, -12.847013473510742, -2.0385773181915283, -20.033935546875, -23.624500274658203, 2.9923946857452393, 0.45647937059402466, 1.2286760807037354, -0.3898794651031494, -35.494483947753906, -26.510644912719727, 0.8382190465927124, -0.2680846154689789, 16.65181541442871, 18.9205379486084, -21.921504974365234, 1.242650032043457, 0.5082041621208191, 0.11464277654886246, 17.309736251831055, -14.995503425598145, 0.7151454091072083, 0.1227387934923172, -1.2811566591262817, -8.824112892150879, -23.89052963256836, 1.9016315937042236, -35.23872756958008, -26.608318328857422, -24.71138572692871, 16.815185546875, 2.2906229496002197, 12.873551368713379, 48.69370651245117, 16.947080612182617, -9.138204574584961, 18.36052894592285, -15.545406341552734, -0.12696437537670135, 18.36052894592285, -14.23144245147705, -25.421541213989258, -1.3547006845474243, -3.1588871479034424, -4.375909328460693, 11.103849411010742, -22.947364807128906, -12.508293151855469, -25.484580993652344, -23.575559616088867, -20.297632217407227, 0.5081827044487, -25.44988441467285, 1.458284616470337, -25.092723846435547, 1.458284616470337, 15.472611427307129, -20.2965145111084, 1.458284616470337, 18.92314910888672, 1.458284616470337, 1.458284616470337, 1.458284616470337, -7.982314586639404, 1.458284616470337, -25.774980545043945, 4.6163105964660645, 43.78715133666992, 18.92315101623535, -21.922422409057617, 15.108660697937012, 5.25234317779541, 43.58198928833008, -25.070167541503906, -24.067834854125977, -8.81213665008545, 23.139183044433594, 4.108482837677002, -5.729463577270508, 35.05886459350586, 10.595470428466797, -25.484603881835938, -23.521757125854492, 23.835599899291992, 16.81611442565918, -14.86561393737793, 10.595470428466797, 12.101873397827148, 3.899038076400757, 23.836135864257812, 1.695339322090149, -18.03750228881836, -11.359960556030273, 1.6695517301559448, 18.6827392578125, 5.60060453414917, 15.387678146362305, 15.959809303283691, -7.84255838394165, 1.458284616470337, 1.458284616470337, 1.458284616470337, -35.739803314208984, -26.510644912719727, -25.725324630737305, -22.947099685668945, -12.508331298828125, 1.458284616470337, 12.873496055603027, 48.696327209472656, -26.425382614135742, -24.563583374023438, 1.458284616470337, 1.458284616470337, 17.34248924255371, -15.295336723327637, 17.8392391204834, -23.52825927734375, -28.4403018951416, 48.4788703918457, -12.602689743041992, -26.283782958984375, 17.71208381652832, -15.431392669677734, 34.75951385498047, 18.877071380615234, -33.62578201293945, -28.4403018951416, 48.69643783569336, 17.267791748046875, 10.595470428466797, 15.47278118133545, -20.29737091064453, 10.758052825927734, 1.458284616470337, 17.36870002746582, -15.544267654418945, 5.107191562652588, 43.618980407714844, 1.458284616470337, 1.458284616470337, -35.9741325378418, -23.528194427490234, -14.258275985717773, -5.7297444343566895, 35.059425354003906, 1.458284616470337, 1.6701736450195312, 3.8997786045074463, -24.85963249206543, -25.46147918701172, -25.482162475585938, 1.5980768203735352], \"xaxis\": \"x\", \"y\": [8.373190879821777, -0.8139706254005432, -0.8159735798835754, -0.8137630820274353, 8.501372337341309, -45.32828903198242, 12.163481712341309, -12.710383415222168, 26.74750518798828, -15.67950439453125, -11.2749605178833, -23.941421508789062, 29.375118255615234, 9.313495635986328, 8.42178726196289, -8.777359962463379, 26.74750518798828, -14.573962211608887, -14.469123840332031, 28.604515075683594, -6.046383857727051, -13.500990867614746, -24.062776565551758, -5.395705699920654, -33.009307861328125, -41.5905876159668, -18.07032585144043, 28.907482147216797, 28.798442840576172, -12.537628173828125, -4.384058952331543, 8.020222663879395, 13.371535301208496, 14.891624450683594, 9.943010330200195, 11.799118041992188, -13.590771675109863, -3.580307960510254, -1.382624626159668, 21.158355712890625, -5.395705223083496, -40.01950454711914, 28.14940643310547, 29.441816329956055, 9.195021629333496, 7.925250053405762, 6.907217025756836, -14.44677448272705, -13.389592170715332, -45.971702575683594, 11.462325096130371, 36.67184066772461, 17.50116539001465, -13.590944290161133, 28.813335418701172, -41.27375030517578, -45.328243255615234, 15.223366737365723, 17.49468994140625, 10.686638832092285, 7.9252495765686035, 6.907320976257324, -15.689750671386719, -45.32947540283203, 12.100086212158203, 26.9012508392334, 26.573732376098633, -13.019529342651367, 8.580026626586914, 5.049589157104492, 1.4593136310577393, -0.813969612121582, -5.395704746246338, -4.383935928344727, -12.984472274780273, 10.38696002960205, -10.566267967224121, -24.207090377807617, 28.618680953979492, -10.933921813964844, -23.14554214477539, 26.013689041137695, 26.013689041137695, 8.399819374084473, 7.558722972869873, 21.242273330688477, -4.753227710723877, -5.3441057205200195, -23.362295150756836, -14.526712417602539, 36.67174530029297, 15.223424911499023, 11.458162307739258, 28.361406326293945, -5.3957061767578125, -45.54474639892578, 11.260355949401855, -0.641327440738678, -12.537628173828125, 29.52787971496582, 29.48900604248047, 28.981517791748047, 29.26065444946289, 8.044689178466797, 26.68889808654785, -5.3957061767578125, -0.6413282752037048, -40.58304214477539, -32.21164321899414, -40.4922981262207, 9.67719554901123, 9.822096824645996, -15.6152982711792, -6.047701835632324, -5.395705223083496, -44.34939956665039, -15.732320785522461, -13.949850082397461, 0.5630185604095459, -0.40992623567581177, 28.31378746032715, 8.36363697052002, 36.67182540893555, 17.498146057128906, 28.767271041870117, 10.075321197509766, 8.505711555480957, -12.492103576660156, -46.2574348449707, 11.75185489654541, 9.68732738494873, 8.826529502868652, 8.505711555480957, 6.108543395996094, 4.909626483917236, -0.17538224160671234, -23.36012077331543, -15.303865432739258, 3.035398006439209, 7.99661111831665, -32.45613479614258, -41.082130432128906, 26.013689041137695, 7.996623992919922, 26.74750518798828, 26.74750518798828, -15.282552719116211, -31.984683990478516, -38.26268768310547, -14.929098129272461, 0.5630719661712646, 7.925677299499512, 26.013689041137695, 29.464326858520508, 28.482059478759766, 29.19464111328125, -11.296616554260254, -24.238576889038086, 28.735071182250977, 29.460527420043945, 8.399819374084473, 9.78234577178955, 15.099078178405762, 28.388105392456055, 27.608753204345703, 28.099746704101562, -32.30052185058594, -41.26673889160156, 28.174428939819336, 28.08739471435547, 2.0397369861602783, 6.245168685913086, 9.977354049682617, 27.648719787597656, -11.2749605178833, -24.11912727355957, 8.544034004211426, 8.55673599243164, 27.90774917602539, 36.671791076660156, 17.50116539001465, 8.579252243041992, -15.727926254272461, -32.21164321899414, -40.762813568115234, 29.73426628112793, -32.21164321899414, -40.64594650268555, 10.024789810180664, 26.74750518798828, 27.818687438964844, 26.462635040283203, -12.74531364440918, 4.796624660491943, -8.91696548461914, 13.371533393859863, 14.940776824951172, -13.158856391906738, 27.60877799987793, 8.043057441711426, 31.45989227294922, 7.736616134643555, 31.45989227294922, 11.803388595581055, -13.15984058380127, 31.45989227294922, 9.786365509033203, 31.45989227294922, 31.45989227294922, 31.45989227294922, -14.94799518585205, 31.45989227294922, 8.546420097351074, -45.36245346069336, 11.679777145385742, 9.78636646270752, 15.099552154541016, -4.383937358856201, -45.966487884521484, 12.07481575012207, 7.7145514488220215, 8.269376754760742, -14.956161499023438, -5.6173295974731445, 3.040564775466919, -23.362886428833008, -15.732638359069824, -12.916028022766113, 13.371539115905762, 14.891863822937012, -5.397122383117676, -32.104698181152344, -39.92502212524414, -12.916028022766113, -14.097880363464355, -4.092384338378906, -5.397634506225586, -0.6266250610351562, 7.92525053024292, 6.907867908477783, -0.40058234333992004, 7.560497283935547, 21.242517471313477, -3.5815038681030273, -1.438761591911316, -15.020848274230957, 31.45989227294922, 31.45989227294922, 31.45989227294922, -11.193161010742188, -24.238576889038086, 9.389710426330566, 4.796418190002441, -8.917437553405762, 31.45989227294922, 36.671600341796875, 17.50270652770996, 7.030303001403809, 7.423995018005371, 31.45989227294922, 31.45989227294922, -31.65340805053711, -40.01218032836914, -32.500816345214844, -34.64406967163086, -24.63431739807129, 18.417112350463867, -8.869349479675293, -24.207096099853516, -32.20591735839844, -44.34946823120117, -16.736141204833984, -5.726129531860352, -13.205965995788574, -24.634309768676758, 17.502758026123047, 8.026559829711914, -12.916028022766113, 11.803396224975586, -13.159205436706543, -13.032896041870117, 31.45989227294922, -32.431495666503906, -40.769100189208984, -46.219242095947266, 12.03359603881836, 31.45989227294922, 31.45989227294922, -10.599900245666504, -34.64405822753906, -40.51901626586914, -23.36126136779785, -15.733479499816895, 31.45989227294922, -0.3974786400794983, -1.0382089614868164, 7.6749420166015625, 8.050654411315918, 8.401256561279297, 28.58987045288086], \"yaxis\": \"y\"}, {\"customdata\": [[\"1_1a\", \"7\", \"13750-13752\", \"1_1a 1\"], [\"1_1a\", \"2\", \"13752-13768\", \"1_1a 1\"], [\"1_1a\", \"3\", \"21828-21834\", \"1_1a 2\"], [\"1_1a\", \"3\", \"21834-21836\", \"1_1a 2\"], [\"1_1a\", \"2\", \"27283-27302\", \"1_1a 3\"], [\"1_1a\", \"3\", \"30130-30150\", \"1_1a 3\"], [\"1_1a\", \"3\", \"30150-30156\", \"1_1a 3\"], [\"2_2a\", \"3\", \"12466-12483\", \"2_2a 2\"], [\"4_2b\", \"5\", \"31255-31275\", \"4_2b 4\"], [\"4_2b\", \"5\", \"31275-31302\", \"4_2b 4\"], [\"4_2b\", \"6\", \"31302-31327\", \"4_2b 4\"], [\"4_2b\", \"6\", \"32237-32246\", \"4_2b 4\"], [\"6_2c\", \"2\", \"20284-20318\", \"6_2c 3\"], [\"7_1a\", \"1\", \"15589-15606\", \"7_1a 1\"], [\"7_1a\", \"1\", \"15606-15624\", \"7_1a 1\"], [\"7_1a\", \"2\", \"15624-15669\", \"7_1a 1\"], [\"7_1a\", \"2\", \"15669-15724\", \"7_1a 1\"], [\"8_2a\", \"1\", \"12514-12532\", \"8_2a 2\"], [\"8_2a\", \"6\", \"13761-13770\", \"8_2a 2\"], [\"8_2a\", \"2\", \"13770-13786\", \"8_2a 2\"], [\"8_2a\", \"1\", \"15475-15489\", \"8_2a 2\"], [\"8_2a\", \"1\", \"31689-31707\", \"8_2a 4\"], [\"8_2a\", \"1\", \"31707-31733\", \"8_2a 4\"], [\"8_2a\", \"1\", \"41158-41176\", \"8_2a 6\"], [\"9_1b\", \"9\", \"4250-4257\", \"9_1b 1\"], [\"9_1b\", \"4\", \"4257-4275\", \"9_1b 1\"], [\"9_1b\", \"3\", \"4275-4311\", \"9_1b 1\"], [\"9_1b\", \"3\", \"4311-4320\", \"9_1b 1\"], [\"9_1b\", \"4\", \"4320-4323\", \"9_1b 1\"], [\"9_1b\", \"6\", \"5600-5616\", \"9_1b 1\"], [\"9_1b\", \"2\", \"5616-5706\", \"9_1b 1\"], [\"9_1b\", \"1\", \"5706-5708\", \"9_1b 1\"], [\"9_1b\", \"2\", \"9057-9108\", \"9_1b 1\"], [\"9_1b\", \"1\", \"9108-9144\", \"9_1b 1\"], [\"9_1b\", \"1\", \"9144-9153\", \"9_1b 1\"], [\"9_1b\", \"1\", \"9153-9171\", \"9_1b 1\"], [\"9_1b\", \"1\", \"9171-9183\", \"9_1b 1\"], [\"9_1b\", \"1\", \"12765-12810\", \"9_1b 2\"], [\"9_1b\", \"1\", \"16219-16246\", \"9_1b 3\"], [\"9_1b\", \"2\", \"35136-35163\", \"9_1b 5\"], [\"9_1b\", \"9\", \"36539-36540\", \"9_1b 6\"], [\"9_1b\", \"6\", \"36540-36621\", \"9_1b 6\"], [\"9_1b\", \"2\", \"36621-36656\", \"9_1b 6\"], [\"9_1b\", \"1\", \"37385-37421\", \"9_1b 6\"], [\"10_2b\", \"7\", \"31096-31122\", \"10_2b 2\"], [\"10_2b\", \"3\", \"31122-31140\", \"10_2b 2\"], [\"10_2b\", \"3\", \"31140-31194\", \"10_2b 2\"], [\"10_2b\", \"1\", \"31194-31240\", \"10_2b 2\"], [\"10_2b\", \"6\", \"37058-37062\", \"10_2b 3\"], [\"10_2b\", \"7\", \"37062-37080\", \"10_2b 3\"], [\"10_2b\", \"2\", \"37080-37089\", \"10_2b 3\"], [\"10_2b\", \"1\", \"37089-37123\", \"10_2b 3\"], [\"10_2b\", \"8\", \"40392-40410\", \"10_2b 3\"], [\"10_2b\", \"3\", \"40410-40428\", \"10_2b 3\"], [\"10_2b\", \"3\", \"41537-41607\", \"10_2b 3\"], [\"10_2b\", \"3\", \"41607-41627\", \"10_2b 3\"], [\"10_2b\", \"1\", \"48222-48258\", \"10_2b 4\"], [\"10_2b\", \"1\", \"68366-68418\", \"10_2b 6\"], [\"10_2b\", \"1\", \"68418-68437\", \"10_2b 6\"], [\"11_1c\", \"3\", \"15873-15921\", \"11_1c 1\"], [\"11_1c\", \"3\", \"15921-16053\", \"11_1c 1\"], [\"11_1c\", \"2\", \"17655-17682\", \"11_1c 1\"], [\"11_1c\", \"3\", \"22411-22419\", \"11_1c 2\"], [\"11_1c\", \"3\", \"22419-22437\", \"11_1c 2\"], [\"11_1c\", \"3\", \"22437-22438\", \"11_1c 2\"], [\"11_1c\", \"3\", \"23788-23796\", \"11_1c 2\"], [\"11_1c\", \"3\", \"23796-23797\", \"11_1c 2\"], [\"11_1c\", \"3\", \"28254-28314\", \"11_1c 3\"], [\"11_1c\", \"3\", \"28314-28325\", \"11_1c 3\"], [\"11_1c\", \"1\", \"46796-46800\", \"11_1c 6\"], [\"11_1c\", \"3\", \"46800-46814\", \"11_1c 6\"], [\"11_1c\", \"6\", \"49028-49032\", \"11_1c 6\"], [\"11_1c\", \"6\", \"49032-49046\", \"11_1c 6\"], [\"11_1c\", \"6\", \"49756-49765\", \"11_1c 6\"], [\"12_2c\", \"1\", \"30385-30403\", \"12_2c 2\"], [\"12_2c\", \"3\", \"31536-31554\", \"12_2c 2\"], [\"12_2c\", \"4\", \"34031-34047\", \"12_2c 3\"], [\"12_2c\", \"5\", \"34047-34049\", \"12_2c 3\"], [\"14_2a\", \"1\", \"19447-19472\", \"14_2a 2\"], [\"14_2a\", \"1\", \"20700-20727\", \"14_2a 2\"], [\"15_1b\", \"1\", \"31820-31838\", \"15_1b 5\"], [\"16_2b\", \"1\", \"20196-20273\", \"16_2b 4\"], [\"16_2b\", \"3\", \"33411-33426\", \"16_2b 6\"], [\"16_2b\", \"3\", \"33426-33435\", \"16_2b 6\"], [\"16_2b\", \"3\", \"33435-33438\", \"16_2b 6\"], [\"17_1c\", \"1\", \"14897-14906\", \"17_1c 2\"], [\"17_1c\", \"3\", \"16497-16524\", \"17_1c 2\"], [\"17_1c\", \"3\", \"16524-16533\", \"17_1c 2\"], [\"17_1c\", \"3\", \"17171-17224\", \"17_1c 2\"], [\"17_1c\", \"1\", \"39547-39556\", \"17_1c 5\"], [\"17_1c\", \"1\", \"52400-52409\", \"17_1c 6\"], [\"18_2c\", \"1\", \"8536-8554\", \"18_2c 2\"], [\"18_2c\", \"5\", \"10861-10890\", \"18_2c 2\"], [\"18_2c\", \"5\", \"10890-10908\", \"18_2c 2\"], [\"18_2c\", \"5\", \"10908-10915\", \"18_2c 2\"], [\"18_2c\", \"3\", \"13434-13443\", \"18_2c 2\"], [\"18_2c\", \"8\", \"18108-18169\", \"18_2c 3\"], [\"18_2c\", \"3\", \"24126-24138\", \"18_2c 4\"], [\"18_2c\", \"3\", \"24138-24144\", \"18_2c 4\"], [\"18_2c\", \"3\", \"27884-27893\", \"18_2c 4\"], [\"18_2c\", \"8\", \"39733-39742\", \"18_2c 6\"], [\"18_2c\", \"2\", \"41851-41860\", \"18_2c 6\"], [\"18_2c\", \"2\", \"42896-42912\", \"18_2c 6\"], [\"18_2c\", \"3\", \"42912-42914\", \"18_2c 6\"]], \"hoverlabel\": {\"namelength\": 0}, \"hovertemplate\": \"lemma=take<br>x=%{x}<br>y=%{y}<br>participant=%{customdata[0]}<br>top=%{customdata[1]}<br>step=%{customdata[2]}<br>pt=%{customdata[3]}\", \"legendgroup\": \"take\", \"marker\": {\"color\": \"#00FE35\", \"symbol\": \"circle\"}, \"mode\": \"markers\", \"name\": \"take\", \"showlegend\": true, \"type\": \"scattergl\", \"x\": [-1.2837697267532349, -8.82282829284668, -10.665175437927246, -12.893926620483398, -24.788619995117188, -35.494483947753906, -25.989307403564453, -34.94411087036133, 23.032867431640625, 18.8205623626709, 13.395946502685547, 10.968135833740234, -22.382732391357422, 12.873538970947266, 49.62922286987305, -10.190710067749023, -8.824186325073242, 2.9923946857452393, 9.01390266418457, -20.034317016601562, -1.3547006845474243, 12.87349796295166, 48.691795349121094, 1.3630284070968628, 14.504956245422363, 12.585705757141113, -14.162469863891602, -5.107101917266846, 12.610213279724121, 9.013728141784668, -19.78131675720215, 43.66704177856445, 4.418673515319824, 46.6258659362793, 46.626129150390625, 46.62599182128906, 48.691795349121094, 2.839848279953003, -0.011815143749117851, -24.507972717285156, 14.85856819152832, 13.387815475463867, -20.033363342285156, 2.9923946857452393, -0.08005749434232712, -4.824510097503662, -28.4403018951416, 48.69370651245117, 12.102998733520508, 3.898684501647949, -7.778820514678955, 42.88090896606445, 15.473758697509766, -21.31721305847168, -35.39882278442383, -26.879592895507812, 0.7079586982727051, 12.873540878295898, 48.691795349121094, -5.530762195587158, -2.0898637771606445, -24.81053352355957, -35.235416412353516, -23.528215408325195, -14.48063850402832, -5.530762195587158, -2.0875275135040283, -34.81922912597656, -26.584178924560547, 16.915237426757812, -15.358772277832031, 12.680744171142578, 13.257713317871094, 11.103853225708008, 2.006793975830078, 31.75959587097168, 12.159367561340332, 21.573686599731445, 1.458284616470337, 1.458284616470337, 1.458284616470337, 1.458284616470337, -35.97085189819336, -23.527862548828125, -15.357011795043945, 1.458284616470337, -5.730757236480713, 35.05875778198242, -8.26956558227539, 1.458284616470337, 1.458284616470337, 1.458284616470337, 23.972444534301758, 22.08885383605957, 21.580373764038086, -9.134535789489746, 17.26609230041504, -9.051594734191895, -11.373394966125488, -7.7820143699646, 17.330265045166016, -25.55558967590332, -22.947097778320312, -12.508703231811523], \"xaxis\": \"x\", \"y\": [2.041689872741699, 6.2446794509887695, -17.86772918701172, -19.290117263793945, 9.306976318359375, -11.296616554260254, -23.303028106689453, -10.356263160705566, -5.50653600692749, -5.741379261016846, -8.204854011535645, -12.513259887695312, 8.981527328491211, 36.67159652709961, 17.411121368408203, 6.640896320343018, 6.245205402374268, 26.013689041137695, -13.951258659362793, 0.5630851984024048, 26.74750518798828, 36.67216491699219, 17.498146057128906, 29.283203125, -4.194317817687988, -2.51322078704834, -19.722431182861328, -18.078950881958008, -2.4956581592559814, -13.949883460998535, 0.11232269555330276, 11.388784408569336, -45.527923583984375, 15.223408699035645, 15.22337532043457, 15.223342895507812, 17.498146057128906, 29.485980987548828, 29.710878372192383, 10.682854652404785, -4.947037696838379, -8.15293025970459, 0.562932014465332, 26.013689041137695, -2.0863523483276367, -9.537178039550781, -24.634313583374023, 17.50116539001465, -14.091087341308594, -4.169821262359619, 6.794083118438721, 11.95849323272705, 11.80125617980957, -13.590995788574219, -10.703312873840332, -23.98760223388672, 28.203641891479492, 36.67243957519531, 17.498146057128906, -14.57335376739502, -14.470956802368164, 10.560165405273438, -10.139566421508789, -34.64396667480469, -40.071922302246094, -14.57335376739502, -14.469025611877441, -10.566267967224121, -23.1820068359375, -31.980846405029297, -41.082130432128906, -12.101188659667969, -9.082229614257812, -12.745369911193848, 29.350257873535156, -13.500709533691406, 1.3180997371673584, -1.1658142805099487, 31.45989227294922, 31.45989227294922, 31.45989227294922, 31.45989227294922, -10.8571195602417, -34.644012451171875, -41.083106994628906, 31.45989227294922, -23.361175537109375, -15.732874870300293, -16.007678985595703, 31.45989227294922, 31.45989227294922, 31.45989227294922, -3.8830621242523193, -1.5011200904846191, -1.1639094352722168, -15.874242782592773, 8.023019790649414, -13.636252403259277, -10.162243843078613, -16.133939743041992, 8.19859504699707, 8.62153434753418, 4.796411991119385, -8.916910171508789], \"yaxis\": \"y\"}, {\"customdata\": [[\"1_1a\", \"7\", \"15061-15084\", \"1_1a 1\"], [\"1_1a\", \"2\", \"15084-15088\", \"1_1a 1\"], [\"1_1a\", \"3\", \"16049-16056\", \"1_1a 1\"], [\"1_1a\", \"3\", \"16056-16058\", \"1_1a 1\"], [\"1_1a\", \"2\", \"18079-18106\", \"1_1a 1\"], [\"1_1a\", \"3\", \"24268-24295\", \"1_1a 2\"], [\"1_1a\", \"2\", \"27455-27473\", \"1_1a 3\"], [\"1_1a\", \"1\", \"29177-29195\", \"1_1a 3\"], [\"1_1a\", \"2\", \"30973-30987\", \"1_1a 3\"], [\"1_1a\", \"1\", \"30987-31068\", \"1_1a 3\"], [\"1_1a\", \"3\", \"31068-31086\", \"1_1a 3\"], [\"1_1a\", \"3\", \"31086-31089\", \"1_1a 3\"], [\"1_1a\", \"7\", \"34971-34974\", \"1_1a 3\"], [\"1_1a\", \"2\", \"34974-34983\", \"1_1a 3\"], [\"1_1a\", \"1\", \"34983-35037\", \"1_1a 3\"], [\"1_1a\", \"3\", \"35037-35055\", \"1_1a 3\"], [\"1_1a\", \"3\", \"35055-35061\", \"1_1a 3\"], [\"1_1a\", \"3\", \"36126-36144\", \"1_1a 4\"], [\"1_1a\", \"3\", \"36144-36145\", \"1_1a 4\"], [\"1_1a\", \"3\", \"41298-41310\", \"1_1a 4\"], [\"1_1a\", \"3\", \"41310-41316\", \"1_1a 4\"], [\"1_1a\", \"1\", \"56242-56251\", \"1_1a 6\"], [\"1_1a\", \"7\", \"56917-56952\", \"1_1a 6\"], [\"1_1a\", \"1\", \"57447-57482\", \"1_1a 6\"], [\"3_1b\", \"2\", \"19828-19838\", \"3_1b 3\"], [\"3_1b\", \"8\", \"21742-21753\", \"3_1b 3\"], [\"3_1b\", \"3\", \"21753-21760\", \"3_1b 3\"], [\"3_1b\", \"1\", \"24030-24048\", \"3_1b 3\"], [\"3_1b\", \"1\", \"24048-24066\", \"3_1b 3\"], [\"3_1b\", \"1\", \"38735-38754\", \"3_1b 6\"], [\"3_1b\", \"1\", \"38754-38761\", \"3_1b 6\"], [\"3_1b\", \"1\", \"39570-39588\", \"3_1b 6\"], [\"3_1b\", \"2\", \"41339-41402\", \"3_1b 6\"], [\"4_2b\", \"2\", \"10179-10188\", \"4_2b 1\"], [\"4_2b\", \"1\", \"10188-10206\", \"4_2b 1\"], [\"4_2b\", \"8\", \"17591-17595\", \"4_2b 2\"], [\"4_2b\", \"3\", \"17595-17600\", \"4_2b 2\"], [\"4_2b\", \"3\", \"21930-21933\", \"4_2b 3\"], [\"4_2b\", \"3\", \"21933-21943\", \"4_2b 3\"], [\"4_2b\", \"3\", \"24666-24772\", \"4_2b 3\"], [\"4_2b\", \"1\", \"27404-27431\", \"4_2b 3\"], [\"4_2b\", \"3\", \"29844-29853\", \"4_2b 4\"], [\"4_2b\", \"3\", \"29853-29871\", \"4_2b 4\"], [\"4_2b\", \"1\", \"29871-29880\", \"4_2b 4\"], [\"4_2b\", \"1\", \"39000-39005\", \"4_2b 5\"], [\"4_2b\", \"5\", \"43185-43191\", \"4_2b 5\"], [\"4_2b\", \"5\", \"43191-43194\", \"4_2b 5\"], [\"4_2b\", \"8\", \"48351-48357\", \"4_2b 6\"], [\"4_2b\", \"8\", \"48357-48360\", \"4_2b 6\"], [\"4_2b\", \"6\", \"48916-48929\", \"4_2b 6\"], [\"4_2b\", \"8\", \"49925-49941\", \"4_2b 6\"], [\"4_2b\", \"2\", \"49941-49988\", \"4_2b 6\"], [\"4_2b\", \"3\", \"50372-50381\", \"4_2b 6\"], [\"5_1c\", \"2\", \"2699-2700\", \"5_1c 1\"], [\"5_1c\", \"1\", \"2700-2717\", \"5_1c 1\"], [\"5_1c\", \"8\", \"11715-11733\", \"5_1c 3\"], [\"5_1c\", \"2\", \"28585-28613\", \"5_1c 6\"], [\"6_2c\", \"7\", \"6694-6696\", \"6_2c 1\"], [\"6_2c\", \"7\", \"6696-6720\", \"6_2c 1\"], [\"6_2c\", \"1\", \"7849-7892\", \"6_2c 1\"], [\"6_2c\", \"5\", \"8812-8820\", \"6_2c 1\"], [\"6_2c\", \"3\", \"8820-8856\", \"6_2c 1\"], [\"6_2c\", \"6\", \"10348-10366\", \"6_2c 1\"], [\"6_2c\", \"7\", \"13519-13527\", \"6_2c 2\"], [\"6_2c\", \"3\", \"13527-13536\", \"6_2c 2\"], [\"6_2c\", \"8\", \"15022-15030\", \"6_2c 2\"], [\"6_2c\", \"3\", \"15030-15031\", \"6_2c 2\"], [\"6_2c\", \"3\", \"16239-16245\", \"6_2c 2\"], [\"6_2c\", \"3\", \"16245-16254\", \"6_2c 2\"], [\"6_2c\", \"3\", \"16254-16262\", \"6_2c 2\"], [\"6_2c\", \"3\", \"17733-17748\", \"6_2c 2\"], [\"6_2c\", \"3\", \"17748-17755\", \"6_2c 2\"], [\"6_2c\", \"1\", \"20797-20806\", \"6_2c 3\"], [\"6_2c\", \"2\", \"21787-21804\", \"6_2c 3\"], [\"6_2c\", \"3\", \"28947-28962\", \"6_2c 4\"], [\"6_2c\", \"3\", \"28962-28978\", \"6_2c 4\"], [\"6_2c\", \"1\", \"30818-30823\", \"6_2c 4\"], [\"6_2c\", \"1\", \"32118-32132\", \"6_2c 4\"], [\"6_2c\", \"1\", \"40721-40765\", \"6_2c 6\"], [\"6_2c\", \"6\", \"41204-41217\", \"6_2c 6\"], [\"6_2c\", \"1\", \"42350-42354\", \"6_2c 6\"], [\"6_2c\", \"3\", \"42354-42363\", \"6_2c 6\"], [\"6_2c\", \"3\", \"42363-42368\", \"6_2c 6\"], [\"6_2c\", \"9\", \"44416-44442\", \"6_2c 6\"], [\"6_2c\", \"1\", \"44442-44505\", \"6_2c 6\"], [\"6_2c\", \"3\", \"44505-44516\", \"6_2c 6\"], [\"6_2c\", \"8\", \"45244-45262\", \"6_2c 6\"], [\"7_1a\", \"7\", \"19774-19791\", \"7_1a 1\"], [\"7_1a\", \"3\", \"19791-19792\", \"7_1a 1\"], [\"7_1a\", \"3\", \"20950-20968\", \"7_1a 1\"], [\"7_1a\", \"7\", \"28061-28062\", \"7_1a 1\"], [\"7_1a\", \"2\", \"28062-28079\", \"7_1a 1\"], [\"7_1a\", \"7\", \"36140-36157\", \"7_1a 3\"], [\"7_1a\", \"3\", \"37487-37512\", \"7_1a 3\"], [\"7_1a\", \"3\", \"37512-37548\", \"7_1a 3\"], [\"7_1a\", \"2\", \"37548-37550\", \"7_1a 3\"], [\"7_1a\", \"1\", \"46442-46449\", \"7_1a 4\"], [\"7_1a\", \"3\", \"46449-46458\", \"7_1a 4\"], [\"7_1a\", \"3\", \"46458-46539\", \"7_1a 4\"], [\"7_1a\", \"3\", \"46539-46557\", \"7_1a 4\"], [\"7_1a\", \"3\", \"46557-46566\", \"7_1a 4\"], [\"7_1a\", \"2\", \"49647-49674\", \"7_1a 4\"], [\"7_1a\", \"3\", \"51128-51145\", \"7_1a 4\"], [\"7_1a\", \"7\", \"62698-62703\", \"7_1a 6\"], [\"7_1a\", \"2\", \"62703-62730\", \"7_1a 6\"], [\"7_1a\", \"1\", \"62730-62743\", \"7_1a 6\"], [\"7_1a\", \"8\", \"63948-63981\", \"7_1a 6\"], [\"7_1a\", \"3\", \"63981-63990\", \"7_1a 6\"], [\"7_1a\", \"3\", \"63990-64056\", \"7_1a 6\"], [\"8_2a\", \"1\", \"4078-4104\", \"8_2a 1\"], [\"8_2a\", \"6\", \"5876-5877\", \"8_2a 1\"], [\"8_2a\", \"8\", \"5877-5889\", \"8_2a 1\"], [\"8_2a\", \"6\", \"8048-8064\", \"8_2a 1\"], [\"8_2a\", \"4\", \"8064-8082\", \"8_2a 1\"], [\"8_2a\", \"2\", \"8082-8101\", \"8_2a 1\"], [\"8_2a\", \"9\", \"8997-9000\", \"8_2a 1\"], [\"8_2a\", \"8\", \"9000-9009\", \"8_2a 1\"], [\"8_2a\", \"1\", \"9009-9023\", \"8_2a 1\"], [\"8_2a\", \"1\", \"12916-12997\", \"8_2a 2\"], [\"8_2a\", \"1\", \"16213-16218\", \"8_2a 2\"], [\"8_2a\", \"2\", \"19122-19149\", \"8_2a 3\"], [\"8_2a\", \"2\", \"20284-20295\", \"8_2a 3\"], [\"8_2a\", \"2\", \"20295-20340\", \"8_2a 3\"], [\"8_2a\", \"2\", \"20340-20349\", \"8_2a 3\"], [\"8_2a\", \"2\", \"20349-20358\", \"8_2a 3\"], [\"8_2a\", \"5\", \"20358-20364\", \"8_2a 3\"], [\"8_2a\", \"2\", \"22353-22365\", \"8_2a 3\"], [\"8_2a\", \"1\", \"22365-22371\", \"8_2a 3\"], [\"8_2a\", \"3\", \"24935-24939\", \"8_2a 3\"], [\"8_2a\", \"3\", \"24939-24945\", \"8_2a 3\"], [\"8_2a\", \"1\", \"25686-25695\", \"8_2a 3\"], [\"8_2a\", \"1\", \"25695-25699\", \"8_2a 3\"], [\"8_2a\", \"1\", \"29076-29103\", \"8_2a 4\"], [\"8_2a\", \"2\", \"32403-32412\", \"8_2a 4\"], [\"8_2a\", \"1\", \"40354-40364\", \"8_2a 5\"], [\"8_2a\", \"2\", \"43139-43166\", \"8_2a 6\"], [\"8_2a\", \"3\", \"44843-44857\", \"8_2a 6\"], [\"8_2a\", \"4\", \"45521-45525\", \"8_2a 6\"], [\"8_2a\", \"1\", \"46721-46755\", \"8_2a 6\"], [\"8_2a\", \"1\", \"46755-46773\", \"8_2a 6\"], [\"8_2a\", \"5\", \"46773-46782\", \"8_2a 6\"], [\"8_2a\", \"7\", \"46782-46795\", \"8_2a 6\"], [\"9_1b\", \"1\", \"7032-7086\", \"9_1b 1\"], [\"9_1b\", \"1\", \"9408-9444\", \"9_1b 1\"], [\"9_1b\", \"2\", \"11685-11739\", \"9_1b 2\"], [\"9_1b\", \"1\", \"16354-16362\", \"9_1b 3\"], [\"9_1b\", \"1\", \"16362-16434\", \"9_1b 3\"], [\"9_1b\", \"1\", \"16434-16444\", \"9_1b 3\"], [\"9_1b\", \"2\", \"23246-23355\", \"9_1b 3\"], [\"9_1b\", \"7\", \"30044-30060\", \"9_1b 4\"], [\"9_1b\", \"2\", \"30060-30071\", \"9_1b 4\"], [\"9_1b\", \"3\", \"34029-34056\", \"9_1b 5\"], [\"9_1b\", \"2\", \"35755-35773\", \"9_1b 6\"], [\"9_1b\", \"7\", \"36431-36467\", \"9_1b 6\"], [\"9_1b\", \"5\", \"36827-36828\", \"9_1b 6\"], [\"9_1b\", \"5\", \"36828-36846\", \"9_1b 6\"], [\"9_1b\", \"5\", \"36846-36855\", \"9_1b 6\"], [\"9_1b\", \"5\", \"36855-36935\", \"9_1b 6\"], [\"9_1b\", \"7\", \"37521-37638\", \"9_1b 6\"], [\"9_1b\", \"2\", \"37638-37647\", \"9_1b 6\"], [\"10_2b\", \"1\", \"25385-25403\", \"10_2b 1\"], [\"10_2b\", \"2\", \"29914-29932\", \"10_2b 1\"], [\"10_2b\", \"1\", \"30863-30881\", \"10_2b 2\"], [\"10_2b\", \"6\", \"37721-37730\", \"10_2b 3\"], [\"10_2b\", \"2\", \"38530-38593\", \"10_2b 3\"], [\"10_2b\", \"2\", \"41059-41104\", \"10_2b 3\"], [\"10_2b\", \"8\", \"41924-41942\", \"10_2b 3\"], [\"10_2b\", \"8\", \"42732-42777\", \"10_2b 3\"], [\"10_2b\", \"3\", \"43346-43364\", \"10_2b 3\"], [\"10_2b\", \"1\", \"61831-61840\", \"10_2b 5\"], [\"10_2b\", \"2\", \"67879-67959\", \"10_2b 6\"], [\"10_2b\", \"2\", \"68632-68706\", \"10_2b 6\"], [\"10_2b\", \"2\", \"68706-68715\", \"10_2b 6\"], [\"10_2b\", \"4\", \"68715-68721\", \"10_2b 6\"], [\"10_2b\", \"8\", \"69335-69336\", \"10_2b 6\"], [\"10_2b\", \"3\", \"69336-69354\", \"10_2b 6\"], [\"10_2b\", \"3\", \"69354-69362\", \"10_2b 6\"], [\"10_2b\", \"2\", \"70413-70425\", \"10_2b 6\"], [\"10_2b\", \"2\", \"70425-70452\", \"10_2b 6\"], [\"10_2b\", \"1\", \"70452-70458\", \"10_2b 6\"], [\"11_1c\", \"6\", \"16386-16398\", \"11_1c 1\"], [\"11_1c\", \"3\", \"16398-16404\", \"11_1c 1\"], [\"11_1c\", \"2\", \"19171-19189\", \"11_1c 1\"], [\"11_1c\", \"2\", \"27138-27144\", \"11_1c 3\"], [\"11_1c\", \"2\", \"27144-27156\", \"11_1c 3\"], [\"11_1c\", \"1\", \"28838-28847\", \"11_1c 3\"], [\"11_1c\", \"6\", \"39576-39594\", \"11_1c 4\"], [\"11_1c\", \"2\", \"47130-47157\", \"11_1c 6\"], [\"11_1c\", \"8\", \"49245-49263\", \"11_1c 6\"], [\"12_2c\", \"7\", \"26594-26595\", \"12_2c 1\"], [\"12_2c\", \"2\", \"26595-26622\", \"12_2c 1\"], [\"12_2c\", \"3\", \"26622-26628\", \"12_2c 1\"], [\"12_2c\", \"1\", \"35623-35650\", \"12_2c 3\"], [\"12_2c\", \"7\", \"36943-36963\", \"12_2c 3\"], [\"12_2c\", \"5\", \"36963-36979\", \"12_2c 3\"], [\"12_2c\", \"1\", \"56203-56230\", \"12_2c 6\"], [\"12_2c\", \"7\", \"56484-56493\", \"12_2c 6\"], [\"12_2c\", \"7\", \"56493-56502\", \"12_2c 6\"], [\"13_1a\", \"2\", \"21683-21708\", \"13_1a 4\"], [\"13_1a\", \"2\", \"21708-21762\", \"13_1a 4\"], [\"13_1a\", \"3\", \"21762-21790\", \"13_1a 4\"], [\"13_1a\", \"1\", \"35342-35360\", \"13_1a 6\"], [\"13_1a\", \"2\", \"36178-36180\", \"13_1a 6\"], [\"13_1a\", \"2\", \"36180-36196\", \"13_1a 6\"], [\"13_1a\", \"7\", \"36880-36891\", \"13_1a 6\"], [\"13_1a\", \"2\", \"36891-36907\", \"13_1a 6\"], [\"13_1a\", \"1\", \"37375-37411\", \"13_1a 6\"], [\"13_1a\", \"2\", \"37825-37836\", \"13_1a 6\"], [\"13_1a\", \"1\", \"37836-37853\", \"13_1a 6\"], [\"13_1a\", \"2\", \"38967-38985\", \"13_1a 6\"], [\"13_1a\", \"7\", \"39836-39854\", \"13_1a 6\"], [\"13_1a\", \"8\", \"40268-40286\", \"13_1a 6\"], [\"13_1a\", \"7\", \"41320-41337\", \"13_1a 6\"], [\"13_1a\", \"2\", \"41337-41338\", \"13_1a 6\"], [\"13_1a\", \"1\", \"42238-42264\", \"13_1a 6\"], [\"14_2a\", \"1\", \"11155-11175\", \"14_2a 1\"], [\"14_2a\", \"2\", \"12478-12573\", \"14_2a 1\"], [\"14_2a\", \"1\", \"12573-12586\", \"14_2a 1\"], [\"14_2a\", \"1\", \"12937-12964\", \"14_2a 1\"], [\"14_2a\", \"1\", \"16242-16254\", \"14_2a 1\"], [\"14_2a\", \"3\", \"16254-16256\", \"14_2a 1\"], [\"14_2a\", \"1\", \"25403-25416\", \"14_2a 3\"], [\"14_2a\", \"3\", \"25416-25438\", \"14_2a 3\"], [\"14_2a\", \"2\", \"33785-33812\", \"14_2a 4\"], [\"14_2a\", \"3\", \"35763-35772\", \"14_2a 4\"], [\"14_2a\", \"2\", \"48027-48069\", \"14_2a 6\"], [\"14_2a\", \"1\", \"48069-48072\", \"14_2a 6\"], [\"15_1b\", \"6\", \"10839-10854\", \"15_1b 1\"], [\"15_1b\", \"4\", \"10854-10872\", \"15_1b 1\"], [\"15_1b\", \"3\", \"10872-10875\", \"15_1b 1\"], [\"15_1b\", \"6\", \"36817-36844\", \"15_1b 6\"], [\"15_1b\", \"8\", \"38248-38286\", \"15_1b 6\"], [\"15_1b\", \"8\", \"38286-38304\", \"15_1b 6\"], [\"15_1b\", \"2\", \"38304-38331\", \"15_1b 6\"], [\"15_1b\", \"2\", \"38331-38349\", \"15_1b 6\"], [\"15_1b\", \"2\", \"38349-38385\", \"15_1b 6\"], [\"15_1b\", \"3\", \"38385-38394\", \"15_1b 6\"], [\"15_1b\", \"3\", \"38394-38412\", \"15_1b 6\"], [\"15_1b\", \"4\", \"38412-38430\", \"15_1b 6\"], [\"15_1b\", \"8\", \"38430-38491\", \"15_1b 6\"], [\"15_1b\", \"8\", \"39049-39067\", \"15_1b 6\"], [\"16_2b\", \"6\", \"7288-7299\", \"16_2b 1\"], [\"16_2b\", \"2\", \"7299-7308\", \"16_2b 1\"], [\"16_2b\", \"1\", \"7308-7317\", \"16_2b 1\"], [\"16_2b\", \"1\", \"7317-7342\", \"16_2b 1\"], [\"16_2b\", \"1\", \"10110-10125\", \"16_2b 1\"], [\"16_2b\", \"1\", \"10125-10143\", \"16_2b 1\"], [\"16_2b\", \"1\", \"15419-15444\", \"16_2b 3\"], [\"16_2b\", \"2\", \"16117-16135\", \"16_2b 3\"], [\"16_2b\", \"1\", \"17009-17036\", \"16_2b 3\"], [\"16_2b\", \"3\", \"21401-21402\", \"16_2b 4\"], [\"16_2b\", \"3\", \"21402-21418\", \"16_2b 4\"], [\"16_2b\", \"3\", \"27052-27063\", \"16_2b 5\"], [\"16_2b\", \"3\", \"27063-27070\", \"16_2b 5\"], [\"16_2b\", \"3\", \"30666-30670\", \"16_2b 5\"], [\"16_2b\", \"6\", \"31844-31853\", \"16_2b 6\"], [\"17_1c\", \"1\", \"15311-15338\", \"17_1c 2\"], [\"17_1c\", \"1\", \"17799-17820\", \"17_1c 2\"], [\"17_1c\", \"1\", \"17820-17844\", \"17_1c 2\"], [\"17_1c\", \"8\", \"18293-18338\", \"17_1c 2\"], [\"17_1c\", \"2\", \"20195-20294\", \"17_1c 3\"], [\"17_1c\", \"2\", \"21508-21526\", \"17_1c 3\"], [\"17_1c\", \"2\", \"22472-22508\", \"17_1c 3\"], [\"17_1c\", \"2\", \"23514-23532\", \"17_1c 3\"], [\"17_1c\", \"1\", \"25197-25215\", \"17_1c 3\"], [\"17_1c\", \"3\", \"27895-27900\", \"17_1c 3\"], [\"17_1c\", \"3\", \"27900-27909\", \"17_1c 3\"], [\"17_1c\", \"3\", \"27909-27921\", \"17_1c 3\"], [\"17_1c\", \"1\", \"28616-28662\", \"17_1c 3\"], [\"17_1c\", \"2\", \"36619-36646\", \"17_1c 4\"], [\"17_1c\", \"1\", \"37698-37788\", \"17_1c 4\"], [\"17_1c\", \"5\", \"43844-43848\", \"17_1c 5\"], [\"17_1c\", \"5\", \"43848-43880\", \"17_1c 5\"], [\"17_1c\", \"6\", \"49961-49968\", \"17_1c 6\"], [\"17_1c\", \"2\", \"49968-49979\", \"17_1c 6\"], [\"17_1c\", \"4\", \"52778-52794\", \"17_1c 6\"], [\"17_1c\", \"7\", \"52794-52830\", \"17_1c 6\"], [\"17_1c\", \"8\", \"52830-52839\", \"17_1c 6\"], [\"17_1c\", \"3\", \"52839-52922\", \"17_1c 6\"], [\"17_1c\", \"3\", \"53800-53809\", \"17_1c 6\"], [\"17_1c\", \"2\", \"54384-54387\", \"17_1c 6\"], [\"17_1c\", \"1\", \"54387-54439\", \"17_1c 6\"], [\"17_1c\", \"1\", \"56586-56614\", \"17_1c 6\"], [\"18_2c\", \"3\", \"1238-1260\", \"18_2c 1\"], [\"18_2c\", \"3\", \"1260-1265\", \"18_2c 1\"], [\"18_2c\", \"9\", \"16292-16305\", \"18_2c 3\"], [\"18_2c\", \"1\", \"20725-20727\", \"18_2c 4\"], [\"18_2c\", \"3\", \"20727-20732\", \"18_2c 4\"], [\"18_2c\", \"5\", \"35098-35100\", \"18_2c 5\"], [\"18_2c\", \"5\", \"35100-35116\", \"18_2c 5\"], [\"18_2c\", \"2\", \"42977-42993\", \"18_2c 6\"], [\"18_2c\", \"1\", \"42993-42995\", \"18_2c 6\"]], \"hoverlabel\": {\"namelength\": 0}, \"hovertemplate\": \"lemma=put<br>x=%{x}<br>y=%{y}<br>participant=%{customdata[0]}<br>top=%{customdata[1]}<br>step=%{customdata[2]}<br>pt=%{customdata[3]}\", \"legendgroup\": \"put\", \"marker\": {\"color\": \"#6A76FC\", \"symbol\": \"circle\"}, \"mode\": \"markers\", \"name\": \"put\", \"showlegend\": true, \"type\": \"scattergl\", \"x\": [-1.2922194004058838, -8.825255393981934, -7.876206874847412, -6.199932098388672, -22.377714157104492, -7.766945838928223, -23.938400268554688, 1.4847261905670166, 4.477116107940674, 43.87278747558594, -15.431371688842773, 35.05873489379883, -1.2884156703948975, -7.774207592010498, 43.8729133605957, -15.431377410888672, 35.05929183959961, -13.410646438598633, -12.8939208984375, -10.665386199951172, -12.89391803741455, 0.6743572950363159, -0.08101038634777069, 1.6890217065811157, -22.79664421081543, 15.473245620727539, -20.297590255737305, 12.873553276062012, 48.691795349121094, 12.873544692993164, 48.6787109375, 2.9923946857452393, -23.089832305908203, 5.218629360198975, 43.376075744628906, 15.471695899963379, -20.296831130981445, -35.565696716308594, -26.84850311279297, -8.36485767364502, 2.8929271697998047, -34.85358810424805, -24.737150192260742, -1.11733078956604, 2.9923946857452393, 23.97053337097168, 22.536239624023438, 14.955198287963867, 13.737627983093262, 10.976710319519043, 18.9204044342041, -21.921056747436523, -8.983108520507812, 4.324803829193115, 43.21426773071289, 16.610361099243164, -23.447654724121094, 2.6625378131866455, 3.603076696395874, 2.9923946857452393, 25.21133804321289, 32.56697082519531, 10.995558738708496, -0.07883890718221664, -4.812047004699707, 15.472709655761719, -20.29754638671875, -35.948204040527344, -23.52808952331543, -14.90473747253418, -5.729057788848877, 35.058074951171875, 2.0805437564849854, -24.20663833618164, -10.664785385131836, -12.89378833770752, 0.5297290682792664, 1.2853542566299438, -1.3547006845474243, 10.808767318725586, 17.275100708007812, -12.847207069396973, -2.0884644985198975, 15.02415657043457, 14.782637596130371, -14.904317855834961, 16.64404296875, -0.08112849295139313, -4.812261581420898, -8.11068344116211, -1.2865017652511597, -8.82257080078125, 1.720450758934021, -5.531339645385742, -2.0382325649261475, -20.034015655517578, 18.267139434814453, -17.300588607788086, -19.288042068481445, -21.317216873168945, -25.86907386779785, -23.923580169677734, -7.758701324462891, -1.2870845794677734, -7.774207592010498, 43.530582427978516, 15.472585678100586, -21.31730842590332, -25.935810089111328, 2.2906360626220703, 11.087181091308594, 11.165513038635254, 9.355081558227539, 8.701559066772461, -19.28619956970215, 15.385946273803711, 16.00075912475586, 5.601466655731201, -1.3547006845474243, -1.3547006845474243, -24.428974151611328, -18.037490844726562, -10.192879676818848, -9.016458511352539, 4.301564693450928, 4.114283084869385, 5.1752142906188965, 43.041160583496094, -34.85344696044922, -26.84850311279297, 5.370986461639404, 5.502394199371338, 1.1482871770858765, -23.568817138671875, 2.9838438034057617, -24.425233840942383, -7.608166694641113, 11.79442310333252, -0.5942539572715759, -1.1010864973068237, 18.846054077148438, 5.905688762664795, 0.9050837755203247, 0.7841088771820068, -22.57989501953125, 12.87354564666748, 46.62565231323242, 43.26548385620117, -24.678129196166992, -1.28510320186615, -8.823962211608887, -8.748737335205078, -24.73102569580078, 1.896943211555481, 23.963376998901367, 22.088850021362305, 21.496606826782227, 4.114063262939453, -1.2869772911071777, -8.823687553405762, 0.25029700994491577, -23.49393653869629, 1.1482819318771362, 10.968135833740234, -23.335874557495117, -23.109106063842773, 16.603349685668945, 15.472126007080078, -7.641338348388672, 1.8190377950668335, -25.08256721496582, -21.213134765625, -20.125097274780273, 12.500304222106934, 15.47248649597168, -21.316875457763672, -25.85413932800293, -21.213134765625, -20.125232696533203, 7.2936015129089355, 10.695208549499512, -0.4106265604496002, -25.289274215698242, -25.484329223632812, -23.521068572998047, 2.8388171195983887, 11.103853225708008, -25.11992835998535, 16.797060012817383, -1.2922935485839844, -8.505298614501953, -12.50861930847168, 2.9923946857452393, 2.2142930030822754, 3.955644369125366, -1.3547006845474243, 3.682368516921997, 5.334676742553711, -25.908845901489258, -20.82192039489746, -0.41040605306625366, 1.458284616470337, -18.03750228881836, -11.359947204589844, -1.2895562648773193, -8.827133178710938, 1.458284616470337, 4.787868499755859, 43.77763366699219, -21.877866744995117, 1.6953400373458862, 17.071237564086914, -1.2896063327789307, -8.827133178710938, 1.458284616470337, 1.458284616470337, 4.773346900939941, 43.58198928833008, 1.458284616470337, 17.448150634765625, -15.542865753173828, 18.316917419433594, -14.360334396362305, -23.93513298034668, -8.43896484375, 5.1371355056762695, 43.759178161621094, 9.35059642791748, 8.6921968460083, -14.132758140563965, 10.595470428466797, 16.68701934814453, 14.655786514282227, -19.202335357666016, -10.192861557006836, -8.50671100616455, -12.497591018676758, -2.148339033126831, 8.686553001403809, 13.173554420471191, 17.01382064819336, 9.011564254760742, -19.779109954833984, 46.62626266479492, 48.696434020996094, 12.873498916625977, 48.696327209472656, 1.458284616470337, -25.641437530517578, 1.458284616470337, -35.235416412353516, -26.893016815185547, -5.730714321136475, 35.05838394165039, 9.468037605285645, 10.59591007232666, 1.458284616470337, 2.1715474128723145, 4.27317476272583, 16.726572036743164, -25.725311279296875, -27.096254348754883, -27.156173706054688, -27.156173706054688, 1.458284616470337, -35.739803314208984, -23.528316497802734, -14.480881690979004, 1.458284616470337, -24.510343551635742, 1.458284616470337, 23.456212997436523, 20.873708724975586, 9.011564254760742, -20.035846710205078, 11.314800262451172, 8.214324951171875, 12.935345649719238, -20.2972469329834, -9.10116958618164, 4.6163105964660645, 43.78000259399414, 1.458284616470337, -7.541897773742676, -5.131766319274902, 15.108660697937012, 17.424922943115234, -14.620408058166504, 23.972444534301758, 22.543338775634766, 4.331264972686768, 43.66704177856445], \"xaxis\": \"x\", \"y\": [2.041961193084717, 6.245627403259277, -18.102506637573242, -10.797391891479492, 8.916191101074219, -16.14182472229004, 9.103472709655762, 29.18409538269043, -46.183006286621094, 9.185492515563965, -44.349430084228516, -15.732805252075195, 2.0426814556121826, 6.79323673248291, 9.185489654541016, -44.34943389892578, -15.733072280883789, -19.47047233581543, -19.290096282958984, -17.868425369262695, -19.29010581970215, 29.444547653198242, -2.086829900741577, 28.66258430480957, 8.110468864440918, 11.80176067352295, -13.15850830078125, 36.67164611816406, 17.498146057128906, 36.6717529296875, 17.49468994140625, 26.013689041137695, 8.841178894042969, -45.60527038574219, 12.163481712341309, 11.796834945678711, -13.15985107421875, -10.138301849365234, -23.53671646118164, -15.672455787658691, 28.425947189331055, -10.944767951965332, -25.016584396362305, 21.07344627380371, 26.013689041137695, -3.8813536167144775, -1.8581385612487793, 8.557600021362305, 8.551970481872559, -12.518126487731934, 9.78193187713623, 15.098892211914062, -15.109478950500488, -45.971702575683594, 11.206758499145508, 8.16161823272705, 9.962130546569824, -2.2389729022979736, -3.33835768699646, 26.013689041137695, -6.0463762283325195, -13.380575180053711, -12.988142013549805, -2.088179588317871, -9.61367130279541, 11.798821449279785, -13.158552169799805, -10.415135383605957, -34.6440544128418, -40.5873908996582, -23.363637924194336, -15.732941627502441, 28.532371520996094, 8.643138885498047, -17.86822509765625, -19.28997230529785, 28.485254287719727, 27.313339233398438, 26.74750518798828, -12.484390258789062, -31.571372985839844, -38.26310348510742, -14.469429969787598, -4.497123718261719, -32.805301666259766, -40.58882522583008, 8.385175704956055, -2.087411642074585, -9.614325523376465, -16.36967658996582, 2.0414702892303467, 6.244452476501465, -0.29066091775894165, -14.57366943359375, -14.929247856140137, 0.5630104541778564, -31.80466651916504, -41.26881790161133, -13.294422149658203, -13.590988159179688, -23.84604263305664, 10.719104766845703, -16.110454559326172, 2.0422661304473877, 6.79323673248291, 11.280364036560059, 11.797094345092773, -13.590924263000488, -23.967540740966797, 27.907756805419922, -11.181031227111816, -10.684338569641113, -11.66030502319336, -9.643882751464844, 10.147056579589844, -3.5810813903808594, -1.3835667371749878, 21.241832733154297, 26.74750518798828, 26.74750518798828, 8.993020057678223, 7.9252495765686035, 6.641159534454346, 5.766891002655029, 3.4521732330322266, 3.0355911254882812, -45.53568649291992, 11.260355949401855, -10.4896240234375, -23.53671646118164, 28.729116439819336, 28.72810935974121, 27.372587203979492, 10.262290000915527, 28.974931716918945, 10.099335670471191, -15.66197395324707, 1.6815769672393799, 23.288047790527344, 21.123661041259766, -5.721161365509033, -1.4948457479476929, 29.37128257751465, 29.42461585998535, 8.292139053344727, 36.6715202331543, 15.223376274108887, 11.202486991882324, 9.927889823913574, 2.042259454727173, 6.2450642585754395, -14.9802827835083, 9.309243202209473, -0.16141775250434875, -3.8835506439208984, -1.501120924949646, -1.0974504947662354, 3.0358927249908447, 2.042012929916382, 6.244831562042236, 28.90581512451172, 7.487558364868164, 27.37258529663086, -12.513259887695312, 9.551753997802734, 7.714604377746582, 8.192938804626465, 11.797067642211914, -15.431023597717285, 27.59014129638672, 8.880273818969727, 11.645735740661621, 11.419898986816406, -2.2451746463775635, 11.797757148742676, -13.590761184692383, -23.62554359436035, 11.645735740661621, 11.421217918395996, 26.240642547607422, -14.450729370117188, -13.645875930786133, 9.7724609375, 13.371532440185547, 14.89159107208252, 28.38922691345215, -12.745369911193848, 9.210573196411133, 8.547585487365723, 2.0420432090759277, 5.475980758666992, -8.916545867919922, 26.013689041137695, 0.9253743290901184, 2.5208899974823, 26.74750518798828, 0.02237599901854992, -1.0254433155059814, 5.04987907409668, 1.5684571266174316, -13.648443222045898, 31.45989227294922, 7.925251007080078, 6.9078779220581055, 2.039991855621338, 6.246665000915527, 31.45989227294922, -46.29574966430664, 11.569621086120605, 7.014348983764648, -0.626626193523407, 7.895534038543701, 2.0399913787841797, 6.246665000915527, 31.45989227294922, 31.45989227294922, -46.296112060546875, 12.07481575012207, 31.45989227294922, -33.058555603027344, -40.76893615722656, -32.658023834228516, -40.92722702026367, 7.858209609985352, -15.699211120605469, -46.186065673828125, 11.812371253967285, -11.663265228271484, -9.626078605651855, -19.708560943603516, -12.916028022766113, 6.111129283905029, 4.946626663208008, 10.090690612792969, 6.641368389129639, 5.474293231964111, -8.885335922241211, -14.318848609924316, -9.546273231506348, 3.9932215213775635, 7.858043193817139, -13.956026077270508, 0.10941624641418457, 15.223419189453125, 17.502758026123047, 36.67193603515625, 17.50270652770996, 31.45989227294922, 9.000353813171387, 31.45989227294922, -10.139566421508789, -23.941421508789062, -23.36012077331543, -15.732345581054688, -2.17584490776062, -12.91671085357666, 31.45989227294922, 23.183536529541016, 21.499353408813477, 7.931250095367432, 9.389765739440918, 8.061479568481445, 9.669943809509277, 9.669943809509277, 31.45989227294922, -11.193161010742188, -34.6437873840332, -40.0755729675293, 31.45989227294922, 7.882540702819824, 31.45989227294922, -6.537483215332031, -8.78371810913086, -13.956026077270508, 0.5632178783416748, 1.6420427560806274, 0.8986026048660278, 8.90050220489502, -13.159181594848633, -15.360856056213379, -45.36245346069336, 11.60446834564209, 31.45989227294922, -13.844303131103516, -18.070064544677734, -4.383935928344727, -33.07342529296875, -41.17455291748047, -3.8830621242523193, -1.8573646545410156, -45.65616226196289, 11.388784408569336], \"yaxis\": \"y\"}, {\"customdata\": [[\"1_1a\", \"1\", \"17378-17379\", \"1_1a 1\"], [\"1_1a\", \"3\", \"17379-17406\", \"1_1a 1\"], [\"1_1a\", \"3\", \"17406-17458\", \"1_1a 1\"], [\"1_1a\", \"5\", \"23980-24026\", \"1_1a 2\"], [\"1_1a\", \"5\", \"50993-50994\", \"1_1a 5\"], [\"1_1a\", \"5\", \"50994-51002\", \"1_1a 5\"], [\"2_2a\", \"2\", \"7225-7234\", \"2_2a 1\"], [\"2_2a\", \"1\", \"9435-9441\", \"2_2a 1\"], [\"2_2a\", \"3\", \"9441-9495\", \"2_2a 1\"], [\"2_2a\", \"3\", \"9495-9504\", \"2_2a 1\"], [\"2_2a\", \"2\", \"9504-9515\", \"2_2a 1\"], [\"2_2a\", \"3\", \"16605-16628\", \"2_2a 3\"], [\"2_2a\", \"9\", \"19146-19152\", \"2_2a 4\"], [\"2_2a\", \"8\", \"19152-19159\", \"2_2a 4\"], [\"4_2b\", \"3\", \"25356-25360\", \"4_2b 3\"], [\"4_2b\", \"2\", \"49865-49874\", \"4_2b 6\"], [\"5_1c\", \"1\", \"14012-14030\", \"5_1c 4\"], [\"5_1c\", \"2\", \"26272-26307\", \"5_1c 6\"], [\"10_2b\", \"1\", \"26750-26777\", \"10_2b 1\"], [\"10_2b\", \"2\", \"58933-58951\", \"10_2b 5\"], [\"10_2b\", \"9\", \"63049-63067\", \"10_2b 5\"], [\"11_1c\", \"9\", \"26417-26424\", \"11_1c 3\"], [\"11_1c\", \"5\", \"26424-26435\", \"11_1c 3\"], [\"12_2c\", \"3\", \"20722-20745\", \"12_2c 1\"], [\"12_2c\", \"3\", \"20745-20754\", \"12_2c 1\"], [\"12_2c\", \"3\", \"20754-20758\", \"12_2c 1\"], [\"12_2c\", \"3\", \"31014-31032\", \"12_2c 2\"], [\"12_2c\", \"4\", \"34000-34002\", \"12_2c 3\"], [\"12_2c\", \"3\", \"34002-34011\", \"12_2c 3\"], [\"12_2c\", \"3\", \"34011-34020\", \"12_2c 3\"], [\"12_2c\", \"3\", \"34020-34023\", \"12_2c 3\"], [\"12_2c\", \"7\", \"34446-34452\", \"12_2c 3\"], [\"12_2c\", \"2\", \"34452-34464\", \"12_2c 3\"], [\"12_2c\", \"1\", \"37390-37399\", \"12_2c 3\"], [\"12_2c\", \"1\", \"37874-37892\", \"12_2c 3\"], [\"12_2c\", \"3\", \"46146-46155\", \"12_2c 4\"], [\"12_2c\", \"5\", \"48684-48690\", \"12_2c 5\"], [\"12_2c\", \"5\", \"48690-48720\", \"12_2c 5\"], [\"12_2c\", \"7\", \"56470-56484\", \"12_2c 6\"], [\"12_2c\", \"7\", \"56969-57005\", \"12_2c 6\"], [\"12_2c\", \"6\", \"57938-57965\", \"12_2c 6\"], [\"15_1b\", \"2\", \"6368-6395\", \"15_1b 1\"], [\"15_1b\", \"2\", \"19559-19566\", \"15_1b 3\"], [\"15_1b\", \"1\", \"19566-19595\", \"15_1b 3\"], [\"16_2b\", \"8\", \"5777-5813\", \"16_2b 1\"], [\"16_2b\", \"2\", \"8754-8781\", \"16_2b 1\"], [\"16_2b\", \"8\", \"14871-14886\", \"16_2b 3\"], [\"17_1c\", \"3\", \"18266-18279\", \"17_1c 2\"], [\"17_1c\", \"3\", \"18279-18284\", \"17_1c 2\"], [\"18_2c\", \"8\", \"922-940\", \"18_2c 1\"]], \"hoverlabel\": {\"namelength\": 0}, \"hovertemplate\": \"lemma=get<br>x=%{x}<br>y=%{y}<br>participant=%{customdata[0]}<br>top=%{customdata[1]}<br>step=%{customdata[2]}<br>pt=%{customdata[3]}\", \"legendgroup\": \"get\", \"marker\": {\"color\": \"#FED4C4\", \"symbol\": \"circle\"}, \"mode\": \"markers\", \"name\": \"get\", \"showlegend\": true, \"type\": \"scattergl\", \"x\": [17.232688903808594, -12.847014427185059, -2.0875959396362305, 23.833850860595703, 23.963411331176758, 22.535526275634766, -23.4309139251709, 17.71282196044922, -12.847206115722656, -2.0385773181915283, -20.034297943115234, 9.469078063964844, 15.384761810302734, 15.955093383789062, -8.789369583129883, -24.607589721679688, 2.8424301147460938, -23.397377014160156, 0.4564993977546692, -24.294374465942383, 15.108660697937012, 15.780950546264648, 17.68665885925293, -34.85358810424805, -23.52861976623535, -15.479447364807129, -9.122901916503906, 11.607797622680664, -14.650444984436035, -23.528465270996094, -15.479447364807129, -1.2920477390289307, -8.82519245147705, -1.3547006845474243, -1.3547006845474243, -8.311724662780762, 23.449745178222656, 20.867918014526367, 2.2307779788970947, 2.2307775020599365, 11.103849411010742, -24.6583309173584, 5.287274360656738, 43.70573043823242, 17.01382064819336, -24.393953323364258, 16.980148315429688, -11.162729263305664, -18.479660034179688, 17.266117095947266], \"xaxis\": \"x\", \"y\": [-32.91876983642578, -38.26255798339844, -14.469042778015137, -5.395705699920654, -3.883735418319702, -1.860532283782959, 8.890067100524902, -32.30875778198242, -38.26310348510742, -14.929098129272461, 0.5630558133125305, -2.173410654067993, -3.582897663116455, -1.4405686855316162, -16.314626693725586, 9.06596851348877, 29.48695945739746, 7.542920112609863, 29.464317321777344, 10.64433479309082, -4.383936882019043, -4.748956203460693, -5.344173908233643, -10.944767951965332, -34.64408493041992, -40.2931022644043, -15.48382568359375, 1.5068246126174927, -19.885725021362305, -34.64398956298828, -40.2931022644043, 2.0420703887939453, 6.24562406539917, 26.74750518798828, 26.74750518798828, -15.613361358642578, -6.531367301940918, -8.77706527709961, -0.24499312043190002, -0.2449927031993866, -12.74531364440918, 8.287836074829102, -45.840576171875, 11.882625579833984, 7.858043193817139, 7.392621994018555, 7.855776309967041, -14.446556091308594, -13.390029907226562, 8.023062705993652], \"yaxis\": \"y\"}, {\"customdata\": [[\"1_1a\", \"1\", \"21124-21132\", \"1_1a 1\"], [\"1_1a\", \"3\", \"21132-21141\", \"1_1a 1\"], [\"1_1a\", \"3\", \"21141-21178\", \"1_1a 1\"], [\"2_2a\", \"1\", \"10220-10251\", \"2_2a 1\"], [\"2_2a\", \"3\", \"10251-10278\", \"2_2a 1\"], [\"2_2a\", \"3\", \"10278-10284\", \"2_2a 1\"], [\"3_1b\", \"1\", \"16918-16920\", \"3_1b 2\"], [\"3_1b\", \"1\", \"16920-16945\", \"3_1b 2\"], [\"4_2b\", \"4\", \"13433-13446\", \"4_2b 1\"], [\"4_2b\", \"3\", \"13446-13464\", \"4_2b 1\"], [\"4_2b\", \"3\", \"13464-13467\", \"4_2b 1\"], [\"10_2b\", \"3\", \"65867-65871\", \"10_2b 5\"], [\"10_2b\", \"3\", \"65871-65899\", \"10_2b 5\"], [\"11_1c\", \"7\", \"46287-46305\", \"11_1c 5\"], [\"11_1c\", \"3\", \"46305-46314\", \"11_1c 5\"], [\"11_1c\", \"3\", \"46314-46323\", \"11_1c 5\"], [\"12_2c\", \"1\", \"52048-52074\", \"12_2c 5\"], [\"12_2c\", \"1\", \"52074-52075\", \"12_2c 5\"], [\"14_2a\", \"1\", \"44795-44829\", \"14_2a 5\"], [\"14_2a\", \"1\", \"44829-44849\", \"14_2a 5\"]], \"hoverlabel\": {\"namelength\": 0}, \"hovertemplate\": \"lemma=stop<br>x=%{x}<br>y=%{y}<br>participant=%{customdata[0]}<br>top=%{customdata[1]}<br>step=%{customdata[2]}<br>pt=%{customdata[3]}\", \"legendgroup\": \"stop\", \"marker\": {\"color\": \"#FE00CE\", \"symbol\": \"circle\"}, \"mode\": \"markers\", \"name\": \"stop\", \"showlegend\": true, \"type\": \"scattergl\", \"x\": [17.498655319213867, -12.847003936767578, -2.088404893875122, 17.765369415283203, -16.034072875976562, -12.893922805786133, 12.873541831970215, 48.691795349121094, 11.603845596313477, -14.650419235229492, -26.09902572631836, -34.94411087036133, -26.019704818725586, -0.08364010602235794, -4.715738773345947, -2.08835506439209, 12.87354564666748, 48.69175720214844, 12.873481750488281, 48.69643783569336], \"xaxis\": \"x\", \"y\": [-31.499807357788086, -38.2625617980957, -14.46904468536377, -33.06227111816406, -38.15135955810547, -19.29010772705078, 36.67174530029297, 17.498146057128906, 1.50555419921875, -19.8857364654541, -23.242408752441406, -10.356263160705566, -23.28265380859375, -2.0883896350860596, -9.737555503845215, -14.469045639038086, 36.67189407348633, 17.49813461303711, 36.67245101928711, 17.502758026123047], \"yaxis\": \"y\"}, {\"customdata\": [[\"1_1a\", \"1\", \"24637-24642\", \"1_1a 2\"], [\"1_1a\", \"3\", \"24642-24646\", \"1_1a 2\"], [\"1_1a\", \"3\", \"46108-46116\", \"1_1a 5\"], [\"1_1a\", \"1\", \"48407-48416\", \"1_1a 5\"], [\"1_1a\", \"3\", \"49986-50004\", \"1_1a 5\"], [\"1_1a\", \"3\", \"50004-50022\", \"1_1a 5\"], [\"2_2a\", \"1\", \"8117-8135\", \"2_2a 1\"], [\"2_2a\", \"2\", \"36667-36683\", \"2_2a 5\"], [\"3_1b\", \"1\", \"35166-35194\", \"3_1b 5\"], [\"4_2b\", \"2\", \"14247-14256\", \"4_2b 2\"], [\"4_2b\", \"6\", \"16651-16669\", \"4_2b 2\"], [\"4_2b\", \"2\", \"29627-29631\", \"4_2b 4\"], [\"4_2b\", \"5\", \"41322-41326\", \"4_2b 5\"], [\"4_2b\", \"5\", \"43097-43110\", \"4_2b 5\"], [\"4_2b\", \"3\", \"43110-43114\", \"4_2b 5\"], [\"5_1c\", \"2\", \"1043-1052\", \"5_1c 1\"], [\"5_1c\", \"1\", \"5102-5120\", \"5_1c 1\"], [\"5_1c\", \"3\", \"7280-7307\", \"5_1c 2\"], [\"5_1c\", \"3\", \"24480-24489\", \"5_1c 5\"], [\"5_1c\", \"1\", \"29963-30008\", \"5_1c 6\"], [\"6_2c\", \"3\", \"14219-14220\", \"6_2c 2\"], [\"6_2c\", \"3\", \"14220-14227\", \"6_2c 2\"], [\"6_2c\", \"1\", \"18014-18032\", \"6_2c 2\"], [\"6_2c\", \"3\", \"18449-18468\", \"6_2c 2\"], [\"7_1a\", \"1\", \"32641-32643\", \"7_1a 2\"], [\"7_1a\", \"3\", \"32643-32650\", \"7_1a 2\"], [\"7_1a\", \"1\", \"34247-34265\", \"7_1a 2\"], [\"8_2a\", \"3\", \"11245-11250\", \"8_2a 2\"], [\"8_2a\", \"3\", \"11250-11295\", \"8_2a 2\"], [\"8_2a\", \"3\", \"11295-11313\", \"8_2a 2\"], [\"8_2a\", \"3\", \"11313-11367\", \"8_2a 2\"], [\"8_2a\", \"3\", \"11367-11385\", \"8_2a 2\"], [\"8_2a\", \"3\", \"11385-11448\", \"8_2a 2\"], [\"8_2a\", \"3\", \"11448-11457\", \"8_2a 2\"], [\"8_2a\", \"3\", \"11457-11462\", \"8_2a 2\"], [\"8_2a\", \"7\", \"22335-22338\", \"8_2a 3\"], [\"8_2a\", \"2\", \"22338-22339\", \"8_2a 3\"], [\"8_2a\", \"4\", \"22502-22507\", \"8_2a 3\"], [\"9_1b\", \"7\", \"13188-13206\", \"9_1b 2\"], [\"9_1b\", \"2\", \"15904-15913\", \"9_1b 3\"], [\"10_2b\", \"6\", \"60461-60489\", \"10_2b 5\"], [\"10_2b\", \"3\", \"65780-65781\", \"10_2b 5\"], [\"10_2b\", \"3\", \"65781-65798\", \"10_2b 5\"], [\"11_1c\", \"2\", \"16890-16893\", \"11_1c 1\"], [\"11_1c\", \"2\", \"16893-16908\", \"11_1c 1\"], [\"11_1c\", \"1\", \"19496-19514\", \"11_1c 1\"], [\"11_1c\", \"6\", \"21988-22006\", \"11_1c 2\"], [\"11_1c\", \"7\", \"24914-24941\", \"11_1c 2\"], [\"11_1c\", \"NA\", \"26336-26354\", \"11_1c 3\"], [\"11_1c\", \"1\", \"45171-45180\", \"11_1c 5\"], [\"11_1c\", \"3\", \"45180-45199\", \"11_1c 5\"], [\"11_1c\", \"2\", \"47031-47067\", \"11_1c 6\"], [\"11_1c\", \"7\", \"47535-47553\", \"11_1c 6\"], [\"12_2c\", \"1\", \"22429-22438\", \"12_2c 1\"], [\"12_2c\", \"2\", \"38914-38950\", \"12_2c 3\"], [\"12_2c\", \"1\", \"46778-46800\", \"12_2c 5\"], [\"12_2c\", \"3\", \"46800-46814\", \"12_2c 5\"], [\"12_2c\", \"1\", \"47973-48000\", \"12_2c 5\"], [\"13_1a\", \"1\", \"9730-9757\", \"13_1a 2\"], [\"13_1a\", \"1\", \"11782-11809\", \"13_1a 2\"], [\"13_1a\", \"1\", \"12934-12942\", \"13_1a 2\"], [\"13_1a\", \"1\", \"12942-12960\", \"13_1a 2\"], [\"13_1a\", \"1\", \"12960-12988\", \"13_1a 2\"], [\"13_1a\", \"1\", \"14229-14256\", \"13_1a 2\"], [\"14_2a\", \"2\", \"10974-11001\", \"14_2a 1\"], [\"14_2a\", \"4\", \"11688-11700\", \"14_2a 1\"], [\"14_2a\", \"8\", \"11700-11706\", \"14_2a 1\"], [\"14_2a\", \"1\", \"13804-13831\", \"14_2a 1\"], [\"14_2a\", \"2\", \"16893-16906\", \"14_2a 2\"], [\"14_2a\", \"1\", \"19642-19651\", \"14_2a 2\"], [\"14_2a\", \"1\", \"20439-20493\", \"14_2a 2\"], [\"14_2a\", \"1\", \"21607-21616\", \"14_2a 2\"], [\"14_2a\", \"1\", \"22463-22472\", \"14_2a 2\"], [\"14_2a\", \"1\", \"43915-43959\", \"14_2a 5\"], [\"14_2a\", \"8\", \"45732-45765\", \"14_2a 6\"], [\"14_2a\", \"8\", \"45765-45778\", \"14_2a 6\"], [\"15_1b\", \"2\", \"7763-7799\", \"15_1b 1\"], [\"15_1b\", \"1\", \"12460-12465\", \"15_1b 1\"], [\"15_1b\", \"3\", \"12465-12469\", \"15_1b 1\"], [\"15_1b\", \"8\", \"17601-17628\", \"15_1b 2\"], [\"15_1b\", \"1\", \"35292-35325\", \"15_1b 5\"], [\"15_1b\", \"3\", \"35325-35334\", \"15_1b 5\"], [\"15_1b\", \"3\", \"35334-35336\", \"15_1b 5\"], [\"16_2b\", \"6\", \"9894-9903\", \"16_2b 1\"], [\"16_2b\", \"5\", \"12684-12702\", \"16_2b 2\"], [\"16_2b\", \"1\", \"13947-13950\", \"16_2b 2\"], [\"16_2b\", \"3\", \"13950-13951\", \"16_2b 2\"], [\"16_2b\", \"3\", \"27681-27684\", \"16_2b 5\"], [\"16_2b\", \"3\", \"27684-27690\", \"16_2b 5\"], [\"17_1c\", \"1\", \"12505-12541\", \"17_1c 2\"], [\"17_1c\", \"3\", \"16659-16686\", \"17_1c 2\"], [\"17_1c\", \"1\", \"39727-39735\", \"17_1c 5\"], [\"17_1c\", \"3\", \"39735-39736\", \"17_1c 5\"], [\"17_1c\", \"1\", \"47113-47149\", \"17_1c 5\"], [\"18_2c\", \"2\", \"447-468\", \"18_2c 1\"], [\"18_2c\", \"1\", \"468-473\", \"18_2c 1\"], [\"18_2c\", \"1\", \"2811-2820\", \"18_2c 1\"], [\"18_2c\", \"2\", \"4696-4716\", \"18_2c 1\"], [\"18_2c\", \"3\", \"4716-4723\", \"18_2c 1\"], [\"18_2c\", \"3\", \"5559-5562\", \"18_2c 1\"], [\"18_2c\", \"3\", \"5562-5564\", \"18_2c 1\"], [\"18_2c\", \"1\", \"18450-18468\", \"18_2c 3\"], [\"18_2c\", \"5\", \"35574-35583\", \"18_2c 5\"], [\"18_2c\", \"3\", \"38119-38177\", \"18_2c 5\"]], \"hoverlabel\": {\"namelength\": 0}, \"hovertemplate\": \"lemma=eat<br>x=%{x}<br>y=%{y}<br>participant=%{customdata[0]}<br>top=%{customdata[1]}<br>step=%{customdata[2]}<br>pt=%{customdata[3]}\", \"legendgroup\": \"eat\", \"marker\": {\"color\": \"#0DF9FF\", \"symbol\": \"circle\"}, \"mode\": \"markers\", \"name\": \"eat\", \"showlegend\": true, \"type\": \"scattergl\", \"x\": [17.78532600402832, -14.254607200622559, -5.729519367218018, 0.33442655205726624, -16.0323486328125, -13.410646438598633, -1.3547006845474243, -22.336084365844727, -1.3547006845474243, 4.602058410644531, 10.968135833740234, -22.75349998474121, 23.833850860595703, 25.211341857910156, 32.51366424560547, -23.12416648864746, 2.278825521469116, -7.954530239105225, -15.431231498718262, 2.9923946857452393, -35.74581527709961, -26.84857749938965, 1.7317402362823486, -34.818992614746094, 17.61586570739746, -14.997894287109375, 2.9838650226593018, -5.729499340057373, 33.64448547363281, 31.758955001831055, -23.528301239013672, -23.528310775756836, -23.528305053710938, -23.528297424316406, -25.822343826293945, -1.2811150550842285, -8.822977066040039, 11.794451713562012, 1.8830758333206177, -22.54058837890625, 10.549237251281738, -7.876167297363281, -6.19964075088501, -18.037490844726562, -11.35619831085205, 1.9284746646881104, 11.03467845916748, 2.235834836959839, 9.400389671325684, 43.872764587402344, -14.585066795349121, -24.874473571777344, 2.116560935974121, 2.16190505027771, -24.888063430786133, 17.140104293823242, -15.295336723327637, -1.3547006845474243, -1.3547006845474243, 2.9923946857452393, 12.87350082397461, 46.62583541870117, 42.857906341552734, 2.9923946857452393, -23.98338508605957, 12.04552936553955, 13.174187660217285, 1.458284616470337, -25.641437530517578, 1.458284616470337, 18.040613174438477, 1.458284616470337, 1.458284616470337, 1.458284616470337, 16.68701934814453, 14.616676330566406, -24.883777618408203, 17.8392391204834, -14.877387046813965, 17.071237564086914, 18.040613174438477, -15.431268692016602, 35.059303283691406, 10.595848083496094, 23.835813522338867, 17.712085723876953, -15.013829231262207, -5.7307281494140625, 35.058372497558594, 1.458284616470337, -9.021651268005371, 17.878551483154297, -15.135908126831055, 1.458284616470337, 5.286866188049316, 43.62476348876953, 1.458284616470337, -22.947216033935547, -12.508419036865234, -35.77934646606445, -26.09903907775879, 1.458284616470337, 23.835708618164062, -8.45645809173584], \"xaxis\": \"x\", \"y\": [-31.53533935546875, -40.498146057128906, -23.36288070678711, 28.47699546813965, -38.15176773071289, -19.47047233581543, 26.74750518798828, 9.624734878540039, 26.74750518798828, -46.2578239440918, -12.513259887695312, 9.932069778442383, -5.395705223083496, -6.046377182006836, -13.581634521484375, 10.465142250061035, 28.802671432495117, -14.95389175415039, -44.34907913208008, 26.013689041137695, -10.247154235839844, -23.536983489990234, 27.5590877532959, -10.565953254699707, -32.066959381103516, -41.26766586303711, 28.974443435668945, -23.361852645874023, -14.526900291442871, -13.499987602233887, -34.64423751831055, -34.64405822753906, -34.644046783447266, -34.644073486328125, -23.587324142456055, 2.0397555828094482, 6.244766712188721, 1.681583046913147, -0.1649087518453598, 9.174419403076172, -12.710383415222168, -18.10197639465332, -10.797462463378906, 7.925250053405762, 6.907924652099609, 29.3384952545166, -12.949337005615234, -0.2515195608139038, -2.202617645263672, 9.185498237609863, -41.15956115722656, 8.740171432495117, -0.17247168719768524, 29.34910011291504, 10.536003112792969, -32.86188507080078, -40.01218032836914, 26.74750518798828, 26.74750518798828, 26.013689041137695, 36.67083740234375, 15.223390579223633, 11.948592185974121, 26.013689041137695, 7.3853230476379395, 2.2779266834259033, 3.9938101768493652, 31.45989227294922, 9.000353813171387, 31.45989227294922, -32.95159149169922, 31.45989227294922, 31.45989227294922, 31.45989227294922, 6.111129283905029, 4.914857864379883, 8.365569114685059, -32.500816345214844, -39.925193786621094, 7.895534038543701, -32.95159149169922, -44.34941482543945, -15.733080863952637, -12.91661548614502, -5.397412300109863, -32.20591354370117, -41.2695198059082, -23.360105514526367, -15.732358932495117, 31.45989227294922, -15.152046203613281, -31.55692481994629, -39.950443267822266, 31.45989227294922, -45.855812072753906, 12.02505111694336, 31.45989227294922, 4.796415328979492, -8.917193412780762, -10.277481079101562, -23.242401123046875, 31.45989227294922, -5.397111892700195, -16.42616081237793], \"yaxis\": \"y\"}, {\"customdata\": [[\"1_1a\", \"1\", \"26943-26979\", \"1_1a 3\"], [\"2_2a\", \"5\", \"15749-15759\", \"2_2a 3\"], [\"2_2a\", \"5\", \"15759-15767\", \"2_2a 3\"], [\"2_2a\", \"3\", \"16483-16500\", \"2_2a 3\"], [\"2_2a\", \"3\", \"16913-16926\", \"2_2a 3\"], [\"3_1b\", \"1\", \"21492-21510\", \"3_1b 3\"], [\"3_1b\", \"3\", \"21510-21519\", \"3_1b 3\"], [\"3_1b\", \"3\", \"21519-21537\", \"3_1b 3\"], [\"4_2b\", \"7\", \"21795-21798\", \"4_2b 3\"], [\"4_2b\", \"7\", \"21798-21807\", \"4_2b 3\"], [\"4_2b\", \"4\", \"21807-21814\", \"4_2b 3\"], [\"4_2b\", \"3\", \"28461-28470\", \"4_2b 3\"], [\"4_2b\", \"3\", \"53763-53766\", \"4_2b 6\"], [\"4_2b\", \"3\", \"53766-53771\", \"4_2b 6\"], [\"6_2c\", \"1\", \"21215-21231\", \"6_2c 3\"], [\"6_2c\", \"1\", \"21231-21240\", \"6_2c 3\"], [\"6_2c\", \"3\", \"23206-23219\", \"6_2c 3\"], [\"6_2c\", \"6\", \"25470-25488\", \"6_2c 3\"], [\"6_2c\", \"6\", \"25488-25498\", \"6_2c 3\"], [\"6_2c\", \"1\", \"38807-38823\", \"6_2c 5\"], [\"7_1a\", \"3\", \"15159-15165\", \"7_1a 1\"], [\"7_1a\", \"3\", \"15165-15239\", \"7_1a 1\"], [\"7_1a\", \"1\", \"17780-17825\", \"7_1a 1\"], [\"7_1a\", \"2\", \"18211-18252\", \"7_1a 1\"], [\"7_1a\", \"1\", \"18252-18256\", \"7_1a 1\"], [\"7_1a\", \"1\", \"39058-39085\", \"7_1a 3\"], [\"7_1a\", \"3\", \"40601-40626\", \"7_1a 3\"], [\"7_1a\", \"3\", \"40626-40716\", \"7_1a 3\"], [\"7_1a\", \"5\", \"40716-40717\", \"7_1a 3\"], [\"7_1a\", \"1\", \"41076-41139\", \"7_1a 3\"], [\"8_2a\", \"1\", \"17758-17775\", \"8_2a 3\"], [\"8_2a\", \"3\", \"17775-17786\", \"8_2a 3\"], [\"8_2a\", \"3\", \"22673-22686\", \"8_2a 3\"], [\"10_2b\", \"1\", \"36813-36942\", \"10_2b 3\"], [\"12_2c\", \"7\", \"25458-25479\", \"12_2c 1\"], [\"12_2c\", \"3\", \"25479-25533\", \"12_2c 1\"], [\"12_2c\", \"3\", \"25533-25584\", \"12_2c 1\"], [\"12_2c\", \"2\", \"34473-34488\", \"12_2c 3\"], [\"12_2c\", \"1\", \"34488-34506\", \"12_2c 3\"], [\"12_2c\", \"3\", \"34506-34509\", \"12_2c 3\"], [\"12_2c\", \"5\", \"37667-37674\", \"12_2c 3\"], [\"12_2c\", \"3\", \"37674-37694\", \"12_2c 3\"], [\"14_2a\", \"3\", \"25780-25785\", \"14_2a 3\"], [\"14_2a\", \"3\", \"25785-25821\", \"14_2a 3\"], [\"14_2a\", \"3\", \"25821-25825\", \"14_2a 3\"], [\"16_2b\", \"3\", \"16748-16758\", \"16_2b 3\"], [\"16_2b\", \"3\", \"16758-16824\", \"16_2b 3\"], [\"18_2c\", \"1\", \"10160-10161\", \"18_2c 2\"], [\"18_2c\", \"3\", \"10161-10170\", \"18_2c 2\"], [\"18_2c\", \"3\", \"10170-10205\", \"18_2c 2\"], [\"18_2c\", \"1\", \"16064-16090\", \"18_2c 3\"]], \"hoverlabel\": {\"namelength\": 0}, \"hovertemplate\": \"lemma=wash<br>x=%{x}<br>y=%{y}<br>participant=%{customdata[0]}<br>top=%{customdata[1]}<br>step=%{customdata[2]}<br>pt=%{customdata[3]}\", \"legendgroup\": \"wash\", \"marker\": {\"color\": \"#F6F926\", \"symbol\": \"circle\"}, \"mode\": \"markers\", \"name\": \"wash\", \"showlegend\": true, \"type\": \"scattergl\", \"x\": [2.3267414569854736, 23.96497344970703, 22.536422729492188, 9.468503952026367, 9.468315124511719, 17.471416473388672, -17.299768447875977, -19.287263870239258, 3.684694766998291, 5.344793319702148, 12.609028816223145, -8.898560523986816, -35.71474838256836, -25.988000869750977, -0.5939995646476746, -1.041549563407898, -7.68343448638916, 12.678717613220215, 13.255776405334473, -1.3547006845474243, -35.235416412353516, -25.872575759887695, 1.11037278175354, 4.328469753265381, 43.041160583496094, 2.290628433227539, -11.162248611450195, -18.358949661254883, 20.04909896850586, 48.691795349121094, 18.01014518737793, -14.859201431274414, -8.010104179382324, 0.6738783717155457, -0.08364000916481018, -4.716132640838623, -2.087514638900757, 5.166147708892822, 43.87311935424805, -14.632509231567383, 25.215232849121094, 32.51381301879883, -34.847835540771484, -23.527862548828125, -14.360334396362305, -35.00047302246094, -26.283763885498047, 17.27761459350586, -23.528301239013672, -26.584178924560547, 1.458284616470337], \"xaxis\": \"x\", \"y\": [28.809694290161133, -3.882368326187134, -1.8578824996948242, -2.1735284328460693, -2.173151731491089, -31.537126541137695, -41.268798828125, -13.294342041015625, 0.021429888904094696, -1.0113791227340698, -2.495365619659424, -16.24247169494629, -10.204811096191406, -24.08763313293457, 23.287240982055664, 21.109392166137695, -15.31886100769043, -12.099129676818848, -9.081164360046387, 26.74750518798828, -10.139566421508789, -23.84893798828125, 28.062999725341797, -46.02251434326172, 11.260355949401855, 27.90775489807129, -14.446566581726074, -13.40331745147705, 3.894362688064575, 17.498146057128906, -32.97055435180664, -39.933597564697266, -14.929181098937988, 27.44563102722168, -2.088390588760376, -9.736626625061035, -14.469024658203125, -45.520751953125, 9.185699462890625, -39.95927810668945, -6.046247482299805, -13.581535339355469, -10.933921813964844, -34.644012451171875, -40.92722702026367, -11.2102632522583, -24.207090377807617, -31.56551170349121, -34.64423751831055, -23.1820068359375, 31.45989227294922], \"yaxis\": \"y\"}, {\"customdata\": [[\"1_1a\", \"4\", \"33784-33786\", \"1_1a 3\"], [\"1_1a\", \"5\", \"33786-33822\", \"1_1a 3\"], [\"1_1a\", \"3\", \"33822-33831\", \"1_1a 3\"], [\"1_1a\", \"3\", \"33831-33839\", \"1_1a 3\"], [\"3_1b\", \"2\", \"20449-20539\", \"3_1b 3\"], [\"4_2b\", \"1\", \"35708-35717\", \"4_2b 4\"], [\"8_2a\", \"3\", \"25928-25929\", \"8_2a 3\"], [\"8_2a\", \"3\", \"25929-25938\", \"8_2a 3\"], [\"8_2a\", \"3\", \"25938-25947\", \"8_2a 3\"], [\"8_2a\", \"3\", \"25947-25951\", \"8_2a 3\"], [\"17_1c\", \"1\", \"32057-32074\", \"17_1c 4\"]], \"hoverlabel\": {\"namelength\": 0}, \"hovertemplate\": \"lemma=give<br>x=%{x}<br>y=%{y}<br>participant=%{customdata[0]}<br>top=%{customdata[1]}<br>step=%{customdata[2]}<br>pt=%{customdata[3]}\", \"legendgroup\": \"give\", \"marker\": {\"color\": \"#FF9616\", \"symbol\": \"circle\"}, \"mode\": \"markers\", \"name\": \"give\", \"showlegend\": true, \"type\": \"scattergl\", \"x\": [12.155719757080078, 21.511199951171875, 33.644371032714844, 35.05817413330078, -23.529766082763672, 2.9923946857452393, -35.894569396972656, -23.528301239013672, -12.441010475158691, -5.13189172744751, 1.458284616470337], \"xaxis\": \"x\", \"y\": [1.3167163133621216, -1.0907095670700073, -14.526571273803711, -15.73239517211914, 9.60474681854248, 26.013689041137695, -11.009783744812012, -34.64423751831055, -41.59059524536133, -18.06998634338379, 31.45989227294922], \"yaxis\": \"y\"}, {\"customdata\": [[\"1_1a\", \"7\", \"34396-34414\", \"1_1a 3\"], [\"1_1a\", \"1\", \"40283-40292\", \"1_1a 4\"], [\"1_1a\", \"9\", \"42608-42617\", \"1_1a 4\"], [\"1_1a\", \"3\", \"43595-43622\", \"1_1a 4\"], [\"2_2a\", \"2\", \"17602-17628\", \"2_2a 3\"], [\"4_2b\", \"2\", \"49874-49890\", \"4_2b 6\"], [\"4_2b\", \"7\", \"51608-51631\", \"4_2b 6\"], [\"5_1c\", \"2\", \"12749-12753\", \"5_1c 3\"], [\"5_1c\", \"1\", \"12753-12776\", \"5_1c 3\"], [\"6_2c\", \"1\", \"19470-19523\", \"6_2c 3\"], [\"6_2c\", \"2\", \"33919-33937\", \"6_2c 5\"], [\"7_1a\", \"1\", \"39282-39300\", \"7_1a 3\"], [\"8_2a\", \"9\", \"21102-21114\", \"8_2a 3\"], [\"8_2a\", \"7\", \"21114-21124\", \"8_2a 3\"], [\"8_2a\", \"2\", \"21357-21375\", \"8_2a 3\"], [\"8_2a\", \"1\", \"21375-21410\", \"8_2a 3\"], [\"8_2a\", \"3\", \"27201-27246\", \"8_2a 4\"], [\"11_1c\", \"3\", \"26832-26865\", \"11_1c 3\"], [\"11_1c\", \"3\", \"26865-26867\", \"11_1c 3\"], [\"11_1c\", \"8\", \"33962-33989\", \"11_1c 4\"], [\"11_1c\", \"7\", \"34662-34734\", \"11_1c 4\"], [\"12_2c\", \"8\", \"39390-39408\", \"12_2c 3\"], [\"13_1a\", \"2\", \"15251-15255\", \"13_1a 3\"], [\"13_1a\", \"1\", \"15255-15278\", \"13_1a 3\"], [\"13_1a\", \"8\", \"15783-15786\", \"13_1a 3\"], [\"13_1a\", \"8\", \"15786-15804\", \"13_1a 3\"], [\"13_1a\", \"7\", \"15804-15810\", \"13_1a 3\"], [\"13_1a\", \"7\", \"16755-16782\", \"13_1a 3\"], [\"15_1b\", \"6\", \"23192-23220\", \"15_1b 3\"], [\"15_1b\", \"4\", \"23220-23228\", \"15_1b 3\"], [\"15_1b\", \"4\", \"32890-32904\", \"15_1b 5\"], [\"15_1b\", \"1\", \"32904-32913\", \"15_1b 5\"], [\"15_1b\", \"3\", \"32913-32922\", \"15_1b 5\"], [\"15_1b\", \"3\", \"32922-32926\", \"15_1b 5\"], [\"16_2b\", \"9\", \"14700-14751\", \"16_2b 3\"]], \"hoverlabel\": {\"namelength\": 0}, \"hovertemplate\": \"lemma=throw<br>x=%{x}<br>y=%{y}<br>participant=%{customdata[0]}<br>top=%{customdata[1]}<br>step=%{customdata[2]}<br>pt=%{customdata[3]}\", \"legendgroup\": \"throw\", \"marker\": {\"color\": \"#479B55\", \"symbol\": \"circle\"}, \"mode\": \"markers\", \"name\": \"throw\", \"showlegend\": true, \"type\": \"scattergl\", \"x\": [2.065009117126465, -0.37107953429222107, 15.108439445495605, -8.349502563476562, -24.466840744018555, -25.204397201538086, 2.2882637977600098, 5.102048873901367, 43.17676544189453, 2.791006088256836, -22.86447525024414, 2.1618947982788086, 14.95606517791748, 5.906839847564697, 5.218629360198975, 42.79029083251953, -8.300960540771484, -10.665386199951172, -12.892831802368164, 16.947071075439453, 2.2358357906341553, 16.947071075439453, 4.3218889236450195, 43.37044906616211, 16.68436622619629, 14.622467041015625, 8.257521629333496, 2.2541284561157227, 9.35059642791748, 8.702471733093262, 11.734979629516602, 7.428612232208252, -23.52833366394043, -26.09903907775879, 15.384709358215332], \"xaxis\": \"x\", \"y\": [-0.812225341796875, 29.319726943969727, -4.384066104888916, -14.828132629394531, 9.630824089050293, 10.177183151245117, -0.6426236629486084, -46.224613189697266, 12.16036605834961, 28.349836349487305, 10.176166534423828, 29.349061965942383, -4.483369827270508, -1.4952579736709595, -45.60527038574219, 11.462325096130371, -15.301905632019043, -17.868425369262695, -19.289331436157227, 8.579251289367676, -0.2515197992324829, 8.579251289367676, -45.693939208984375, 11.21819019317627, 6.109682083129883, 4.91422176361084, 0.8862708210945129, -0.2715677320957184, -11.663265228271484, -9.629798889160156, 1.6901681423187256, 26.171401977539062, -34.64403533935547, -23.242401123046875, -3.580197811126709], \"yaxis\": \"y\"}, {\"customdata\": [[\"1_1a\", \"1\", \"35839-35856\", \"1_1a 4\"], [\"1_1a\", \"3\", \"35856-35866\", \"1_1a 4\"], [\"1_1a\", \"3\", \"37206-37215\", \"1_1a 4\"], [\"1_1a\", \"9\", \"42303-42309\", \"1_1a 4\"], [\"1_1a\", \"4\", \"42309-42318\", \"1_1a 4\"], [\"1_1a\", \"4\", \"42318-42329\", \"1_1a 4\"], [\"2_2a\", \"6\", \"19011-19025\", \"2_2a 4\"], [\"2_2a\", \"2\", \"20156-20160\", \"2_2a 4\"], [\"2_2a\", \"2\", \"20160-20169\", \"2_2a 4\"], [\"2_2a\", \"2\", \"20169-20170\", \"2_2a 4\"], [\"3_1b\", \"2\", \"25276-25294\", \"3_1b 4\"], [\"3_1b\", \"7\", \"30530-30539\", \"3_1b 4\"], [\"4_2b\", \"6\", \"53327-53344\", \"4_2b 6\"], [\"5_1c\", \"3\", \"22688-22706\", \"5_1c 5\"], [\"5_1c\", \"3\", \"30530-30537\", \"5_1c 6\"], [\"5_1c\", \"3\", \"30537-30575\", \"5_1c 6\"], [\"6_2c\", \"1\", \"36622-36627\", \"6_2c 5\"], [\"7_1a\", \"2\", \"28457-28493\", \"7_1a 1\"], [\"7_1a\", \"1\", \"36615-36660\", \"7_1a 3\"], [\"7_1a\", \"2\", \"41892-41919\", \"7_1a 3\"], [\"8_2a\", \"1\", \"28182-28217\", \"8_2a 4\"], [\"8_2a\", \"8\", \"34842-34848\", \"8_2a 4\"], [\"8_2a\", \"8\", \"34848-34853\", \"8_2a 4\"], [\"8_2a\", \"3\", \"37793-37829\", \"8_2a 5\"], [\"8_2a\", \"1\", \"42990-42999\", \"8_2a 6\"], [\"9_1b\", \"1\", \"23924-23940\", \"9_1b 4\"], [\"9_1b\", \"3\", \"23940-23942\", \"9_1b 4\"], [\"9_1b\", \"7\", \"34839-34857\", \"9_1b 5\"], [\"9_1b\", \"2\", \"38223-38241\", \"9_1b 6\"], [\"9_1b\", \"2\", \"38241-38268\", \"9_1b 6\"], [\"10_2b\", \"1\", \"44126-44135\", \"10_2b 4\"], [\"10_2b\", \"2\", \"50730-50739\", \"10_2b 4\"], [\"11_1c\", \"5\", \"48632-48636\", \"11_1c 6\"], [\"11_1c\", \"5\", \"48636-48645\", \"11_1c 6\"], [\"11_1c\", \"7\", \"48645-48659\", \"11_1c 6\"], [\"12_2c\", \"3\", \"41046-41055\", \"12_2c 4\"], [\"13_1a\", \"2\", \"21169-21205\", \"13_1a 4\"], [\"13_1a\", \"3\", \"21439-21447\", \"13_1a 4\"], [\"13_1a\", \"3\", \"21447-21457\", \"13_1a 4\"], [\"14_2a\", \"5\", \"29336-29340\", \"14_2a 3\"], [\"14_2a\", \"3\", \"29340-29354\", \"14_2a 3\"], [\"14_2a\", \"7\", \"29894-29903\", \"14_2a 4\"], [\"14_2a\", \"2\", \"32602-32654\", \"14_2a 4\"], [\"14_2a\", \"1\", \"35610-35619\", \"14_2a 4\"], [\"14_2a\", \"1\", \"41404-41421\", \"14_2a 5\"], [\"15_1b\", \"9\", \"24319-24327\", \"15_1b 4\"], [\"15_1b\", \"5\", \"24327-24336\", \"15_1b 4\"], [\"15_1b\", \"7\", \"37960-37996\", \"15_1b 6\"], [\"17_1c\", \"1\", \"29888-29897\", \"17_1c 4\"], [\"18_2c\", \"3\", \"19989-20025\", \"18_2c 4\"], [\"18_2c\", \"9\", \"24569-24582\", \"18_2c 4\"]], \"hoverlabel\": {\"namelength\": 0}, \"hovertemplate\": \"lemma=play<br>x=%{x}<br>y=%{y}<br>participant=%{customdata[0]}<br>top=%{customdata[1]}<br>step=%{customdata[2]}<br>pt=%{customdata[3]}\", \"legendgroup\": \"play\", \"marker\": {\"color\": \"#EEA6FB\", \"symbol\": \"circle\"}, \"mode\": \"markers\", \"name\": \"play\", \"showlegend\": true, \"type\": \"scattergl\", \"x\": [17.865257263183594, -15.553750991821289, 35.0588264465332, 14.505258560180664, 12.547907829284668, 12.496631622314453, 10.668990135192871, -18.037490844726562, -10.192879676818848, -8.82398509979248, -22.95459747314453, 2.2575435638427734, 10.986300468444824, -8.8949556350708, -5.730721473693848, 35.05838394165039, -1.3547006845474243, -23.66950225830078, 1.1695003509521484, -23.17525291442871, -0.2423924058675766, 15.794317245483398, 16.09922218322754, -7.926643371582031, 1.3630307912826538, 17.015220642089844, -14.357306480407715, 1.9013859033584595, -18.037490844726562, -11.35452938079834, 0.6383416652679443, -23.253450393676758, 23.969280242919922, 22.627437591552734, 8.25654125213623, -8.45645809173584, -24.426111221313477, -5.729474067687988, 35.05929946899414, 25.215391159057617, 32.51396179199219, 1.695339560508728, -24.181856155395508, 1.458284616470337, 1.458284616470337, 15.779935836791992, 17.69160270690918, 1.6953397989273071, 1.458284616470337, -14.343855857849121, 15.108648300170898], \"xaxis\": \"x\", \"y\": [-31.562679290771484, -40.473976135253906, -15.732803344726562, -4.193944454193115, -2.3770594596862793, -2.2462949752807617, -12.537628173828125, 7.925249099731445, 6.641159534454346, 6.2450690269470215, 9.310437202453613, -0.6984905004501343, -12.992182731628418, -16.23253059387207, -23.360118865966797, -15.732357025146484, 26.74750518798828, 8.300312042236328, 29.264373779296875, 9.17393684387207, 28.482152938842773, 7.501694202423096, 0.015025179833173752, -16.283933639526367, 29.283206939697266, -31.79058265686035, -40.2889518737793, -0.16031692922115326, 7.925250053405762, 6.907180309295654, 27.749454498291016, 9.507731437683105, -3.8825230598449707, -1.883512020111084, 0.8864842653274536, -16.42616081237793, 8.320216178894043, -23.362884521484375, -15.733080863952637, -6.047244548797607, -13.58161735534668, -0.6266252994537354, 7.9473958015441895, 31.45989227294922, 31.45989227294922, -4.752336025238037, -5.34982967376709, -0.6266252398490906, 31.45989227294922, -40.90105438232422, -4.384009838104248], \"yaxis\": \"y\"}, {\"customdata\": [[\"1_1a\", \"8\", \"36073-36099\", \"1_1a 4\"], [\"1_1a\", \"3\", \"36099-36100\", \"1_1a 4\"], [\"1_1a\", \"3\", \"37098-37116\", \"1_1a 4\"], [\"1_1a\", \"3\", \"38327-38331\", \"1_1a 4\"], [\"1_1a\", \"3\", \"38331-38345\", \"1_1a 4\"], [\"1_1a\", \"3\", \"40086-40104\", \"1_1a 4\"], [\"1_1a\", \"8\", \"42929-42948\", \"1_1a 4\"], [\"1_1a\", \"5\", \"46053-46071\", \"1_1a 5\"], [\"1_1a\", \"5\", \"46486-46511\", \"1_1a 5\"], [\"1_1a\", \"6\", \"55281-55290\", \"1_1a 6\"], [\"1_1a\", \"7\", \"56620-56638\", \"1_1a 6\"], [\"2_2a\", \"3\", \"12878-12888\", \"2_2a 2\"], [\"2_2a\", \"3\", \"12888-12915\", \"2_2a 2\"], [\"2_2a\", \"3\", \"12915-12933\", \"2_2a 2\"], [\"2_2a\", \"1\", \"31100-31125\", \"2_2a 5\"], [\"4_2b\", \"1\", \"28526-28535\", \"4_2b 3\"], [\"5_1c\", \"7\", \"25966-25974\", \"5_1c 6\"], [\"5_1c\", \"3\", \"25974-25984\", \"5_1c 6\"], [\"6_2c\", \"5\", \"4652-4665\", \"6_2c 1\"], [\"6_2c\", \"2\", \"6111-6146\", \"6_2c 1\"], [\"6_2c\", \"4\", \"7622-7632\", \"6_2c 1\"], [\"6_2c\", \"8\", \"7632-7635\", \"6_2c 1\"], [\"6_2c\", \"8\", \"8565-8577\", \"6_2c 1\"], [\"6_2c\", \"2\", \"8577-8583\", \"6_2c 1\"], [\"6_2c\", \"4\", \"9841-9855\", \"6_2c 1\"], [\"6_2c\", \"3\", \"11300-11314\", \"6_2c 1\"], [\"6_2c\", \"1\", \"12610-12628\", \"6_2c 2\"], [\"6_2c\", \"3\", \"13952-13959\", \"6_2c 2\"], [\"6_2c\", \"3\", \"13959-13979\", \"6_2c 2\"], [\"6_2c\", \"4\", \"14546-14553\", \"6_2c 2\"], [\"6_2c\", \"8\", \"14553-14562\", \"6_2c 2\"], [\"6_2c\", \"3\", \"14562-14578\", \"6_2c 2\"], [\"6_2c\", \"3\", \"15504-15522\", \"6_2c 2\"], [\"6_2c\", \"1\", \"15838-15867\", \"6_2c 2\"], [\"6_2c\", \"3\", \"15867-15876\", \"6_2c 2\"], [\"6_2c\", \"3\", \"15876-15885\", \"6_2c 2\"], [\"6_2c\", \"5\", \"15885-15899\", \"6_2c 2\"], [\"6_2c\", \"1\", \"16799-16815\", \"6_2c 2\"], [\"6_2c\", \"1\", \"17000-17098\", \"6_2c 2\"], [\"6_2c\", \"3\", \"18840-18866\", \"6_2c 3\"], [\"6_2c\", \"6\", \"21563-21573\", \"6_2c 3\"], [\"6_2c\", \"6\", \"21573-21582\", \"6_2c 3\"], [\"6_2c\", \"6\", \"21582-21586\", \"6_2c 3\"], [\"6_2c\", \"7\", \"22307-22324\", \"6_2c 3\"], [\"6_2c\", \"4\", \"23491-23508\", \"6_2c 3\"], [\"6_2c\", \"8\", \"23508-23517\", \"6_2c 3\"], [\"6_2c\", \"2\", \"24390-24400\", \"6_2c 3\"], [\"6_2c\", \"1\", \"24664-24687\", \"6_2c 3\"], [\"6_2c\", \"3\", \"24687-24696\", \"6_2c 3\"], [\"6_2c\", \"3\", \"24696-24697\", \"6_2c 3\"], [\"6_2c\", \"3\", \"25767-25776\", \"6_2c 3\"], [\"6_2c\", \"3\", \"25776-25803\", \"6_2c 3\"], [\"6_2c\", \"3\", \"25803-25811\", \"6_2c 3\"], [\"6_2c\", \"5\", \"26639-26640\", \"6_2c 4\"], [\"6_2c\", \"5\", \"26640-26648\", \"6_2c 4\"], [\"6_2c\", \"3\", \"27841-27846\", \"6_2c 4\"], [\"6_2c\", \"3\", \"27846-27856\", \"6_2c 4\"], [\"6_2c\", \"3\", \"30232-30240\", \"6_2c 4\"], [\"6_2c\", \"3\", \"32695-32731\", \"6_2c 4\"], [\"6_2c\", \"1\", \"33144-33242\", \"6_2c 4\"], [\"6_2c\", \"4\", \"33360-33363\", \"6_2c 4\"], [\"6_2c\", \"7\", \"33363-33385\", \"6_2c 4\"], [\"6_2c\", \"7\", \"42086-42095\", \"6_2c 6\"], [\"6_2c\", \"2\", \"43346-43369\", \"6_2c 6\"], [\"6_2c\", \"4\", \"45693-45702\", \"6_2c 6\"], [\"6_2c\", \"8\", \"45702-45719\", \"6_2c 6\"], [\"7_1a\", \"1\", \"23455-23473\", \"7_1a 1\"], [\"7_1a\", \"1\", \"36552-36570\", \"7_1a 3\"], [\"7_1a\", \"1\", \"63030-63036\", \"7_1a 6\"], [\"7_1a\", \"3\", \"63036-63066\", \"7_1a 6\"], [\"8_2a\", \"3\", \"3908-3915\", \"8_2a 1\"], [\"8_2a\", \"3\", \"3915-3924\", \"8_2a 1\"], [\"8_2a\", \"3\", \"3924-3925\", \"8_2a 1\"], [\"8_2a\", \"8\", \"4889-4907\", \"8_2a 1\"], [\"8_2a\", \"8\", \"5479-5481\", \"8_2a 1\"], [\"8_2a\", \"2\", \"5481-5497\", \"8_2a 1\"], [\"8_2a\", \"1\", \"6783-6786\", \"8_2a 1\"], [\"8_2a\", \"3\", \"6786-6813\", \"8_2a 1\"], [\"8_2a\", \"3\", \"6813-6827\", \"8_2a 1\"], [\"8_2a\", \"5\", \"12341-12358\", \"8_2a 2\"], [\"8_2a\", \"3\", \"13323-13329\", \"8_2a 2\"], [\"8_2a\", \"3\", \"13329-13350\", \"8_2a 2\"], [\"8_2a\", \"2\", \"16360-16398\", \"8_2a 2\"], [\"8_2a\", \"1\", \"16398-16448\", \"8_2a 2\"], [\"8_2a\", \"7\", \"16643-16659\", \"8_2a 3\"], [\"8_2a\", \"2\", \"16659-16675\", \"8_2a 3\"], [\"8_2a\", \"3\", \"19692-19701\", \"8_2a 3\"], [\"8_2a\", \"3\", \"19701-19715\", \"8_2a 3\"], [\"8_2a\", \"1\", \"25119-25128\", \"8_2a 3\"], [\"8_2a\", \"8\", \"26483-26492\", \"8_2a 4\"], [\"8_2a\", \"6\", \"26669-26685\", \"8_2a 4\"], [\"8_2a\", \"6\", \"26685-26696\", \"8_2a 4\"], [\"8_2a\", \"1\", \"33698-33724\", \"8_2a 4\"], [\"8_2a\", \"9\", \"34051-34056\", \"8_2a 4\"], [\"8_2a\", \"8\", \"34056-34074\", \"8_2a 4\"], [\"8_2a\", \"2\", \"42036-42080\", \"8_2a 6\"], [\"8_2a\", \"2\", \"45076-45081\", \"8_2a 6\"], [\"8_2a\", \"1\", \"45081-45099\", \"8_2a 6\"], [\"8_2a\", \"1\", \"45099-45129\", \"8_2a 6\"], [\"8_2a\", \"3\", \"45882-45909\", \"8_2a 6\"], [\"8_2a\", \"3\", \"45909-45918\", \"8_2a 6\"], [\"8_2a\", \"8\", \"45918-45948\", \"8_2a 6\"], [\"8_2a\", \"2\", \"46446-46467\", \"8_2a 6\"], [\"8_2a\", \"2\", \"46467-46485\", \"8_2a 6\"], [\"8_2a\", \"2\", \"46485-46494\", \"8_2a 6\"], [\"8_2a\", \"1\", \"46494-46495\", \"8_2a 6\"], [\"8_2a\", \"9\", \"46619-46638\", \"8_2a 6\"], [\"8_2a\", \"6\", \"46638-46646\", \"8_2a 6\"], [\"9_1b\", \"1\", \"5942-6041\", \"9_1b 1\"], [\"9_1b\", \"2\", \"7824-7857\", \"9_1b 1\"], [\"9_1b\", \"1\", \"7857-7860\", \"9_1b 1\"], [\"9_1b\", \"2\", \"7923-7929\", \"9_1b 1\"], [\"9_1b\", \"1\", \"7929-7950\", \"9_1b 1\"], [\"9_1b\", \"3\", \"11118-11154\", \"9_1b 2\"], [\"9_1b\", \"8\", \"19073-19080\", \"9_1b 3\"], [\"9_1b\", \"3\", \"19080-19098\", \"9_1b 3\"], [\"9_1b\", \"3\", \"19098-19107\", \"9_1b 3\"], [\"9_1b\", \"8\", \"19107-19108\", \"9_1b 3\"], [\"9_1b\", \"3\", \"23066-23085\", \"9_1b 3\"], [\"9_1b\", \"3\", \"23085-23111\", \"9_1b 3\"], [\"9_1b\", \"8\", \"28828-28854\", \"9_1b 4\"], [\"9_1b\", \"3\", \"28854-28855\", \"9_1b 4\"], [\"9_1b\", \"7\", \"35935-35946\", \"9_1b 6\"], [\"9_1b\", \"2\", \"35946-35955\", \"9_1b 6\"], [\"9_1b\", \"1\", \"35955-35980\", \"9_1b 6\"], [\"9_1b\", \"1\", \"37962-37989\", \"9_1b 6\"], [\"10_2b\", \"3\", \"42318-42345\", \"10_2b 3\"], [\"10_2b\", \"3\", \"42345-42354\", \"10_2b 3\"], [\"10_2b\", \"2\", \"45118-45135\", \"10_2b 4\"], [\"10_2b\", \"1\", \"45135-45171\", \"10_2b 4\"], [\"10_2b\", \"3\", \"45171-45173\", \"10_2b 4\"], [\"10_2b\", \"1\", \"50640-50658\", \"10_2b 4\"], [\"10_2b\", \"1\", \"52307-52380\", \"10_2b 4\"], [\"10_2b\", \"3\", \"52380-52389\", \"10_2b 4\"], [\"10_2b\", \"3\", \"52389-52406\", \"10_2b 4\"], [\"10_2b\", \"1\", \"53499-53544\", \"10_2b 4\"], [\"10_2b\", \"1\", \"67582-67600\", \"10_2b 6\"], [\"11_1c\", \"2\", \"25382-25398\", \"11_1c 2\"], [\"11_1c\", \"1\", \"25398-25427\", \"11_1c 2\"], [\"11_1c\", \"5\", \"41595-41607\", \"11_1c 5\"], [\"11_1c\", \"1\", \"41607-41613\", \"11_1c 5\"], [\"12_2c\", \"5\", \"28801-28818\", \"12_2c 2\"], [\"12_2c\", \"5\", \"28818-28819\", \"12_2c 2\"], [\"12_2c\", \"5\", \"30104-30105\", \"12_2c 2\"], [\"12_2c\", \"3\", \"30105-30122\", \"12_2c 2\"], [\"12_2c\", \"3\", \"30924-30942\", \"12_2c 2\"], [\"12_2c\", \"3\", \"32039-32049\", \"12_2c 2\"], [\"12_2c\", \"3\", \"32049-32067\", \"12_2c 2\"], [\"12_2c\", \"1\", \"32067-32085\", \"12_2c 2\"], [\"12_2c\", \"1\", \"32085-32094\", \"12_2c 2\"], [\"12_2c\", \"1\", \"32094-32109\", \"12_2c 2\"], [\"12_2c\", \"1\", \"40702-40716\", \"12_2c 4\"], [\"12_2c\", \"1\", \"40716-40761\", \"12_2c 4\"], [\"12_2c\", \"3\", \"40761-40770\", \"12_2c 4\"], [\"12_2c\", \"3\", \"40770-40779\", \"12_2c 4\"], [\"12_2c\", \"3\", \"40779-40803\", \"12_2c 4\"], [\"13_1a\", \"1\", \"1177-1258\", \"13_1a 1\"], [\"13_1a\", \"3\", \"1441-1468\", \"13_1a 1\"], [\"13_1a\", \"6\", \"2160-2178\", \"13_1a 1\"], [\"13_1a\", \"1\", \"2465-2483\", \"13_1a 1\"], [\"13_1a\", \"2\", \"7373-7389\", \"13_1a 1\"], [\"13_1a\", \"1\", \"7389-7400\", \"13_1a 1\"], [\"13_1a\", \"1\", \"10208-10224\", \"13_1a 2\"], [\"13_1a\", \"1\", \"10224-10235\", \"13_1a 2\"], [\"13_1a\", \"1\", \"11179-11206\", \"13_1a 2\"], [\"13_1a\", \"3\", \"13698-13725\", \"13_1a 2\"], [\"13_1a\", \"1\", \"14049-14121\", \"13_1a 2\"], [\"13_1a\", \"1\", \"15512-15539\", \"13_1a 3\"], [\"13_1a\", \"1\", \"16377-16404\", \"13_1a 3\"], [\"13_1a\", \"2\", \"18194-18207\", \"13_1a 3\"], [\"13_1a\", \"1\", \"18207-18220\", \"13_1a 3\"], [\"13_1a\", \"1\", \"19476-19512\", \"13_1a 3\"], [\"13_1a\", \"1\", \"36700-36720\", \"13_1a 6\"], [\"13_1a\", \"3\", \"36720-36727\", \"13_1a 6\"], [\"13_1a\", \"1\", \"37231-37249\", \"13_1a 6\"], [\"13_1a\", \"1\", \"37708-37717\", \"13_1a 6\"], [\"13_1a\", \"1\", \"38707-38725\", \"13_1a 6\"], [\"13_1a\", \"7\", \"39549-39558\", \"13_1a 6\"], [\"13_1a\", \"1\", \"42039-42057\", \"13_1a 6\"], [\"13_1a\", \"1\", \"42057-42066\", \"13_1a 6\"], [\"14_2a\", \"3\", \"8989-8998\", \"14_2a 1\"], [\"14_2a\", \"1\", \"18563-18581\", \"14_2a 2\"], [\"14_2a\", \"1\", \"23817-23844\", \"14_2a 3\"], [\"14_2a\", \"2\", \"30156-30159\", \"14_2a 4\"], [\"14_2a\", \"1\", \"30159-30195\", \"14_2a 4\"], [\"14_2a\", \"1\", \"30195-30210\", \"14_2a 4\"], [\"14_2a\", \"1\", \"32896-32913\", \"14_2a 4\"], [\"14_2a\", \"3\", \"32913-32914\", \"14_2a 4\"], [\"14_2a\", \"1\", \"44131-44149\", \"14_2a 5\"], [\"14_2a\", \"1\", \"46302-46320\", \"14_2a 6\"], [\"16_2b\", \"1\", \"10273-10307\", \"16_2b 1\"], [\"17_1c\", \"1\", \"6650-6704\", \"17_1c 1\"], [\"17_1c\", \"1\", \"8017-8044\", \"17_1c 1\"], [\"17_1c\", \"2\", \"9323-9333\", \"17_1c 1\"], [\"17_1c\", \"1\", \"9333-9341\", \"17_1c 1\"], [\"17_1c\", \"1\", \"10753-10807\", \"17_1c 1\"], [\"17_1c\", \"3\", \"13000-13005\", \"17_1c 2\"], [\"17_1c\", \"3\", \"13005-13018\", \"17_1c 2\"], [\"17_1c\", \"1\", \"13998-14025\", \"17_1c 2\"], [\"17_1c\", \"3\", \"14781-14799\", \"17_1c 2\"], [\"17_1c\", \"1\", \"15941-15977\", \"17_1c 2\"], [\"17_1c\", \"1\", \"19448-19465\", \"17_1c 3\"], [\"17_1c\", \"1\", \"20977-20986\", \"17_1c 3\"], [\"17_1c\", \"1\", \"23218-23254\", \"17_1c 3\"], [\"17_1c\", \"1\", \"24612-24648\", \"17_1c 3\"], [\"17_1c\", \"1\", \"26348-26393\", \"17_1c 3\"], [\"17_1c\", \"1\", \"28463-28467\", \"17_1c 3\"], [\"17_1c\", \"1\", \"28467-28509\", \"17_1c 3\"], [\"17_1c\", \"1\", \"29996-29997\", \"17_1c 4\"], [\"17_1c\", \"1\", \"29997-30014\", \"17_1c 4\"], [\"17_1c\", \"3\", \"31282-31300\", \"17_1c 4\"], [\"17_1c\", \"1\", \"34923-34977\", \"17_1c 4\"], [\"17_1c\", \"2\", \"36074-36119\", \"17_1c 4\"], [\"17_1c\", \"1\", \"37572-37599\", \"17_1c 4\"], [\"17_1c\", \"3\", \"50240-50256\", \"17_1c 6\"], [\"17_1c\", \"3\", \"50256-50276\", \"17_1c 6\"], [\"17_1c\", \"2\", \"50429-50438\", \"17_1c 6\"], [\"17_1c\", \"1\", \"52048-52083\", \"17_1c 6\"], [\"17_1c\", \"1\", \"52083-52129\", \"17_1c 6\"], [\"17_1c\", \"1\", \"54213-54240\", \"17_1c 6\"], [\"17_1c\", \"5\", \"56812-56829\", \"17_1c 6\"], [\"18_2c\", \"1\", \"6549-6567\", \"18_2c 2\"], [\"18_2c\", \"3\", \"15744-15753\", \"18_2c 3\"]], \"hoverlabel\": {\"namelength\": 0}, \"hovertemplate\": \"lemma=pick<br>x=%{x}<br>y=%{y}<br>participant=%{customdata[0]}<br>top=%{customdata[1]}<br>step=%{customdata[2]}<br>pt=%{customdata[3]}\", \"legendgroup\": \"pick\", \"marker\": {\"color\": \"#DC587D\", \"symbol\": \"circle\"}, \"mode\": \"markers\", \"name\": \"pick\", \"showlegend\": true, \"type\": \"scattergl\", \"x\": [15.473512649536133, -20.297840118408203, -8.580035209655762, -5.73071813583374, 35.057716369628906, 32.51378631591797, 14.95478630065918, 23.163114547729492, 23.83384895324707, 10.668990135192871, 1.8896243572235107, -5.730690956115723, 33.64442443847656, 32.51374053955078, 0.2775232195854187, 2.4825901985168457, -0.08166616410017014, -4.812076091766357, 23.833850860595703, -24.189607620239258, 12.042196273803711, 13.172529220581055, 18.92184066772461, -21.92144203186035, 12.153454780578613, -8.344011306762695, 1.0395762920379639, -10.664569854736328, -12.893915176391602, 12.0442476272583, 13.136514663696289, -20.297548294067383, -7.96928596496582, 18.334775924682617, -15.431361198425293, 35.704227447509766, 19.99493980407715, 1.2904670238494873, 1.5393569469451904, -7.610556602478027, 12.680201530456543, 13.332578659057617, 13.399601936340332, 2.307752847671509, 12.044970512390137, 13.173556327819824, -25.135099411010742, 18.227325439453125, -15.43129825592041, 35.058048248291016, -0.30730512738227844, -23.528423309326172, -14.620408058166504, 23.448650360107422, 20.86760711669922, -35.565731048583984, -26.44332504272461, -7.610556602478027, -9.148749351501465, -0.026563087478280067, 11.316843032836914, 8.254853248596191, 1.7749556303024292, -23.95329475402832, 8.686524391174316, 13.17408561706543, 1.081822156906128, 2.5665385723114014, 17.14015769958496, -15.540148735046387, -35.18476104736328, -23.528369903564453, -14.360334396362305, 17.295719146728516, 18.921001434326172, -21.92133903503418, 18.243289947509766, -12.441012382507324, -5.131872177124023, 23.83384895324707, -35.739803314208984, -26.891233444213867, 4.818665504455566, 42.86778259277344, -1.2871030569076538, -8.82369613647461, -12.84691333770752, -2.087477445602417, 16.977052688598633, 17.14257049560547, 12.678472518920898, 13.255348205566406, 1.6504595279693604, 15.379286766052246, 15.972562789916992, -23.19921112060547, 5.016910552978516, 41.7507209777832, -4.375909805297852, -11.162202835083008, -18.354894638061523, 16.099807739257812, -25.908720016479492, -20.35921287536621, -19.78127098083496, 43.0191764831543, 14.858924865722656, 13.399554252624512, 1.885060429573059, 5.171779632568359, 43.17081832885742, 4.825477123260498, 42.7974967956543, -8.35493278503418, 15.47237491607666, -20.39130973815918, -6.225334167480469, 12.986218452453613, -35.96385955810547, -25.837520599365234, 15.472143173217773, -20.296459197998047, -1.2878649234771729, -7.774207592010498, 43.53057098388672, 2.9923946857452393, -35.9741325378418, -26.842647552490234, 4.834036350250244, 43.8731575012207, -14.481152534484863, -0.0957193598151207, 17.066823959350586, -15.431389808654785, 35.059288024902344, -0.3999756872653961, 1.7132140398025513, 4.405768394470215, 43.53057098388672, 24.480575561523438, -0.6413872838020325, 23.964027404785156, 22.534883499145508, 25.215232849121094, 32.5139274597168, -8.882270812988281, -35.739803314208984, -24.737150192260742, -0.809273898601532, -0.8093462586402893, -1.0412402153015137, 2.1727428436279297, 4.256709575653076, -19.28740692138672, -19.287263870239258, -20.297826766967773, -1.3547006845474243, -8.80612564086914, 11.103853225708008, -1.3547006845474243, 4.3854522705078125, 42.79750442504883, -0.5944717526435852, -1.0412803888320923, -2.5233922004699707, -35.23872756958008, 2.9923946857452393, 2.9923946857452393, 2.9923946857452393, 4.4873785972595215, 42.790950775146484, 0.6485469341278076, 16.894607543945312, -14.912415504455566, 1.458284616470337, 1.458284616470337, 1.458284616470337, 1.6695517301559448, 12.873485565185547, 48.696434020996094, -8.326499938964844, 1.458284616470337, 1.458284616470337, 5.25390625, 46.626197814941406, 48.696327209472656, 17.878551483154297, -14.620408058166504, 1.458284616470337, 1.458284616470337, 1.458284616470337, 1.458284616470337, 1.458284616470337, 5.155427932739258, 43.780094146728516, 1.458284616470337, -35.9741325378418, -26.55853271484375, 1.458284616470337, -9.084193229675293, 1.458284616470337, 1.458284616470337, 1.458284616470337, 1.458284616470337, 1.458284616470337, 1.458284616470337, 12.87349796295166, 48.69633102416992, 1.1761009693145752, 1.1617428064346313, -7.662135124206543, 1.458284616470337, -23.968252182006836, 1.458284616470337, -35.235416412353516, -25.852628707885742, -26.405439376831055, 12.873493194580078, 48.69633102416992, 1.458284616470337, 23.834980010986328, 1.458284616470337, -8.460809707641602], \"xaxis\": \"x\", \"y\": [11.802122116088867, -13.158763885498047, -14.88867473602295, -23.360118865966797, -15.733333587646484, -13.581748962402344, 8.555817604064941, -5.037034511566162, -5.395705223083496, -12.537628173828125, -0.8051749467849731, -23.36012077331543, -14.526653289794922, -13.581282615661621, 27.899219512939453, 28.00922966003418, -2.08687686920166, -9.613991737365723, -5.395705223083496, 9.493000984191895, 2.2770698070526123, 3.9879050254821777, 9.784334182739258, 15.098984718322754, 1.3123670816421509, -14.829314231872559, 27.8997859954834, -17.86778450012207, -19.29006004333496, 2.275975227355957, 4.059360504150391, -13.158308982849121, -16.287885665893555, -32.61376190185547, -44.34943389892578, -16.291118621826172, 3.8676271438598633, 27.307945251464844, 28.1031551361084, -15.802461624145508, -12.098108291625977, -8.654793739318848, -8.205268859863281, -0.600044846534729, 2.2763822078704834, 3.986126184463501, 10.296396255493164, -31.77605438232422, -44.34939956665039, -15.733220100402832, -13.593072891235352, -34.64411544799805, -41.17455291748047, -6.531136512756348, -8.777448654174805, -10.138314247131348, -23.146223068237305, -15.802461624145508, -15.886165618896484, 29.717601776123047, 1.6445322036743164, 0.8868510723114014, -0.23148635029792786, 8.861544609069824, -9.546133041381836, 3.989168405532837, 28.60996437072754, 29.471071243286133, -32.86192321777344, -40.78854751586914, -11.257476806640625, -34.64363098144531, -40.92722702026367, 8.276140213012695, 9.782215118408203, 15.09908676147461, -31.793750762939453, -41.59055709838867, -18.070262908935547, -5.395705223083496, -11.193161010742188, -23.94512367248535, -46.29037857055664, 11.93871784210205, 2.042200803756714, 6.2449951171875, -38.262874603271484, -14.469022750854492, -32.73125076293945, 8.505685806274414, -12.096369743347168, -9.081226348876953, 28.017627716064453, -3.5773677825927734, -1.4122943878173828, 8.584512710571289, -45.3965950012207, 12.266368865966797, 26.458885192871094, -14.446517944335938, -13.402400016784668, 0.012226715683937073, 5.049652099609375, 0.9699015617370605, 0.11249581724405289, 11.210025787353516, -4.945300102233887, -8.20383358001709, 28.451635360717773, -45.52939987182617, 12.15567398071289, -45.33076858520508, 11.751812934875488, -15.672754287719727, 11.795348167419434, -12.704174041748047, -10.815946578979492, 8.824678421020508, -10.889854431152344, -23.662155151367188, 11.79831600189209, -13.160136222839355, 2.0409488677978516, 6.79323673248291, 11.280357360839844, 26.013689041137695, -10.599900245666504, -23.511011123657227, -46.3150520324707, 9.185622215270996, -40.07168197631836, 28.337942123413086, -31.74050521850586, -44.34944534301758, -15.733084678649902, 28.896474838256836, 27.541893005371094, -45.54469299316406, 11.280357360839844, -5.117593288421631, 21.034181594848633, -3.885017156600952, -1.8614517450332642, -6.046245574951172, -13.581229209899902, -16.239593505859375, -11.193161010742188, -25.016584396362305, 21.065908432006836, 21.06639289855957, 21.106246948242188, 23.18346405029297, 21.46717071533203, -13.294439315795898, -13.294258117675781, -13.15891170501709, 26.74750518798828, -14.94987678527832, -12.745369911193848, 26.74750518798828, -45.57065963745117, 11.75184154510498, 23.28763771057129, 21.108768463134766, 29.6025390625, -11.2749605178833, 26.013689041137695, 26.013689041137695, 26.013689041137695, -46.197059631347656, 11.46109390258789, 29.01492691040039, -32.59918975830078, -40.57275390625, 31.45989227294922, 31.45989227294922, 31.45989227294922, -0.40058282017707825, 36.67354965209961, 17.502758026123047, -16.43707275390625, 31.45989227294922, 31.45989227294922, -45.96196365356445, 15.22339153289795, 17.50270652770996, -31.55692481994629, -41.17455291748047, 31.45989227294922, 31.45989227294922, 31.45989227294922, 31.45989227294922, 31.45989227294922, -46.151023864746094, 11.601972579956055, 31.45989227294922, -10.599900245666504, -24.21434211730957, 31.45989227294922, -16.011377334594727, 31.45989227294922, 31.45989227294922, 31.45989227294922, 31.45989227294922, 31.45989227294922, 31.45989227294922, 36.67198181152344, 17.50270652770996, 34.58049392700195, 34.8955078125, -15.350000381469727, 31.45989227294922, 7.388873100280762, 31.45989227294922, -10.139566421508789, -23.626338958740234, 11.090082168579102, 36.671878814697266, 17.50270652770996, 31.45989227294922, -5.396539211273193, 31.45989227294922, -16.417587280273438], \"yaxis\": \"y\"}, {\"customdata\": [[\"1_1a\", \"3\", \"41379-41382\", \"1_1a 4\"], [\"1_1a\", \"3\", \"41382-41391\", \"1_1a 4\"], [\"1_1a\", \"3\", \"41391-41400\", \"1_1a 4\"], [\"1_1a\", \"3\", \"41400-41409\", \"1_1a 4\"], [\"1_1a\", \"3\", \"41409-41414\", \"1_1a 4\"], [\"9_1b\", \"1\", \"28342-28351\", \"9_1b 4\"], [\"17_1c\", \"8\", \"41671-41679\", \"17_1c 5\"], [\"17_1c\", \"3\", \"41679-41697\", \"17_1c 5\"], [\"17_1c\", \"3\", \"41697-41707\", \"17_1c 5\"]], \"hoverlabel\": {\"namelength\": 0}, \"hovertemplate\": \"lemma=open<br>x=%{x}<br>y=%{y}<br>participant=%{customdata[0]}<br>top=%{customdata[1]}<br>step=%{customdata[2]}<br>pt=%{customdata[3]}\", \"legendgroup\": \"open\", \"marker\": {\"color\": \"#D626FF\", \"symbol\": \"circle\"}, \"mode\": \"markers\", \"name\": \"open\", \"showlegend\": true, \"type\": \"scattergl\", \"x\": [-5.730722427368164, 33.644412994384766, 33.644405364990234, 33.64441680908203, 32.51374435424805, -1.3547006845474243, 15.472795486450195, -21.316926956176758, -26.842647552490234], \"xaxis\": \"x\", \"y\": [-23.36011505126953, -14.526857376098633, -14.526650428771973, -14.526738166809082, -13.581384658813477, 26.74750518798828, 11.803401947021484, -13.59097957611084, -23.511011123657227], \"yaxis\": \"y\"}, {\"customdata\": [[\"1_1a\", \"7\", \"51307-51343\", \"1_1a 5\"], [\"2_2a\", \"3\", \"11928-11934\", \"2_2a 2\"], [\"2_2a\", \"3\", \"11934-11937\", \"2_2a 2\"], [\"7_1a\", \"2\", \"41991-41994\", \"7_1a 3\"], [\"7_1a\", \"1\", \"41994-42036\", \"7_1a 3\"], [\"7_1a\", \"3\", \"47473-47500\", \"7_1a 4\"], [\"8_2a\", \"6\", \"26945-26963\", \"8_2a 4\"], [\"9_1b\", \"1\", \"5789-5898\", \"9_1b 1\"], [\"9_1b\", \"2\", \"8157-8202\", \"9_1b 1\"], [\"10_2b\", \"1\", \"51825-51852\", \"10_2b 4\"], [\"11_1c\", \"1\", \"18689-18715\", \"11_1c 1\"], [\"11_1c\", \"3\", \"20441-20448\", \"11_1c 1\"], [\"11_1c\", \"3\", \"20448-20459\", \"11_1c 1\"], [\"11_1c\", \"6\", \"24608-24633\", \"11_1c 2\"], [\"11_1c\", \"7\", \"24633-24653\", \"11_1c 2\"], [\"12_2c\", \"3\", \"31203-31230\", \"12_2c 2\"], [\"17_1c\", \"1\", \"9809-9854\", \"17_1c 1\"], [\"17_1c\", \"1\", \"13863-13890\", \"17_1c 2\"], [\"17_1c\", \"3\", \"21724-21726\", \"17_1c 3\"], [\"17_1c\", \"3\", \"21726-21744\", \"17_1c 3\"], [\"17_1c\", \"3\", \"21744-21762\", \"17_1c 3\"], [\"17_1c\", \"3\", \"21762-21771\", \"17_1c 3\"], [\"17_1c\", \"5\", \"21771-21788\", \"17_1c 3\"], [\"17_1c\", \"1\", \"45162-45189\", \"17_1c 5\"], [\"18_2c\", \"9\", \"24347-24354\", \"18_2c 4\"], [\"18_2c\", \"8\", \"24354-24361\", \"18_2c 4\"]], \"hoverlabel\": {\"namelength\": 0}, \"hovertemplate\": \"lemma=drop<br>x=%{x}<br>y=%{y}<br>participant=%{customdata[0]}<br>top=%{customdata[1]}<br>step=%{customdata[2]}<br>pt=%{customdata[3]}\", \"legendgroup\": \"drop\", \"marker\": {\"color\": \"#6E899C\", \"symbol\": \"circle\"}, \"mode\": \"markers\", \"name\": \"drop\", \"showlegend\": true, \"type\": \"scattergl\", \"x\": [2.2491321563720703, -35.768333435058594, -25.98480796813965, 4.324803829193115, 43.239295959472656, -9.121027946472168, 10.883124351501465, 2.723421573638916, -23.60157585144043, -0.2892158627510071, 1.596144437789917, -5.730690956115723, 35.058284759521484, 12.102214813232422, 3.9037187099456787, -26.84855842590332, 1.458284616470337, 1.458284616470337, -5.729022979736328, 33.64445495605469, 33.644447326660156, 34.75726318359375, 18.82192039489746, 1.458284616470337, 15.38078498840332, 15.959301948547363], \"xaxis\": \"x\", \"y\": [-0.7086133360862732, -10.270934104919434, -24.06904411315918, -45.971702575683594, 12.170559883117676, -15.365958213806152, -13.035653114318848, 28.192487716674805, 10.684930801391602, 28.93692970275879, 29.310115814208984, -23.36012077331543, -15.733640670776367, -14.093687057495117, -4.091381072998047, -23.536916732788086, 31.45989227294922, 31.45989227294922, -23.363637924194336, -14.526739120483398, -14.526890754699707, -16.733844757080078, -5.7115373611450195, 31.45989227294922, -3.57745099067688, -1.4361764192581177], \"yaxis\": \"y\"}, {\"customdata\": [[\"1_1a\", \"2\", \"56727-56745\", \"1_1a 6\"], [\"4_2b\", \"2\", \"15921-15927\", \"4_2b 2\"], [\"6_2c\", \"3\", \"4905-4914\", \"6_2c 1\"], [\"6_2c\", \"3\", \"4914-4927\", \"6_2c 1\"], [\"6_2c\", \"7\", \"5505-5535\", \"6_2c 1\"], [\"6_2c\", \"8\", \"9616-9641\", \"6_2c 1\"], [\"6_2c\", \"2\", \"12814-12832\", \"6_2c 2\"], [\"6_2c\", \"1\", \"19109-19143\", \"6_2c 3\"], [\"6_2c\", \"3\", \"19143-19152\", \"6_2c 3\"], [\"6_2c\", \"3\", \"19152-19153\", \"6_2c 3\"], [\"6_2c\", \"1\", \"20458-20475\", \"6_2c 3\"], [\"6_2c\", \"3\", \"20475-20476\", \"6_2c 3\"], [\"6_2c\", \"1\", \"22092-22110\", \"6_2c 3\"], [\"6_2c\", \"3\", \"24167-24181\", \"6_2c 3\"], [\"6_2c\", \"1\", \"24903-24912\", \"6_2c 3\"], [\"6_2c\", \"3\", \"24912-24918\", \"6_2c 3\"], [\"6_2c\", \"8\", \"26126-26160\", \"6_2c 4\"], [\"6_2c\", \"1\", \"29687-29714\", \"6_2c 4\"], [\"6_2c\", \"6\", \"40054-40068\", \"6_2c 6\"], [\"6_2c\", \"3\", \"40068-40072\", \"6_2c 6\"], [\"6_2c\", \"4\", \"41467-41472\", \"6_2c 6\"], [\"6_2c\", \"8\", \"41472-41517\", \"6_2c 6\"], [\"6_2c\", \"5\", \"41517-41526\", \"6_2c 6\"], [\"6_2c\", \"3\", \"41526-41562\", \"6_2c 6\"], [\"6_2c\", \"3\", \"41562-41589\", \"6_2c 6\"], [\"6_2c\", \"2\", \"41589-41597\", \"6_2c 6\"], [\"6_2c\", \"2\", \"42167-42192\", \"6_2c 6\"], [\"6_2c\", \"2\", \"42192-42203\", \"6_2c 6\"], [\"6_2c\", \"3\", \"43511-43515\", \"6_2c 6\"], [\"6_2c\", \"3\", \"43515-43574\", \"6_2c 6\"], [\"13_1a\", \"1\", \"6178-6192\", \"13_1a 1\"], [\"13_1a\", \"3\", \"6192-6205\", \"13_1a 1\"]], \"hoverlabel\": {\"namelength\": 0}, \"hovertemplate\": \"lemma=walk<br>x=%{x}<br>y=%{y}<br>participant=%{customdata[0]}<br>top=%{customdata[1]}<br>step=%{customdata[2]}<br>pt=%{customdata[3]}\", \"legendgroup\": \"walk\", \"marker\": {\"color\": \"#00B5F7\", \"symbol\": \"circle\"}, \"mode\": \"markers\", \"name\": \"walk\", \"showlegend\": true, \"type\": \"scattergl\", \"x\": [-22.538467407226562, -24.163972854614258, -16.033096313476562, -12.893926620483398, 2.6625378131866455, 17.263656616210938, -23.101322174072266, 16.821847915649414, -16.60661506652832, -11.373144149780273, 18.348995208740234, -15.30749797821045, 1.4647499322891235, -8.300960540771484, 16.86172866821289, -15.012526512145996, 16.61036491394043, 1.928556203842163, 10.695996284484863, -0.4115417003631592, 12.047696113586426, 13.179616928100586, 20.091205596923828, 32.57343673706055, -11.348350524902344, -11.354137420654297, -18.03745460510254, -11.354599952697754, -35.39884948730469, -25.948810577392578, 17.36870002746582, -15.557501792907715], \"xaxis\": \"x\", \"y\": [9.528549194335938, 10.710956573486328, -38.15204620361328, -19.290117263793945, -2.2389726638793945, 8.370701789855957, 7.905818939208984, -32.106807708740234, -39.83601379394531, -10.16378402709961, -32.57843780517578, -41.063209533691406, 29.151655197143555, -15.301849365234375, -32.45613479614258, -39.93806457519531, 8.161603927612305, 29.338518142700195, -14.452371597290039, -13.641365051269531, 2.276789903640747, 4.029575347900391, 3.8719992637634277, -13.395257949829102, -10.162750244140625, 6.907012462615967, 7.9252495765686035, 6.9072418212890625, -10.703596115112305, -23.324731826782227, -32.431495666503906, -40.49326705932617], \"yaxis\": \"y\"}, {\"customdata\": [[\"4_2b\", \"1\", \"43905-43911\", \"4_2b 5\"], [\"4_2b\", \"3\", \"43911-43967\", \"4_2b 5\"], [\"4_2b\", \"3\", \"47021-47039\", \"4_2b 5\"], [\"4_2b\", \"3\", \"47524-47529\", \"4_2b 5\"], [\"4_2b\", \"3\", \"47529-47533\", \"4_2b 5\"], [\"4_2b\", \"1\", \"47747-47783\", \"4_2b 5\"], [\"4_2b\", \"9\", \"47966-47979\", \"4_2b 5\"], [\"4_2b\", \"5\", \"47979-47985\", \"4_2b 5\"], [\"6_2c\", \"3\", \"28287-28305\", \"6_2c 4\"], [\"6_2c\", \"3\", \"28305-28331\", \"6_2c 4\"], [\"7_1a\", \"2\", \"61841-61922\", \"7_1a 5\"], [\"8_2a\", \"1\", \"9780-9798\", \"8_2a 1\"], [\"11_1c\", \"1\", \"20288-20295\", \"11_1c 1\"], [\"11_1c\", \"3\", \"20295-20313\", \"11_1c 1\"], [\"11_1c\", \"3\", \"20313-20331\", \"11_1c 1\"], [\"11_1c\", \"5\", \"20331-20340\", \"11_1c 1\"], [\"11_1c\", \"2\", \"20340-20358\", \"11_1c 1\"], [\"11_1c\", \"1\", \"20358-20369\", \"11_1c 1\"], [\"13_1a\", \"4\", \"34189-34200\", \"13_1a 5\"], [\"13_1a\", \"5\", \"34200-34216\", \"13_1a 5\"], [\"14_2a\", \"3\", \"21860-21870\", \"14_2a 2\"], [\"14_2a\", \"3\", \"21870-21887\", \"14_2a 2\"], [\"14_2a\", \"3\", \"42427-42444\", \"14_2a 5\"], [\"14_2a\", \"3\", \"42444-42463\", \"14_2a 5\"], [\"17_1c\", \"2\", \"7001-7046\", \"17_1c 1\"], [\"17_1c\", \"1\", \"13638-13743\", \"17_1c 2\"], [\"17_1c\", \"3\", \"13743-13761\", \"17_1c 2\"], [\"17_1c\", \"3\", \"13761-13782\", \"17_1c 2\"], [\"17_1c\", \"1\", \"13953-13971\", \"17_1c 2\"], [\"17_1c\", \"1\", \"19303-19357\", \"17_1c 3\"], [\"17_1c\", \"8\", \"40852-40870\", \"17_1c 5\"], [\"17_1c\", \"2\", \"43718-43722\", \"17_1c 5\"], [\"17_1c\", \"2\", \"43722-43749\", \"17_1c 5\"], [\"17_1c\", \"2\", \"43749-43767\", \"17_1c 5\"], [\"17_1c\", \"1\", \"43767-43803\", \"17_1c 5\"], [\"17_1c\", \"3\", \"43803-43826\", \"17_1c 5\"], [\"17_1c\", \"3\", \"48238-48283\", \"17_1c 5\"], [\"18_2c\", \"1\", \"6953-6971\", \"18_2c 2\"], [\"18_2c\", \"8\", \"36535-36562\", \"18_2c 5\"]], \"hoverlabel\": {\"namelength\": 0}, \"hovertemplate\": \"lemma=hold<br>x=%{x}<br>y=%{y}<br>participant=%{customdata[0]}<br>top=%{customdata[1]}<br>step=%{customdata[2]}<br>pt=%{customdata[3]}\", \"legendgroup\": \"hold\", \"marker\": {\"color\": \"#B68E00\", \"symbol\": \"circle\"}, \"mode\": \"markers\", \"name\": \"hold\", \"showlegend\": true, \"type\": \"scattergl\", \"x\": [18.234634399414062, -15.479447364807129, -8.431666374206543, -5.730721950531006, 35.05860900878906, 0.7228723168373108, 15.7764892578125, 17.682485580444336, -34.942691802978516, -26.584178924560547, -22.885093688964844, -0.21179763972759247, 17.443342208862305, -15.431313514709473, 36.016963958740234, 4.024707317352295, -7.774207592010498, 43.021366119384766, 12.15522289276123, 21.579011917114258, -35.068016052246094, -26.584224700927734, -35.970848083496094, -26.283782958984375, -25.61127471923828, 18.407882690429688, -23.528305053710938, -26.651573181152344, 1.458284616470337, 1.458284616470337, 17.06951141357422, -18.037500381469727, -10.192861557006836, -7.774638652801514, 43.87317657470703, -14.356833457946777, -7.6021223068237305, 1.458284616470337, 17.320737838745117], \"xaxis\": \"x\", \"y\": [-31.788867950439453, -40.2931022644043, -14.828901290893555, -23.36011505126953, -15.73285961151123, 27.40390396118164, -4.75072717666626, -5.347114086151123, -11.095319747924805, -23.1820068359375, 8.62248706817627, 29.73317527770996, -33.06403350830078, -44.349403381347656, -15.305322647094727, 3.11171293258667, 6.79323673248291, 12.09438419342041, 1.312662124633789, -1.164270043373108, -10.255563735961914, -23.182016372680664, -10.857138633728027, -24.207096099853516, 9.714916229248047, -32.44878005981445, -34.644046783447266, -24.050308227539062, 31.45989227294922, 31.45989227294922, 7.869021415710449, 7.92525053024292, 6.641368389129639, 6.7935638427734375, 9.185487747192383, -40.25350570678711, -15.77253532409668, 31.45989227294922, 8.246688842773438], \"yaxis\": \"y\"}],\n",
       "                        {\"legend\": {\"title\": {\"text\": \"lemma\"}, \"tracegroupgap\": 0}, \"margin\": {\"t\": 60}, \"template\": {\"data\": {\"bar\": [{\"error_x\": {\"color\": \"#2a3f5f\"}, \"error_y\": {\"color\": \"#2a3f5f\"}, \"marker\": {\"line\": {\"color\": \"#E5ECF6\", \"width\": 0.5}}, \"type\": \"bar\"}], \"barpolar\": [{\"marker\": {\"line\": {\"color\": \"#E5ECF6\", \"width\": 0.5}}, \"type\": \"barpolar\"}], \"carpet\": [{\"aaxis\": {\"endlinecolor\": \"#2a3f5f\", \"gridcolor\": \"white\", \"linecolor\": \"white\", \"minorgridcolor\": \"white\", \"startlinecolor\": \"#2a3f5f\"}, \"baxis\": {\"endlinecolor\": \"#2a3f5f\", \"gridcolor\": \"white\", \"linecolor\": \"white\", \"minorgridcolor\": \"white\", \"startlinecolor\": \"#2a3f5f\"}, \"type\": \"carpet\"}], \"choropleth\": [{\"colorbar\": {\"outlinewidth\": 0, \"ticks\": \"\"}, \"type\": \"choropleth\"}], \"contour\": [{\"colorbar\": {\"outlinewidth\": 0, \"ticks\": \"\"}, \"colorscale\": [[0.0, \"#0d0887\"], [0.1111111111111111, \"#46039f\"], [0.2222222222222222, \"#7201a8\"], [0.3333333333333333, \"#9c179e\"], [0.4444444444444444, \"#bd3786\"], [0.5555555555555556, \"#d8576b\"], [0.6666666666666666, \"#ed7953\"], [0.7777777777777778, \"#fb9f3a\"], [0.8888888888888888, \"#fdca26\"], [1.0, \"#f0f921\"]], \"type\": \"contour\"}], \"contourcarpet\": [{\"colorbar\": {\"outlinewidth\": 0, \"ticks\": \"\"}, \"type\": \"contourcarpet\"}], \"heatmap\": [{\"colorbar\": {\"outlinewidth\": 0, \"ticks\": \"\"}, \"colorscale\": [[0.0, \"#0d0887\"], [0.1111111111111111, \"#46039f\"], [0.2222222222222222, \"#7201a8\"], [0.3333333333333333, \"#9c179e\"], [0.4444444444444444, \"#bd3786\"], [0.5555555555555556, \"#d8576b\"], [0.6666666666666666, \"#ed7953\"], [0.7777777777777778, \"#fb9f3a\"], [0.8888888888888888, \"#fdca26\"], [1.0, \"#f0f921\"]], \"type\": \"heatmap\"}], \"heatmapgl\": [{\"colorbar\": {\"outlinewidth\": 0, \"ticks\": \"\"}, \"colorscale\": [[0.0, \"#0d0887\"], [0.1111111111111111, \"#46039f\"], [0.2222222222222222, \"#7201a8\"], [0.3333333333333333, \"#9c179e\"], [0.4444444444444444, \"#bd3786\"], [0.5555555555555556, \"#d8576b\"], [0.6666666666666666, \"#ed7953\"], [0.7777777777777778, \"#fb9f3a\"], [0.8888888888888888, \"#fdca26\"], [1.0, \"#f0f921\"]], \"type\": \"heatmapgl\"}], \"histogram\": [{\"marker\": {\"colorbar\": {\"outlinewidth\": 0, \"ticks\": \"\"}}, \"type\": \"histogram\"}], \"histogram2d\": [{\"colorbar\": {\"outlinewidth\": 0, \"ticks\": \"\"}, \"colorscale\": [[0.0, \"#0d0887\"], [0.1111111111111111, \"#46039f\"], [0.2222222222222222, \"#7201a8\"], [0.3333333333333333, \"#9c179e\"], [0.4444444444444444, \"#bd3786\"], [0.5555555555555556, \"#d8576b\"], [0.6666666666666666, \"#ed7953\"], [0.7777777777777778, \"#fb9f3a\"], [0.8888888888888888, \"#fdca26\"], [1.0, \"#f0f921\"]], \"type\": \"histogram2d\"}], \"histogram2dcontour\": [{\"colorbar\": {\"outlinewidth\": 0, \"ticks\": \"\"}, \"colorscale\": [[0.0, \"#0d0887\"], [0.1111111111111111, \"#46039f\"], [0.2222222222222222, \"#7201a8\"], [0.3333333333333333, \"#9c179e\"], [0.4444444444444444, \"#bd3786\"], [0.5555555555555556, \"#d8576b\"], [0.6666666666666666, \"#ed7953\"], [0.7777777777777778, \"#fb9f3a\"], [0.8888888888888888, \"#fdca26\"], [1.0, \"#f0f921\"]], \"type\": \"histogram2dcontour\"}], \"mesh3d\": [{\"colorbar\": {\"outlinewidth\": 0, \"ticks\": \"\"}, \"type\": \"mesh3d\"}], \"parcoords\": [{\"line\": {\"colorbar\": {\"outlinewidth\": 0, \"ticks\": \"\"}}, \"type\": \"parcoords\"}], \"pie\": [{\"automargin\": true, \"type\": \"pie\"}], \"scatter\": [{\"marker\": {\"colorbar\": {\"outlinewidth\": 0, \"ticks\": \"\"}}, \"type\": \"scatter\"}], \"scatter3d\": [{\"line\": {\"colorbar\": {\"outlinewidth\": 0, \"ticks\": \"\"}}, \"marker\": {\"colorbar\": {\"outlinewidth\": 0, \"ticks\": \"\"}}, \"type\": \"scatter3d\"}], \"scattercarpet\": [{\"marker\": {\"colorbar\": {\"outlinewidth\": 0, \"ticks\": \"\"}}, \"type\": \"scattercarpet\"}], \"scattergeo\": [{\"marker\": {\"colorbar\": {\"outlinewidth\": 0, \"ticks\": \"\"}}, \"type\": \"scattergeo\"}], \"scattergl\": [{\"marker\": {\"colorbar\": {\"outlinewidth\": 0, \"ticks\": \"\"}}, \"type\": \"scattergl\"}], \"scattermapbox\": [{\"marker\": {\"colorbar\": {\"outlinewidth\": 0, \"ticks\": \"\"}}, \"type\": \"scattermapbox\"}], \"scatterpolar\": [{\"marker\": {\"colorbar\": {\"outlinewidth\": 0, \"ticks\": \"\"}}, \"type\": \"scatterpolar\"}], \"scatterpolargl\": [{\"marker\": {\"colorbar\": {\"outlinewidth\": 0, \"ticks\": \"\"}}, \"type\": \"scatterpolargl\"}], \"scatterternary\": [{\"marker\": {\"colorbar\": {\"outlinewidth\": 0, \"ticks\": \"\"}}, \"type\": \"scatterternary\"}], \"surface\": [{\"colorbar\": {\"outlinewidth\": 0, \"ticks\": \"\"}, \"colorscale\": [[0.0, \"#0d0887\"], [0.1111111111111111, \"#46039f\"], [0.2222222222222222, \"#7201a8\"], [0.3333333333333333, \"#9c179e\"], [0.4444444444444444, \"#bd3786\"], [0.5555555555555556, \"#d8576b\"], [0.6666666666666666, \"#ed7953\"], [0.7777777777777778, \"#fb9f3a\"], [0.8888888888888888, \"#fdca26\"], [1.0, \"#f0f921\"]], \"type\": \"surface\"}], \"table\": [{\"cells\": {\"fill\": {\"color\": \"#EBF0F8\"}, \"line\": {\"color\": \"white\"}}, \"header\": {\"fill\": {\"color\": \"#C8D4E3\"}, \"line\": {\"color\": \"white\"}}, \"type\": \"table\"}]}, \"layout\": {\"annotationdefaults\": {\"arrowcolor\": \"#2a3f5f\", \"arrowhead\": 0, \"arrowwidth\": 1}, \"coloraxis\": {\"colorbar\": {\"outlinewidth\": 0, \"ticks\": \"\"}}, \"colorscale\": {\"diverging\": [[0, \"#8e0152\"], [0.1, \"#c51b7d\"], [0.2, \"#de77ae\"], [0.3, \"#f1b6da\"], [0.4, \"#fde0ef\"], [0.5, \"#f7f7f7\"], [0.6, \"#e6f5d0\"], [0.7, \"#b8e186\"], [0.8, \"#7fbc41\"], [0.9, \"#4d9221\"], [1, \"#276419\"]], \"sequential\": [[0.0, \"#0d0887\"], [0.1111111111111111, \"#46039f\"], [0.2222222222222222, \"#7201a8\"], [0.3333333333333333, \"#9c179e\"], [0.4444444444444444, \"#bd3786\"], [0.5555555555555556, \"#d8576b\"], [0.6666666666666666, \"#ed7953\"], [0.7777777777777778, \"#fb9f3a\"], [0.8888888888888888, \"#fdca26\"], [1.0, \"#f0f921\"]], \"sequentialminus\": [[0.0, \"#0d0887\"], [0.1111111111111111, \"#46039f\"], [0.2222222222222222, \"#7201a8\"], [0.3333333333333333, \"#9c179e\"], [0.4444444444444444, \"#bd3786\"], [0.5555555555555556, \"#d8576b\"], [0.6666666666666666, \"#ed7953\"], [0.7777777777777778, \"#fb9f3a\"], [0.8888888888888888, \"#fdca26\"], [1.0, \"#f0f921\"]]}, \"colorway\": [\"#636efa\", \"#EF553B\", \"#00cc96\", \"#ab63fa\", \"#FFA15A\", \"#19d3f3\", \"#FF6692\", \"#B6E880\", \"#FF97FF\", \"#FECB52\"], \"font\": {\"color\": \"#2a3f5f\"}, \"geo\": {\"bgcolor\": \"white\", \"lakecolor\": \"white\", \"landcolor\": \"#E5ECF6\", \"showlakes\": true, \"showland\": true, \"subunitcolor\": \"white\"}, \"hoverlabel\": {\"align\": \"left\"}, \"hovermode\": \"closest\", \"mapbox\": {\"style\": \"light\"}, \"paper_bgcolor\": \"white\", \"plot_bgcolor\": \"#E5ECF6\", \"polar\": {\"angularaxis\": {\"gridcolor\": \"white\", \"linecolor\": \"white\", \"ticks\": \"\"}, \"bgcolor\": \"#E5ECF6\", \"radialaxis\": {\"gridcolor\": \"white\", \"linecolor\": \"white\", \"ticks\": \"\"}}, \"scene\": {\"xaxis\": {\"backgroundcolor\": \"#E5ECF6\", \"gridcolor\": \"white\", \"gridwidth\": 2, \"linecolor\": \"white\", \"showbackground\": true, \"ticks\": \"\", \"zerolinecolor\": \"white\"}, \"yaxis\": {\"backgroundcolor\": \"#E5ECF6\", \"gridcolor\": \"white\", \"gridwidth\": 2, \"linecolor\": \"white\", \"showbackground\": true, \"ticks\": \"\", \"zerolinecolor\": \"white\"}, \"zaxis\": {\"backgroundcolor\": \"#E5ECF6\", \"gridcolor\": \"white\", \"gridwidth\": 2, \"linecolor\": \"white\", \"showbackground\": true, \"ticks\": \"\", \"zerolinecolor\": \"white\"}}, \"shapedefaults\": {\"line\": {\"color\": \"#2a3f5f\"}}, \"ternary\": {\"aaxis\": {\"gridcolor\": \"white\", \"linecolor\": \"white\", \"ticks\": \"\"}, \"baxis\": {\"gridcolor\": \"white\", \"linecolor\": \"white\", \"ticks\": \"\"}, \"bgcolor\": \"#E5ECF6\", \"caxis\": {\"gridcolor\": \"white\", \"linecolor\": \"white\", \"ticks\": \"\"}}, \"title\": {\"x\": 0.05}, \"xaxis\": {\"automargin\": true, \"gridcolor\": \"white\", \"linecolor\": \"white\", \"ticks\": \"\", \"title\": {\"standoff\": 15}, \"zerolinecolor\": \"white\", \"zerolinewidth\": 2}, \"yaxis\": {\"automargin\": true, \"gridcolor\": \"white\", \"linecolor\": \"white\", \"ticks\": \"\", \"title\": {\"standoff\": 15}, \"zerolinecolor\": \"white\", \"zerolinewidth\": 2}}}, \"xaxis\": {\"anchor\": \"y\", \"domain\": [0.0, 1.0], \"title\": {\"text\": \"x\"}}, \"yaxis\": {\"anchor\": \"x\", \"domain\": [0.0, 1.0], \"title\": {\"text\": \"y\"}}},\n",
       "                        {\"responsive\": true}\n",
       "                    ).then(function(){\n",
       "                            \n",
       "var gd = document.getElementById('e46f8f8d-820e-4c73-9f18-d958716c1971');\n",
       "var x = new MutationObserver(function (mutations, observer) {{\n",
       "        var display = window.getComputedStyle(gd).display;\n",
       "        if (!display || display === 'none') {{\n",
       "            console.log([gd, 'removed!']);\n",
       "            Plotly.purge(gd);\n",
       "            observer.disconnect();\n",
       "        }}\n",
       "}});\n",
       "\n",
       "// Listen for the removal of the full notebook cells\n",
       "var notebookContainer = gd.closest('#notebook-container');\n",
       "if (notebookContainer) {{\n",
       "    x.observe(notebookContainer, {childList: true});\n",
       "}}\n",
       "\n",
       "// Listen for the clearing of the current output cell\n",
       "var outputEl = gd.closest('.output');\n",
       "if (outputEl) {{\n",
       "    x.observe(outputEl, {childList: true});\n",
       "}}\n",
       "\n",
       "                        })\n",
       "                };\n",
       "                });\n",
       "            </script>\n",
       "        </div>"
      ]
     },
     "metadata": {},
     "output_type": "display_data"
    }
   ],
   "source": [
    "lemmas = [y.split('_')[0] for y in y_plot]\n",
    "pos = [y.split('_')[1] for y in y_plot]\n",
    "ps = [y.split(' ')[0] for y in m_plot]\n",
    "ts = [y.split(' ')[1] for y in m_plot]\n",
    "pts = [y.rsplit(' ', 1)[0] for y in m_plot]\n",
    "steps = [y.split(' ')[2] for y in m_plot]\n",
    "\n",
    "ddict = {'x': red[:,0], 'y': red[:,1], 'lemma': lemmas, 'pos': pos,\n",
    "         'lemmapos': y_plot, 'participant': ps, 'task': ts, 'pt': pts, 'step': steps}\n",
    "\n",
    "top_feat = [vocab[i] for i in np.argmax(X_plot, axis=1)]\n",
    "ddict['top'] = top_feat\n",
    "    \n",
    "feats = ['participant', 'top', 'step', 'pt'] \n",
    "\n",
    "if red.shape[1] == 3:\n",
    "    ddict['z'] = red[:,2]\n",
    "    d = pd.DataFrame.from_dict(ddict)\n",
    "    fig = px.scatter_3d(d, x=\"x\", y=\"y\", z=\"z\", color='lemma',\n",
    "                 hover_data=feats)\n",
    "else:\n",
    "    d = pd.DataFrame.from_dict(ddict)\n",
    "    fig = px.scatter(d, x=\"x\", y=\"y\", color='lemma', hover_data=feats,\n",
    "                    color_discrete_sequence=px.colors.qualitative.Light24)\n",
    "    \n",
    "name = '%s_supervised=%s_mode=%s_obj=%s_win=%s_k=%s'%(POS, SUPERVISED, MODE,\n",
    "                                                      OBJS, WIN_SIZE, K)\n",
    "fig.write_image(\"figures/%s.pdf\"%name)\n",
    "fig.show()"
   ]
  },
  {
   "cell_type": "code",
   "execution_count": 78,
   "metadata": {},
   "outputs": [
    {
     "name": "stdout",
     "output_type": "stream",
     "text": [
      "go_VERB\t0.41\t300\n",
      "put_VERB\t0.23\t292\n",
      "pick_VERB\t0.23\t223\n",
      "take_VERB\t0.12\t104\n",
      "eat_VERB\t0.11\t104\n",
      "wash_VERB\t0.07\t51\n",
      "play_VERB\t0.07\t51\n",
      "get_VERB\t0.10\t50\n",
      "hold_VERB\t0.12\t39\n",
      "throw_VERB\t0.10\t35\n",
      "walk_VERB\t0.11\t32\n",
      "drop_VERB\t0.05\t26\n",
      "stop_VERB\t0.05\t20\n",
      "give_VERB\t0.04\t11\n",
      "open_VERB\t0.20\t9\n",
      "Macro: 0.14\n",
      "Micro: 0.22\n"
     ]
    }
   ],
   "source": [
    "mat = X_plot\n",
    "#r = TruncatedSVD(n_components=50)\n",
    "#r = TSNE(n_components=50)\n",
    "#mat = r.fit_transform(X_plot)\n",
    "\n",
    "nbrs = NearestNeighbors(n_neighbors=6).fit(mat)\n",
    "distances, indices = nbrs.kneighbors(mat)\n",
    "\n",
    "\n",
    "by_verb = {}\n",
    "for i in range(mat.shape[0]):\n",
    "    v = y_plot[i]\n",
    "    if v not in by_verb:\n",
    "        by_verb[v] = []\n",
    "    neighbors = [y_plot[j] for j in indices[i, 1:]]\n",
    "    p = sum([1 if w == v else 0 for w in neighbors])/len(neighbors)\n",
    "    by_verb[v].append(p)\n",
    "    \n",
    "macro = []\n",
    "micro = []\n",
    "tot = 0.\n",
    "for v, lst in sorted(by_verb.items(), key=lambda e:len(e[1]), reverse=True):\n",
    "    n = len(lst)\n",
    "    tp = sum(lst)\n",
    "    p = tp / n\n",
    "    macro.append(p)\n",
    "    micro.append(tp)\n",
    "    tot += n\n",
    "    print('%s\\t%.02f\\t%s'%(v, p, n))\n",
    "    \n",
    "print(\"Macro: %.02f\"%(sum(macro)/len(macro)))\n",
    "print(\"Micro: %.02f\"%(sum(micro)/tot))"
   ]
  },
  {
   "cell_type": "markdown",
   "metadata": {},
   "source": [
    "## Analyze word type <-> action cooccurances"
   ]
  },
  {
   "cell_type": "code",
   "execution_count": null,
   "metadata": {},
   "outputs": [],
   "source": [
    "freq, PMI, row_names, col_names, row_tots, col_tots = make_ngram_mats(data, vocab=vocab_lsts[0],\n",
    "                                                                    POS = POS,\n",
    "                                                                    window_size=WIN_SIZE, K=K)\n",
    "\n",
    "make_heatmap(freq, row_names, col_names, row_tots, col_tots, col_cutoff=50,\n",
    "                row_cutoff=50, row_scale=0.2, col_scale=0.2, sort=\"strength\")"
   ]
  }
 ],
 "metadata": {
  "kernelspec": {
   "display_name": "Python 3",
   "language": "python",
   "name": "python3"
  },
  "language_info": {
   "codemirror_mode": {
    "name": "ipython",
    "version": 3
   },
   "file_extension": ".py",
   "mimetype": "text/x-python",
   "name": "python",
   "nbconvert_exporter": "python",
   "pygments_lexer": "ipython3",
   "version": "3.6.8"
  }
 },
 "nbformat": 4,
 "nbformat_minor": 2
}
